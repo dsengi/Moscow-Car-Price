{
 "cells": [
  {
   "cell_type": "markdown",
   "id": "d532f165",
   "metadata": {},
   "source": [
    "# Moscow Car Prices"
   ]
  },
  {
   "cell_type": "markdown",
   "id": "2e83e2bd",
   "metadata": {},
   "source": [
    "Импортируем необходимые библиотеки"
   ]
  },
  {
   "cell_type": "code",
   "execution_count": 3,
   "id": "f8c15566",
   "metadata": {},
   "outputs": [],
   "source": [
    "import pandas as pd\n",
    "import numpy as np\n",
    "import matplotlib.pyplot as plt\n",
    "import seaborn as sns"
   ]
  },
  {
   "cell_type": "markdown",
   "id": "fb509214",
   "metadata": {},
   "source": [
    "Считываем данные"
   ]
  },
  {
   "cell_type": "code",
   "execution_count": 4,
   "id": "b98d2fab",
   "metadata": {},
   "outputs": [],
   "source": [
    "df = pd.read_csv('all_auto_ru_09_09_2020.csv')"
   ]
  },
  {
   "cell_type": "markdown",
   "id": "af62d12d",
   "metadata": {},
   "source": [
    "Выводим первые 5 строк датасета"
   ]
  },
  {
   "cell_type": "code",
   "execution_count": 5,
   "id": "de12c727",
   "metadata": {},
   "outputs": [
    {
     "data": {
      "text/html": [
       "<div>\n",
       "<style scoped>\n",
       "    .dataframe tbody tr th:only-of-type {\n",
       "        vertical-align: middle;\n",
       "    }\n",
       "\n",
       "    .dataframe tbody tr th {\n",
       "        vertical-align: top;\n",
       "    }\n",
       "\n",
       "    .dataframe thead th {\n",
       "        text-align: right;\n",
       "    }\n",
       "</style>\n",
       "<table border=\"1\" class=\"dataframe\">\n",
       "  <thead>\n",
       "    <tr style=\"text-align: right;\">\n",
       "      <th></th>\n",
       "      <th>bodyType</th>\n",
       "      <th>brand</th>\n",
       "      <th>color</th>\n",
       "      <th>fuelType</th>\n",
       "      <th>modelDate</th>\n",
       "      <th>name</th>\n",
       "      <th>numberOfDoors</th>\n",
       "      <th>productionDate</th>\n",
       "      <th>vehicleConfiguration</th>\n",
       "      <th>vehicleTransmission</th>\n",
       "      <th>...</th>\n",
       "      <th>Руль</th>\n",
       "      <th>Состояние</th>\n",
       "      <th>Владельцы</th>\n",
       "      <th>ПТС</th>\n",
       "      <th>Таможня</th>\n",
       "      <th>Владение</th>\n",
       "      <th>price</th>\n",
       "      <th>start_date</th>\n",
       "      <th>hidden</th>\n",
       "      <th>model</th>\n",
       "    </tr>\n",
       "  </thead>\n",
       "  <tbody>\n",
       "    <tr>\n",
       "      <th>0</th>\n",
       "      <td>Седан</td>\n",
       "      <td>AUDI</td>\n",
       "      <td>040001</td>\n",
       "      <td>бензин</td>\n",
       "      <td>1990.0</td>\n",
       "      <td>2.8 MT (174 л.с.) 4WD</td>\n",
       "      <td>4.0</td>\n",
       "      <td>1991</td>\n",
       "      <td>SEDAN MECHANICAL 2.8</td>\n",
       "      <td>MECHANICAL</td>\n",
       "      <td>...</td>\n",
       "      <td>LEFT</td>\n",
       "      <td>NaN</td>\n",
       "      <td>3.0</td>\n",
       "      <td>ORIGINAL</td>\n",
       "      <td>True</td>\n",
       "      <td>NaN</td>\n",
       "      <td>200000.0</td>\n",
       "      <td>2019-10-03T08:09:11Z</td>\n",
       "      <td>NaN</td>\n",
       "      <td>100</td>\n",
       "    </tr>\n",
       "    <tr>\n",
       "      <th>1</th>\n",
       "      <td>Седан</td>\n",
       "      <td>AUDI</td>\n",
       "      <td>EE1D19</td>\n",
       "      <td>бензин</td>\n",
       "      <td>1982.0</td>\n",
       "      <td>1.8 MT (90 л.с.)</td>\n",
       "      <td>4.0</td>\n",
       "      <td>1986</td>\n",
       "      <td>SEDAN MECHANICAL 1.8</td>\n",
       "      <td>MECHANICAL</td>\n",
       "      <td>...</td>\n",
       "      <td>LEFT</td>\n",
       "      <td>NaN</td>\n",
       "      <td>3.0</td>\n",
       "      <td>ORIGINAL</td>\n",
       "      <td>True</td>\n",
       "      <td>NaN</td>\n",
       "      <td>60000.0</td>\n",
       "      <td>2020-09-06T06:49:40Z</td>\n",
       "      <td>NaN</td>\n",
       "      <td>100</td>\n",
       "    </tr>\n",
       "    <tr>\n",
       "      <th>2</th>\n",
       "      <td>Универсал 5 дв.</td>\n",
       "      <td>AUDI</td>\n",
       "      <td>0000CC</td>\n",
       "      <td>бензин</td>\n",
       "      <td>1988.0</td>\n",
       "      <td>2.3 MT (136 л.с.) 4WD</td>\n",
       "      <td>5.0</td>\n",
       "      <td>1989</td>\n",
       "      <td>WAGON_5_DOORS MECHANICAL 2.3</td>\n",
       "      <td>MECHANICAL</td>\n",
       "      <td>...</td>\n",
       "      <td>LEFT</td>\n",
       "      <td>NaN</td>\n",
       "      <td>3.0</td>\n",
       "      <td>ORIGINAL</td>\n",
       "      <td>True</td>\n",
       "      <td>NaN</td>\n",
       "      <td>99000.0</td>\n",
       "      <td>2020-09-02T14:04:21Z</td>\n",
       "      <td>NaN</td>\n",
       "      <td>100</td>\n",
       "    </tr>\n",
       "    <tr>\n",
       "      <th>3</th>\n",
       "      <td>Седан</td>\n",
       "      <td>AUDI</td>\n",
       "      <td>CACECB</td>\n",
       "      <td>бензин</td>\n",
       "      <td>1988.0</td>\n",
       "      <td>1.8 MT (90 л.с.)</td>\n",
       "      <td>4.0</td>\n",
       "      <td>1989</td>\n",
       "      <td>SEDAN MECHANICAL 1.8</td>\n",
       "      <td>MECHANICAL</td>\n",
       "      <td>...</td>\n",
       "      <td>LEFT</td>\n",
       "      <td>NaN</td>\n",
       "      <td>3.0</td>\n",
       "      <td>ORIGINAL</td>\n",
       "      <td>True</td>\n",
       "      <td>NaN</td>\n",
       "      <td>65000.0</td>\n",
       "      <td>2020-08-23T17:40:09Z</td>\n",
       "      <td>NaN</td>\n",
       "      <td>100</td>\n",
       "    </tr>\n",
       "    <tr>\n",
       "      <th>4</th>\n",
       "      <td>Седан</td>\n",
       "      <td>AUDI</td>\n",
       "      <td>040001</td>\n",
       "      <td>бензин</td>\n",
       "      <td>1990.0</td>\n",
       "      <td>2.0 MT (101 л.с.)</td>\n",
       "      <td>4.0</td>\n",
       "      <td>1991</td>\n",
       "      <td>SEDAN MECHANICAL 2.0</td>\n",
       "      <td>MECHANICAL</td>\n",
       "      <td>...</td>\n",
       "      <td>LEFT</td>\n",
       "      <td>NaN</td>\n",
       "      <td>3.0</td>\n",
       "      <td>DUPLICATE</td>\n",
       "      <td>True</td>\n",
       "      <td>NaN</td>\n",
       "      <td>100000.0</td>\n",
       "      <td>2020-09-08T09:22:07Z</td>\n",
       "      <td>NaN</td>\n",
       "      <td>100</td>\n",
       "    </tr>\n",
       "  </tbody>\n",
       "</table>\n",
       "<p>5 rows × 26 columns</p>\n",
       "</div>"
      ],
      "text/plain": [
       "          bodyType brand   color fuelType  modelDate                   name  \\\n",
       "0            Седан  AUDI  040001   бензин     1990.0  2.8 MT (174 л.с.) 4WD   \n",
       "1            Седан  AUDI  EE1D19   бензин     1982.0       1.8 MT (90 л.с.)   \n",
       "2  Универсал 5 дв.  AUDI  0000CC   бензин     1988.0  2.3 MT (136 л.с.) 4WD   \n",
       "3            Седан  AUDI  CACECB   бензин     1988.0       1.8 MT (90 л.с.)   \n",
       "4            Седан  AUDI  040001   бензин     1990.0      2.0 MT (101 л.с.)   \n",
       "\n",
       "   numberOfDoors  productionDate          vehicleConfiguration  \\\n",
       "0            4.0            1991          SEDAN MECHANICAL 2.8   \n",
       "1            4.0            1986          SEDAN MECHANICAL 1.8   \n",
       "2            5.0            1989  WAGON_5_DOORS MECHANICAL 2.3   \n",
       "3            4.0            1989          SEDAN MECHANICAL 1.8   \n",
       "4            4.0            1991          SEDAN MECHANICAL 2.0   \n",
       "\n",
       "  vehicleTransmission  ...  Руль  Состояние Владельцы        ПТС Таможня  \\\n",
       "0          MECHANICAL  ...  LEFT        NaN       3.0   ORIGINAL    True   \n",
       "1          MECHANICAL  ...  LEFT        NaN       3.0   ORIGINAL    True   \n",
       "2          MECHANICAL  ...  LEFT        NaN       3.0   ORIGINAL    True   \n",
       "3          MECHANICAL  ...  LEFT        NaN       3.0   ORIGINAL    True   \n",
       "4          MECHANICAL  ...  LEFT        NaN       3.0  DUPLICATE    True   \n",
       "\n",
       "  Владение     price            start_date  hidden model  \n",
       "0      NaN  200000.0  2019-10-03T08:09:11Z     NaN   100  \n",
       "1      NaN   60000.0  2020-09-06T06:49:40Z     NaN   100  \n",
       "2      NaN   99000.0  2020-09-02T14:04:21Z     NaN   100  \n",
       "3      NaN   65000.0  2020-08-23T17:40:09Z     NaN   100  \n",
       "4      NaN  100000.0  2020-09-08T09:22:07Z     NaN   100  \n",
       "\n",
       "[5 rows x 26 columns]"
      ]
     },
     "execution_count": 5,
     "metadata": {},
     "output_type": "execute_result"
    }
   ],
   "source": [
    "df.head()"
   ]
  },
  {
   "cell_type": "markdown",
   "id": "ea2f4a0c",
   "metadata": {},
   "source": [
    "Выводим размер датасета"
   ]
  },
  {
   "cell_type": "code",
   "execution_count": 6,
   "id": "58308885",
   "metadata": {},
   "outputs": [
    {
     "data": {
      "text/plain": [
       "(89378, 26)"
      ]
     },
     "execution_count": 6,
     "metadata": {},
     "output_type": "execute_result"
    }
   ],
   "source": [
    "df.shape"
   ]
  },
  {
   "cell_type": "markdown",
   "id": "683d8e2e",
   "metadata": {},
   "source": [
    "Выводим общую информацию по всем столбцам датасета"
   ]
  },
  {
   "cell_type": "code",
   "execution_count": 7,
   "id": "4d5921eb",
   "metadata": {},
   "outputs": [
    {
     "name": "stdout",
     "output_type": "stream",
     "text": [
      "<class 'pandas.core.frame.DataFrame'>\n",
      "RangeIndex: 89378 entries, 0 to 89377\n",
      "Data columns (total 26 columns):\n",
      " #   Column                Non-Null Count  Dtype  \n",
      "---  ------                --------------  -----  \n",
      " 0   bodyType              89377 non-null  object \n",
      " 1   brand                 89378 non-null  object \n",
      " 2   color                 89378 non-null  object \n",
      " 3   fuelType              89378 non-null  object \n",
      " 4   modelDate             89377 non-null  float64\n",
      " 5   name                  89377 non-null  object \n",
      " 6   numberOfDoors         89377 non-null  float64\n",
      " 7   productionDate        89378 non-null  int64  \n",
      " 8   vehicleConfiguration  89377 non-null  object \n",
      " 9   vehicleTransmission   89377 non-null  object \n",
      " 10  engineDisplacement    89377 non-null  object \n",
      " 11  enginePower           89377 non-null  float64\n",
      " 12  description           86124 non-null  object \n",
      " 13  mileage               89378 non-null  int64  \n",
      " 14  Комплектация          89378 non-null  object \n",
      " 15  Привод                89377 non-null  object \n",
      " 16  Руль                  89378 non-null  object \n",
      " 17  Состояние             0 non-null      float64\n",
      " 18  Владельцы             75790 non-null  float64\n",
      " 19  ПТС                   89017 non-null  object \n",
      " 20  Таможня               89378 non-null  bool   \n",
      " 21  Владение              29201 non-null  object \n",
      " 22  price                 88968 non-null  float64\n",
      " 23  start_date            89378 non-null  object \n",
      " 24  hidden                0 non-null      float64\n",
      " 25  model                 89378 non-null  object \n",
      "dtypes: bool(1), float64(7), int64(2), object(16)\n",
      "memory usage: 17.1+ MB\n"
     ]
    }
   ],
   "source": [
    "df.info()"
   ]
  },
  {
   "cell_type": "markdown",
   "id": "84541e84",
   "metadata": {},
   "source": [
    "Видно, что датасет имеет объекты NaN. Выведем тепловую карту пропусков"
   ]
  },
  {
   "cell_type": "code",
   "execution_count": 8,
   "id": "8a02a11c",
   "metadata": {},
   "outputs": [
    {
     "data": {
      "image/png": "[encoded data removed]",
      "text/plain": [
       "<Figure size 720x432 with 1 Axes>"
      ]
     },
     "metadata": {
      "needs_background": "light"
     },
     "output_type": "display_data"
    }
   ],
   "source": [
    "fig, ax = plt.subplots(figsize=(10,6))\n",
    "im = ax.imshow(df.isna(), cmap='viridis', aspect='auto')\n",
    "\n",
    "plt.show()"
   ]
  },
  {
   "cell_type": "markdown",
   "id": "4832ae4f",
   "metadata": {},
   "source": [
    "## Проанализируем каждый столбец"
   ]
  },
  {
   "cell_type": "markdown",
   "id": "f8829e3e",
   "metadata": {},
   "source": [
    "### Столбец 'price'"
   ]
  },
  {
   "cell_type": "markdown",
   "id": "5ae2693d",
   "metadata": {},
   "source": [
    "Данный столбец содержит информацию о стоимости автомобилей"
   ]
  },
  {
   "cell_type": "code",
   "execution_count": 9,
   "id": "901001b7",
   "metadata": {},
   "outputs": [
    {
     "data": {
      "text/plain": [
       "0         200000.0\n",
       "1          60000.0\n",
       "2          99000.0\n",
       "3          65000.0\n",
       "4         100000.0\n",
       "           ...    \n",
       "89373     450000.0\n",
       "89374     485000.0\n",
       "89375    1090000.0\n",
       "89376    1180000.0\n",
       "89377    1075000.0\n",
       "Name: price, Length: 89378, dtype: float64"
      ]
     },
     "execution_count": 9,
     "metadata": {},
     "output_type": "execute_result"
    }
   ],
   "source": [
    "df['price']"
   ]
  },
  {
   "cell_type": "markdown",
   "id": "d8e8360f",
   "metadata": {},
   "source": [
    "Посчитаем пропуски"
   ]
  },
  {
   "cell_type": "code",
   "execution_count": 10,
   "id": "e487a9fe",
   "metadata": {},
   "outputs": [
    {
     "data": {
      "text/plain": [
       "410"
      ]
     },
     "execution_count": 10,
     "metadata": {},
     "output_type": "execute_result"
    }
   ],
   "source": [
    "df['price'].isna().sum()"
   ]
  },
  {
   "cell_type": "markdown",
   "id": "014bed2b",
   "metadata": {},
   "source": [
    "Удалим пропуски"
   ]
  },
  {
   "cell_type": "code",
   "execution_count": 11,
   "id": "e2fa2da2",
   "metadata": {},
   "outputs": [
    {
     "data": {
      "text/plain": [
       "0"
      ]
     },
     "execution_count": 11,
     "metadata": {},
     "output_type": "execute_result"
    }
   ],
   "source": [
    "df = df.dropna(subset=['price'])\n",
    "df['price'].isna().sum()"
   ]
  },
  {
   "cell_type": "markdown",
   "id": "73454516",
   "metadata": {},
   "source": [
    "Выведем график распределения стоимости автомобилей"
   ]
  },
  {
   "cell_type": "code",
   "execution_count": 12,
   "id": "9a6c109e",
   "metadata": {},
   "outputs": [
    {
     "data": {
      "image/png": "[encoded data removed]",
      "text/plain": [
       "<Figure size 720x432 with 1 Axes>"
      ]
     },
     "metadata": {},
     "output_type": "display_data"
    }
   ],
   "source": [
    "sns.set_style('whitegrid')\n",
    "fig, ax = plt.subplots(figsize=(10, 6))\n",
    "\n",
    "sns.histplot(x=df['price'], ax=ax, kde=False, color='#4c72b0', binwidth=1000000)\n",
    "ax.set_xlabel('Цена', fontsize=12)\n",
    "ax.set_ylabel('Количество', fontsize=12)\n",
    "ax.set_title('Распределение цены автомобилей', fontsize=18, color='#c44e52')\n",
    "ax.tick_params(axis='both', labelsize=10)\n",
    "\n",
    "plt.show()"
   ]
  },
  {
   "cell_type": "markdown",
   "id": "ac318c71",
   "metadata": {},
   "source": [
    "Удалим выбросы"
   ]
  },
  {
   "cell_type": "code",
   "execution_count": 13,
   "id": "93364b1a",
   "metadata": {},
   "outputs": [
    {
     "name": "stdout",
     "output_type": "stream",
     "text": [
      "30768.58344658046 16875499.371955946\n"
     ]
    }
   ],
   "source": [
    "mean = np.log(df['price']).mean()\n",
    "std = np.log(df['price']).std()\n",
    "\n",
    "# определяем выбросы\n",
    "lower_bound = np.exp(mean - 3 * std)\n",
    "upper_bound = np.exp(mean + 3 * std)\n",
    "\n",
    "print(lower_bound, upper_bound)"
   ]
  },
  {
   "cell_type": "code",
   "execution_count": 14,
   "id": "a4530f9f",
   "metadata": {},
   "outputs": [],
   "source": [
    "df = df.loc[((df['price'] < upper_bound) & (df['price'] > lower_bound))]"
   ]
  },
  {
   "cell_type": "markdown",
   "id": "22f6eebf",
   "metadata": {},
   "source": [
    "Выведем новый график распределения стоимости автомобилей"
   ]
  },
  {
   "cell_type": "code",
   "execution_count": 15,
   "id": "ca082235",
   "metadata": {},
   "outputs": [
    {
     "data": {
      "image/png": "[encoded data removed]",
      "text/plain": [
       "<Figure size 720x432 with 1 Axes>"
      ]
     },
     "metadata": {},
     "output_type": "display_data"
    }
   ],
   "source": [
    "sns.set_style('whitegrid')\n",
    "fig, ax = plt.subplots(figsize=(10, 6))\n",
    "\n",
    "sns.histplot(x=df['price'], ax=ax, kde=False, color='#4c72b0', binwidth=100000)\n",
    "ax.set_xlabel('Цена', fontsize=12)\n",
    "ax.set_ylabel('Количество', fontsize=12)\n",
    "ax.set_title('Распределение цены автомобилей', fontsize=18, color='#c44e52')\n",
    "ax.tick_params(axis='both', labelsize=10)\n",
    "\n",
    "plt.show()"
   ]
  },
  {
   "cell_type": "markdown",
   "id": "2fb74e24",
   "metadata": {},
   "source": [
    "### Столбцы 'Состояние', 'hidden'"
   ]
  },
  {
   "cell_type": "code",
   "execution_count": 16,
   "id": "63f65869",
   "metadata": {},
   "outputs": [
    {
     "name": "stdout",
     "output_type": "stream",
     "text": [
      "Количество NaN элементов в столбце 'hidden': 88843 из 89378\n",
      "Количество NaN элементов в столбце 'Состояние': 88843 из 89378\n"
     ]
    }
   ],
   "source": [
    "print(\"Количество NaN элементов в столбце 'hidden':\",df['hidden'].isna().sum(), \"из 89378\")\n",
    "print(\"Количество NaN элементов в столбце 'Состояние':\",df['Состояние'].isna().sum(), \"из 89378\")"
   ]
  },
  {
   "cell_type": "markdown",
   "id": "796df716",
   "metadata": {},
   "source": [
    "Так как столбцы 'Состояние' и 'hidden' имеют все пропущенные элементы, то очевидно, что они не несут никакой полезной информации. Удалим эти столбцы."
   ]
  },
  {
   "cell_type": "code",
   "execution_count": 17,
   "id": "84c97d83",
   "metadata": {},
   "outputs": [],
   "source": [
    "df = df.drop(columns=['Состояние', 'hidden'])"
   ]
  },
  {
   "cell_type": "markdown",
   "id": "d11dbc2a",
   "metadata": {},
   "source": [
    "### Столбец 'bodyType'"
   ]
  },
  {
   "cell_type": "markdown",
   "id": "eb8bbb4b",
   "metadata": {},
   "source": [
    "Данный столбец содержит информацию о типе кузова автомобилей"
   ]
  },
  {
   "cell_type": "code",
   "execution_count": 18,
   "id": "cb535b16",
   "metadata": {},
   "outputs": [
    {
     "data": {
      "text/plain": [
       "0                  Седан\n",
       "1                  Седан\n",
       "2        Универсал 5 дв.\n",
       "3                  Седан\n",
       "4                  Седан\n",
       "              ...       \n",
       "89373            Минивэн\n",
       "89374            Минивэн\n",
       "89375            Минивэн\n",
       "89376            Минивэн\n",
       "89377            Минивэн\n",
       "Name: bodyType, Length: 88843, dtype: object"
      ]
     },
     "execution_count": 18,
     "metadata": {},
     "output_type": "execute_result"
    }
   ],
   "source": [
    "df['bodyType']"
   ]
  },
  {
   "cell_type": "markdown",
   "id": "4c8de2c5",
   "metadata": {},
   "source": [
    "Проверим на наличие пропусков"
   ]
  },
  {
   "cell_type": "code",
   "execution_count": 19,
   "id": "b8304db9",
   "metadata": {},
   "outputs": [
    {
     "data": {
      "text/plain": [
       "1"
      ]
     },
     "execution_count": 19,
     "metadata": {},
     "output_type": "execute_result"
    }
   ],
   "source": [
    "df['bodyType'].isna().sum()"
   ]
  },
  {
   "cell_type": "markdown",
   "id": "a258cd6f",
   "metadata": {},
   "source": [
    "Удалим строку с пропуском"
   ]
  },
  {
   "cell_type": "code",
   "execution_count": 20,
   "id": "69e03049",
   "metadata": {},
   "outputs": [],
   "source": [
    "df = df.dropna(subset=['bodyType'])"
   ]
  },
  {
   "cell_type": "markdown",
   "id": "fc0d199b",
   "metadata": {},
   "source": [
    "Выведем все уникальные значения этого столбца"
   ]
  },
  {
   "cell_type": "code",
   "execution_count": 21,
   "id": "29b33fa6",
   "metadata": {},
   "outputs": [
    {
     "data": {
      "text/plain": [
       "array(['Седан', 'Универсал 5 дв.', 'Хэтчбек 5 дв. Sportback',\n",
       "       'Хэтчбек 3 дв.', 'Хэтчбек 5 дв.', 'Кабриолет', 'Купе',\n",
       "       'Лифтбек Sportback', 'Лифтбек', 'Седан Long', 'Внедорожник 5 дв.',\n",
       "       'Кабриолет Roadster', 'Седан 2 дв.', 'Седан Gran Coupe',\n",
       "       'Компактвэн', 'Компактвэн Gran Tourer', 'Лифтбек Gran Turismo',\n",
       "       'Хэтчбек 3 дв. Compact', 'Лифтбек Gran Coupe', 'Купе-хардтоп',\n",
       "       'Родстер Roadster', 'Родстер', 'Внедорожник 5 дв. ESV', 'Минивэн',\n",
       "       'Пикап Двойная кабина', 'Внедорожник 3 дв.',\n",
       "       'Пикап Одинарная кабина', 'Тарга', 'Пикап Двойная кабина Crew Cab',\n",
       "       'Пикап Двойная кабина Double',\n",
       "       'Пикап Одинарная кабина Regular Cab', 'Внедорожник 5 дв. EXT',\n",
       "       'Седан SRT8', 'Минивэн SWB', 'Минивэн Grand', 'Компактвэн Grand',\n",
       "       'Универсал 5 дв. CrossTourer', 'Минивэн Long', 'Минивэн XL',\n",
       "       'Микровэн Coach', 'Хэтчбек 5 дв. Best', 'Хэтчбек 5 дв. SRT4',\n",
       "       'Купе SRT', 'Седан SRT', 'Пикап Полуторная кабина',\n",
       "       'Пикап Двойная кабина Quad Cab',\n",
       "       'Пикап Полуторная кабина Quad Cab',\n",
       "       'Пикап Двойная кабина Crew Cab TRX',\n",
       "       'Пикап Полуторная кабина Club Cab',\n",
       "       'Пикап Двойная кабина Raptor SuperCrew',\n",
       "       'Пикап Двойная кабина CrewCab',\n",
       "       'Пикап Двойная кабина Raptor CrewCab',\n",
       "       'Пикап Двойная кабина Super Crew',\n",
       "       'Пикап Полуторная кабина Raptor', 'Пикап Двойная кабина SuperCrew',\n",
       "       'Кабриолет StreetKa', 'Пикап Двойная кабина Double Cab',\n",
       "       'Пикап Полуторная кабина Rap Cab', 'Компактвэн LWB',\n",
       "       'Компактвэн SWB', 'Минивэн LWB', 'Фастбек', 'Седан Type-S',\n",
       "       'Микровэн', 'Универсал 5 дв. Shuttle', 'Родстер del Sol',\n",
       "       'Компактвэн Spike', 'Минивэн Spada', 'Седан Limousine',\n",
       "       'Внедорожник 5 дв. Grand', 'Хэтчбек 4 дв.', 'Седан SWB',\n",
       "       'Седан LWB', 'Внедорожник 5 дв. SRT',\n",
       "       'Внедорожник 5 дв. Trackhawk', 'Внедорожник 5 дв. SRT8',\n",
       "       'Внедорожник открытый', 'Хэтчбек 5 дв. GT Line',\n",
       "       'Хэтчбек 5 дв. X-Line', 'Хэтчбек 5 дв. EU',\n",
       "       'Внедорожник 5 дв. Prime', 'Внедорожник 5 дв. L', 'Минивэн Brawny',\n",
       "       'Универсал 5 дв. S-Familia', 'Кабриолет JCW', 'Кабриолет Cooper S',\n",
       "       'Хэтчбек 3 дв. Cooper S', 'Универсал 5 дв. JCW',\n",
       "       'Универсал 5 дв. Cooper S', 'Внедорожник 5 дв. Cooper S',\n",
       "       'Внедорожник 5 дв. JCW', 'Купе Cooper S', 'Хэтчбек 3 дв. JCW',\n",
       "       'Хэтчбек 5 дв. Cooper S', 'Универсал 5 дв. Plus', 'Купе Asti',\n",
       "       'Минивэн Caravan Elgrand', 'Компактвэн Joy',\n",
       "       'Универсал 5 дв. California', 'Седан Latio', 'Хэтчбек 3 дв. GTC',\n",
       "       'Универсал 5 дв. Country Tourer', 'Минивэн L', 'Тарга Targa',\n",
       "       'Купе RS', 'Седан Stepway', 'Хэтчбек 5 дв. Stepway',\n",
       "       'Компактвэн RX4', 'Компактвэн Conquest', 'Седан 120',\n",
       "       'Хэтчбек 5 дв. Scout', 'Универсал 5 дв. Scout',\n",
       "       'Универсал 5 дв. Spaceback', 'Внедорожник 5 дв. tS',\n",
       "       'Хэтчбек 5 дв. XV', 'Внедорожник 5 дв. XL-7',\n",
       "       'Универсал 5 дв. Gita', 'Седан US Market', 'Седан Japan Market',\n",
       "       'Седан Gracia', 'Универсал 5 дв. Gracia', 'Седан-хардтоп',\n",
       "       'Универсал 5 дв. Fielder', 'Седан Axio', 'Седан-хардтоп Ceres',\n",
       "       'Хэтчбек 5 дв. Runx', 'Лифтбек Liftback', 'Седан Premio',\n",
       "       'Седан T140', 'Минивэн Lucida', 'Минивэн Emina', 'Минивэн Regius',\n",
       "       'Пикап Двойная кабина Double cab', 'Внедорожник 3 дв. 78',\n",
       "       'Внедорожник 5 дв. 76', 'Пикап Одинарная кабина 79',\n",
       "       'Внедорожник 5 дв. Arctic Trucks', 'Компактвэн Noah',\n",
       "       'Универсал 5 дв. Blit', 'Универсал 5 дв. Qualis',\n",
       "       'Внедорожник 5 дв. Long', 'Пикап Полуторная кабина Long Bed',\n",
       "       'Пикап Двойная кабина CrewMax', 'Универсал 5 дв. Ardeo',\n",
       "       'Компактвэн Life', 'Компактвэн Maxi', 'Компактвэн Life Maxi',\n",
       "       'Компактвэн Alltrack', 'Универсал 5 дв. Alltrack',\n",
       "       'Хэтчбек 5 дв. Cross', 'Внедорожник 5 дв. Allspace',\n",
       "       'Компактвэн Cross', 'Фургон', 'Фургон Kasten',\n",
       "       'Универсал 5 дв. XC', 'Внедорожник 5 дв. 110',\n",
       "       'Внедорожник 3 дв. 90', 'Хэтчбек 5 дв. Long',\n",
       "       'Универсал 5 дв. All-Terrain', 'Внедорожник 5 дв. 4x4',\n",
       "       'Лимузин Pullman', 'Минивэн Extralong', 'Минивэн Marco Polo',\n",
       "       'Минивэн Extra Long', 'Минивэн L2', 'Минивэн L3', 'Минивэн L1',\n",
       "       'Пикап Двойная кабина Sports'], dtype=object)"
      ]
     },
     "execution_count": 21,
     "metadata": {},
     "output_type": "execute_result"
    }
   ],
   "source": [
    "df['bodyType'].unique()"
   ]
  },
  {
   "cell_type": "markdown",
   "id": "b885a26d",
   "metadata": {},
   "source": [
    "Видно, что большинство видов кузова имеют специфичные названия. Однако стоит отметить, что первое слово каждого из этих значений несет наибольшую информацию. Удалим все слова, кроме первого, чтобы упростить этот столбец. Это поможет нам при обучении"
   ]
  },
  {
   "cell_type": "code",
   "execution_count": 22,
   "id": "56a4cb74",
   "metadata": {},
   "outputs": [],
   "source": [
    "df['bodyType'] = df['bodyType'].str.split().str[0]"
   ]
  },
  {
   "cell_type": "markdown",
   "id": "4a6aec65",
   "metadata": {},
   "source": [
    "Выведем новые уникальные значения"
   ]
  },
  {
   "cell_type": "code",
   "execution_count": 23,
   "id": "5a7a37e5",
   "metadata": {},
   "outputs": [
    {
     "data": {
      "text/plain": [
       "array(['Седан', 'Универсал', 'Хэтчбек', 'Кабриолет', 'Купе', 'Лифтбек',\n",
       "       'Внедорожник', 'Компактвэн', 'Купе-хардтоп', 'Родстер', 'Минивэн',\n",
       "       'Пикап', 'Тарга', 'Микровэн', 'Фастбек', 'Седан-хардтоп', 'Фургон',\n",
       "       'Лимузин'], dtype=object)"
      ]
     },
     "execution_count": 23,
     "metadata": {},
     "output_type": "execute_result"
    }
   ],
   "source": [
    "df['bodyType'].unique()"
   ]
  },
  {
   "cell_type": "markdown",
   "id": "0a2015ef",
   "metadata": {},
   "source": [
    "Видно, что теперь он содержит более конкретную информацию о кузове автомобиля"
   ]
  },
  {
   "cell_type": "markdown",
   "id": "528c2168",
   "metadata": {},
   "source": [
    "### Столбец 'brand'"
   ]
  },
  {
   "cell_type": "markdown",
   "id": "3111c4f1",
   "metadata": {},
   "source": [
    "Данный столбец содержит информацию о марках автомобилей"
   ]
  },
  {
   "cell_type": "code",
   "execution_count": 24,
   "id": "693d95b8",
   "metadata": {},
   "outputs": [
    {
     "data": {
      "text/plain": [
       "0              AUDI\n",
       "1              AUDI\n",
       "2              AUDI\n",
       "3              AUDI\n",
       "4              AUDI\n",
       "            ...    \n",
       "89373    SSANG_YONG\n",
       "89374    SSANG_YONG\n",
       "89375    SSANG_YONG\n",
       "89376    SSANG_YONG\n",
       "89377    SSANG_YONG\n",
       "Name: brand, Length: 88842, dtype: object"
      ]
     },
     "execution_count": 24,
     "metadata": {},
     "output_type": "execute_result"
    }
   ],
   "source": [
    "df['brand']"
   ]
  },
  {
   "cell_type": "markdown",
   "id": "f445e828",
   "metadata": {},
   "source": [
    "Выведем количество значений NaN"
   ]
  },
  {
   "cell_type": "code",
   "execution_count": 25,
   "id": "cae4cb9b",
   "metadata": {},
   "outputs": [
    {
     "data": {
      "text/plain": [
       "0"
      ]
     },
     "execution_count": 25,
     "metadata": {},
     "output_type": "execute_result"
    }
   ],
   "source": [
    "df['brand'].isna().sum() "
   ]
  },
  {
   "cell_type": "markdown",
   "id": "7b1dab48",
   "metadata": {},
   "source": [
    "Выведем количество уникальных значений для этого столбца"
   ]
  },
  {
   "cell_type": "code",
   "execution_count": 26,
   "id": "bb05ba2e",
   "metadata": {},
   "outputs": [
    {
     "data": {
      "text/plain": [
       "36"
      ]
     },
     "execution_count": 26,
     "metadata": {},
     "output_type": "execute_result"
    }
   ],
   "source": [
    "df['brand'].nunique()"
   ]
  },
  {
   "cell_type": "markdown",
   "id": "892536ce",
   "metadata": {},
   "source": [
    "Выведем все уникальные значения этого столбца"
   ]
  },
  {
   "cell_type": "code",
   "execution_count": 27,
   "id": "4a58750e",
   "metadata": {},
   "outputs": [
    {
     "data": {
      "text/plain": [
       "array(['AUDI', 'BMW', 'CADILLAC', 'CHERY', 'CHEVROLET', 'CHRYSLER',\n",
       "       'CITROEN', 'DAEWOO', 'DODGE', 'FORD', 'GEELY', 'HONDA', 'HYUNDAI',\n",
       "       'INFINITI', 'JAGUAR', 'JEEP', 'KIA', 'LEXUS', 'MAZDA', 'MINI',\n",
       "       'MITSUBISHI', 'NISSAN', 'OPEL', 'PEUGEOT', 'PORSCHE', 'RENAULT',\n",
       "       'SKODA', 'SUBARU', 'SUZUKI', 'TOYOTA', 'VOLKSWAGEN', 'VOLVO',\n",
       "       'GREAT_WALL', 'LAND_ROVER', 'MERCEDES', 'SSANG_YONG'], dtype=object)"
      ]
     },
     "execution_count": 27,
     "metadata": {},
     "output_type": "execute_result"
    }
   ],
   "source": [
    "df['brand'].unique()"
   ]
  },
  {
   "cell_type": "markdown",
   "id": "08dd2f5b",
   "metadata": {},
   "source": [
    "### Столбец 'color'"
   ]
  },
  {
   "cell_type": "markdown",
   "id": "d034edec",
   "metadata": {},
   "source": [
    "Данный столбец содержит информацию о цвете автомобилей"
   ]
  },
  {
   "cell_type": "code",
   "execution_count": 28,
   "id": "76597739",
   "metadata": {},
   "outputs": [
    {
     "data": {
      "text/plain": [
       "0        040001\n",
       "1        EE1D19\n",
       "2        0000CC\n",
       "3        CACECB\n",
       "4        040001\n",
       "          ...  \n",
       "89373    040001\n",
       "89374    CACECB\n",
       "89375    040001\n",
       "89376    97948F\n",
       "89377    FAFBFB\n",
       "Name: color, Length: 88842, dtype: object"
      ]
     },
     "execution_count": 28,
     "metadata": {},
     "output_type": "execute_result"
    }
   ],
   "source": [
    "df['color']"
   ]
  },
  {
   "cell_type": "markdown",
   "id": "a520e0c9",
   "metadata": {},
   "source": [
    "Выведем количество значений NaN"
   ]
  },
  {
   "cell_type": "code",
   "execution_count": 29,
   "id": "94a9ad56",
   "metadata": {},
   "outputs": [
    {
     "data": {
      "text/plain": [
       "0"
      ]
     },
     "execution_count": 29,
     "metadata": {},
     "output_type": "execute_result"
    }
   ],
   "source": [
    "df['color'].isna().sum()"
   ]
  },
  {
   "cell_type": "markdown",
   "id": "5282e21c",
   "metadata": {},
   "source": [
    "Выведем все уникальные значения этого столбца"
   ]
  },
  {
   "cell_type": "code",
   "execution_count": 30,
   "id": "aba26743",
   "metadata": {},
   "outputs": [
    {
     "data": {
      "text/plain": [
       "array(['040001', 'EE1D19', '0000CC', 'CACECB', '007F00', 'FAFBFB',\n",
       "       '97948F', '22A0F8', '660099', '200204', 'C49648', 'DEA522',\n",
       "       '4A2197', 'FFD600', 'FF8649', 'FFC0CB'], dtype=object)"
      ]
     },
     "execution_count": 30,
     "metadata": {},
     "output_type": "execute_result"
    }
   ],
   "source": [
    "df['color'].unique()"
   ]
  },
  {
   "cell_type": "markdown",
   "id": "8a5fa63c",
   "metadata": {},
   "source": [
    "### Столбец 'fuelType'"
   ]
  },
  {
   "cell_type": "markdown",
   "id": "e01d3d36",
   "metadata": {},
   "source": [
    "Данный столбец содержит информацию о типе топлива автомобилей"
   ]
  },
  {
   "cell_type": "code",
   "execution_count": 31,
   "id": "8adfe901",
   "metadata": {},
   "outputs": [
    {
     "data": {
      "text/plain": [
       "0        бензин\n",
       "1        бензин\n",
       "2        бензин\n",
       "3        бензин\n",
       "4        бензин\n",
       "          ...  \n",
       "89373    дизель\n",
       "89374    дизель\n",
       "89375    дизель\n",
       "89376    дизель\n",
       "89377    дизель\n",
       "Name: fuelType, Length: 88842, dtype: object"
      ]
     },
     "execution_count": 31,
     "metadata": {},
     "output_type": "execute_result"
    }
   ],
   "source": [
    "df['fuelType']"
   ]
  },
  {
   "cell_type": "markdown",
   "id": "a06c98b9",
   "metadata": {},
   "source": [
    "Выведем количество значений NaN"
   ]
  },
  {
   "cell_type": "code",
   "execution_count": 32,
   "id": "fc5efbd9",
   "metadata": {},
   "outputs": [
    {
     "data": {
      "text/plain": [
       "0"
      ]
     },
     "execution_count": 32,
     "metadata": {},
     "output_type": "execute_result"
    }
   ],
   "source": [
    "df['fuelType'].isna().sum()"
   ]
  },
  {
   "cell_type": "markdown",
   "id": "fa0538a7",
   "metadata": {},
   "source": [
    "Выведем все уникальные значения этого столбца"
   ]
  },
  {
   "cell_type": "code",
   "execution_count": 33,
   "id": "9399c351",
   "metadata": {},
   "outputs": [
    {
     "data": {
      "text/plain": [
       "array(['бензин', 'дизель', 'электро', 'гибрид', 'газ'], dtype=object)"
      ]
     },
     "execution_count": 33,
     "metadata": {},
     "output_type": "execute_result"
    }
   ],
   "source": [
    "df['fuelType'].unique()"
   ]
  },
  {
   "cell_type": "markdown",
   "id": "e4487a8c",
   "metadata": {},
   "source": [
    "### Столбец 'modelDate'"
   ]
  },
  {
   "cell_type": "markdown",
   "id": "54a59e09",
   "metadata": {},
   "source": [
    "Данный столбец содержит информацию о годе каждой модели"
   ]
  },
  {
   "cell_type": "code",
   "execution_count": 34,
   "id": "ff2024ea",
   "metadata": {},
   "outputs": [
    {
     "data": {
      "text/plain": [
       "0        1990.0\n",
       "1        1982.0\n",
       "2        1988.0\n",
       "3        1988.0\n",
       "4        1990.0\n",
       "          ...  \n",
       "89373    2004.0\n",
       "89374    2004.0\n",
       "89375    2013.0\n",
       "89376    2013.0\n",
       "89377    2013.0\n",
       "Name: modelDate, Length: 88842, dtype: float64"
      ]
     },
     "execution_count": 34,
     "metadata": {},
     "output_type": "execute_result"
    }
   ],
   "source": [
    "df['modelDate']"
   ]
  },
  {
   "cell_type": "markdown",
   "id": "13b4292e",
   "metadata": {},
   "source": [
    "Выведем количество значений NaN"
   ]
  },
  {
   "cell_type": "code",
   "execution_count": 35,
   "id": "cfc957ad",
   "metadata": {},
   "outputs": [
    {
     "data": {
      "text/plain": [
       "0"
      ]
     },
     "execution_count": 35,
     "metadata": {},
     "output_type": "execute_result"
    }
   ],
   "source": [
    "df['modelDate'].isna().sum()"
   ]
  },
  {
   "cell_type": "markdown",
   "id": "db9d7517",
   "metadata": {},
   "source": [
    "Выведем количество уникальных значений для этого столбца"
   ]
  },
  {
   "cell_type": "code",
   "execution_count": 36,
   "id": "3705bb3f",
   "metadata": {},
   "outputs": [
    {
     "data": {
      "text/plain": [
       "78"
      ]
     },
     "execution_count": 36,
     "metadata": {},
     "output_type": "execute_result"
    }
   ],
   "source": [
    "df['modelDate'].nunique()"
   ]
  },
  {
   "cell_type": "markdown",
   "id": "7a0f89f5",
   "metadata": {},
   "source": [
    "Построем график распределения даты выпуска автомобилей"
   ]
  },
  {
   "cell_type": "code",
   "execution_count": 37,
   "id": "c49be610",
   "metadata": {},
   "outputs": [
    {
     "data": {
      "image/png": "[encoded data removed]",
      "text/plain": [
       "<Figure size 720x432 with 1 Axes>"
      ]
     },
     "metadata": {},
     "output_type": "display_data"
    }
   ],
   "source": [
    "sns.set_style('whitegrid')\n",
    "fig, ax = plt.subplots(figsize=(10, 6))\n",
    "\n",
    "sns.histplot(x=df['modelDate'], ax=ax, kde=False, color='#4c72b0', binwidth=1)\n",
    "ax.set_xlabel('Дата выпуска', fontsize=12)\n",
    "ax.set_ylabel('Количество', fontsize=12)\n",
    "ax.set_title('Распределение даты выпуска автомобилей', fontsize=18, color='#c44e52')\n",
    "ax.tick_params(axis='both', labelsize=10)\n",
    "\n",
    "plt.show()"
   ]
  },
  {
   "cell_type": "markdown",
   "id": "3a154e09",
   "metadata": {},
   "source": [
    "Удалим выбросы из данного столбца"
   ]
  },
  {
   "cell_type": "code",
   "execution_count": 38,
   "id": "114f559b",
   "metadata": {},
   "outputs": [
    {
     "name": "stdout",
     "output_type": "stream",
     "text": [
      "1986.41936860402 2030.8997227729456\n"
     ]
    }
   ],
   "source": [
    "mean = np.log(df['modelDate']).mean()\n",
    "std = np.log(df['modelDate']).std()\n",
    "\n",
    "# определяем выбросы\n",
    "lower_bound = np.exp(mean - 3 * std)\n",
    "upper_bound = np.exp(mean + 3 * std)\n",
    "\n",
    "print(lower_bound, upper_bound)"
   ]
  },
  {
   "cell_type": "markdown",
   "id": "b740b38d",
   "metadata": {},
   "source": [
    "Выведем количество строк, которые будем удалять"
   ]
  },
  {
   "cell_type": "code",
   "execution_count": 39,
   "id": "2473e84d",
   "metadata": {},
   "outputs": [
    {
     "data": {
      "text/plain": [
       "88024"
      ]
     },
     "execution_count": 39,
     "metadata": {},
     "output_type": "execute_result"
    }
   ],
   "source": [
    "df.loc[df['modelDate'] > lower_bound].shape[0]"
   ]
  },
  {
   "cell_type": "markdown",
   "id": "f7a52da4",
   "metadata": {},
   "source": [
    "Удалим строки"
   ]
  },
  {
   "cell_type": "code",
   "execution_count": 40,
   "id": "3c5c23e5",
   "metadata": {},
   "outputs": [],
   "source": [
    "df = df.loc[df['modelDate'] > lower_bound]"
   ]
  },
  {
   "cell_type": "markdown",
   "id": "8a157874",
   "metadata": {},
   "source": [
    "Новое количество строк"
   ]
  },
  {
   "cell_type": "code",
   "execution_count": 41,
   "id": "b118694f",
   "metadata": {},
   "outputs": [
    {
     "data": {
      "text/plain": [
       "88024"
      ]
     },
     "execution_count": 41,
     "metadata": {},
     "output_type": "execute_result"
    }
   ],
   "source": [
    "df.shape[0]"
   ]
  },
  {
   "cell_type": "markdown",
   "id": "56746de3",
   "metadata": {},
   "source": [
    "Построим график распределения дат с новыми данными"
   ]
  },
  {
   "cell_type": "code",
   "execution_count": 42,
   "id": "ff9a9ef8",
   "metadata": {},
   "outputs": [
    {
     "data": {
      "image/png": "[encoded data removed]",
      "text/plain": [
       "<Figure size 720x432 with 1 Axes>"
      ]
     },
     "metadata": {},
     "output_type": "display_data"
    }
   ],
   "source": [
    "sns.set_style('whitegrid')\n",
    "fig, ax = plt.subplots(figsize=(10, 6))\n",
    "\n",
    "sns.histplot(x=df['modelDate'], ax=ax, kde=False, color='#4c72b0', binwidth=1)\n",
    "ax.set_xlabel('Дата выпуска', fontsize=12)\n",
    "ax.set_ylabel('Количество', fontsize=12)\n",
    "ax.set_title('Распределение даты выпуска автомобилей', fontsize=18, color='#c44e52')\n",
    "ax.tick_params(axis='both', labelsize=10)\n",
    "\n",
    "plt.show()"
   ]
  },
  {
   "cell_type": "markdown",
   "id": "eb6addb8",
   "metadata": {},
   "source": [
    "### Столбец 'name'"
   ]
  },
  {
   "cell_type": "markdown",
   "id": "88e103ba",
   "metadata": {},
   "source": [
    "Данный столбец содержит информацию о названии автомобилей"
   ]
  },
  {
   "cell_type": "code",
   "execution_count": 43,
   "id": "4b147b7c",
   "metadata": {},
   "outputs": [
    {
     "data": {
      "text/plain": [
       "0         2.8 MT (174 л.с.) 4WD\n",
       "2         2.3 MT (136 л.с.) 4WD\n",
       "3              1.8 MT (90 л.с.)\n",
       "4             2.0 MT (101 л.с.)\n",
       "5             2.8 MT (174 л.с.)\n",
       "                  ...          \n",
       "89373    2.7d AT (163 л.с.) 4WD\n",
       "89374    2.7d AT (163 л.с.) 4WD\n",
       "89375    2.0d AT (149 л.с.) 4WD\n",
       "89376    2.0d AT (149 л.с.) 4WD\n",
       "89377    2.0d AT (149 л.с.) 4WD\n",
       "Name: name, Length: 88024, dtype: object"
      ]
     },
     "execution_count": 43,
     "metadata": {},
     "output_type": "execute_result"
    }
   ],
   "source": [
    "df['name']"
   ]
  },
  {
   "cell_type": "markdown",
   "id": "604eb159",
   "metadata": {},
   "source": [
    "Выведем количество значений NaN"
   ]
  },
  {
   "cell_type": "code",
   "execution_count": 44,
   "id": "40700b89",
   "metadata": {},
   "outputs": [
    {
     "data": {
      "text/plain": [
       "0"
      ]
     },
     "execution_count": 44,
     "metadata": {},
     "output_type": "execute_result"
    }
   ],
   "source": [
    "df['name'].isna().sum()"
   ]
  },
  {
   "cell_type": "markdown",
   "id": "34172f17",
   "metadata": {},
   "source": [
    "Выведем количество уникальных значений для этого столбца"
   ]
  },
  {
   "cell_type": "code",
   "execution_count": 45,
   "id": "bb6c2bd9",
   "metadata": {},
   "outputs": [
    {
     "data": {
      "text/plain": [
       "4193"
      ]
     },
     "execution_count": 45,
     "metadata": {},
     "output_type": "execute_result"
    }
   ],
   "source": [
    "df['name'].nunique()"
   ]
  },
  {
   "cell_type": "markdown",
   "id": "7cb6b365",
   "metadata": {},
   "source": [
    "### Столбец 'numberOfDoors'"
   ]
  },
  {
   "cell_type": "markdown",
   "id": "c76447f7",
   "metadata": {},
   "source": [
    "Данный столбец содержит информацию о количестве дверей автомобилей"
   ]
  },
  {
   "cell_type": "code",
   "execution_count": 46,
   "id": "d1f7ed83",
   "metadata": {},
   "outputs": [
    {
     "data": {
      "text/plain": [
       "0        4.0\n",
       "2        5.0\n",
       "3        4.0\n",
       "4        4.0\n",
       "5        4.0\n",
       "        ... \n",
       "89373    5.0\n",
       "89374    5.0\n",
       "89375    5.0\n",
       "89376    5.0\n",
       "89377    5.0\n",
       "Name: numberOfDoors, Length: 88024, dtype: float64"
      ]
     },
     "execution_count": 46,
     "metadata": {},
     "output_type": "execute_result"
    }
   ],
   "source": [
    "df['numberOfDoors']"
   ]
  },
  {
   "cell_type": "markdown",
   "id": "aecbcca5",
   "metadata": {},
   "source": [
    "Выведем количество значений NaN"
   ]
  },
  {
   "cell_type": "code",
   "execution_count": 47,
   "id": "e4487d3c",
   "metadata": {},
   "outputs": [
    {
     "data": {
      "text/plain": [
       "0"
      ]
     },
     "execution_count": 47,
     "metadata": {},
     "output_type": "execute_result"
    }
   ],
   "source": [
    "df['numberOfDoors'].isna().sum()"
   ]
  },
  {
   "cell_type": "markdown",
   "id": "0ba2a1cd",
   "metadata": {},
   "source": [
    "Выведем все уникальные значения для данного столбца"
   ]
  },
  {
   "cell_type": "code",
   "execution_count": 48,
   "id": "52460e88",
   "metadata": {},
   "outputs": [
    {
     "data": {
      "text/plain": [
       "array([4., 5., 3., 2.])"
      ]
     },
     "execution_count": 48,
     "metadata": {},
     "output_type": "execute_result"
    }
   ],
   "source": [
    "df['numberOfDoors'].unique()"
   ]
  },
  {
   "cell_type": "markdown",
   "id": "f19a3087",
   "metadata": {},
   "source": [
    "### Столбец 'productionDate'"
   ]
  },
  {
   "cell_type": "markdown",
   "id": "14048f70",
   "metadata": {},
   "source": [
    "Данный столбец содержит информацию о дате выпуска автомобилей"
   ]
  },
  {
   "cell_type": "code",
   "execution_count": 49,
   "id": "0e9dd7d5",
   "metadata": {},
   "outputs": [
    {
     "data": {
      "text/plain": [
       "0        1991\n",
       "2        1989\n",
       "3        1989\n",
       "4        1991\n",
       "5        1993\n",
       "         ... \n",
       "89373    2006\n",
       "89374    2007\n",
       "89375    2014\n",
       "89376    2013\n",
       "89377    2014\n",
       "Name: productionDate, Length: 88024, dtype: int64"
      ]
     },
     "execution_count": 49,
     "metadata": {},
     "output_type": "execute_result"
    }
   ],
   "source": [
    "df['productionDate']"
   ]
  },
  {
   "cell_type": "markdown",
   "id": "2a90e3ac",
   "metadata": {},
   "source": [
    "Выведем количество значений NaN"
   ]
  },
  {
   "cell_type": "code",
   "execution_count": 50,
   "id": "406368e7",
   "metadata": {},
   "outputs": [
    {
     "data": {
      "text/plain": [
       "0"
      ]
     },
     "execution_count": 50,
     "metadata": {},
     "output_type": "execute_result"
    }
   ],
   "source": [
    "df['productionDate'].isna().sum()"
   ]
  },
  {
   "cell_type": "markdown",
   "id": "70d65cbd",
   "metadata": {},
   "source": [
    "Построим график распределения даты выпуска автомобилей"
   ]
  },
  {
   "cell_type": "code",
   "execution_count": 51,
   "id": "05fbe9fb",
   "metadata": {},
   "outputs": [
    {
     "data": {
      "image/png": "[encoded data removed]",
      "text/plain": [
       "<Figure size 720x432 with 1 Axes>"
      ]
     },
     "metadata": {},
     "output_type": "display_data"
    }
   ],
   "source": [
    "sns.set_style('whitegrid')\n",
    "fig, ax = plt.subplots(figsize=(10, 6))\n",
    "\n",
    "sns.histplot(x=df['productionDate'], ax=ax, kde=False, color='#4c72b0', binwidth=1)\n",
    "ax.set_xlabel('Дата выпуска', fontsize=12)\n",
    "ax.set_ylabel('Количество', fontsize=12)\n",
    "ax.set_title('Распределение даты выпуска автомобилей', fontsize=18, color='#c44e52')\n",
    "ax.tick_params(axis='both', labelsize=10)\n",
    "\n",
    "plt.show()"
   ]
  },
  {
   "cell_type": "markdown",
   "id": "5577119e",
   "metadata": {},
   "source": [
    "### Столбец 'vehicleTransmission'"
   ]
  },
  {
   "cell_type": "markdown",
   "id": "7c63751d",
   "metadata": {},
   "source": [
    "Данный столбец содержит информацию о коробке передач автомобилей"
   ]
  },
  {
   "cell_type": "code",
   "execution_count": 52,
   "id": "6169fcd9",
   "metadata": {},
   "outputs": [
    {
     "data": {
      "text/plain": [
       "0        MECHANICAL\n",
       "2        MECHANICAL\n",
       "3        MECHANICAL\n",
       "4        MECHANICAL\n",
       "5        MECHANICAL\n",
       "            ...    \n",
       "89373     AUTOMATIC\n",
       "89374     AUTOMATIC\n",
       "89375     AUTOMATIC\n",
       "89376     AUTOMATIC\n",
       "89377     AUTOMATIC\n",
       "Name: vehicleTransmission, Length: 88024, dtype: object"
      ]
     },
     "execution_count": 52,
     "metadata": {},
     "output_type": "execute_result"
    }
   ],
   "source": [
    "df['vehicleTransmission']"
   ]
  },
  {
   "cell_type": "markdown",
   "id": "d5150474",
   "metadata": {},
   "source": [
    "Выведем количество значения NaN для данного столбца"
   ]
  },
  {
   "cell_type": "code",
   "execution_count": 53,
   "id": "24a27b0a",
   "metadata": {},
   "outputs": [
    {
     "data": {
      "text/plain": [
       "0"
      ]
     },
     "execution_count": 53,
     "metadata": {},
     "output_type": "execute_result"
    }
   ],
   "source": [
    "df['vehicleTransmission'].isna().sum()"
   ]
  },
  {
   "cell_type": "markdown",
   "id": "3cb12fd2",
   "metadata": {},
   "source": [
    "Выведем все уникальные значения для данного столбца"
   ]
  },
  {
   "cell_type": "code",
   "execution_count": 54,
   "id": "5bce3f49",
   "metadata": {},
   "outputs": [
    {
     "data": {
      "text/plain": [
       "array(['MECHANICAL', 'AUTOMATIC', 'ROBOT', 'VARIATOR'], dtype=object)"
      ]
     },
     "execution_count": 54,
     "metadata": {},
     "output_type": "execute_result"
    }
   ],
   "source": [
    "df['vehicleTransmission'].unique()"
   ]
  },
  {
   "cell_type": "markdown",
   "id": "e5dc213e",
   "metadata": {},
   "source": [
    "### Столбец 'engineDisplacement'"
   ]
  },
  {
   "cell_type": "markdown",
   "id": "810f097e",
   "metadata": {},
   "source": [
    "Данный столбец содержит информацию о вместимости двигателей автомобилей"
   ]
  },
  {
   "cell_type": "code",
   "execution_count": 55,
   "id": "18b6719b",
   "metadata": {},
   "outputs": [
    {
     "data": {
      "text/plain": [
       "0         2.8\n",
       "2         2.3\n",
       "3         1.8\n",
       "4         2.0\n",
       "5         2.8\n",
       "         ... \n",
       "89373    2.7d\n",
       "89374    2.7d\n",
       "89375    2.0d\n",
       "89376    2.0d\n",
       "89377    2.0d\n",
       "Name: engineDisplacement, Length: 88024, dtype: object"
      ]
     },
     "execution_count": 55,
     "metadata": {},
     "output_type": "execute_result"
    }
   ],
   "source": [
    "df['engineDisplacement']"
   ]
  },
  {
   "cell_type": "markdown",
   "id": "2ccc2a81",
   "metadata": {},
   "source": [
    "Выведем количество значений NaN"
   ]
  },
  {
   "cell_type": "code",
   "execution_count": 56,
   "id": "ef6d631b",
   "metadata": {},
   "outputs": [
    {
     "data": {
      "text/plain": [
       "0"
      ]
     },
     "execution_count": 56,
     "metadata": {},
     "output_type": "execute_result"
    }
   ],
   "source": [
    "df['engineDisplacement'].isna().sum()"
   ]
  },
  {
   "cell_type": "markdown",
   "id": "2d1f9ad9",
   "metadata": {},
   "source": [
    "Выдедем количество уникальных значений для данного столбца"
   ]
  },
  {
   "cell_type": "code",
   "execution_count": 57,
   "id": "fd1b32be",
   "metadata": {},
   "outputs": [
    {
     "data": {
      "text/plain": [
       "515"
      ]
     },
     "execution_count": 57,
     "metadata": {},
     "output_type": "execute_result"
    }
   ],
   "source": [
    "df['engineDisplacement'].nunique()"
   ]
  },
  {
   "cell_type": "markdown",
   "id": "2fe29a4e",
   "metadata": {},
   "source": [
    "Выведем все уникальные значения для данного столбца"
   ]
  },
  {
   "cell_type": "code",
   "execution_count": 58,
   "id": "7664c043",
   "metadata": {},
   "outputs": [
    {
     "data": {
      "text/plain": [
       "array(['2.8', '2.3', '1.8', '2.0', '2.6', '2.2', 'S4', '2.5d', '1.9d',\n",
       "       '1.6', '1.4', '1.2d', 'ultra', '1.2', '3.2', '1.5', '2.0d', '8V',\n",
       "       '3.1', '2.4', '3.0d', '2.7d', '16V', '3.0', '7S-tronic',\n",
       "       'tiptronic', '40', '45', '55', '2.7', '4.2', 'S-tronic',\n",
       "       'Tiptronic', 'Long', '4.0', '60', '3.9d', '6.0', '3.7', '4.1d',\n",
       "       '35', '8tiptronic', 'clean', '2.0hyb', '3.6', '5.9d', 'V10', 'V8',\n",
       "       '2.5', '2.9', '5.0', '5.2', 'M135i', '116i', '120i', '118i',\n",
       "       '135i', 'M140i', '125i', '120d', '130i', '118d', '218i', '220i',\n",
       "       '220d', 'M235i', '218d', '216d', '335i', '320i', '318i', '318d',\n",
       "       '320d', '316i', '328i', '330i', '325xi', '325i', '330d', '340i',\n",
       "       '323i', '335d', '335xi', '330xi', 'N46', '420d', '428i', '420i',\n",
       "       '435i', '430i', '440i', '520d', '530d', '525i', '523i', '520i',\n",
       "       '530i', '525d', '528i', '550i', '535d', 'M550i', 'M550d', '540i',\n",
       "       '535i', '530xi', '530Li', '525xi', '520Li', '528Li', '535xi',\n",
       "       '545i', '524d', '518i', '535Li', '530xd', '630i', '640i', '650i',\n",
       "       '640d', '630d', '620d', '645i', '750d', '740i', '730Ld', '750i',\n",
       "       '750Li', '740Li', '730d', '730i', '750Ld', '730Li', '740d',\n",
       "       'M760Li', '740Ld', 'Active', '760Li', '735i', '745d', '728i',\n",
       "       '728Li', '760i', '745i', '745Li', '735Li', '725d', 'M850i', '840d',\n",
       "       '840i', '850i', '94Ah', 'Electro', 'S', '0.7hyb', '1.5hyb', '3.3',\n",
       "       'Competition', '4.4', '4.9', '18i', '20i', '18d', '20d', '25d',\n",
       "       '28i', '23d', '25i', 'sDrive18i', 'xDrive20i', 'xDrive18d',\n",
       "       'xDrive20d', '30d', 'M40d', '30i', '35i', 'M40i', '35d', 'M50d',\n",
       "       '40i', '48i', '3.0sd', '50i', '3.0i', '40d', 'M50i', '4.4i',\n",
       "       '4.8i', '3.0si', '4.8is', '40e', '4.6is', 'ActiveHybrid', '1.9',\n",
       "       '23i', '35is', '6.2', '4.6', 'ESV', '5.3', '5.7', '6-speed',\n",
       "       '5-speed', '1.3', '1.1', '0.8', '3.4', '8.1', '4.3', 'SS', 'ZL1',\n",
       "       '2.2d', 'Stingray', 'Z06', '3.8', '1.7', '6.6d', 'Double', '1.0',\n",
       "       'EV', '7.5', '7.4', '6AT', '6.5d', '2.8d', 'EXT', '1.4hyb', 'SRT8',\n",
       "       '3.5', 'Fifth', '3.6hyb', 'SWB', 'Grand', '1.6d', '5-doors',\n",
       "       'Донинвест', '1.4d', 'SensoDrive', 'Aircross', 'Triomphe',\n",
       "       'Hydractive', 'CrossTourer', 'XL', '2.1d', 'Best', 'SRT-4', 'R__T',\n",
       "       'Hellcat', 'SRT', '3.9', '4.7', 'Crew', '6.4', '6.7d', 'SRT-10',\n",
       "       '1.8d', '5.4', '5.8', '7.3d', '2.3hyb', '6.8', 'Sport', 'Raptor',\n",
       "       'SVT', 'KAT', 'Electric', 'ST170', 'StreetKa', 'PowerShift',\n",
       "       'ST220', 'Shelby', '3.2d', 'SHO', 'LWB', 'Type', '0.7', 'Hybrid',\n",
       "       'AMT', 'Shuttle', 'del', 'Spike', '1.3hyb', 'Spada', 'ТагАЗ',\n",
       "       '1.5d', 'Prime', 'Limousine', '1.7d', 'Classic', '2.6d', '2.9d',\n",
       "       'EX25', 'EX35', 'EX37', 'FX37', 'FX35', 'FX50', 'FX45', 'FX30d',\n",
       "       'FX', 'G37', 'G35', 'G25', 'G20', 'I30', 'JX35', 'M37', 'M35',\n",
       "       'M56', 'M25', 'M45', 'Q45', '3.5hyb', '5.6', '2.5hyb', 'SVR', 'R',\n",
       "       '2.1', 'TrailHawk', 'Trackhawk', '3.1d', '5.9', 'Trailhawk',\n",
       "       '4-speed', '8-speed', '2.4hyb', 'GT', 'X-Line', '200h', '250',\n",
       "       '200', '300', '350', '330', '300h', '450h', '430', '460', '470',\n",
       "       '250h', '200t', '250C', '400', '600h', '500', '570', '450d', '450',\n",
       "       '270', '400h', '350L', 'Brawny', 'S-Wagon', 'Hard', 'Soft', 'John',\n",
       "       'Cooper', 'One', 'Grandis', 'CZ1', 'CZ2', 'Plus', 'CZ3', '2.3d',\n",
       "       'VR-4', 'Easy', '2.4d', 'Super', 'Cedia', 'PHEV', 'Cubic', '30kWh',\n",
       "       '1.2hyb', '4.2d', '4.8', 'Joy', '4.5', 'Latio', 'GTC', '1.3d',\n",
       "       'C16NZ', '16LZ2', 'X16SZR', 'CNG', 'GSi', 'Country', 'L', '+', '7',\n",
       "       'Carrera', 'Turbo', '4', '4S', 'RS', 'Diesel', 'GTS', 'E-Hybrid',\n",
       "       '2.9hyb', 'Europa', 'Campus', 'Be', 'Stepway', 'RX4', 'Conquest',\n",
       "       'Scout', 'DSG7', 'DSG', 'ACT', 'tS', 'STi', 'S-Edition', 'XV',\n",
       "       'XL-7', 'US', 'Japan', 'Gracia', 'Prominent', 'GT-Four', 'Fielder',\n",
       "       'Axio', 'Ceres', 'Runx', 'i', 'SF', 'Premio', '1.8hyb', 'Lucida',\n",
       "       'Emina', '3.3hyb', 'Regius', '4.5d', '105', 'Cygnus', '78', '76',\n",
       "       '79', 'Arctic', 'Noah', 'Qualis', 'JDM', 'CrewMax', 'Ardeo',\n",
       "       'Multimode', 'full-time', 'part-time', 'Maxi', 'BiFuel',\n",
       "       'Alltrack', 'EcoFuel', '4MOTION', 'e-Golf', 'VR6', 'GTI\"35\"',\n",
       "       '5-Seater', '4-Seater', '4.9d', 'Cross', 'Allspace', '3.0hyb',\n",
       "       '4.1', 'T-5R', 'Bi-Fuel', 'XC', 'G3', 'G5', 'G1', '110', 'Base',\n",
       "       '90', '130', 'Ingenium', 'Supercharged', '3.6d', '4.4d', '9-speed',\n",
       "       'HST', '180', '160', '170', '220', '150', '140', '210', 'C', '63',\n",
       "       '53', '43', '230', '240', '280', '320', '109', '550', '600', '420',\n",
       "       '65', 'All-Terrain', '290', '50', '560', 'Pullman', 'L1', 'L3',\n",
       "       'L2', 'Marco', '121', '113', '111', '119', '114', '112', '108',\n",
       "       '115', '116', 'Sports'], dtype=object)"
      ]
     },
     "execution_count": 58,
     "metadata": {},
     "output_type": "execute_result"
    }
   ],
   "source": [
    "df['engineDisplacement'].unique()"
   ]
  },
  {
   "cell_type": "markdown",
   "id": "537a8b1f",
   "metadata": {},
   "source": [
    "### Столбец 'enginePower'"
   ]
  },
  {
   "cell_type": "markdown",
   "id": "1b6468aa",
   "metadata": {},
   "source": [
    "Данный столбец содержит информацию о мощности автомобилей"
   ]
  },
  {
   "cell_type": "code",
   "execution_count": 59,
   "id": "cc31d567",
   "metadata": {},
   "outputs": [
    {
     "data": {
      "text/plain": [
       "0        174.0\n",
       "2        136.0\n",
       "3         90.0\n",
       "4        101.0\n",
       "5        174.0\n",
       "         ...  \n",
       "89373    163.0\n",
       "89374    163.0\n",
       "89375    149.0\n",
       "89376    149.0\n",
       "89377    149.0\n",
       "Name: enginePower, Length: 88024, dtype: float64"
      ]
     },
     "execution_count": 59,
     "metadata": {},
     "output_type": "execute_result"
    }
   ],
   "source": [
    "df['enginePower']"
   ]
  },
  {
   "cell_type": "markdown",
   "id": "727aee26",
   "metadata": {},
   "source": [
    "Выведем количество значений NaN"
   ]
  },
  {
   "cell_type": "code",
   "execution_count": 60,
   "id": "06d40103",
   "metadata": {},
   "outputs": [
    {
     "data": {
      "text/plain": [
       "0"
      ]
     },
     "execution_count": 60,
     "metadata": {},
     "output_type": "execute_result"
    }
   ],
   "source": [
    "df['enginePower'].isna().sum()"
   ]
  },
  {
   "cell_type": "markdown",
   "id": "ec6de454",
   "metadata": {},
   "source": [
    "Построем график распределения мощности автомобилей"
   ]
  },
  {
   "cell_type": "code",
   "execution_count": 61,
   "id": "ca7bac30",
   "metadata": {},
   "outputs": [
    {
     "data": {
      "image/png": "[encoded data removed]",
      "text/plain": [
       "<Figure size 720x432 with 1 Axes>"
      ]
     },
     "metadata": {},
     "output_type": "display_data"
    }
   ],
   "source": [
    "sns.set_style('whitegrid')\n",
    "fig, ax = plt.subplots(figsize=(10, 6))\n",
    "\n",
    "sns.histplot(x=df['enginePower'], ax=ax, kde=False, color='#4c72b0', binwidth=20)\n",
    "ax.set_xlabel('Дата выпуска', fontsize=12)\n",
    "ax.set_ylabel('Количество', fontsize=12)\n",
    "ax.set_title('Распределение даты выпуска автомобилей', fontsize=18, color='#c44e52')\n",
    "ax.tick_params(axis='both', labelsize=10)\n",
    "\n",
    "plt.show()"
   ]
  },
  {
   "cell_type": "markdown",
   "id": "cdf553b9",
   "metadata": {},
   "source": [
    "Найдем и удалим выбросы"
   ]
  },
  {
   "cell_type": "code",
   "execution_count": 62,
   "id": "76a7b6c8",
   "metadata": {},
   "outputs": [
    {
     "name": "stdout",
     "output_type": "stream",
     "text": [
      "50.520191286213304 452.9872001146838\n"
     ]
    }
   ],
   "source": [
    "# вычисляем межквартильный размах\n",
    "q1 = np.log(df['enginePower']).quantile(0.25)\n",
    "q3 = np.log(df['enginePower']).quantile(0.75)\n",
    "iqr = q3 - q1\n",
    "\n",
    "# определяем выбросы\n",
    "lower_bound = np.exp(q1 - 1.5 * iqr)\n",
    "upper_bound = np.exp(q3 + 1.5 * iqr)\n",
    "\n",
    "print(lower_bound, upper_bound)"
   ]
  },
  {
   "cell_type": "markdown",
   "id": "6df61056",
   "metadata": {},
   "source": [
    "Выведем количество строк с выбросами"
   ]
  },
  {
   "cell_type": "code",
   "execution_count": 63,
   "id": "4c57155e",
   "metadata": {},
   "outputs": [
    {
     "data": {
      "text/plain": [
       "1161"
      ]
     },
     "execution_count": 63,
     "metadata": {},
     "output_type": "execute_result"
    }
   ],
   "source": [
    "df.loc[df['enginePower'] > upper_bound].shape[0]"
   ]
  },
  {
   "cell_type": "markdown",
   "id": "d6b4ba84",
   "metadata": {},
   "source": [
    "Удалим выбросы"
   ]
  },
  {
   "cell_type": "code",
   "execution_count": 64,
   "id": "143d2798",
   "metadata": {},
   "outputs": [],
   "source": [
    "df = df.loc[df['enginePower'] < upper_bound]"
   ]
  },
  {
   "cell_type": "code",
   "execution_count": 65,
   "id": "f0e0071c",
   "metadata": {},
   "outputs": [
    {
     "data": {
      "text/plain": [
       "86863"
      ]
     },
     "execution_count": 65,
     "metadata": {},
     "output_type": "execute_result"
    }
   ],
   "source": [
    "df.shape[0]"
   ]
  },
  {
   "cell_type": "markdown",
   "id": "a23a2a81",
   "metadata": {},
   "source": [
    "Построем новый график распределния мощности"
   ]
  },
  {
   "cell_type": "code",
   "execution_count": 66,
   "id": "56b489cf",
   "metadata": {},
   "outputs": [
    {
     "data": {
      "image/png": "[encoded data removed]",
      "text/plain": [
       "<Figure size 720x432 with 1 Axes>"
      ]
     },
     "metadata": {},
     "output_type": "display_data"
    }
   ],
   "source": [
    "sns.set_style('whitegrid')\n",
    "fig, ax = plt.subplots(figsize=(10, 6))\n",
    "\n",
    "sns.histplot(x=df['enginePower'], ax=ax, kde=False, color='#4c72b0', binwidth=10)\n",
    "ax.set_xlabel('Мощность', fontsize=12)\n",
    "ax.set_ylabel('Количество', fontsize=12)\n",
    "ax.set_title('Распределение мощности двигателей автомобилей', fontsize=18, color='#c44e52')\n",
    "ax.tick_params(axis='both', labelsize=10)\n",
    "\n",
    "plt.show()"
   ]
  },
  {
   "cell_type": "markdown",
   "id": "c6160288",
   "metadata": {},
   "source": [
    "### Столбец 'description'"
   ]
  },
  {
   "cell_type": "markdown",
   "id": "ea2fffb3",
   "metadata": {},
   "source": [
    "Данный столбец содержит информацию о описании автомобилей из объявлений"
   ]
  },
  {
   "cell_type": "code",
   "execution_count": 67,
   "id": "5511cd3d",
   "metadata": {},
   "outputs": [
    {
     "data": {
      "text/plain": [
       "0         Машина  в приличном состоянии ,не гнилая не р...\n",
       "2        ПТС Оригинал!\\nПолный комплект ключей!\\nПо рез...\n",
       "3                                                      NaN\n",
       "4        Машина не гнилая, дыр нет, днище целое, даже в...\n",
       "5        Хорошая комплектация: климат, эл. стекла, эл. ...\n",
       "                               ...                        \n",
       "89373    СВЕТИТ КРУТИТ РАБОТАЕТ ВСЁ.  БЕЗ ТОРГА .В МОСК...\n",
       "89374    Автомобиль на ходу, каждый день в движении.\\nС...\n",
       "89375    Автомобиль куплен в декабре 2015 г., новым. Вс...\n",
       "89376    Продаю семейного любимца. Большой вместительны...\n",
       "89377    Авто в отличном состоянии всё работает. Большо...\n",
       "Name: description, Length: 86863, dtype: object"
      ]
     },
     "execution_count": 67,
     "metadata": {},
     "output_type": "execute_result"
    }
   ],
   "source": [
    "df['description']"
   ]
  },
  {
   "cell_type": "markdown",
   "id": "6711dd92",
   "metadata": {},
   "source": [
    "Выведем количество значений NaN"
   ]
  },
  {
   "cell_type": "code",
   "execution_count": 68,
   "id": "993796cd",
   "metadata": {},
   "outputs": [
    {
     "data": {
      "text/plain": [
       "3163"
      ]
     },
     "execution_count": 68,
     "metadata": {},
     "output_type": "execute_result"
    }
   ],
   "source": [
    "df['description'].isna().sum()"
   ]
  },
  {
   "cell_type": "markdown",
   "id": "88ab60bf",
   "metadata": {},
   "source": [
    "Так как зачастую цена автомобиля зависит от полноты его описания, введем новый столбец куда включим количество символов в описании"
   ]
  },
  {
   "cell_type": "code",
   "execution_count": 69,
   "id": "eb2f5034",
   "metadata": {},
   "outputs": [],
   "source": [
    "df['description_len'] = df['description'].str.len()"
   ]
  },
  {
   "cell_type": "markdown",
   "id": "db9121fc",
   "metadata": {},
   "source": [
    "Пропуски заполним нулем"
   ]
  },
  {
   "cell_type": "code",
   "execution_count": 70,
   "id": "b780150d",
   "metadata": {},
   "outputs": [],
   "source": [
    "df['description_len'] = df['description_len'].fillna(0)"
   ]
  },
  {
   "cell_type": "markdown",
   "id": "ae2d9e43",
   "metadata": {},
   "source": [
    "Построем график распределения количества символов в описании"
   ]
  },
  {
   "cell_type": "code",
   "execution_count": 71,
   "id": "071d7fc6",
   "metadata": {},
   "outputs": [
    {
     "data": {
      "image/png": "[encoded data removed]",
      "text/plain": [
       "<Figure size 720x432 with 1 Axes>"
      ]
     },
     "metadata": {},
     "output_type": "display_data"
    }
   ],
   "source": [
    "sns.set_style('whitegrid')\n",
    "fig, ax = plt.subplots(figsize=(10, 6))\n",
    "\n",
    "sns.histplot(x=df['description_len'], ax=ax, kde=False, color='#4c72b0', binwidth=100)\n",
    "ax.set_xlabel('Длина описания', fontsize=12)\n",
    "ax.set_ylabel('Количество', fontsize=12)\n",
    "ax.set_title('Распределение длины описания объявления', fontsize=18, color='#c44e52')\n",
    "ax.tick_params(axis='both', labelsize=10)\n",
    "\n",
    "plt.show()"
   ]
  },
  {
   "cell_type": "markdown",
   "id": "3bd94cf3",
   "metadata": {},
   "source": [
    "Посчитаем кожффициент корреляции для этого столбца и цены"
   ]
  },
  {
   "cell_type": "code",
   "execution_count": 72,
   "id": "2d8fc377",
   "metadata": {},
   "outputs": [
    {
     "data": {
      "text/plain": [
       "0.5577343875962468"
      ]
     },
     "execution_count": 72,
     "metadata": {},
     "output_type": "execute_result"
    }
   ],
   "source": [
    "np.corrcoef(df['description_len'], df['price'])[0, 1]"
   ]
  },
  {
   "cell_type": "markdown",
   "id": "60256b6f",
   "metadata": {},
   "source": [
    "### Столбец 'mileage'"
   ]
  },
  {
   "cell_type": "markdown",
   "id": "cf91b152",
   "metadata": {},
   "source": [
    "Данный столбец содержит информацию о пробеге автомобилей"
   ]
  },
  {
   "cell_type": "code",
   "execution_count": 73,
   "id": "5791b75c",
   "metadata": {},
   "outputs": [
    {
     "data": {
      "text/plain": [
       "0        350000\n",
       "2        230000\n",
       "3        240000\n",
       "4        300000\n",
       "5        200000\n",
       "          ...  \n",
       "89373    260000\n",
       "89374    300000\n",
       "89375    126000\n",
       "89376     84000\n",
       "89377    144000\n",
       "Name: mileage, Length: 86863, dtype: int64"
      ]
     },
     "execution_count": 73,
     "metadata": {},
     "output_type": "execute_result"
    }
   ],
   "source": [
    "df['mileage']"
   ]
  },
  {
   "cell_type": "markdown",
   "id": "629e1b65",
   "metadata": {},
   "source": [
    "Выведем количество значений NaN"
   ]
  },
  {
   "cell_type": "code",
   "execution_count": 74,
   "id": "16bc2ae3",
   "metadata": {},
   "outputs": [
    {
     "data": {
      "text/plain": [
       "0"
      ]
     },
     "execution_count": 74,
     "metadata": {},
     "output_type": "execute_result"
    }
   ],
   "source": [
    "df['mileage'].isna().sum()"
   ]
  },
  {
   "cell_type": "markdown",
   "id": "4158ff56",
   "metadata": {},
   "source": [
    "Построем график распределения пробега автомобилей"
   ]
  },
  {
   "cell_type": "code",
   "execution_count": 75,
   "id": "986aa08c",
   "metadata": {},
   "outputs": [
    {
     "data": {
      "image/png": "[encoded data removed]",
      "text/plain": [
       "<Figure size 720x432 with 1 Axes>"
      ]
     },
     "metadata": {},
     "output_type": "display_data"
    }
   ],
   "source": [
    "sns.set_style('whitegrid')\n",
    "fig, ax = plt.subplots(figsize=(10, 6))\n",
    "\n",
    "sns.histplot(x=df['mileage'], ax=ax, kde=False, color='#4c72b0', binwidth=10000)\n",
    "ax.set_xlabel('Пробег', fontsize=12)\n",
    "ax.set_ylabel('Количество', fontsize=12)\n",
    "ax.set_title('Распределение пробега автомобилей', fontsize=18, color='#c44e52')\n",
    "ax.tick_params(axis='both', labelsize=10)\n",
    "\n",
    "plt.show()"
   ]
  },
  {
   "cell_type": "markdown",
   "id": "b26de8f9",
   "metadata": {},
   "source": [
    "Видно, что большое количество объявлений имеет пробег 0"
   ]
  },
  {
   "cell_type": "markdown",
   "id": "25d34577",
   "metadata": {},
   "source": [
    "### Столбец 'Комплектация'"
   ]
  },
  {
   "cell_type": "markdown",
   "id": "6b98de77",
   "metadata": {},
   "source": [
    "Данный столбец содержит информацию о комплектации автомобилей"
   ]
  },
  {
   "cell_type": "code",
   "execution_count": 76,
   "id": "58eccd94",
   "metadata": {},
   "outputs": [
    {
     "data": {
      "text/plain": [
       "0                                              {'id': '0'}\n",
       "2                                              {'id': '0'}\n",
       "3                                              {'id': '0'}\n",
       "4                                              {'id': '0'}\n",
       "5                                              {'id': '0'}\n",
       "                               ...                        \n",
       "89373                                          {'id': '0'}\n",
       "89374                                          {'id': '0'}\n",
       "89375    {'id': '10408082', 'name': 'Luxury', 'availabl...\n",
       "89376    {'id': '10408081', 'name': 'Elegance', 'availa...\n",
       "89377                                          {'id': '0'}\n",
       "Name: Комплектация, Length: 86863, dtype: object"
      ]
     },
     "execution_count": 76,
     "metadata": {},
     "output_type": "execute_result"
    }
   ],
   "source": [
    "df['Комплектация']"
   ]
  },
  {
   "cell_type": "markdown",
   "id": "3704604b",
   "metadata": {},
   "source": [
    "Выведем количество значений NaN"
   ]
  },
  {
   "cell_type": "code",
   "execution_count": 77,
   "id": "548ca481",
   "metadata": {},
   "outputs": [
    {
     "data": {
      "text/plain": [
       "0"
      ]
     },
     "execution_count": 77,
     "metadata": {},
     "output_type": "execute_result"
    }
   ],
   "source": [
    "df['Комплектация'].isna().sum()"
   ]
  },
  {
   "cell_type": "markdown",
   "id": "5b11da53",
   "metadata": {},
   "source": [
    "Выведем все уникальные значения для данного столбца"
   ]
  },
  {
   "cell_type": "code",
   "execution_count": 78,
   "id": "1fef2890",
   "metadata": {},
   "outputs": [
    {
     "data": {
      "text/plain": [
       "array([\"{'id': '0'}\",\n",
       "       \"{'id': '20717199', 'name': 'Basis', 'available_options': ['sport-seats', 'multi-wheel', 'heated-wash-system', 'airbag-passenger', 'lock', 'door-sill-panel', 'electro-mirrors', 'mirrors-heat', 'start-stop-function', 'computer', 'seat-transformation', 'wheel-power', 'fabric-seats', 'airbag-side', 'abs', 'wheel-leather', 'climate-control-1', 'esp', 'audiopreparation', 'front-centre-armrest', 'electro-window-back', '16-inch-wheels', 'condition', 'airbag-driver', 'isofix', 'electro-window-front', 'light-sensor', 'airbag-curtain', 'leather-gear-stick', 'rain-sensor', 'tyre-pressure', 'audiosystem-cd', 'front-seats-heat', 'wheel-configuration2', 'wheel-configuration1', 'immo', '12v-socket', 'third-rear-headrest'], 'vendor_colors': [{'body_color_id': 20617588, 'mark_color_id': 21386826, 'name_ru': 'Mythos black', 'hex_codes': ['010101'], 'color_type': 'METALLIC', 'stock_color': {'hex_code': '040001', 'name_ru': 'черный'}, 'photos': [{'name': '34-front', 'sizes': {'orig': '//avatars.mds.yandex.net/get-verba/787013/2a000001609d03d0f2f54eec64533a0363c4/orig', 'wizardv3mr': '//avatars.mds.yandex.net/get-verba/787013/2a000001609d03d0f2f54eec64533a0363c4/wizardv3mr', 'wizardv3': '//avatars.mds.yandex.net/get-verba/787013/2a000001609d03d0f2f54eec64533a0363c4/wizardv3', 'cattouch': '//avatars.mds.yandex.net/get-verba/787013/2a000001609d03d0f2f54eec64533a0363c4/cattouch', 'small': '//avatars.mds.yandex.net/get-verba/787013/2a000001609d03d0f2f54eec64533a0363c4/small', '320x240': '//avatars.mds.yandex.net/get-verba/787013/2a000001609d03d0f2f54eec64533a0363c4/320x240', '1200x900': '//avatars.mds.yandex.net/get-verba/787013/2a000001609d03d0f2f54eec64533a0363c4/1200x900', '1200x900n': '//avatars.mds.yandex.net/get-verba/787013/2a000001609d03d0f2f54eec64533a0363c4/1200x900n', 'thumb_m': '//avatars.mds.yandex.net/get-verba/787013/2a000001609d03d0f2f54eec64533a0363c4/thumb_m', 'full': '//avatars.mds.yandex.net/get-verba/787013/2a000001609d03d0f2f54eec64533a0363c4/full', '832x624': '//avatars.mds.yandex.net/get-verba/787013/2a000001609d03d0f2f54eec64533a0363c4/832x624', '456x342': '//avatars.mds.yandex.net/get-verba/787013/2a000001609d03d0f2f54eec64533a0363c4/456x342', '120x90': '//avatars.mds.yandex.net/get-verba/787013/2a000001609d03d0f2f54eec64533a0363c4/120x90', '92x69': '//avatars.mds.yandex.net/get-verba/787013/2a000001609d03d0f2f54eec64533a0363c4/92x69', 'islandoff': '//avatars.mds.yandex.net/get-verba/787013/2a000001609d03d0f2f54eec64533a0363c4/islandoff', 'thumb_s': '//avatars.mds.yandex.net/get-verba/787013/2a000001609d03d0f2f54eec64533a0363c4/thumb_s', 'thumb_s_2x': '//avatars.mds.yandex.net/get-verba/787013/2a000001609d03d0f2f54eec64533a0363c4/thumb_s_2x'}}, {'name': '34-back', 'sizes': {'orig': '//avatars.mds.yandex.net/get-verba/787013/2a000001609ce386d74c59c3d65a1d657cab/orig', 'wizardv3mr': '//avatars.mds.yandex.net/get-verba/787013/2a000001609ce386d74c59c3d65a1d657cab/wizardv3mr', 'wizardv3': '//avatars.mds.yandex.net/get-verba/787013/2a000001609ce386d74c59c3d65a1d657cab/wizardv3', 'cattouch': '//avatars.mds.yandex.net/get-verba/787013/2a000001609ce386d74c59c3d65a1d657cab/cattouch', 'small': '//avatars.mds.yandex.net/get-verba/787013/2a000001609ce386d74c59c3d65a1d657cab/small', '320x240': '//avatars.mds.yandex.net/get-verba/787013/2a000001609ce386d74c59c3d65a1d657cab/320x240', '1200x900': '//avatars.mds.yandex.net/get-verba/787013/2a000001609ce386d74c59c3d65a1d657cab/1200x900', '1200x900n': '//avatars.mds.yandex.net/get-verba/787013/2a000001609ce386d74c59c3d65a1d657cab/1200x900n', 'thumb_m': '//avatars.mds.yandex.net/get-verba/787013/2a000001609ce386d74c59c3d65a1d657cab/thumb_m', 'full': '//avatars.mds.yandex.net/get-verba/787013/2a000001609ce386d74c59c3d65a1d657cab/full', '832x624': '//avatars.mds.yandex.net/get-verba/787013/2a000001609ce386d74c59c3d65a1d657cab/832x624', '456x342': '//avatars.mds.yandex.net/get-verba/787013/2a000001609ce386d74c59c3d65a1d657cab/456x342', '120x90': '//avatars.mds.yandex.net/get-verba/787013/2a000001609ce386d74c59c3d65a1d657cab/120x90', '92x69': '//avatars.mds.yandex.net/get-verba/787013/2a000001609ce386d74c59c3d65a1d657cab/92x69', 'islandoff': '//avatars.mds.yandex.net/get-verba/787013/2a000001609ce386d74c59c3d65a1d657cab/islandoff', 'thumb_s': '//avatars.mds.yandex.net/get-verba/787013/2a000001609ce386d74c59c3d65a1d657cab/thumb_s', 'thumb_s_2x': '//avatars.mds.yandex.net/get-verba/787013/2a000001609ce386d74c59c3d65a1d657cab/thumb_s_2x'}}, {'name': 'side', 'sizes': {'orig': '//avatars.mds.yandex.net/get-verba/787013/2a000001609d3e6aac7f658c2507e7fff50f/orig', 'wizardv3mr': '//avatars.mds.yandex.net/get-verba/787013/2a000001609d3e6aac7f658c2507e7fff50f/wizardv3mr', 'wizardv3': '//avatars.mds.yandex.net/get-verba/787013/2a000001609d3e6aac7f658c2507e7fff50f/wizardv3', 'cattouch': '//avatars.mds.yandex.net/get-verba/787013/2a000001609d3e6aac7f658c2507e7fff50f/cattouch', 'small': '//avatars.mds.yandex.net/get-verba/787013/2a000001609d3e6aac7f658c2507e7fff50f/small', '320x240': '//avatars.mds.yandex.net/get-verba/787013/2a000001609d3e6aac7f658c2507e7fff50f/320x240', '1200x900': '//avatars.mds.yandex.net/get-verba/787013/2a000001609d3e6aac7f658c2507e7fff50f/1200x900', '1200x900n': '//avatars.mds.yandex.net/get-verba/787013/2a000001609d3e6aac7f658c2507e7fff50f/1200x900n', 'thumb_m': '//avatars.mds.yandex.net/get-verba/787013/2a000001609d3e6aac7f658c2507e7fff50f/thumb_m', 'full': '//avatars.mds.yandex.net/get-verba/787013/2a000001609d3e6aac7f658c2507e7fff50f/full', '832x624': '//avatars.mds.yandex.net/get-verba/787013/2a000001609d3e6aac7f658c2507e7fff50f/832x624', '456x342': '//avatars.mds.yandex.net/get-verba/787013/2a000001609d3e6aac7f658c2507e7fff50f/456x342', '120x90': '//avatars.mds.yandex.net/get-verba/787013/2a000001609d3e6aac7f658c2507e7fff50f/120x90', '92x69': '//avatars.mds.yandex.net/get-verba/787013/2a000001609d3e6aac7f658c2507e7fff50f/92x69', 'islandoff': '//avatars.mds.yandex.net/get-verba/787013/2a000001609d3e6aac7f658c2507e7fff50f/islandoff', 'thumb_s': '//avatars.mds.yandex.net/get-verba/787013/2a000001609d3e6aac7f658c2507e7fff50f/thumb_s', 'thumb_s_2x': '//avatars.mds.yandex.net/get-verba/787013/2a000001609d3e6aac7f658c2507e7fff50f/thumb_s_2x'}}], 'main_color': False}]}\",\n",
       "       \"{'id': '7979583', 'name': 'Ambition', 'available_options': ['sport-seats', 'heated-wash-system', 'airbag-passenger', 'roof-rails', 'lock', 'electro-mirrors', 'mirrors-heat', 'start-stop-function', 'computer', 'seat-transformation', 'wheel-power', 'fabric-seats', 'airbag-side', 'abs', 'wheel-leather', 'esp', 'audiopreparation', 'electro-window-back', '16-inch-wheels', 'condition', 'airbag-driver', 'isofix', 'electro-window-front', 'airbag-curtain', 'ptf', 'audiosystem-cd', 'front-seats-heat', 'wheel-configuration2', 'wheel-configuration1', 'immo', 'third-rear-headrest']}\",\n",
       "       ...,\n",
       "       \"{'id': '2488771', 'name': 'Elegance', 'available_options': ['airbag-passenger', 'lock', 'electro-mirrors', 'mirrors-heat', 'leather', 'seat-transformation', 'wheel-power', 'airbag-side', 'abs', 'climate-control-1', 'audiopreparation', 'electro-window-back', 'condition', 'airbag-driver', 'electro-window-front', 'passenger-seat-electric', 'paint-metallic', 'front-seats-heat', 'immo']}\",\n",
       "       \"{'id': '10408082', 'name': 'Luxury', 'available_options': ['cruise-control', 'multi-wheel', 'airbag-passenger', 'roof-rails', 'lock', 'electro-mirrors', 'mirrors-heat', 'leather', 'seat-transformation', 'wheel-power', 'airbag-side', 'abs', 'wheel-leather', 'third-row-seats', 'climate-control-1', 'auto-mirrors', 'esp', 'usb', 'audiopreparation', 'electro-window-back', 'hatch', '17-inch-wheels', 'body-mouldings', 'wheel-heat', 'condition', 'park-assist-r', 'airbag-driver', 'isofix', 'electro-window-front', 'passenger-seat-electric', 'alarm', 'leather-gear-stick', 'ptf', 'rain-sensor', 'audiosystem-cd', 'front-seats-heat', 'bluetooth', 'wheel-configuration1', 'immo', 'third-rear-headrest'], 'vendor_colors': [{'body_color_id': 20620323, 'mark_color_id': 21391027, 'name_ru': 'Черный', 'color_type': 'METALLIC', 'stock_color': {'hex_code': '040001', 'name_ru': 'черный'}, 'photos': [{'name': '34-front', 'sizes': {'orig': '//avatars.mds.yandex.net/get-verba/787013/2a000001609b9d3b0fed7c022e8066cc29f6/orig', 'wizardv3mr': '//avatars.mds.yandex.net/get-verba/787013/2a000001609b9d3b0fed7c022e8066cc29f6/wizardv3mr', 'wizardv3': '//avatars.mds.yandex.net/get-verba/787013/2a000001609b9d3b0fed7c022e8066cc29f6/wizardv3', 'cattouch': '//avatars.mds.yandex.net/get-verba/787013/2a000001609b9d3b0fed7c022e8066cc29f6/cattouch', 'small': '//avatars.mds.yandex.net/get-verba/787013/2a000001609b9d3b0fed7c022e8066cc29f6/small', '320x240': '//avatars.mds.yandex.net/get-verba/787013/2a000001609b9d3b0fed7c022e8066cc29f6/320x240', '1200x900': '//avatars.mds.yandex.net/get-verba/787013/2a000001609b9d3b0fed7c022e8066cc29f6/1200x900', '1200x900n': '//avatars.mds.yandex.net/get-verba/787013/2a000001609b9d3b0fed7c022e8066cc29f6/1200x900n', 'thumb_m': '//avatars.mds.yandex.net/get-verba/787013/2a000001609b9d3b0fed7c022e8066cc29f6/thumb_m', 'full': '//avatars.mds.yandex.net/get-verba/787013/2a000001609b9d3b0fed7c022e8066cc29f6/full', '832x624': '//avatars.mds.yandex.net/get-verba/787013/2a000001609b9d3b0fed7c022e8066cc29f6/832x624', '456x342': '//avatars.mds.yandex.net/get-verba/787013/2a000001609b9d3b0fed7c022e8066cc29f6/456x342', '120x90': '//avatars.mds.yandex.net/get-verba/787013/2a000001609b9d3b0fed7c022e8066cc29f6/120x90', '92x69': '//avatars.mds.yandex.net/get-verba/787013/2a000001609b9d3b0fed7c022e8066cc29f6/92x69', 'islandoff': '//avatars.mds.yandex.net/get-verba/787013/2a000001609b9d3b0fed7c022e8066cc29f6/islandoff', 'thumb_s': '//avatars.mds.yandex.net/get-verba/787013/2a000001609b9d3b0fed7c022e8066cc29f6/thumb_s', 'thumb_s_2x': '//avatars.mds.yandex.net/get-verba/787013/2a000001609b9d3b0fed7c022e8066cc29f6/thumb_s_2x'}}, {'name': '34-back', 'sizes': {'orig': '//avatars.mds.yandex.net/get-verba/216201/2a000001609d32f4c1e1d35cfc0201ad00a4/orig', 'wizardv3mr': '//avatars.mds.yandex.net/get-verba/216201/2a000001609d32f4c1e1d35cfc0201ad00a4/wizardv3mr', 'wizardv3': '//avatars.mds.yandex.net/get-verba/216201/2a000001609d32f4c1e1d35cfc0201ad00a4/wizardv3', 'cattouch': '//avatars.mds.yandex.net/get-verba/216201/2a000001609d32f4c1e1d35cfc0201ad00a4/cattouch', 'small': '//avatars.mds.yandex.net/get-verba/216201/2a000001609d32f4c1e1d35cfc0201ad00a4/small', '320x240': '//avatars.mds.yandex.net/get-verba/216201/2a000001609d32f4c1e1d35cfc0201ad00a4/320x240', '1200x900': '//avatars.mds.yandex.net/get-verba/216201/2a000001609d32f4c1e1d35cfc0201ad00a4/1200x900', '1200x900n': '//avatars.mds.yandex.net/get-verba/216201/2a000001609d32f4c1e1d35cfc0201ad00a4/1200x900n', 'thumb_m': '//avatars.mds.yandex.net/get-verba/216201/2a000001609d32f4c1e1d35cfc0201ad00a4/thumb_m', 'full': '//avatars.mds.yandex.net/get-verba/216201/2a000001609d32f4c1e1d35cfc0201ad00a4/full', '832x624': '//avatars.mds.yandex.net/get-verba/216201/2a000001609d32f4c1e1d35cfc0201ad00a4/832x624', '456x342': '//avatars.mds.yandex.net/get-verba/216201/2a000001609d32f4c1e1d35cfc0201ad00a4/456x342', '120x90': '//avatars.mds.yandex.net/get-verba/216201/2a000001609d32f4c1e1d35cfc0201ad00a4/120x90', '92x69': '//avatars.mds.yandex.net/get-verba/216201/2a000001609d32f4c1e1d35cfc0201ad00a4/92x69', 'islandoff': '//avatars.mds.yandex.net/get-verba/216201/2a000001609d32f4c1e1d35cfc0201ad00a4/islandoff', 'thumb_s': '//avatars.mds.yandex.net/get-verba/216201/2a000001609d32f4c1e1d35cfc0201ad00a4/thumb_s', 'thumb_s_2x': '//avatars.mds.yandex.net/get-verba/216201/2a000001609d32f4c1e1d35cfc0201ad00a4/thumb_s_2x'}}, {'name': 'side', 'sizes': {'orig': '//avatars.mds.yandex.net/get-verba/1030388/2a000001609d63fdab1cf1c8a1ce75416f99/orig', 'wizardv3mr': '//avatars.mds.yandex.net/get-verba/1030388/2a000001609d63fdab1cf1c8a1ce75416f99/wizardv3mr', 'wizardv3': '//avatars.mds.yandex.net/get-verba/1030388/2a000001609d63fdab1cf1c8a1ce75416f99/wizardv3', 'cattouch': '//avatars.mds.yandex.net/get-verba/1030388/2a000001609d63fdab1cf1c8a1ce75416f99/cattouch', 'small': '//avatars.mds.yandex.net/get-verba/1030388/2a000001609d63fdab1cf1c8a1ce75416f99/small', '320x240': '//avatars.mds.yandex.net/get-verba/1030388/2a000001609d63fdab1cf1c8a1ce75416f99/320x240', '1200x900': '//avatars.mds.yandex.net/get-verba/1030388/2a000001609d63fdab1cf1c8a1ce75416f99/1200x900', '1200x900n': '//avatars.mds.yandex.net/get-verba/1030388/2a000001609d63fdab1cf1c8a1ce75416f99/1200x900n', 'thumb_m': '//avatars.mds.yandex.net/get-verba/1030388/2a000001609d63fdab1cf1c8a1ce75416f99/thumb_m', 'full': '//avatars.mds.yandex.net/get-verba/1030388/2a000001609d63fdab1cf1c8a1ce75416f99/full', '832x624': '//avatars.mds.yandex.net/get-verba/1030388/2a000001609d63fdab1cf1c8a1ce75416f99/832x624', '456x342': '//avatars.mds.yandex.net/get-verba/1030388/2a000001609d63fdab1cf1c8a1ce75416f99/456x342', '120x90': '//avatars.mds.yandex.net/get-verba/1030388/2a000001609d63fdab1cf1c8a1ce75416f99/120x90', '92x69': '//avatars.mds.yandex.net/get-verba/1030388/2a000001609d63fdab1cf1c8a1ce75416f99/92x69', 'islandoff': '//avatars.mds.yandex.net/get-verba/1030388/2a000001609d63fdab1cf1c8a1ce75416f99/islandoff', 'thumb_s': '//avatars.mds.yandex.net/get-verba/1030388/2a000001609d63fdab1cf1c8a1ce75416f99/thumb_s', 'thumb_s_2x': '//avatars.mds.yandex.net/get-verba/1030388/2a000001609d63fdab1cf1c8a1ce75416f99/thumb_s_2x'}}, {'name': 'front', 'sizes': {'orig': '//avatars.mds.yandex.net/get-verba/1030388/2a000001609d63aa0cb07fa1f9d21b569eb4/orig', 'wizardv3mr': '//avatars.mds.yandex.net/get-verba/1030388/2a000001609d63aa0cb07fa1f9d21b569eb4/wizardv3mr', 'wizardv3': '//avatars.mds.yandex.net/get-verba/1030388/2a000001609d63aa0cb07fa1f9d21b569eb4/wizardv3', 'cattouch': '//avatars.mds.yandex.net/get-verba/1030388/2a000001609d63aa0cb07fa1f9d21b569eb4/cattouch', 'small': '//avatars.mds.yandex.net/get-verba/1030388/2a000001609d63aa0cb07fa1f9d21b569eb4/small', '320x240': '//avatars.mds.yandex.net/get-verba/1030388/2a000001609d63aa0cb07fa1f9d21b569eb4/320x240', '1200x900': '//avatars.mds.yandex.net/get-verba/1030388/2a000001609d63aa0cb07fa1f9d21b569eb4/1200x900', '1200x900n': '//avatars.mds.yandex.net/get-verba/1030388/2a000001609d63aa0cb07fa1f9d21b569eb4/1200x900n', 'thumb_m': '//avatars.mds.yandex.net/get-verba/1030388/2a000001609d63aa0cb07fa1f9d21b569eb4/thumb_m', 'full': '//avatars.mds.yandex.net/get-verba/1030388/2a000001609d63aa0cb07fa1f9d21b569eb4/full', '832x624': '//avatars.mds.yandex.net/get-verba/1030388/2a000001609d63aa0cb07fa1f9d21b569eb4/832x624', '456x342': '//avatars.mds.yandex.net/get-verba/1030388/2a000001609d63aa0cb07fa1f9d21b569eb4/456x342', '120x90': '//avatars.mds.yandex.net/get-verba/1030388/2a000001609d63aa0cb07fa1f9d21b569eb4/120x90', '92x69': '//avatars.mds.yandex.net/get-verba/1030388/2a000001609d63aa0cb07fa1f9d21b569eb4/92x69', 'islandoff': '//avatars.mds.yandex.net/get-verba/1030388/2a000001609d63aa0cb07fa1f9d21b569eb4/islandoff', 'thumb_s': '//avatars.mds.yandex.net/get-verba/1030388/2a000001609d63aa0cb07fa1f9d21b569eb4/thumb_s', 'thumb_s_2x': '//avatars.mds.yandex.net/get-verba/1030388/2a000001609d63aa0cb07fa1f9d21b569eb4/thumb_s_2x'}}, {'name': 'back', 'sizes': {'orig': '//avatars.mds.yandex.net/get-verba/216201/2a000001609c14fca230bf0034d0503cdeb9/orig', 'wizardv3mr': '//avatars.mds.yandex.net/get-verba/216201/2a000001609c14fca230bf0034d0503cdeb9/wizardv3mr', 'wizardv3': '//avatars.mds.yandex.net/get-verba/216201/2a000001609c14fca230bf0034d0503cdeb9/wizardv3', 'cattouch': '//avatars.mds.yandex.net/get-verba/216201/2a000001609c14fca230bf0034d0503cdeb9/cattouch', 'small': '//avatars.mds.yandex.net/get-verba/216201/2a000001609c14fca230bf0034d0503cdeb9/small', '320x240': '//avatars.mds.yandex.net/get-verba/216201/2a000001609c14fca230bf0034d0503cdeb9/320x240', '1200x900': '//avatars.mds.yandex.net/get-verba/216201/2a000001609c14fca230bf0034d0503cdeb9/1200x900', '1200x900n': '//avatars.mds.yandex.net/get-verba/216201/2a000001609c14fca230bf0034d0503cdeb9/1200x900n', 'thumb_m': '//avatars.mds.yandex.net/get-verba/216201/2a000001609c14fca230bf0034d0503cdeb9/thumb_m', 'full': '//avatars.mds.yandex.net/get-verba/216201/2a000001609c14fca230bf0034d0503cdeb9/full', '832x624': '//avatars.mds.yandex.net/get-verba/216201/2a000001609c14fca230bf0034d0503cdeb9/832x624', '456x342': '//avatars.mds.yandex.net/get-verba/216201/2a000001609c14fca230bf0034d0503cdeb9/456x342', '120x90': '//avatars.mds.yandex.net/get-verba/216201/2a000001609c14fca230bf0034d0503cdeb9/120x90', '92x69': '//avatars.mds.yandex.net/get-verba/216201/2a000001609c14fca230bf0034d0503cdeb9/92x69', 'islandoff': '//avatars.mds.yandex.net/get-verba/216201/2a000001609c14fca230bf0034d0503cdeb9/islandoff', 'thumb_s': '//avatars.mds.yandex.net/get-verba/216201/2a000001609c14fca230bf0034d0503cdeb9/thumb_s', 'thumb_s_2x': '//avatars.mds.yandex.net/get-verba/216201/2a000001609c14fca230bf0034d0503cdeb9/thumb_s_2x'}}], 'main_color': False}]}\",\n",
       "       \"{'id': '10408081', 'name': 'Elegance', 'available_options': ['cruise-control', 'multi-wheel', 'airbag-passenger', 'roof-rails', 'lock', 'electro-mirrors', 'mirrors-heat', 'seat-transformation', 'wheel-power', 'fabric-seats', 'airbag-side', 'abs', 'wheel-leather', 'third-row-seats', 'climate-control-1', 'auto-mirrors', 'esp', 'usb', 'audiopreparation', 'electro-window-back', '17-inch-wheels', 'body-mouldings', 'wheel-heat', 'condition', 'park-assist-r', 'airbag-driver', 'isofix', 'electro-window-front', 'alarm', 'leather-gear-stick', 'ptf', 'rain-sensor', 'audiosystem-cd', 'front-seats-heat', 'bluetooth', 'wheel-configuration1', 'immo', 'third-rear-headrest'], 'vendor_colors': [{'body_color_id': 20620330, 'mark_color_id': 21391020, 'name_ru': 'Серый', 'color_type': 'METALLIC', 'stock_color': {'hex_code': '97948F', 'name_ru': 'серый'}, 'photos': [{'name': '34-front', 'sizes': {'orig': '//avatars.mds.yandex.net/get-verba/937147/2a000001609d0560d6a252f9023649f03306/orig', 'wizardv3mr': '//avatars.mds.yandex.net/get-verba/937147/2a000001609d0560d6a252f9023649f03306/wizardv3mr', 'wizardv3': '//avatars.mds.yandex.net/get-verba/937147/2a000001609d0560d6a252f9023649f03306/wizardv3', 'cattouch': '//avatars.mds.yandex.net/get-verba/937147/2a000001609d0560d6a252f9023649f03306/cattouch', 'small': '//avatars.mds.yandex.net/get-verba/937147/2a000001609d0560d6a252f9023649f03306/small', '320x240': '//avatars.mds.yandex.net/get-verba/937147/2a000001609d0560d6a252f9023649f03306/320x240', '1200x900': '//avatars.mds.yandex.net/get-verba/937147/2a000001609d0560d6a252f9023649f03306/1200x900', '1200x900n': '//avatars.mds.yandex.net/get-verba/937147/2a000001609d0560d6a252f9023649f03306/1200x900n', 'thumb_m': '//avatars.mds.yandex.net/get-verba/937147/2a000001609d0560d6a252f9023649f03306/thumb_m', 'full': '//avatars.mds.yandex.net/get-verba/937147/2a000001609d0560d6a252f9023649f03306/full', '832x624': '//avatars.mds.yandex.net/get-verba/937147/2a000001609d0560d6a252f9023649f03306/832x624', '456x342': '//avatars.mds.yandex.net/get-verba/937147/2a000001609d0560d6a252f9023649f03306/456x342', '120x90': '//avatars.mds.yandex.net/get-verba/937147/2a000001609d0560d6a252f9023649f03306/120x90', '92x69': '//avatars.mds.yandex.net/get-verba/937147/2a000001609d0560d6a252f9023649f03306/92x69', 'islandoff': '//avatars.mds.yandex.net/get-verba/937147/2a000001609d0560d6a252f9023649f03306/islandoff', 'thumb_s': '//avatars.mds.yandex.net/get-verba/937147/2a000001609d0560d6a252f9023649f03306/thumb_s', 'thumb_s_2x': '//avatars.mds.yandex.net/get-verba/937147/2a000001609d0560d6a252f9023649f03306/thumb_s_2x'}}, {'name': '34-back', 'sizes': {'orig': '//avatars.mds.yandex.net/get-verba/787013/2a000001609cf51a968fb7eb8de0d4274862/orig', 'wizardv3mr': '//avatars.mds.yandex.net/get-verba/787013/2a000001609cf51a968fb7eb8de0d4274862/wizardv3mr', 'wizardv3': '//avatars.mds.yandex.net/get-verba/787013/2a000001609cf51a968fb7eb8de0d4274862/wizardv3', 'cattouch': '//avatars.mds.yandex.net/get-verba/787013/2a000001609cf51a968fb7eb8de0d4274862/cattouch', 'small': '//avatars.mds.yandex.net/get-verba/787013/2a000001609cf51a968fb7eb8de0d4274862/small', '320x240': '//avatars.mds.yandex.net/get-verba/787013/2a000001609cf51a968fb7eb8de0d4274862/320x240', '1200x900': '//avatars.mds.yandex.net/get-verba/787013/2a000001609cf51a968fb7eb8de0d4274862/1200x900', '1200x900n': '//avatars.mds.yandex.net/get-verba/787013/2a000001609cf51a968fb7eb8de0d4274862/1200x900n', 'thumb_m': '//avatars.mds.yandex.net/get-verba/787013/2a000001609cf51a968fb7eb8de0d4274862/thumb_m', 'full': '//avatars.mds.yandex.net/get-verba/787013/2a000001609cf51a968fb7eb8de0d4274862/full', '832x624': '//avatars.mds.yandex.net/get-verba/787013/2a000001609cf51a968fb7eb8de0d4274862/832x624', '456x342': '//avatars.mds.yandex.net/get-verba/787013/2a000001609cf51a968fb7eb8de0d4274862/456x342', '120x90': '//avatars.mds.yandex.net/get-verba/787013/2a000001609cf51a968fb7eb8de0d4274862/120x90', '92x69': '//avatars.mds.yandex.net/get-verba/787013/2a000001609cf51a968fb7eb8de0d4274862/92x69', 'islandoff': '//avatars.mds.yandex.net/get-verba/787013/2a000001609cf51a968fb7eb8de0d4274862/islandoff', 'thumb_s': '//avatars.mds.yandex.net/get-verba/787013/2a000001609cf51a968fb7eb8de0d4274862/thumb_s', 'thumb_s_2x': '//avatars.mds.yandex.net/get-verba/787013/2a000001609cf51a968fb7eb8de0d4274862/thumb_s_2x'}}, {'name': 'side', 'sizes': {'orig': '//avatars.mds.yandex.net/get-verba/937147/2a000001609cee869ba847d0c2b9a88e0bb1/orig', 'wizardv3mr': '//avatars.mds.yandex.net/get-verba/937147/2a000001609cee869ba847d0c2b9a88e0bb1/wizardv3mr', 'wizardv3': '//avatars.mds.yandex.net/get-verba/937147/2a000001609cee869ba847d0c2b9a88e0bb1/wizardv3', 'cattouch': '//avatars.mds.yandex.net/get-verba/937147/2a000001609cee869ba847d0c2b9a88e0bb1/cattouch', 'small': '//avatars.mds.yandex.net/get-verba/937147/2a000001609cee869ba847d0c2b9a88e0bb1/small', '320x240': '//avatars.mds.yandex.net/get-verba/937147/2a000001609cee869ba847d0c2b9a88e0bb1/320x240', '1200x900': '//avatars.mds.yandex.net/get-verba/937147/2a000001609cee869ba847d0c2b9a88e0bb1/1200x900', '1200x900n': '//avatars.mds.yandex.net/get-verba/937147/2a000001609cee869ba847d0c2b9a88e0bb1/1200x900n', 'thumb_m': '//avatars.mds.yandex.net/get-verba/937147/2a000001609cee869ba847d0c2b9a88e0bb1/thumb_m', 'full': '//avatars.mds.yandex.net/get-verba/937147/2a000001609cee869ba847d0c2b9a88e0bb1/full', '832x624': '//avatars.mds.yandex.net/get-verba/937147/2a000001609cee869ba847d0c2b9a88e0bb1/832x624', '456x342': '//avatars.mds.yandex.net/get-verba/937147/2a000001609cee869ba847d0c2b9a88e0bb1/456x342', '120x90': '//avatars.mds.yandex.net/get-verba/937147/2a000001609cee869ba847d0c2b9a88e0bb1/120x90', '92x69': '//avatars.mds.yandex.net/get-verba/937147/2a000001609cee869ba847d0c2b9a88e0bb1/92x69', 'islandoff': '//avatars.mds.yandex.net/get-verba/937147/2a000001609cee869ba847d0c2b9a88e0bb1/islandoff', 'thumb_s': '//avatars.mds.yandex.net/get-verba/937147/2a000001609cee869ba847d0c2b9a88e0bb1/thumb_s', 'thumb_s_2x': '//avatars.mds.yandex.net/get-verba/937147/2a000001609cee869ba847d0c2b9a88e0bb1/thumb_s_2x'}}, {'name': 'front', 'sizes': {'orig': '//avatars.mds.yandex.net/get-verba/787013/2a000001609d6fc464907be5afdb3c7a59e4/orig', 'wizardv3mr': '//avatars.mds.yandex.net/get-verba/787013/2a000001609d6fc464907be5afdb3c7a59e4/wizardv3mr', 'wizardv3': '//avatars.mds.yandex.net/get-verba/787013/2a000001609d6fc464907be5afdb3c7a59e4/wizardv3', 'cattouch': '//avatars.mds.yandex.net/get-verba/787013/2a000001609d6fc464907be5afdb3c7a59e4/cattouch', 'small': '//avatars.mds.yandex.net/get-verba/787013/2a000001609d6fc464907be5afdb3c7a59e4/small', '320x240': '//avatars.mds.yandex.net/get-verba/787013/2a000001609d6fc464907be5afdb3c7a59e4/320x240', '1200x900': '//avatars.mds.yandex.net/get-verba/787013/2a000001609d6fc464907be5afdb3c7a59e4/1200x900', '1200x900n': '//avatars.mds.yandex.net/get-verba/787013/2a000001609d6fc464907be5afdb3c7a59e4/1200x900n', 'thumb_m': '//avatars.mds.yandex.net/get-verba/787013/2a000001609d6fc464907be5afdb3c7a59e4/thumb_m', 'full': '//avatars.mds.yandex.net/get-verba/787013/2a000001609d6fc464907be5afdb3c7a59e4/full', '832x624': '//avatars.mds.yandex.net/get-verba/787013/2a000001609d6fc464907be5afdb3c7a59e4/832x624', '456x342': '//avatars.mds.yandex.net/get-verba/787013/2a000001609d6fc464907be5afdb3c7a59e4/456x342', '120x90': '//avatars.mds.yandex.net/get-verba/787013/2a000001609d6fc464907be5afdb3c7a59e4/120x90', '92x69': '//avatars.mds.yandex.net/get-verba/787013/2a000001609d6fc464907be5afdb3c7a59e4/92x69', 'islandoff': '//avatars.mds.yandex.net/get-verba/787013/2a000001609d6fc464907be5afdb3c7a59e4/islandoff', 'thumb_s': '//avatars.mds.yandex.net/get-verba/787013/2a000001609d6fc464907be5afdb3c7a59e4/thumb_s', 'thumb_s_2x': '//avatars.mds.yandex.net/get-verba/787013/2a000001609d6fc464907be5afdb3c7a59e4/thumb_s_2x'}}, {'name': 'back', 'sizes': {'orig': '//avatars.mds.yandex.net/get-verba/787013/2a000001609c8fbc45bac94df7e63f23f60f/orig', 'wizardv3mr': '//avatars.mds.yandex.net/get-verba/787013/2a000001609c8fbc45bac94df7e63f23f60f/wizardv3mr', 'wizardv3': '//avatars.mds.yandex.net/get-verba/787013/2a000001609c8fbc45bac94df7e63f23f60f/wizardv3', 'cattouch': '//avatars.mds.yandex.net/get-verba/787013/2a000001609c8fbc45bac94df7e63f23f60f/cattouch', 'small': '//avatars.mds.yandex.net/get-verba/787013/2a000001609c8fbc45bac94df7e63f23f60f/small', '320x240': '//avatars.mds.yandex.net/get-verba/787013/2a000001609c8fbc45bac94df7e63f23f60f/320x240', '1200x900': '//avatars.mds.yandex.net/get-verba/787013/2a000001609c8fbc45bac94df7e63f23f60f/1200x900', '1200x900n': '//avatars.mds.yandex.net/get-verba/787013/2a000001609c8fbc45bac94df7e63f23f60f/1200x900n', 'thumb_m': '//avatars.mds.yandex.net/get-verba/787013/2a000001609c8fbc45bac94df7e63f23f60f/thumb_m', 'full': '//avatars.mds.yandex.net/get-verba/787013/2a000001609c8fbc45bac94df7e63f23f60f/full', '832x624': '//avatars.mds.yandex.net/get-verba/787013/2a000001609c8fbc45bac94df7e63f23f60f/832x624', '456x342': '//avatars.mds.yandex.net/get-verba/787013/2a000001609c8fbc45bac94df7e63f23f60f/456x342', '120x90': '//avatars.mds.yandex.net/get-verba/787013/2a000001609c8fbc45bac94df7e63f23f60f/120x90', '92x69': '//avatars.mds.yandex.net/get-verba/787013/2a000001609c8fbc45bac94df7e63f23f60f/92x69', 'islandoff': '//avatars.mds.yandex.net/get-verba/787013/2a000001609c8fbc45bac94df7e63f23f60f/islandoff', 'thumb_s': '//avatars.mds.yandex.net/get-verba/787013/2a000001609c8fbc45bac94df7e63f23f60f/thumb_s', 'thumb_s_2x': '//avatars.mds.yandex.net/get-verba/787013/2a000001609c8fbc45bac94df7e63f23f60f/thumb_s_2x'}}], 'main_color': False}]}\"],\n",
       "      dtype=object)"
      ]
     },
     "execution_count": 78,
     "metadata": {},
     "output_type": "execute_result"
    }
   ],
   "source": [
    "df['Комплектация'].unique()"
   ]
  },
  {
   "cell_type": "markdown",
   "id": "a65214bc",
   "metadata": {},
   "source": [
    "Интерпретировать данный столбец тяжело из-за большого количества информации в нем. Однако можно предположить, что длина строки может влиять на цену, так как чем выше параметры комплектации, тем дороже автомобиль. Введем новый столбец с длиной словаря каждой строки"
   ]
  },
  {
   "cell_type": "code",
   "execution_count": 79,
   "id": "62580617",
   "metadata": {},
   "outputs": [],
   "source": [
    "df['equipment'] = df['Комплектация'].apply(eval).apply(len)"
   ]
  },
  {
   "cell_type": "code",
   "execution_count": 80,
   "id": "49370058",
   "metadata": {},
   "outputs": [
    {
     "data": {
      "text/plain": [
       "0        1\n",
       "2        1\n",
       "3        1\n",
       "4        1\n",
       "5        1\n",
       "        ..\n",
       "89373    1\n",
       "89374    1\n",
       "89375    4\n",
       "89376    4\n",
       "89377    1\n",
       "Name: equipment, Length: 86863, dtype: int64"
      ]
     },
     "execution_count": 80,
     "metadata": {},
     "output_type": "execute_result"
    }
   ],
   "source": [
    "df['equipment']"
   ]
  },
  {
   "cell_type": "markdown",
   "id": "3f9eee1a",
   "metadata": {},
   "source": [
    "Поситаем коэффициент корреляции нового столбца и цены"
   ]
  },
  {
   "cell_type": "code",
   "execution_count": 81,
   "id": "5ef2eefc",
   "metadata": {},
   "outputs": [
    {
     "data": {
      "text/plain": [
       "0.5022418475888538"
      ]
     },
     "execution_count": 81,
     "metadata": {},
     "output_type": "execute_result"
    }
   ],
   "source": [
    "np.corrcoef(df['equipment'], df['price'])[0, 1]"
   ]
  },
  {
   "cell_type": "markdown",
   "id": "5ad1cbff",
   "metadata": {},
   "source": [
    "### Столбец 'Привод'"
   ]
  },
  {
   "cell_type": "markdown",
   "id": "e164ba7e",
   "metadata": {},
   "source": [
    "Данный столбец содержит информацию о приводе автомобилей"
   ]
  },
  {
   "cell_type": "code",
   "execution_count": 82,
   "id": "35e025e3",
   "metadata": {},
   "outputs": [
    {
     "data": {
      "text/plain": [
       "0          полный\n",
       "2          полный\n",
       "3        передний\n",
       "4        передний\n",
       "5        передний\n",
       "           ...   \n",
       "89373      полный\n",
       "89374      полный\n",
       "89375      полный\n",
       "89376      полный\n",
       "89377      полный\n",
       "Name: Привод, Length: 86863, dtype: object"
      ]
     },
     "execution_count": 82,
     "metadata": {},
     "output_type": "execute_result"
    }
   ],
   "source": [
    "df['Привод']"
   ]
  },
  {
   "cell_type": "markdown",
   "id": "d3852060",
   "metadata": {},
   "source": [
    "Выведем количество значений NaN"
   ]
  },
  {
   "cell_type": "code",
   "execution_count": 83,
   "id": "8ea07957",
   "metadata": {},
   "outputs": [
    {
     "data": {
      "text/plain": [
       "0"
      ]
     },
     "execution_count": 83,
     "metadata": {},
     "output_type": "execute_result"
    }
   ],
   "source": [
    "df['Привод'].isna().sum()"
   ]
  },
  {
   "cell_type": "markdown",
   "id": "655d4312",
   "metadata": {},
   "source": [
    "Выведем все уникальные значения для данного столбца"
   ]
  },
  {
   "cell_type": "code",
   "execution_count": 84,
   "id": "c80dd82d",
   "metadata": {},
   "outputs": [
    {
     "data": {
      "text/plain": [
       "array(['полный', 'передний', 'задний'], dtype=object)"
      ]
     },
     "execution_count": 84,
     "metadata": {},
     "output_type": "execute_result"
    }
   ],
   "source": [
    "df['Привод'].unique()"
   ]
  },
  {
   "cell_type": "markdown",
   "id": "a3e993e4",
   "metadata": {},
   "source": [
    "### Столбец 'Руль'"
   ]
  },
  {
   "cell_type": "markdown",
   "id": "b83e86ce",
   "metadata": {},
   "source": [
    "Данный столбец содержит информацию о расположении руля автомобилей"
   ]
  },
  {
   "cell_type": "code",
   "execution_count": 85,
   "id": "1950435c",
   "metadata": {},
   "outputs": [
    {
     "data": {
      "text/plain": [
       "0        LEFT\n",
       "2        LEFT\n",
       "3        LEFT\n",
       "4        LEFT\n",
       "5        LEFT\n",
       "         ... \n",
       "89373    LEFT\n",
       "89374    LEFT\n",
       "89375    LEFT\n",
       "89376    LEFT\n",
       "89377    LEFT\n",
       "Name: Руль, Length: 86863, dtype: object"
      ]
     },
     "execution_count": 85,
     "metadata": {},
     "output_type": "execute_result"
    }
   ],
   "source": [
    "df['Руль']"
   ]
  },
  {
   "cell_type": "markdown",
   "id": "9b57805f",
   "metadata": {},
   "source": [
    "Выведем количество значений NaN"
   ]
  },
  {
   "cell_type": "code",
   "execution_count": 86,
   "id": "65000e90",
   "metadata": {},
   "outputs": [
    {
     "data": {
      "text/plain": [
       "0"
      ]
     },
     "execution_count": 86,
     "metadata": {},
     "output_type": "execute_result"
    }
   ],
   "source": [
    "df['Руль'].isna().sum()"
   ]
  },
  {
   "cell_type": "markdown",
   "id": "cfbd6750",
   "metadata": {},
   "source": [
    "Выведем все уникальные значения для данного столбца"
   ]
  },
  {
   "cell_type": "code",
   "execution_count": 87,
   "id": "318e4f2f",
   "metadata": {},
   "outputs": [
    {
     "data": {
      "text/plain": [
       "array(['LEFT', 'RIGHT'], dtype=object)"
      ]
     },
     "execution_count": 87,
     "metadata": {},
     "output_type": "execute_result"
    }
   ],
   "source": [
    "df['Руль'].unique()"
   ]
  },
  {
   "cell_type": "markdown",
   "id": "18fa7fd8",
   "metadata": {},
   "source": [
    "### Столбец 'Владельцы'"
   ]
  },
  {
   "cell_type": "markdown",
   "id": "1f0976dc",
   "metadata": {},
   "source": [
    "Данный столбец содержит информацию о количесвте владельцев автомобилей"
   ]
  },
  {
   "cell_type": "code",
   "execution_count": 88,
   "id": "c8b7850b",
   "metadata": {},
   "outputs": [
    {
     "data": {
      "text/plain": [
       "0        3.0\n",
       "2        3.0\n",
       "3        3.0\n",
       "4        3.0\n",
       "5        3.0\n",
       "        ... \n",
       "89373    3.0\n",
       "89374    3.0\n",
       "89375    1.0\n",
       "89376    3.0\n",
       "89377    2.0\n",
       "Name: Владельцы, Length: 86863, dtype: float64"
      ]
     },
     "execution_count": 88,
     "metadata": {},
     "output_type": "execute_result"
    }
   ],
   "source": [
    "df['Владельцы']"
   ]
  },
  {
   "cell_type": "markdown",
   "id": "8966196b",
   "metadata": {},
   "source": [
    "Выведем количество значений NaN"
   ]
  },
  {
   "cell_type": "code",
   "execution_count": 89,
   "id": "ae7aedc9",
   "metadata": {},
   "outputs": [
    {
     "data": {
      "text/plain": [
       "13325"
      ]
     },
     "execution_count": 89,
     "metadata": {},
     "output_type": "execute_result"
    }
   ],
   "source": [
    "df['Владельцы'].isna().sum()"
   ]
  },
  {
   "cell_type": "markdown",
   "id": "38263825",
   "metadata": {},
   "source": [
    "Видно, что большое количество имеет значения NaN"
   ]
  },
  {
   "cell_type": "code",
   "execution_count": 90,
   "id": "429dd462",
   "metadata": {},
   "outputs": [
    {
     "data": {
      "text/html": [
       "<div>\n",
       "<style scoped>\n",
       "    .dataframe tbody tr th:only-of-type {\n",
       "        vertical-align: middle;\n",
       "    }\n",
       "\n",
       "    .dataframe tbody tr th {\n",
       "        vertical-align: top;\n",
       "    }\n",
       "\n",
       "    .dataframe thead th {\n",
       "        text-align: right;\n",
       "    }\n",
       "</style>\n",
       "<table border=\"1\" class=\"dataframe\">\n",
       "  <thead>\n",
       "    <tr style=\"text-align: right;\">\n",
       "      <th></th>\n",
       "      <th>bodyType</th>\n",
       "      <th>brand</th>\n",
       "      <th>color</th>\n",
       "      <th>fuelType</th>\n",
       "      <th>modelDate</th>\n",
       "      <th>name</th>\n",
       "      <th>numberOfDoors</th>\n",
       "      <th>productionDate</th>\n",
       "      <th>vehicleConfiguration</th>\n",
       "      <th>vehicleTransmission</th>\n",
       "      <th>...</th>\n",
       "      <th>Руль</th>\n",
       "      <th>Владельцы</th>\n",
       "      <th>ПТС</th>\n",
       "      <th>Таможня</th>\n",
       "      <th>Владение</th>\n",
       "      <th>price</th>\n",
       "      <th>start_date</th>\n",
       "      <th>model</th>\n",
       "      <th>description_len</th>\n",
       "      <th>equipment</th>\n",
       "    </tr>\n",
       "  </thead>\n",
       "  <tbody>\n",
       "    <tr>\n",
       "      <th>332</th>\n",
       "      <td>Седан</td>\n",
       "      <td>AUDI</td>\n",
       "      <td>97948F</td>\n",
       "      <td>бензин</td>\n",
       "      <td>2016.0</td>\n",
       "      <td>1.4 AMT (150 л.с.)</td>\n",
       "      <td>4.0</td>\n",
       "      <td>2020</td>\n",
       "      <td>SEDAN ROBOT 1.4</td>\n",
       "      <td>ROBOT</td>\n",
       "      <td>...</td>\n",
       "      <td>LEFT</td>\n",
       "      <td>NaN</td>\n",
       "      <td>ORIGINAL</td>\n",
       "      <td>True</td>\n",
       "      <td>NaN</td>\n",
       "      <td>1885400.0</td>\n",
       "      <td>2020-08-10T18:16:24Z</td>\n",
       "      <td>A3</td>\n",
       "      <td>2818.0</td>\n",
       "      <td>4</td>\n",
       "    </tr>\n",
       "    <tr>\n",
       "      <th>333</th>\n",
       "      <td>Седан</td>\n",
       "      <td>AUDI</td>\n",
       "      <td>CACECB</td>\n",
       "      <td>бензин</td>\n",
       "      <td>2016.0</td>\n",
       "      <td>1.4 AMT (150 л.с.)</td>\n",
       "      <td>4.0</td>\n",
       "      <td>2020</td>\n",
       "      <td>SEDAN ROBOT 1.4</td>\n",
       "      <td>ROBOT</td>\n",
       "      <td>...</td>\n",
       "      <td>LEFT</td>\n",
       "      <td>NaN</td>\n",
       "      <td>ORIGINAL</td>\n",
       "      <td>True</td>\n",
       "      <td>NaN</td>\n",
       "      <td>1885400.0</td>\n",
       "      <td>2020-08-10T18:16:24Z</td>\n",
       "      <td>A3</td>\n",
       "      <td>2818.0</td>\n",
       "      <td>4</td>\n",
       "    </tr>\n",
       "    <tr>\n",
       "      <th>336</th>\n",
       "      <td>Седан</td>\n",
       "      <td>AUDI</td>\n",
       "      <td>0000CC</td>\n",
       "      <td>бензин</td>\n",
       "      <td>2016.0</td>\n",
       "      <td>1.4 AMT (150 л.с.)</td>\n",
       "      <td>4.0</td>\n",
       "      <td>2020</td>\n",
       "      <td>SEDAN ROBOT 1.4</td>\n",
       "      <td>ROBOT</td>\n",
       "      <td>...</td>\n",
       "      <td>LEFT</td>\n",
       "      <td>NaN</td>\n",
       "      <td>ORIGINAL</td>\n",
       "      <td>True</td>\n",
       "      <td>NaN</td>\n",
       "      <td>1885400.0</td>\n",
       "      <td>2020-08-04T16:44:36Z</td>\n",
       "      <td>A3</td>\n",
       "      <td>2643.0</td>\n",
       "      <td>4</td>\n",
       "    </tr>\n",
       "    <tr>\n",
       "      <th>339</th>\n",
       "      <td>Седан</td>\n",
       "      <td>AUDI</td>\n",
       "      <td>0000CC</td>\n",
       "      <td>бензин</td>\n",
       "      <td>2016.0</td>\n",
       "      <td>1.4 AMT (150 л.с.)</td>\n",
       "      <td>4.0</td>\n",
       "      <td>2020</td>\n",
       "      <td>SEDAN ROBOT 1.4</td>\n",
       "      <td>ROBOT</td>\n",
       "      <td>...</td>\n",
       "      <td>LEFT</td>\n",
       "      <td>NaN</td>\n",
       "      <td>ORIGINAL</td>\n",
       "      <td>True</td>\n",
       "      <td>NaN</td>\n",
       "      <td>2016000.0</td>\n",
       "      <td>2020-08-01T03:19:03Z</td>\n",
       "      <td>A3</td>\n",
       "      <td>6295.0</td>\n",
       "      <td>4</td>\n",
       "    </tr>\n",
       "    <tr>\n",
       "      <th>342</th>\n",
       "      <td>Седан</td>\n",
       "      <td>AUDI</td>\n",
       "      <td>97948F</td>\n",
       "      <td>бензин</td>\n",
       "      <td>2016.0</td>\n",
       "      <td>1.4 AMT (150 л.с.)</td>\n",
       "      <td>4.0</td>\n",
       "      <td>2020</td>\n",
       "      <td>SEDAN ROBOT 1.4</td>\n",
       "      <td>ROBOT</td>\n",
       "      <td>...</td>\n",
       "      <td>LEFT</td>\n",
       "      <td>NaN</td>\n",
       "      <td>ORIGINAL</td>\n",
       "      <td>True</td>\n",
       "      <td>NaN</td>\n",
       "      <td>1946000.0</td>\n",
       "      <td>2020-08-01T03:19:03Z</td>\n",
       "      <td>A3</td>\n",
       "      <td>5943.0</td>\n",
       "      <td>4</td>\n",
       "    </tr>\n",
       "  </tbody>\n",
       "</table>\n",
       "<p>5 rows × 26 columns</p>\n",
       "</div>"
      ],
      "text/plain": [
       "    bodyType brand   color fuelType  modelDate                name  \\\n",
       "332    Седан  AUDI  97948F   бензин     2016.0  1.4 AMT (150 л.с.)   \n",
       "333    Седан  AUDI  CACECB   бензин     2016.0  1.4 AMT (150 л.с.)   \n",
       "336    Седан  AUDI  0000CC   бензин     2016.0  1.4 AMT (150 л.с.)   \n",
       "339    Седан  AUDI  0000CC   бензин     2016.0  1.4 AMT (150 л.с.)   \n",
       "342    Седан  AUDI  97948F   бензин     2016.0  1.4 AMT (150 л.с.)   \n",
       "\n",
       "     numberOfDoors  productionDate vehicleConfiguration vehicleTransmission  \\\n",
       "332            4.0            2020      SEDAN ROBOT 1.4               ROBOT   \n",
       "333            4.0            2020      SEDAN ROBOT 1.4               ROBOT   \n",
       "336            4.0            2020      SEDAN ROBOT 1.4               ROBOT   \n",
       "339            4.0            2020      SEDAN ROBOT 1.4               ROBOT   \n",
       "342            4.0            2020      SEDAN ROBOT 1.4               ROBOT   \n",
       "\n",
       "     ...  Руль  Владельцы       ПТС  Таможня Владение      price  \\\n",
       "332  ...  LEFT        NaN  ORIGINAL     True      NaN  1885400.0   \n",
       "333  ...  LEFT        NaN  ORIGINAL     True      NaN  1885400.0   \n",
       "336  ...  LEFT        NaN  ORIGINAL     True      NaN  1885400.0   \n",
       "339  ...  LEFT        NaN  ORIGINAL     True      NaN  2016000.0   \n",
       "342  ...  LEFT        NaN  ORIGINAL     True      NaN  1946000.0   \n",
       "\n",
       "               start_date  model description_len  equipment  \n",
       "332  2020-08-10T18:16:24Z     A3          2818.0          4  \n",
       "333  2020-08-10T18:16:24Z     A3          2818.0          4  \n",
       "336  2020-08-04T16:44:36Z     A3          2643.0          4  \n",
       "339  2020-08-01T03:19:03Z     A3          6295.0          4  \n",
       "342  2020-08-01T03:19:03Z     A3          5943.0          4  \n",
       "\n",
       "[5 rows x 26 columns]"
      ]
     },
     "execution_count": 90,
     "metadata": {},
     "output_type": "execute_result"
    }
   ],
   "source": [
    "df[df['Владельцы'].isna()].head()"
   ]
  },
  {
   "cell_type": "markdown",
   "id": "d7fba934",
   "metadata": {},
   "source": [
    "Выведем количество автомобилей для каждого года выпуска, которые имеют значения NaN"
   ]
  },
  {
   "cell_type": "code",
   "execution_count": 91,
   "id": "8ab6a712",
   "metadata": {},
   "outputs": [
    {
     "name": "stdout",
     "output_type": "stream",
     "text": [
      "Количество автомобилей без указания количества владельцев для автомобилей 2020 года: 12101\n",
      "Количество автомобилей без указания количества владельцев для автомобилей 2019 года: 1149\n",
      "Количество автомобилей без указания количества владельцев для автомобилей 2018 года: 74\n",
      "Количество автомобилей без указания количества владельцев для автомобилей 2017 года: 1\n"
     ]
    }
   ],
   "source": [
    "for i in df[df['Владельцы'].isna()]['productionDate'].unique():\n",
    "    print('Количество автомобилей без указания количества владельцев для автомобилей {} года:'.format(i), df.loc[((df['Владельцы'].isna()) & (df['productionDate'] == i))].shape[0])"
   ]
  },
  {
   "cell_type": "markdown",
   "id": "e39caa22",
   "metadata": {},
   "source": [
    "Видно, что такие значения имеют новые автомобили. Учитывая это, мы можеи предположить, что эти автомобили никогда не имели владельцев и заменим пропуски нулями"
   ]
  },
  {
   "cell_type": "code",
   "execution_count": 92,
   "id": "3fb92f08",
   "metadata": {},
   "outputs": [],
   "source": [
    "df['Владельцы'] = df['Владельцы'].fillna(0)"
   ]
  },
  {
   "cell_type": "code",
   "execution_count": 93,
   "id": "0836145b",
   "metadata": {},
   "outputs": [
    {
     "data": {
      "text/plain": [
       "0"
      ]
     },
     "execution_count": 93,
     "metadata": {},
     "output_type": "execute_result"
    }
   ],
   "source": [
    "df['Владельцы'].isna().sum()"
   ]
  },
  {
   "cell_type": "markdown",
   "id": "88a490e1",
   "metadata": {},
   "source": [
    "Построем график распределения для количесвта владельцев автомобилей"
   ]
  },
  {
   "cell_type": "code",
   "execution_count": 94,
   "id": "fdb6c68d",
   "metadata": {},
   "outputs": [
    {
     "data": {
      "image/png": "[encoded data removed]",
      "text/plain": [
       "<Figure size 720x432 with 1 Axes>"
      ]
     },
     "metadata": {},
     "output_type": "display_data"
    }
   ],
   "source": [
    "sns.set_style('whitegrid')\n",
    "fig, ax = plt.subplots(figsize=(10, 6))\n",
    "\n",
    "sns.histplot(x=df['Владельцы'], ax=ax, kde=False, color='#4c72b0', binwidth=1)\n",
    "ax.set_xlabel('Количество владельцев', fontsize=12)\n",
    "ax.set_ylabel('Количество', fontsize=12)\n",
    "ax.set_title('Распределение количества владельцев автомобилей', fontsize=18, color='#c44e52')\n",
    "ax.tick_params(axis='both', labelsize=10)\n",
    "\n",
    "plt.show()"
   ]
  },
  {
   "cell_type": "markdown",
   "id": "6c15aff5",
   "metadata": {},
   "source": [
    "### Столбец 'ПТС'"
   ]
  },
  {
   "cell_type": "markdown",
   "id": "57e35bfd",
   "metadata": {},
   "source": [
    "Данный столбец содержит информацию о ПТС автомобилей"
   ]
  },
  {
   "cell_type": "code",
   "execution_count": 95,
   "id": "7f74a08b",
   "metadata": {},
   "outputs": [
    {
     "data": {
      "text/plain": [
       "0         ORIGINAL\n",
       "2         ORIGINAL\n",
       "3         ORIGINAL\n",
       "4        DUPLICATE\n",
       "5         ORIGINAL\n",
       "           ...    \n",
       "89373     ORIGINAL\n",
       "89374     ORIGINAL\n",
       "89375     ORIGINAL\n",
       "89376     ORIGINAL\n",
       "89377     ORIGINAL\n",
       "Name: ПТС, Length: 86863, dtype: object"
      ]
     },
     "execution_count": 95,
     "metadata": {},
     "output_type": "execute_result"
    }
   ],
   "source": [
    "df['ПТС']"
   ]
  },
  {
   "cell_type": "markdown",
   "id": "86a90f06",
   "metadata": {},
   "source": [
    "Выведем количество значений NaN"
   ]
  },
  {
   "cell_type": "code",
   "execution_count": 96,
   "id": "d7cb444e",
   "metadata": {},
   "outputs": [
    {
     "data": {
      "text/plain": [
       "345"
      ]
     },
     "execution_count": 96,
     "metadata": {},
     "output_type": "execute_result"
    }
   ],
   "source": [
    "df['ПТС'].isna().sum()"
   ]
  },
  {
   "cell_type": "markdown",
   "id": "0bcd387b",
   "metadata": {},
   "source": [
    "Так как данный столбец имеет маленькое количество пропусков, то мы можем заменить его на моду без вреда для датасета"
   ]
  },
  {
   "cell_type": "code",
   "execution_count": 97,
   "id": "f6be7009",
   "metadata": {},
   "outputs": [],
   "source": [
    "df['ПТС'] = df['ПТС'].fillna(0)"
   ]
  },
  {
   "cell_type": "code",
   "execution_count": 98,
   "id": "9778a81d",
   "metadata": {},
   "outputs": [
    {
     "data": {
      "text/plain": [
       "0"
      ]
     },
     "execution_count": 98,
     "metadata": {},
     "output_type": "execute_result"
    }
   ],
   "source": [
    "df['ПТС'].isna().sum()"
   ]
  },
  {
   "cell_type": "markdown",
   "id": "9c1d7a30",
   "metadata": {},
   "source": [
    "Выведем уникальные значения для данного столбца"
   ]
  },
  {
   "cell_type": "code",
   "execution_count": 99,
   "id": "fa27666d",
   "metadata": {},
   "outputs": [
    {
     "data": {
      "text/plain": [
       "array(['ORIGINAL', 'DUPLICATE', 0], dtype=object)"
      ]
     },
     "execution_count": 99,
     "metadata": {},
     "output_type": "execute_result"
    }
   ],
   "source": [
    "df['ПТС'].unique()"
   ]
  },
  {
   "cell_type": "markdown",
   "id": "32683a5a",
   "metadata": {},
   "source": [
    "### Столбец 'Таможня'"
   ]
  },
  {
   "cell_type": "markdown",
   "id": "10d29bf8",
   "metadata": {},
   "source": [
    "Данный столбец содержит информацию о растоможенности автомобилей"
   ]
  },
  {
   "cell_type": "code",
   "execution_count": 100,
   "id": "5677298b",
   "metadata": {},
   "outputs": [
    {
     "data": {
      "text/plain": [
       "0        True\n",
       "2        True\n",
       "3        True\n",
       "4        True\n",
       "5        True\n",
       "         ... \n",
       "89373    True\n",
       "89374    True\n",
       "89375    True\n",
       "89376    True\n",
       "89377    True\n",
       "Name: Таможня, Length: 86863, dtype: bool"
      ]
     },
     "execution_count": 100,
     "metadata": {},
     "output_type": "execute_result"
    }
   ],
   "source": [
    "df['Таможня']"
   ]
  },
  {
   "cell_type": "markdown",
   "id": "d4130a9f",
   "metadata": {},
   "source": [
    "Выведем количество значений NaN"
   ]
  },
  {
   "cell_type": "code",
   "execution_count": 101,
   "id": "f03b7c71",
   "metadata": {},
   "outputs": [
    {
     "data": {
      "text/plain": [
       "0"
      ]
     },
     "execution_count": 101,
     "metadata": {},
     "output_type": "execute_result"
    }
   ],
   "source": [
    "df['Таможня'].isna().sum()"
   ]
  },
  {
   "cell_type": "markdown",
   "id": "72845a3e",
   "metadata": {},
   "source": [
    "Выведем количество уникальных значений для данного столбца"
   ]
  },
  {
   "cell_type": "code",
   "execution_count": 102,
   "id": "ad42129c",
   "metadata": {},
   "outputs": [
    {
     "data": {
      "text/plain": [
       "1"
      ]
     },
     "execution_count": 102,
     "metadata": {},
     "output_type": "execute_result"
    }
   ],
   "source": [
    "df['Таможня'].nunique()"
   ]
  },
  {
   "cell_type": "markdown",
   "id": "554c0194",
   "metadata": {},
   "source": [
    "Данный столбец имеет одно уникальное значение и ни одного пропуска. Это означает, что значения столбца одинаковы для всех строк, следовательно, не имеет никакого столбец не имеет никакого смысла. Удалим его"
   ]
  },
  {
   "cell_type": "code",
   "execution_count": 103,
   "id": "9709169f",
   "metadata": {},
   "outputs": [],
   "source": [
    "df = df.drop(columns=['Таможня'])"
   ]
  },
  {
   "cell_type": "markdown",
   "id": "09cc2bc0",
   "metadata": {},
   "source": [
    "### Столбец 'Владение'"
   ]
  },
  {
   "cell_type": "markdown",
   "id": "0d5d914b",
   "metadata": {},
   "source": [
    "Данный столбец содержит информацию о дате начала владения автомобилей"
   ]
  },
  {
   "cell_type": "code",
   "execution_count": 104,
   "id": "1b81cbc8",
   "metadata": {},
   "outputs": [
    {
     "data": {
      "text/plain": [
       "0                                NaN\n",
       "2                                NaN\n",
       "3                                NaN\n",
       "4                                NaN\n",
       "5                                NaN\n",
       "                    ...             \n",
       "89373                            NaN\n",
       "89374     {'year': 2017, 'month': 2}\n",
       "89375    {'year': 2015, 'month': 12}\n",
       "89376    {'year': 2017, 'month': 10}\n",
       "89377     {'year': 2018, 'month': 6}\n",
       "Name: Владение, Length: 86863, dtype: object"
      ]
     },
     "execution_count": 104,
     "metadata": {},
     "output_type": "execute_result"
    }
   ],
   "source": [
    "df['Владение']"
   ]
  },
  {
   "cell_type": "markdown",
   "id": "fa17fb4b",
   "metadata": {},
   "source": [
    "Выведем количество значений NaN"
   ]
  },
  {
   "cell_type": "code",
   "execution_count": 105,
   "id": "38570277",
   "metadata": {},
   "outputs": [
    {
     "data": {
      "text/plain": [
       "58461"
      ]
     },
     "execution_count": 105,
     "metadata": {},
     "output_type": "execute_result"
    }
   ],
   "source": [
    "df['Владение'].isna().sum()"
   ]
  },
  {
   "cell_type": "markdown",
   "id": "dc33879e",
   "metadata": {},
   "source": [
    "### Столбец 'start_date'"
   ]
  },
  {
   "cell_type": "markdown",
   "id": "eae033f6",
   "metadata": {},
   "source": [
    "Данный столбец содержит информацию о публикации объявления автомобилей"
   ]
  },
  {
   "cell_type": "code",
   "execution_count": 106,
   "id": "9efd9a89",
   "metadata": {},
   "outputs": [
    {
     "data": {
      "text/plain": [
       "0        2019-10-03T08:09:11Z\n",
       "2        2020-09-02T14:04:21Z\n",
       "3        2020-08-23T17:40:09Z\n",
       "4        2020-09-08T09:22:07Z\n",
       "5        2020-09-08T09:47:16Z\n",
       "                 ...         \n",
       "89373    2020-02-11T09:29:59Z\n",
       "89374    2020-05-30T18:56:30Z\n",
       "89375    2020-08-30T14:39:15Z\n",
       "89376    2019-05-14T15:43:20Z\n",
       "89377    2020-08-10T11:30:29Z\n",
       "Name: start_date, Length: 86863, dtype: object"
      ]
     },
     "execution_count": 106,
     "metadata": {},
     "output_type": "execute_result"
    }
   ],
   "source": [
    "df['start_date']"
   ]
  },
  {
   "cell_type": "markdown",
   "id": "8d91ff3a",
   "metadata": {},
   "source": [
    "Выведем количество значений NaN"
   ]
  },
  {
   "cell_type": "code",
   "execution_count": 107,
   "id": "524c0b05",
   "metadata": {},
   "outputs": [
    {
     "data": {
      "text/plain": [
       "0"
      ]
     },
     "execution_count": 107,
     "metadata": {},
     "output_type": "execute_result"
    }
   ],
   "source": [
    "df['start_date'].isna().sum()"
   ]
  },
  {
   "cell_type": "markdown",
   "id": "033c31e3",
   "metadata": {},
   "source": [
    "Переведем столбец в формат datetime"
   ]
  },
  {
   "cell_type": "code",
   "execution_count": 108,
   "id": "8c893d3b",
   "metadata": {},
   "outputs": [
    {
     "data": {
      "text/plain": [
       "0        2019-10-03\n",
       "2        2020-09-02\n",
       "3        2020-08-23\n",
       "4        2020-09-08\n",
       "5        2020-09-08\n",
       "            ...    \n",
       "89373    2020-02-11\n",
       "89374    2020-05-30\n",
       "89375    2020-08-30\n",
       "89376    2019-05-14\n",
       "89377    2020-08-10\n",
       "Name: start_date, Length: 86863, dtype: object"
      ]
     },
     "execution_count": 108,
     "metadata": {},
     "output_type": "execute_result"
    }
   ],
   "source": [
    "df['start_date'].str[:10]"
   ]
  },
  {
   "cell_type": "code",
   "execution_count": 109,
   "id": "c5de9fe8",
   "metadata": {},
   "outputs": [],
   "source": [
    "df['start_date'] = pd.to_datetime(df['start_date'].str[:10])"
   ]
  },
  {
   "cell_type": "code",
   "execution_count": 110,
   "id": "00899e4d",
   "metadata": {},
   "outputs": [
    {
     "data": {
      "text/plain": [
       "0       2019-10-03\n",
       "2       2020-09-02\n",
       "3       2020-08-23\n",
       "4       2020-09-08\n",
       "5       2020-09-08\n",
       "           ...    \n",
       "89373   2020-02-11\n",
       "89374   2020-05-30\n",
       "89375   2020-08-30\n",
       "89376   2019-05-14\n",
       "89377   2020-08-10\n",
       "Name: start_date, Length: 86863, dtype: datetime64[ns]"
      ]
     },
     "execution_count": 110,
     "metadata": {},
     "output_type": "execute_result"
    }
   ],
   "source": [
    "df['start_date']"
   ]
  },
  {
   "cell_type": "markdown",
   "id": "849026fe",
   "metadata": {},
   "source": [
    "Построем график распределения даты загрузки объявления"
   ]
  },
  {
   "cell_type": "code",
   "execution_count": 111,
   "id": "1a7331ef",
   "metadata": {},
   "outputs": [
    {
     "data": {
      "image/png": "[encoded data removed]",
      "text/plain": [
       "<Figure size 720x432 with 1 Axes>"
      ]
     },
     "metadata": {},
     "output_type": "display_data"
    }
   ],
   "source": [
    "sns.set_style('whitegrid')\n",
    "fig, ax = plt.subplots(figsize=(10, 6))\n",
    "\n",
    "sns.histplot(x=df['start_date'], ax=ax, kde=False, color='#4c72b0', binwidth=100)\n",
    "ax.set_xlabel('Дата', fontsize=12)\n",
    "ax.set_ylabel('Количество', fontsize=12)\n",
    "ax.set_title('Распределение даты загрузки объявления автомобилей', fontsize=18, color='#c44e52')\n",
    "ax.tick_params(axis='both', labelsize=10)\n",
    "\n",
    "plt.show()"
   ]
  },
  {
   "cell_type": "markdown",
   "id": "3da9b5c0",
   "metadata": {},
   "source": [
    "### Столбец 'model'"
   ]
  },
  {
   "cell_type": "markdown",
   "id": "e0c1114a",
   "metadata": {},
   "source": [
    "Данный столбец содержит информацию о модели автомобилей"
   ]
  },
  {
   "cell_type": "code",
   "execution_count": 112,
   "id": "3cbad736",
   "metadata": {},
   "outputs": [
    {
     "data": {
      "text/plain": [
       "0           100\n",
       "2           100\n",
       "3           100\n",
       "4           100\n",
       "5           100\n",
       "          ...  \n",
       "89373    RODIUS\n",
       "89374    RODIUS\n",
       "89375    STAVIC\n",
       "89376    STAVIC\n",
       "89377    STAVIC\n",
       "Name: model, Length: 86863, dtype: object"
      ]
     },
     "execution_count": 112,
     "metadata": {},
     "output_type": "execute_result"
    }
   ],
   "source": [
    "df['model']"
   ]
  },
  {
   "cell_type": "markdown",
   "id": "3df8ad9d",
   "metadata": {},
   "source": [
    "Выведем количество значений NaN"
   ]
  },
  {
   "cell_type": "code",
   "execution_count": 113,
   "id": "c4d5ac9d",
   "metadata": {},
   "outputs": [
    {
     "data": {
      "text/plain": [
       "0"
      ]
     },
     "execution_count": 113,
     "metadata": {},
     "output_type": "execute_result"
    }
   ],
   "source": [
    "df['model'].isna().sum()"
   ]
  },
  {
   "cell_type": "markdown",
   "id": "5afbc186",
   "metadata": {},
   "source": [
    "Выведем количество уникальных значений"
   ]
  },
  {
   "cell_type": "code",
   "execution_count": 114,
   "id": "b32eeb4b",
   "metadata": {},
   "outputs": [
    {
     "data": {
      "text/plain": [
       "995"
      ]
     },
     "execution_count": 114,
     "metadata": {},
     "output_type": "execute_result"
    }
   ],
   "source": [
    "df['model'].nunique()"
   ]
  },
  {
   "cell_type": "markdown",
   "id": "b2bb6672",
   "metadata": {},
   "source": [
    "# Подготовка данных для построения модели машинного обучения"
   ]
  },
  {
   "cell_type": "markdown",
   "id": "1fc7f4aa",
   "metadata": {},
   "source": [
    "Выведем общую информацию о столбцах после их обработки"
   ]
  },
  {
   "cell_type": "code",
   "execution_count": 115,
   "id": "73ee3ac6",
   "metadata": {},
   "outputs": [
    {
     "name": "stdout",
     "output_type": "stream",
     "text": [
      "<class 'pandas.core.frame.DataFrame'>\n",
      "Int64Index: 86863 entries, 0 to 89377\n",
      "Data columns (total 25 columns):\n",
      " #   Column                Non-Null Count  Dtype         \n",
      "---  ------                --------------  -----         \n",
      " 0   bodyType              86863 non-null  object        \n",
      " 1   brand                 86863 non-null  object        \n",
      " 2   color                 86863 non-null  object        \n",
      " 3   fuelType              86863 non-null  object        \n",
      " 4   modelDate             86863 non-null  float64       \n",
      " 5   name                  86863 non-null  object        \n",
      " 6   numberOfDoors         86863 non-null  float64       \n",
      " 7   productionDate        86863 non-null  int64         \n",
      " 8   vehicleConfiguration  86863 non-null  object        \n",
      " 9   vehicleTransmission   86863 non-null  object        \n",
      " 10  engineDisplacement    86863 non-null  object        \n",
      " 11  enginePower           86863 non-null  float64       \n",
      " 12  description           83700 non-null  object        \n",
      " 13  mileage               86863 non-null  int64         \n",
      " 14  Комплектация          86863 non-null  object        \n",
      " 15  Привод                86863 non-null  object        \n",
      " 16  Руль                  86863 non-null  object        \n",
      " 17  Владельцы             86863 non-null  float64       \n",
      " 18  ПТС                   86863 non-null  object        \n",
      " 19  Владение              28402 non-null  object        \n",
      " 20  price                 86863 non-null  float64       \n",
      " 21  start_date            86863 non-null  datetime64[ns]\n",
      " 22  model                 86863 non-null  object        \n",
      " 23  description_len       86863 non-null  float64       \n",
      " 24  equipment             86863 non-null  int64         \n",
      "dtypes: datetime64[ns](1), float64(6), int64(3), object(15)\n",
      "memory usage: 19.2+ MB\n"
     ]
    }
   ],
   "source": [
    "df.info()"
   ]
  },
  {
   "cell_type": "markdown",
   "id": "d2592eeb",
   "metadata": {},
   "source": [
    "Выберем столбцы, которые потребуются для обучения модели"
   ]
  },
  {
   "cell_type": "code",
   "execution_count": 116,
   "id": "a9be3c50",
   "metadata": {},
   "outputs": [],
   "source": [
    "x_columns = ['bodyType', 'brand', 'color', 'fuelType', 'modelDate', 'numberOfDoors', 'productionDate', \n",
    "             'vehicleTransmission', 'engineDisplacement', 'enginePower', 'mileage', 'Привод', 'Руль', \n",
    "             'Владельцы', 'ПТС', 'start_date', 'description_len', 'equipment']\n",
    "\n",
    "y_columns = ['price']"
   ]
  },
  {
   "cell_type": "code",
   "execution_count": 117,
   "id": "66608a7e",
   "metadata": {},
   "outputs": [],
   "source": [
    "X = pd.DataFrame()"
   ]
  },
  {
   "cell_type": "markdown",
   "id": "c28a093a",
   "metadata": {},
   "source": [
    "Проведем нормализацию для числовых столбцов, а для остальных заменим уникальные значения на числа"
   ]
  },
  {
   "cell_type": "code",
   "execution_count": 118,
   "id": "3d07539d",
   "metadata": {},
   "outputs": [],
   "source": [
    "from sklearn.preprocessing import StandardScaler\n",
    "scaler = StandardScaler()\n",
    "\n",
    "for col in x_columns:\n",
    "    if df[col].dtypes == 'object':\n",
    "        parental = {element: index for index, element in enumerate(df[col].unique())}\n",
    "        X[col] = df[col].replace(parental)\n",
    "    else:\n",
    "        X[col] = scaler.fit_transform(df.loc[:,[col]])"
   ]
  },
  {
   "cell_type": "markdown",
   "id": "2a08ed98",
   "metadata": {},
   "source": [
    "Выведем новый датафрейм Х, который содержит новые необходимые столбцы"
   ]
  },
  {
   "cell_type": "code",
   "execution_count": 119,
   "id": "e9d68973",
   "metadata": {},
   "outputs": [
    {
     "data": {
      "text/html": [
       "<div>\n",
       "<style scoped>\n",
       "    .dataframe tbody tr th:only-of-type {\n",
       "        vertical-align: middle;\n",
       "    }\n",
       "\n",
       "    .dataframe tbody tr th {\n",
       "        vertical-align: top;\n",
       "    }\n",
       "\n",
       "    .dataframe thead th {\n",
       "        text-align: right;\n",
       "    }\n",
       "</style>\n",
       "<table border=\"1\" class=\"dataframe\">\n",
       "  <thead>\n",
       "    <tr style=\"text-align: right;\">\n",
       "      <th></th>\n",
       "      <th>bodyType</th>\n",
       "      <th>brand</th>\n",
       "      <th>color</th>\n",
       "      <th>fuelType</th>\n",
       "      <th>modelDate</th>\n",
       "      <th>numberOfDoors</th>\n",
       "      <th>productionDate</th>\n",
       "      <th>vehicleTransmission</th>\n",
       "      <th>engineDisplacement</th>\n",
       "      <th>enginePower</th>\n",
       "      <th>mileage</th>\n",
       "      <th>Привод</th>\n",
       "      <th>Руль</th>\n",
       "      <th>Владельцы</th>\n",
       "      <th>ПТС</th>\n",
       "      <th>start_date</th>\n",
       "      <th>description_len</th>\n",
       "      <th>equipment</th>\n",
       "    </tr>\n",
       "  </thead>\n",
       "  <tbody>\n",
       "    <tr>\n",
       "      <th>0</th>\n",
       "      <td>0</td>\n",
       "      <td>0</td>\n",
       "      <td>0</td>\n",
       "      <td>0</td>\n",
       "      <td>-2.759659</td>\n",
       "      <td>-0.815476</td>\n",
       "      <td>-3.085602</td>\n",
       "      <td>0</td>\n",
       "      <td>0</td>\n",
       "      <td>0.103191</td>\n",
       "      <td>2.115959</td>\n",
       "      <td>0</td>\n",
       "      <td>0</td>\n",
       "      <td>1.007489</td>\n",
       "      <td>0</td>\n",
       "      <td>-1.417405</td>\n",
       "      <td>-0.496405</td>\n",
       "      <td>-0.699421</td>\n",
       "    </tr>\n",
       "    <tr>\n",
       "      <th>2</th>\n",
       "      <td>1</td>\n",
       "      <td>0</td>\n",
       "      <td>1</td>\n",
       "      <td>0</td>\n",
       "      <td>-3.053732</td>\n",
       "      <td>0.749102</td>\n",
       "      <td>-3.393621</td>\n",
       "      <td>0</td>\n",
       "      <td>1</td>\n",
       "      <td>-0.427389</td>\n",
       "      <td>0.936142</td>\n",
       "      <td>0</td>\n",
       "      <td>0</td>\n",
       "      <td>1.007489</td>\n",
       "      <td>0</td>\n",
       "      <td>0.685719</td>\n",
       "      <td>0.027254</td>\n",
       "      <td>-0.699421</td>\n",
       "    </tr>\n",
       "    <tr>\n",
       "      <th>3</th>\n",
       "      <td>0</td>\n",
       "      <td>0</td>\n",
       "      <td>2</td>\n",
       "      <td>0</td>\n",
       "      <td>-3.053732</td>\n",
       "      <td>-0.815476</td>\n",
       "      <td>-3.393621</td>\n",
       "      <td>0</td>\n",
       "      <td>2</td>\n",
       "      <td>-1.069670</td>\n",
       "      <td>1.034460</td>\n",
       "      <td>1</td>\n",
       "      <td>0</td>\n",
       "      <td>1.007489</td>\n",
       "      <td>0</td>\n",
       "      <td>0.622939</td>\n",
       "      <td>-0.626323</td>\n",
       "      <td>-0.699421</td>\n",
       "    </tr>\n",
       "    <tr>\n",
       "      <th>4</th>\n",
       "      <td>0</td>\n",
       "      <td>0</td>\n",
       "      <td>0</td>\n",
       "      <td>0</td>\n",
       "      <td>-2.759659</td>\n",
       "      <td>-0.815476</td>\n",
       "      <td>-3.085602</td>\n",
       "      <td>0</td>\n",
       "      <td>3</td>\n",
       "      <td>-0.916081</td>\n",
       "      <td>1.624369</td>\n",
       "      <td>1</td>\n",
       "      <td>0</td>\n",
       "      <td>1.007489</td>\n",
       "      <td>1</td>\n",
       "      <td>0.723386</td>\n",
       "      <td>-0.510081</td>\n",
       "      <td>-0.699421</td>\n",
       "    </tr>\n",
       "    <tr>\n",
       "      <th>5</th>\n",
       "      <td>0</td>\n",
       "      <td>0</td>\n",
       "      <td>3</td>\n",
       "      <td>0</td>\n",
       "      <td>-2.759659</td>\n",
       "      <td>-0.815476</td>\n",
       "      <td>-2.777582</td>\n",
       "      <td>0</td>\n",
       "      <td>0</td>\n",
       "      <td>0.103191</td>\n",
       "      <td>0.641188</td>\n",
       "      <td>1</td>\n",
       "      <td>0</td>\n",
       "      <td>1.007489</td>\n",
       "      <td>0</td>\n",
       "      <td>0.723386</td>\n",
       "      <td>-0.506662</td>\n",
       "      <td>-0.699421</td>\n",
       "    </tr>\n",
       "    <tr>\n",
       "      <th>...</th>\n",
       "      <td>...</td>\n",
       "      <td>...</td>\n",
       "      <td>...</td>\n",
       "      <td>...</td>\n",
       "      <td>...</td>\n",
       "      <td>...</td>\n",
       "      <td>...</td>\n",
       "      <td>...</td>\n",
       "      <td>...</td>\n",
       "      <td>...</td>\n",
       "      <td>...</td>\n",
       "      <td>...</td>\n",
       "      <td>...</td>\n",
       "      <td>...</td>\n",
       "      <td>...</td>\n",
       "      <td>...</td>\n",
       "      <td>...</td>\n",
       "      <td>...</td>\n",
       "    </tr>\n",
       "    <tr>\n",
       "      <th>89373</th>\n",
       "      <td>11</td>\n",
       "      <td>35</td>\n",
       "      <td>0</td>\n",
       "      <td>1</td>\n",
       "      <td>-0.701147</td>\n",
       "      <td>0.749102</td>\n",
       "      <td>-0.775458</td>\n",
       "      <td>1</td>\n",
       "      <td>21</td>\n",
       "      <td>-0.050398</td>\n",
       "      <td>1.231096</td>\n",
       "      <td>0</td>\n",
       "      <td>0</td>\n",
       "      <td>1.007489</td>\n",
       "      <td>0</td>\n",
       "      <td>-0.594989</td>\n",
       "      <td>-0.514069</td>\n",
       "      <td>-0.699421</td>\n",
       "    </tr>\n",
       "    <tr>\n",
       "      <th>89374</th>\n",
       "      <td>11</td>\n",
       "      <td>35</td>\n",
       "      <td>2</td>\n",
       "      <td>1</td>\n",
       "      <td>-0.701147</td>\n",
       "      <td>0.749102</td>\n",
       "      <td>-0.621448</td>\n",
       "      <td>1</td>\n",
       "      <td>21</td>\n",
       "      <td>-0.050398</td>\n",
       "      <td>1.624369</td>\n",
       "      <td>0</td>\n",
       "      <td>0</td>\n",
       "      <td>1.007489</td>\n",
       "      <td>0</td>\n",
       "      <td>0.089310</td>\n",
       "      <td>-0.328880</td>\n",
       "      <td>-0.699421</td>\n",
       "    </tr>\n",
       "    <tr>\n",
       "      <th>89375</th>\n",
       "      <td>11</td>\n",
       "      <td>35</td>\n",
       "      <td>0</td>\n",
       "      <td>1</td>\n",
       "      <td>0.622182</td>\n",
       "      <td>0.749102</td>\n",
       "      <td>0.456619</td>\n",
       "      <td>1</td>\n",
       "      <td>16</td>\n",
       "      <td>-0.245875</td>\n",
       "      <td>-0.086366</td>\n",
       "      <td>0</td>\n",
       "      <td>0</td>\n",
       "      <td>-0.808728</td>\n",
       "      <td>0</td>\n",
       "      <td>0.666885</td>\n",
       "      <td>-0.511790</td>\n",
       "      <td>1.642038</td>\n",
       "    </tr>\n",
       "    <tr>\n",
       "      <th>89376</th>\n",
       "      <td>11</td>\n",
       "      <td>35</td>\n",
       "      <td>5</td>\n",
       "      <td>1</td>\n",
       "      <td>0.622182</td>\n",
       "      <td>0.749102</td>\n",
       "      <td>0.302610</td>\n",
       "      <td>1</td>\n",
       "      <td>16</td>\n",
       "      <td>-0.245875</td>\n",
       "      <td>-0.499302</td>\n",
       "      <td>0</td>\n",
       "      <td>0</td>\n",
       "      <td>1.007489</td>\n",
       "      <td>0</td>\n",
       "      <td>-2.308878</td>\n",
       "      <td>0.332104</td>\n",
       "      <td>1.642038</td>\n",
       "    </tr>\n",
       "    <tr>\n",
       "      <th>89377</th>\n",
       "      <td>11</td>\n",
       "      <td>35</td>\n",
       "      <td>4</td>\n",
       "      <td>1</td>\n",
       "      <td>0.622182</td>\n",
       "      <td>0.749102</td>\n",
       "      <td>0.456619</td>\n",
       "      <td>1</td>\n",
       "      <td>16</td>\n",
       "      <td>-0.245875</td>\n",
       "      <td>0.090607</td>\n",
       "      <td>0</td>\n",
       "      <td>0</td>\n",
       "      <td>0.099380</td>\n",
       "      <td>0</td>\n",
       "      <td>0.541325</td>\n",
       "      <td>-0.437145</td>\n",
       "      <td>-0.699421</td>\n",
       "    </tr>\n",
       "  </tbody>\n",
       "</table>\n",
       "<p>86863 rows × 18 columns</p>\n",
       "</div>"
      ],
      "text/plain": [
       "       bodyType  brand  color  fuelType  modelDate  numberOfDoors  \\\n",
       "0             0      0      0         0  -2.759659      -0.815476   \n",
       "2             1      0      1         0  -3.053732       0.749102   \n",
       "3             0      0      2         0  -3.053732      -0.815476   \n",
       "4             0      0      0         0  -2.759659      -0.815476   \n",
       "5             0      0      3         0  -2.759659      -0.815476   \n",
       "...         ...    ...    ...       ...        ...            ...   \n",
       "89373        11     35      0         1  -0.701147       0.749102   \n",
       "89374        11     35      2         1  -0.701147       0.749102   \n",
       "89375        11     35      0         1   0.622182       0.749102   \n",
       "89376        11     35      5         1   0.622182       0.749102   \n",
       "89377        11     35      4         1   0.622182       0.749102   \n",
       "\n",
       "       productionDate  vehicleTransmission  engineDisplacement  enginePower  \\\n",
       "0           -3.085602                    0                   0     0.103191   \n",
       "2           -3.393621                    0                   1    -0.427389   \n",
       "3           -3.393621                    0                   2    -1.069670   \n",
       "4           -3.085602                    0                   3    -0.916081   \n",
       "5           -2.777582                    0                   0     0.103191   \n",
       "...               ...                  ...                 ...          ...   \n",
       "89373       -0.775458                    1                  21    -0.050398   \n",
       "89374       -0.621448                    1                  21    -0.050398   \n",
       "89375        0.456619                    1                  16    -0.245875   \n",
       "89376        0.302610                    1                  16    -0.245875   \n",
       "89377        0.456619                    1                  16    -0.245875   \n",
       "\n",
       "        mileage  Привод  Руль  Владельцы  ПТС  start_date  description_len  \\\n",
       "0      2.115959       0     0   1.007489    0   -1.417405        -0.496405   \n",
       "2      0.936142       0     0   1.007489    0    0.685719         0.027254   \n",
       "3      1.034460       1     0   1.007489    0    0.622939        -0.626323   \n",
       "4      1.624369       1     0   1.007489    1    0.723386        -0.510081   \n",
       "5      0.641188       1     0   1.007489    0    0.723386        -0.506662   \n",
       "...         ...     ...   ...        ...  ...         ...              ...   \n",
       "89373  1.231096       0     0   1.007489    0   -0.594989        -0.514069   \n",
       "89374  1.624369       0     0   1.007489    0    0.089310        -0.328880   \n",
       "89375 -0.086366       0     0  -0.808728    0    0.666885        -0.511790   \n",
       "89376 -0.499302       0     0   1.007489    0   -2.308878         0.332104   \n",
       "89377  0.090607       0     0   0.099380    0    0.541325        -0.437145   \n",
       "\n",
       "       equipment  \n",
       "0      -0.699421  \n",
       "2      -0.699421  \n",
       "3      -0.699421  \n",
       "4      -0.699421  \n",
       "5      -0.699421  \n",
       "...          ...  \n",
       "89373  -0.699421  \n",
       "89374  -0.699421  \n",
       "89375   1.642038  \n",
       "89376   1.642038  \n",
       "89377  -0.699421  \n",
       "\n",
       "[86863 rows x 18 columns]"
      ]
     },
     "execution_count": 119,
     "metadata": {},
     "output_type": "execute_result"
    }
   ],
   "source": [
    "X"
   ]
  },
  {
   "cell_type": "markdown",
   "id": "20ed235b",
   "metadata": {},
   "source": [
    "Выведем датафрейм у, который содержит столбец, который будем предсказывать"
   ]
  },
  {
   "cell_type": "code",
   "execution_count": 120,
   "id": "9e06de9d",
   "metadata": {},
   "outputs": [],
   "source": [
    "y = df[y_columns]"
   ]
  },
  {
   "cell_type": "code",
   "execution_count": 121,
   "id": "086fb459",
   "metadata": {},
   "outputs": [
    {
     "data": {
      "text/html": [
       "<div>\n",
       "<style scoped>\n",
       "    .dataframe tbody tr th:only-of-type {\n",
       "        vertical-align: middle;\n",
       "    }\n",
       "\n",
       "    .dataframe tbody tr th {\n",
       "        vertical-align: top;\n",
       "    }\n",
       "\n",
       "    .dataframe thead th {\n",
       "        text-align: right;\n",
       "    }\n",
       "</style>\n",
       "<table border=\"1\" class=\"dataframe\">\n",
       "  <thead>\n",
       "    <tr style=\"text-align: right;\">\n",
       "      <th></th>\n",
       "      <th>price</th>\n",
       "    </tr>\n",
       "  </thead>\n",
       "  <tbody>\n",
       "    <tr>\n",
       "      <th>0</th>\n",
       "      <td>200000.0</td>\n",
       "    </tr>\n",
       "    <tr>\n",
       "      <th>2</th>\n",
       "      <td>99000.0</td>\n",
       "    </tr>\n",
       "    <tr>\n",
       "      <th>3</th>\n",
       "      <td>65000.0</td>\n",
       "    </tr>\n",
       "    <tr>\n",
       "      <th>4</th>\n",
       "      <td>100000.0</td>\n",
       "    </tr>\n",
       "    <tr>\n",
       "      <th>5</th>\n",
       "      <td>90000.0</td>\n",
       "    </tr>\n",
       "    <tr>\n",
       "      <th>...</th>\n",
       "      <td>...</td>\n",
       "    </tr>\n",
       "    <tr>\n",
       "      <th>89373</th>\n",
       "      <td>450000.0</td>\n",
       "    </tr>\n",
       "    <tr>\n",
       "      <th>89374</th>\n",
       "      <td>485000.0</td>\n",
       "    </tr>\n",
       "    <tr>\n",
       "      <th>89375</th>\n",
       "      <td>1090000.0</td>\n",
       "    </tr>\n",
       "    <tr>\n",
       "      <th>89376</th>\n",
       "      <td>1180000.0</td>\n",
       "    </tr>\n",
       "    <tr>\n",
       "      <th>89377</th>\n",
       "      <td>1075000.0</td>\n",
       "    </tr>\n",
       "  </tbody>\n",
       "</table>\n",
       "<p>86863 rows × 1 columns</p>\n",
       "</div>"
      ],
      "text/plain": [
       "           price\n",
       "0       200000.0\n",
       "2        99000.0\n",
       "3        65000.0\n",
       "4       100000.0\n",
       "5        90000.0\n",
       "...          ...\n",
       "89373   450000.0\n",
       "89374   485000.0\n",
       "89375  1090000.0\n",
       "89376  1180000.0\n",
       "89377  1075000.0\n",
       "\n",
       "[86863 rows x 1 columns]"
      ]
     },
     "execution_count": 121,
     "metadata": {},
     "output_type": "execute_result"
    }
   ],
   "source": [
    "y"
   ]
  },
  {
   "cell_type": "markdown",
   "id": "297e65df",
   "metadata": {},
   "source": [
    "Выведем тепловую карту коэффициента корреляции Пирсона"
   ]
  },
  {
   "cell_type": "code",
   "execution_count": 122,
   "id": "bb3404bf",
   "metadata": {},
   "outputs": [
    {
     "data": {
      "image/png": "[encoded data removed]",
      "text/plain": [
       "<Figure size 1008x1008 with 2 Axes>"
      ]
     },
     "metadata": {},
     "output_type": "display_data"
    }
   ],
   "source": [
    "sns.set_style('white')\n",
    "fig, ax = plt.subplots(figsize=(14, 14))\n",
    "\n",
    "corr = pd.concat([X, y], axis=1).corr(method='pearson')\n",
    "sns.heatmap(corr, vmin=-1, vmax=1, cmap='coolwarm', annot=True, square=True, ax=ax)\n",
    "ax.set_title('Тепловая карта коэффициента корреляции Пирсона', fontsize=18, color='#c44e52')\n",
    "\n",
    "plt.show()"
   ]
  },
  {
   "cell_type": "markdown",
   "id": "641200eb",
   "metadata": {},
   "source": [
    "# Построение модели машинного обучения"
   ]
  },
  {
   "cell_type": "code",
   "execution_count": 123,
   "id": "9033d3ca",
   "metadata": {},
   "outputs": [],
   "source": [
    "from sklearn.model_selection import train_test_split\n",
    "from sklearn.linear_model import LinearRegression\n",
    "from sklearn.ensemble import RandomForestRegressor\n",
    "from xgboost import XGBRegressor\n",
    "from catboost import CatBoostRegressor\n",
    "from lightgbm import LGBMRegressor\n",
    "from sklearn.metrics import mean_squared_error\n",
    "from sklearn.metrics import mean_absolute_error\n",
    "from sklearn.metrics import mean_squared_log_error\n",
    "import catboost as cat\n",
    "\n",
    "\n",
    "X_train, X_test, y_train, y_test = train_test_split(X, y, test_size=0.2, random_state=42)"
   ]
  },
  {
   "cell_type": "markdown",
   "id": "c4f767db",
   "metadata": {},
   "source": [
    "Обучаем модель на трех моделях и считаем среднее по предсказаниям"
   ]
  },
  {
   "cell_type": "code",
   "execution_count": 124,
   "id": "6715eead",
   "metadata": {},
   "outputs": [],
   "source": [
    "xgbr = XGBRegressor(learning_rate = 0.1, \n",
    "                    max_depth = 10, \n",
    "                    n_estimators = 3000)\n",
    "\n",
    "xgbr.fit(X_train, y_train)\n",
    "\n",
    "y_pred_xgbr = xgbr.predict(X_test)"
   ]
  },
  {
   "cell_type": "code",
   "execution_count": 125,
   "id": "06c0a9de",
   "metadata": {},
   "outputs": [
    {
     "name": "stdout",
     "output_type": "stream",
     "text": [
      "MSE: 57805901698.90\n",
      "MAE: 97958.61\n"
     ]
    }
   ],
   "source": [
    "mse = mean_squared_error(y_test, y_pred_xgbr)\n",
    "mae = mean_absolute_error(y_test, y_pred_xgbr)\n",
    "print(f'MSE: {mse:.2f}')\n",
    "print(f'MAE: {mae:.2f}')"
   ]
  },
  {
   "cell_type": "code",
   "execution_count": 133,
   "id": "9d251ad7",
   "metadata": {},
   "outputs": [],
   "source": [
    "cbr = CatBoostRegressor(iterations=3000, learning_rate=0.1, depth=10)\n",
    "\n",
    "cbr.fit(X_train, y_train, silent=True)\n",
    "\n",
    "y_pred_cbr = cbr.predict(X_test)"
   ]
  },
  {
   "cell_type": "code",
   "execution_count": 134,
   "id": "ff52ce58",
   "metadata": {},
   "outputs": [
    {
     "name": "stdout",
     "output_type": "stream",
     "text": [
      "MSE: 55619313062.64\n",
      "MAE: 100107.66\n"
     ]
    }
   ],
   "source": [
    "mse = mean_squared_error(y_test, y_pred_cbr)\n",
    "mae = mean_absolute_error(y_test, y_pred_cbr)\n",
    "print(f'MSE: {mse:.2f}')\n",
    "print(f'MAE: {mae:.2f}')"
   ]
  },
  {
   "cell_type": "code",
   "execution_count": 135,
   "id": "b1c3a9b7",
   "metadata": {},
   "outputs": [],
   "source": [
    "from lightgbm import LGBMRegressor\n",
    "\n",
    "lgbm = LGBMRegressor(objective='regression',\n",
    "                     learning_rate=0.1, \n",
    "                     max_depth=10,\n",
    "                     n_estimators=3000)\n",
    "\n",
    "lgbm.fit(X_train, y_train)\n",
    "\n",
    "y_pred_lgbm = lgbm.predict(X_test)"
   ]
  },
  {
   "cell_type": "code",
   "execution_count": 136,
   "id": "9b23a665",
   "metadata": {},
   "outputs": [
    {
     "name": "stdout",
     "output_type": "stream",
     "text": [
      "MSE: 57559085778.22\n",
      "MAE: 103741.71\n"
     ]
    }
   ],
   "source": [
    "mse = mean_squared_error(y_test, y_pred_lgbm)\n",
    "mae = mean_absolute_error(y_test, y_pred_lgbm)\n",
    "print(f'MSE: {mse:.2f}')\n",
    "print(f'MAE: {mae:.2f}')"
   ]
  },
  {
   "cell_type": "markdown",
   "id": "729df346",
   "metadata": {},
   "source": [
    "Считаем среднее трех моделей"
   ]
  },
  {
   "cell_type": "code",
   "execution_count": 137,
   "id": "24567a50",
   "metadata": {},
   "outputs": [],
   "source": [
    "y_pred_mean = (y_pred_xgbr + y_pred_cbr + y_pred_lgbm) / 3"
   ]
  },
  {
   "cell_type": "code",
   "execution_count": 138,
   "id": "f074b3bd",
   "metadata": {},
   "outputs": [
    {
     "name": "stdout",
     "output_type": "stream",
     "text": [
      "MSE: 51651627421.99\n",
      "MAE: 95920.41\n"
     ]
    }
   ],
   "source": [
    "mse = mean_squared_error(y_test, y_pred_mean)\n",
    "mae = mean_absolute_error(y_test, y_pred_mean)\n",
    "print(f'MSE: {mse:.2f}')\n",
    "print(f'MAE: {mae:.2f}')"
   ]
  }
 ],
 "metadata": {
  "kernelspec": {
   "display_name": "Python 3 (ipykernel)",
   "language": "python",
   "name": "python3"
  },
  "language_info": {
   "codemirror_mode": {
    "name": "ipython",
    "version": 3
   },
   "file_extension": ".py",
   "mimetype": "text/x-python",
   "name": "python",
   "nbconvert_exporter": "python",
   "pygments_lexer": "ipython3",
   "version": "3.9.12"
  }
 },
 "nbformat": 4,
 "nbformat_minor": 5
}
