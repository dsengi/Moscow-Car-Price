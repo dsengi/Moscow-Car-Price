{
 "cells": [
  {
   "cell_type": "markdown",
   "id": "09d6119b",
   "metadata": {},
   "source": [
    "# Moscow Car Prices"
   ]
  },
  {
   "cell_type": "markdown",
   "id": "dd23be63",
   "metadata": {},
   "source": [
    "Импортируем необходимые библиотеки"
   ]
  },
  {
   "cell_type": "code",
   "execution_count": 78,
   "id": "839607ce",
   "metadata": {},
   "outputs": [],
   "source": [
    "import pandas as pd\n",
    "import numpy as np\n",
    "import matplotlib.pyplot as plt\n",
    "import seaborn as sns"
   ]
  },
  {
   "cell_type": "markdown",
   "id": "68f921ab",
   "metadata": {},
   "source": [
    "Считываем данные"
   ]
  },
  {
   "cell_type": "code",
   "execution_count": 79,
   "id": "b98d2fab",
   "metadata": {},
   "outputs": [],
   "source": [
    "df = pd.read_csv('all_auto_ru_09_09_2020.csv')"
   ]
  },
  {
   "cell_type": "markdown",
   "id": "db0e8010",
   "metadata": {},
   "source": [
    "Выводим первые 5 строк датасета"
   ]
  },
  {
   "cell_type": "code",
   "execution_count": 80,
   "id": "de12c727",
   "metadata": {},
   "outputs": [
    {
     "data": {
      "text/html": [
       "<div>\n",
       "<style scoped>\n",
       "    .dataframe tbody tr th:only-of-type {\n",
       "        vertical-align: middle;\n",
       "    }\n",
       "\n",
       "    .dataframe tbody tr th {\n",
       "        vertical-align: top;\n",
       "    }\n",
       "\n",
       "    .dataframe thead th {\n",
       "        text-align: right;\n",
       "    }\n",
       "</style>\n",
       "<table border=\"1\" class=\"dataframe\">\n",
       "  <thead>\n",
       "    <tr style=\"text-align: right;\">\n",
       "      <th></th>\n",
       "      <th>bodyType</th>\n",
       "      <th>brand</th>\n",
       "      <th>color</th>\n",
       "      <th>fuelType</th>\n",
       "      <th>modelDate</th>\n",
       "      <th>name</th>\n",
       "      <th>numberOfDoors</th>\n",
       "      <th>productionDate</th>\n",
       "      <th>vehicleConfiguration</th>\n",
       "      <th>vehicleTransmission</th>\n",
       "      <th>...</th>\n",
       "      <th>Руль</th>\n",
       "      <th>Состояние</th>\n",
       "      <th>Владельцы</th>\n",
       "      <th>ПТС</th>\n",
       "      <th>Таможня</th>\n",
       "      <th>Владение</th>\n",
       "      <th>price</th>\n",
       "      <th>start_date</th>\n",
       "      <th>hidden</th>\n",
       "      <th>model</th>\n",
       "    </tr>\n",
       "  </thead>\n",
       "  <tbody>\n",
       "    <tr>\n",
       "      <th>0</th>\n",
       "      <td>Седан</td>\n",
       "      <td>AUDI</td>\n",
       "      <td>040001</td>\n",
       "      <td>бензин</td>\n",
       "      <td>1990.0</td>\n",
       "      <td>2.8 MT (174 л.с.) 4WD</td>\n",
       "      <td>4.0</td>\n",
       "      <td>1991</td>\n",
       "      <td>SEDAN MECHANICAL 2.8</td>\n",
       "      <td>MECHANICAL</td>\n",
       "      <td>...</td>\n",
       "      <td>LEFT</td>\n",
       "      <td>NaN</td>\n",
       "      <td>3.0</td>\n",
       "      <td>ORIGINAL</td>\n",
       "      <td>True</td>\n",
       "      <td>NaN</td>\n",
       "      <td>200000.0</td>\n",
       "      <td>2019-10-03T08:09:11Z</td>\n",
       "      <td>NaN</td>\n",
       "      <td>100</td>\n",
       "    </tr>\n",
       "    <tr>\n",
       "      <th>1</th>\n",
       "      <td>Седан</td>\n",
       "      <td>AUDI</td>\n",
       "      <td>EE1D19</td>\n",
       "      <td>бензин</td>\n",
       "      <td>1982.0</td>\n",
       "      <td>1.8 MT (90 л.с.)</td>\n",
       "      <td>4.0</td>\n",
       "      <td>1986</td>\n",
       "      <td>SEDAN MECHANICAL 1.8</td>\n",
       "      <td>MECHANICAL</td>\n",
       "      <td>...</td>\n",
       "      <td>LEFT</td>\n",
       "      <td>NaN</td>\n",
       "      <td>3.0</td>\n",
       "      <td>ORIGINAL</td>\n",
       "      <td>True</td>\n",
       "      <td>NaN</td>\n",
       "      <td>60000.0</td>\n",
       "      <td>2020-09-06T06:49:40Z</td>\n",
       "      <td>NaN</td>\n",
       "      <td>100</td>\n",
       "    </tr>\n",
       "    <tr>\n",
       "      <th>2</th>\n",
       "      <td>Универсал 5 дв.</td>\n",
       "      <td>AUDI</td>\n",
       "      <td>0000CC</td>\n",
       "      <td>бензин</td>\n",
       "      <td>1988.0</td>\n",
       "      <td>2.3 MT (136 л.с.) 4WD</td>\n",
       "      <td>5.0</td>\n",
       "      <td>1989</td>\n",
       "      <td>WAGON_5_DOORS MECHANICAL 2.3</td>\n",
       "      <td>MECHANICAL</td>\n",
       "      <td>...</td>\n",
       "      <td>LEFT</td>\n",
       "      <td>NaN</td>\n",
       "      <td>3.0</td>\n",
       "      <td>ORIGINAL</td>\n",
       "      <td>True</td>\n",
       "      <td>NaN</td>\n",
       "      <td>99000.0</td>\n",
       "      <td>2020-09-02T14:04:21Z</td>\n",
       "      <td>NaN</td>\n",
       "      <td>100</td>\n",
       "    </tr>\n",
       "    <tr>\n",
       "      <th>3</th>\n",
       "      <td>Седан</td>\n",
       "      <td>AUDI</td>\n",
       "      <td>CACECB</td>\n",
       "      <td>бензин</td>\n",
       "      <td>1988.0</td>\n",
       "      <td>1.8 MT (90 л.с.)</td>\n",
       "      <td>4.0</td>\n",
       "      <td>1989</td>\n",
       "      <td>SEDAN MECHANICAL 1.8</td>\n",
       "      <td>MECHANICAL</td>\n",
       "      <td>...</td>\n",
       "      <td>LEFT</td>\n",
       "      <td>NaN</td>\n",
       "      <td>3.0</td>\n",
       "      <td>ORIGINAL</td>\n",
       "      <td>True</td>\n",
       "      <td>NaN</td>\n",
       "      <td>65000.0</td>\n",
       "      <td>2020-08-23T17:40:09Z</td>\n",
       "      <td>NaN</td>\n",
       "      <td>100</td>\n",
       "    </tr>\n",
       "    <tr>\n",
       "      <th>4</th>\n",
       "      <td>Седан</td>\n",
       "      <td>AUDI</td>\n",
       "      <td>040001</td>\n",
       "      <td>бензин</td>\n",
       "      <td>1990.0</td>\n",
       "      <td>2.0 MT (101 л.с.)</td>\n",
       "      <td>4.0</td>\n",
       "      <td>1991</td>\n",
       "      <td>SEDAN MECHANICAL 2.0</td>\n",
       "      <td>MECHANICAL</td>\n",
       "      <td>...</td>\n",
       "      <td>LEFT</td>\n",
       "      <td>NaN</td>\n",
       "      <td>3.0</td>\n",
       "      <td>DUPLICATE</td>\n",
       "      <td>True</td>\n",
       "      <td>NaN</td>\n",
       "      <td>100000.0</td>\n",
       "      <td>2020-09-08T09:22:07Z</td>\n",
       "      <td>NaN</td>\n",
       "      <td>100</td>\n",
       "    </tr>\n",
       "  </tbody>\n",
       "</table>\n",
       "<p>5 rows × 26 columns</p>\n",
       "</div>"
      ],
      "text/plain": [
       "          bodyType brand   color fuelType  modelDate                   name  \\\n",
       "0            Седан  AUDI  040001   бензин     1990.0  2.8 MT (174 л.с.) 4WD   \n",
       "1            Седан  AUDI  EE1D19   бензин     1982.0       1.8 MT (90 л.с.)   \n",
       "2  Универсал 5 дв.  AUDI  0000CC   бензин     1988.0  2.3 MT (136 л.с.) 4WD   \n",
       "3            Седан  AUDI  CACECB   бензин     1988.0       1.8 MT (90 л.с.)   \n",
       "4            Седан  AUDI  040001   бензин     1990.0      2.0 MT (101 л.с.)   \n",
       "\n",
       "   numberOfDoors  productionDate          vehicleConfiguration  \\\n",
       "0            4.0            1991          SEDAN MECHANICAL 2.8   \n",
       "1            4.0            1986          SEDAN MECHANICAL 1.8   \n",
       "2            5.0            1989  WAGON_5_DOORS MECHANICAL 2.3   \n",
       "3            4.0            1989          SEDAN MECHANICAL 1.8   \n",
       "4            4.0            1991          SEDAN MECHANICAL 2.0   \n",
       "\n",
       "  vehicleTransmission  ...  Руль  Состояние Владельцы        ПТС Таможня  \\\n",
       "0          MECHANICAL  ...  LEFT        NaN       3.0   ORIGINAL    True   \n",
       "1          MECHANICAL  ...  LEFT        NaN       3.0   ORIGINAL    True   \n",
       "2          MECHANICAL  ...  LEFT        NaN       3.0   ORIGINAL    True   \n",
       "3          MECHANICAL  ...  LEFT        NaN       3.0   ORIGINAL    True   \n",
       "4          MECHANICAL  ...  LEFT        NaN       3.0  DUPLICATE    True   \n",
       "\n",
       "  Владение     price            start_date  hidden model  \n",
       "0      NaN  200000.0  2019-10-03T08:09:11Z     NaN   100  \n",
       "1      NaN   60000.0  2020-09-06T06:49:40Z     NaN   100  \n",
       "2      NaN   99000.0  2020-09-02T14:04:21Z     NaN   100  \n",
       "3      NaN   65000.0  2020-08-23T17:40:09Z     NaN   100  \n",
       "4      NaN  100000.0  2020-09-08T09:22:07Z     NaN   100  \n",
       "\n",
       "[5 rows x 26 columns]"
      ]
     },
     "execution_count": 80,
     "metadata": {},
     "output_type": "execute_result"
    }
   ],
   "source": [
    "df.head()"
   ]
  },
  {
   "cell_type": "markdown",
   "id": "e8bf7f3b",
   "metadata": {},
   "source": [
    "Выводим размер датасета"
   ]
  },
  {
   "cell_type": "code",
   "execution_count": 81,
   "id": "58308885",
   "metadata": {},
   "outputs": [
    {
     "data": {
      "text/plain": [
       "(89378, 26)"
      ]
     },
     "execution_count": 81,
     "metadata": {},
     "output_type": "execute_result"
    }
   ],
   "source": [
    "df.shape"
   ]
  },
  {
   "cell_type": "markdown",
   "id": "784e13db",
   "metadata": {},
   "source": [
    "Выводим общую информацию по всем столбцам датасета"
   ]
  },
  {
   "cell_type": "code",
   "execution_count": 82,
   "id": "4d5921eb",
   "metadata": {},
   "outputs": [
    {
     "name": "stdout",
     "output_type": "stream",
     "text": [
      "<class 'pandas.core.frame.DataFrame'>\n",
      "RangeIndex: 89378 entries, 0 to 89377\n",
      "Data columns (total 26 columns):\n",
      " #   Column                Non-Null Count  Dtype  \n",
      "---  ------                --------------  -----  \n",
      " 0   bodyType              89377 non-null  object \n",
      " 1   brand                 89378 non-null  object \n",
      " 2   color                 89378 non-null  object \n",
      " 3   fuelType              89378 non-null  object \n",
      " 4   modelDate             89377 non-null  float64\n",
      " 5   name                  89377 non-null  object \n",
      " 6   numberOfDoors         89377 non-null  float64\n",
      " 7   productionDate        89378 non-null  int64  \n",
      " 8   vehicleConfiguration  89377 non-null  object \n",
      " 9   vehicleTransmission   89377 non-null  object \n",
      " 10  engineDisplacement    89377 non-null  object \n",
      " 11  enginePower           89377 non-null  float64\n",
      " 12  description           86124 non-null  object \n",
      " 13  mileage               89378 non-null  int64  \n",
      " 14  Комплектация          89378 non-null  object \n",
      " 15  Привод                89377 non-null  object \n",
      " 16  Руль                  89378 non-null  object \n",
      " 17  Состояние             0 non-null      float64\n",
      " 18  Владельцы             75790 non-null  float64\n",
      " 19  ПТС                   89017 non-null  object \n",
      " 20  Таможня               89378 non-null  bool   \n",
      " 21  Владение              29201 non-null  object \n",
      " 22  price                 88968 non-null  float64\n",
      " 23  start_date            89378 non-null  object \n",
      " 24  hidden                0 non-null      float64\n",
      " 25  model                 89378 non-null  object \n",
      "dtypes: bool(1), float64(7), int64(2), object(16)\n",
      "memory usage: 17.1+ MB\n"
     ]
    }
   ],
   "source": [
    "df.info()"
   ]
  },
  {
   "cell_type": "markdown",
   "id": "632858c1",
   "metadata": {},
   "source": [
    "Видно, что датасет имеет объекты NaN. Выведем тепловую карту пропусков"
   ]
  },
  {
   "cell_type": "code",
   "execution_count": 83,
   "id": "8a02a11c",
   "metadata": {},
   "outputs": [
    {
     "data": {
      "image/png": "[encoded data removed]",
      "text/plain": [
       "<Figure size 720x432 with 1 Axes>"
      ]
     },
     "metadata": {},
     "output_type": "display_data"
    }
   ],
   "source": [
    "fig, ax = plt.subplots(figsize=(10,6))\n",
    "im = ax.imshow(df.isna(), cmap='viridis', aspect='auto')\n",
    "\n",
    "plt.show()"
   ]
  },
  {
   "cell_type": "markdown",
   "id": "667e0fd3",
   "metadata": {},
   "source": [
    "## Проанализируем каждый столбец"
   ]
  },
  {
   "cell_type": "markdown",
   "id": "2fb74e24",
   "metadata": {},
   "source": [
    "### Столбцы 'Состояние', 'hidden'"
   ]
  },
  {
   "cell_type": "code",
   "execution_count": 84,
   "id": "353f3697",
   "metadata": {},
   "outputs": [
    {
     "name": "stdout",
     "output_type": "stream",
     "text": [
      "Количество NaN элементов в столбце 'hidden': 89378 из 89378\n",
      "Количество NaN элементов в столбце 'Состояние': 89378 из 89378\n"
     ]
    }
   ],
   "source": [
    "print(\"Количество NaN элементов в столбце 'hidden':\",df['hidden'].isna().sum(), \"из 89378\")\n",
    "print(\"Количество NaN элементов в столбце 'Состояние':\",df['Состояние'].isna().sum(), \"из 89378\")"
   ]
  },
  {
   "cell_type": "markdown",
   "id": "a12516a0",
   "metadata": {},
   "source": [
    "Так как столбцы 'Состояние' и 'hidden' имеют все пропущенные элементы, то очевидно, что они не несут никакой полезной информации. Удалим эти столбцы."
   ]
  },
  {
   "cell_type": "code",
   "execution_count": 85,
   "id": "84c97d83",
   "metadata": {},
   "outputs": [],
   "source": [
    "df = df.drop(columns=['Состояние', 'hidden'])"
   ]
  },
  {
   "cell_type": "markdown",
   "id": "d11dbc2a",
   "metadata": {},
   "source": [
    "### Столбец 'bodyType'"
   ]
  },
  {
   "cell_type": "markdown",
   "id": "56498edd",
   "metadata": {},
   "source": [
    "Данный столбец содержит информацию о типе кузова автомобилей"
   ]
  },
  {
   "cell_type": "code",
   "execution_count": 86,
   "id": "cb535b16",
   "metadata": {},
   "outputs": [
    {
     "data": {
      "text/plain": [
       "0                  Седан\n",
       "1                  Седан\n",
       "2        Универсал 5 дв.\n",
       "3                  Седан\n",
       "4                  Седан\n",
       "              ...       \n",
       "89373            Минивэн\n",
       "89374            Минивэн\n",
       "89375            Минивэн\n",
       "89376            Минивэн\n",
       "89377            Минивэн\n",
       "Name: bodyType, Length: 89378, dtype: object"
      ]
     },
     "execution_count": 86,
     "metadata": {},
     "output_type": "execute_result"
    }
   ],
   "source": [
    "df['bodyType']"
   ]
  },
  {
   "cell_type": "markdown",
   "id": "9d5eca42",
   "metadata": {},
   "source": [
    "Проверим на наличие пропусков"
   ]
  },
  {
   "cell_type": "code",
   "execution_count": 87,
   "id": "b8304db9",
   "metadata": {},
   "outputs": [
    {
     "data": {
      "text/plain": [
       "1"
      ]
     },
     "execution_count": 87,
     "metadata": {},
     "output_type": "execute_result"
    }
   ],
   "source": [
    "df['bodyType'].isna().sum()"
   ]
  },
  {
   "cell_type": "markdown",
   "id": "ea7abe64",
   "metadata": {},
   "source": [
    "Удалим строку с пропуском"
   ]
  },
  {
   "cell_type": "code",
   "execution_count": 88,
   "id": "69e03049",
   "metadata": {},
   "outputs": [],
   "source": [
    "df = df.dropna(subset=['bodyType'])"
   ]
  },
  {
   "cell_type": "markdown",
   "id": "c430aca0",
   "metadata": {},
   "source": [
    "Выведем все уникальные значения этого столбца"
   ]
  },
  {
   "cell_type": "code",
   "execution_count": 89,
   "id": "29b33fa6",
   "metadata": {},
   "outputs": [
    {
     "data": {
      "text/plain": [
       "array(['Седан', 'Универсал 5 дв.', 'Хэтчбек 5 дв. Sportback',\n",
       "       'Хэтчбек 3 дв.', 'Хэтчбек 5 дв.', 'Кабриолет', 'Купе',\n",
       "       'Лифтбек Sportback', 'Лифтбек', 'Седан Long', 'Внедорожник 5 дв.',\n",
       "       'Кабриолет Roadster', 'Седан 2 дв.', 'Седан Gran Coupe',\n",
       "       'Компактвэн', 'Компактвэн Gran Tourer', 'Лифтбек Gran Turismo',\n",
       "       'Хэтчбек 3 дв. Compact', 'Лифтбек Gran Coupe', 'Купе-хардтоп',\n",
       "       'Родстер Roadster', 'Родстер', 'Внедорожник 5 дв. ESV', 'Минивэн',\n",
       "       'Пикап Двойная кабина', 'Внедорожник 3 дв.',\n",
       "       'Пикап Одинарная кабина', 'Тарга', 'Пикап Двойная кабина Crew Cab',\n",
       "       'Пикап Двойная кабина Double',\n",
       "       'Пикап Одинарная кабина Regular Cab', 'Внедорожник 5 дв. EXT',\n",
       "       'Седан SRT8', 'Минивэн SWB', 'Минивэн Grand', 'Компактвэн Grand',\n",
       "       'Универсал 5 дв. CrossTourer', 'Минивэн Long', 'Минивэн XL',\n",
       "       'Микровэн Coach', 'Хэтчбек 5 дв. Best', 'Хэтчбек 5 дв. SRT4',\n",
       "       'Купе SRT', 'Седан SRT', 'Пикап Полуторная кабина',\n",
       "       'Пикап Двойная кабина Quad Cab',\n",
       "       'Пикап Полуторная кабина Quad Cab',\n",
       "       'Пикап Двойная кабина Crew Cab TRX',\n",
       "       'Пикап Полуторная кабина Club Cab',\n",
       "       'Пикап Двойная кабина Raptor SuperCrew',\n",
       "       'Пикап Двойная кабина CrewCab',\n",
       "       'Пикап Двойная кабина Raptor CrewCab',\n",
       "       'Пикап Двойная кабина Super Crew',\n",
       "       'Пикап Полуторная кабина Raptor', 'Пикап Двойная кабина SuperCrew',\n",
       "       'Кабриолет StreetKa', 'Пикап Двойная кабина Double Cab',\n",
       "       'Пикап Полуторная кабина Rap Cab', 'Компактвэн LWB',\n",
       "       'Компактвэн SWB', 'Минивэн LWB', 'Фастбек', 'Седан Type-S',\n",
       "       'Микровэн', 'Универсал 5 дв. Shuttle', 'Родстер del Sol',\n",
       "       'Компактвэн Spike', 'Минивэн Spada', 'Седан Limousine',\n",
       "       'Внедорожник 5 дв. Grand', 'Хэтчбек 4 дв.', 'Седан SWB',\n",
       "       'Седан LWB', 'Внедорожник 5 дв. SRT',\n",
       "       'Внедорожник 5 дв. Trackhawk', 'Внедорожник 5 дв. SRT8',\n",
       "       'Внедорожник открытый', 'Хэтчбек 5 дв. GT Line',\n",
       "       'Хэтчбек 5 дв. X-Line', 'Хэтчбек 5 дв. EU',\n",
       "       'Внедорожник 5 дв. Prime', 'Внедорожник 5 дв. L', 'Минивэн Brawny',\n",
       "       'Универсал 5 дв. S-Familia', 'Кабриолет JCW', 'Кабриолет Cooper S',\n",
       "       'Хэтчбек 3 дв. Cooper S', 'Универсал 5 дв. JCW',\n",
       "       'Универсал 5 дв. Cooper S', 'Внедорожник 5 дв. Cooper S',\n",
       "       'Внедорожник 5 дв. JCW', 'Купе Cooper S', 'Хэтчбек 3 дв. JCW',\n",
       "       'Хэтчбек 5 дв. Cooper S', 'Универсал 5 дв. Plus', 'Купе Asti',\n",
       "       'Минивэн Caravan Elgrand', 'Компактвэн Joy',\n",
       "       'Универсал 5 дв. California', 'Седан Latio', 'Хэтчбек 3 дв. GTC',\n",
       "       'Универсал 5 дв. Country Tourer', 'Минивэн L', 'Тарга Targa',\n",
       "       'Купе RS', 'Седан Stepway', 'Хэтчбек 5 дв. Stepway',\n",
       "       'Компактвэн RX4', 'Компактвэн Conquest', 'Седан 120',\n",
       "       'Хэтчбек 5 дв. Scout', 'Универсал 5 дв. Scout',\n",
       "       'Универсал 5 дв. Spaceback', 'Внедорожник 5 дв. tS',\n",
       "       'Хэтчбек 5 дв. XV', 'Внедорожник 5 дв. XL-7',\n",
       "       'Универсал 5 дв. Gita', 'Седан US Market', 'Седан Japan Market',\n",
       "       'Седан Gracia', 'Универсал 5 дв. Gracia', 'Седан-хардтоп',\n",
       "       'Универсал 5 дв. Fielder', 'Седан Axio', 'Седан-хардтоп Ceres',\n",
       "       'Хэтчбек 5 дв. Runx', 'Лифтбек Liftback', 'Седан Premio',\n",
       "       'Седан T140', 'Минивэн Lucida', 'Минивэн Emina', 'Минивэн Regius',\n",
       "       'Пикап Двойная кабина Double cab', 'Внедорожник 3 дв. 78',\n",
       "       'Внедорожник 5 дв. 76', 'Пикап Одинарная кабина 79',\n",
       "       'Внедорожник 5 дв. Arctic Trucks', 'Компактвэн Noah',\n",
       "       'Универсал 5 дв. Blit', 'Универсал 5 дв. Qualis',\n",
       "       'Внедорожник 5 дв. Long', 'Пикап Полуторная кабина Long Bed',\n",
       "       'Пикап Двойная кабина CrewMax', 'Универсал 5 дв. Ardeo',\n",
       "       'Компактвэн Life', 'Компактвэн Maxi', 'Компактвэн Life Maxi',\n",
       "       'Компактвэн Alltrack', 'Универсал 5 дв. Alltrack',\n",
       "       'Хэтчбек 5 дв. Cross', 'Внедорожник 5 дв. Allspace',\n",
       "       'Компактвэн Cross', 'Фургон', 'Фургон Kasten',\n",
       "       'Универсал 5 дв. XC', 'Внедорожник 5 дв. 110',\n",
       "       'Внедорожник 3 дв. 90', 'Хэтчбек 5 дв. Long',\n",
       "       'Универсал 5 дв. All-Terrain', 'Внедорожник 5 дв. 4x4',\n",
       "       'Лимузин Pullman', 'Минивэн Extralong', 'Минивэн Marco Polo',\n",
       "       'Минивэн Extra Long', 'Минивэн L2', 'Минивэн L3', 'Минивэн L1',\n",
       "       'Пикап Двойная кабина Sports'], dtype=object)"
      ]
     },
     "execution_count": 89,
     "metadata": {},
     "output_type": "execute_result"
    }
   ],
   "source": [
    "df['bodyType'].unique()"
   ]
  },
  {
   "cell_type": "markdown",
   "id": "8da7c5dd",
   "metadata": {},
   "source": [
    "Видно, что большинство видов кузова имеют специфичные названия. Однако стоит отметить, что первое слово каждого из этих значений несет наибольшую информацию. Удалим все слова, кроме первого, чтобы упростить этот столбец. Это поможет нам при обучении"
   ]
  },
  {
   "cell_type": "code",
   "execution_count": 90,
   "id": "56a4cb74",
   "metadata": {},
   "outputs": [],
   "source": [
    "df['bodyType'] = df['bodyType'].str.split().str[0]"
   ]
  },
  {
   "cell_type": "markdown",
   "id": "8ce39840",
   "metadata": {},
   "source": [
    "Выведем новые уникальные значения"
   ]
  },
  {
   "cell_type": "code",
   "execution_count": 91,
   "id": "5a7a37e5",
   "metadata": {},
   "outputs": [
    {
     "data": {
      "text/plain": [
       "array(['Седан', 'Универсал', 'Хэтчбек', 'Кабриолет', 'Купе', 'Лифтбек',\n",
       "       'Внедорожник', 'Компактвэн', 'Купе-хардтоп', 'Родстер', 'Минивэн',\n",
       "       'Пикап', 'Тарга', 'Микровэн', 'Фастбек', 'Седан-хардтоп', 'Фургон',\n",
       "       'Лимузин'], dtype=object)"
      ]
     },
     "execution_count": 91,
     "metadata": {},
     "output_type": "execute_result"
    }
   ],
   "source": [
    "df['bodyType'].unique()"
   ]
  },
  {
   "cell_type": "markdown",
   "id": "2873b461",
   "metadata": {},
   "source": [
    "Видно, что теперь он содержит более конкретную информацию о кузове автомобиля"
   ]
  },
  {
   "cell_type": "markdown",
   "id": "528c2168",
   "metadata": {},
   "source": [
    "### Столбец 'brand'"
   ]
  },
  {
   "cell_type": "markdown",
   "id": "d6af17ec",
   "metadata": {},
   "source": [
    "Данный столбец содержит информацию о марках автомобилей"
   ]
  },
  {
   "cell_type": "code",
   "execution_count": 92,
   "id": "693d95b8",
   "metadata": {},
   "outputs": [
    {
     "data": {
      "text/plain": [
       "0              AUDI\n",
       "1              AUDI\n",
       "2              AUDI\n",
       "3              AUDI\n",
       "4              AUDI\n",
       "            ...    \n",
       "89373    SSANG_YONG\n",
       "89374    SSANG_YONG\n",
       "89375    SSANG_YONG\n",
       "89376    SSANG_YONG\n",
       "89377    SSANG_YONG\n",
       "Name: brand, Length: 89377, dtype: object"
      ]
     },
     "execution_count": 92,
     "metadata": {},
     "output_type": "execute_result"
    }
   ],
   "source": [
    "df['brand']"
   ]
  },
  {
   "cell_type": "markdown",
   "id": "2f89cfde",
   "metadata": {},
   "source": [
    "Выведем количество значений NaN"
   ]
  },
  {
   "cell_type": "code",
   "execution_count": 93,
   "id": "cae4cb9b",
   "metadata": {},
   "outputs": [
    {
     "data": {
      "text/plain": [
       "0"
      ]
     },
     "execution_count": 93,
     "metadata": {},
     "output_type": "execute_result"
    }
   ],
   "source": [
    "df['brand'].isna().sum() "
   ]
  },
  {
   "cell_type": "markdown",
   "id": "3cc8b31f",
   "metadata": {},
   "source": [
    "Выведем количество уникальных значений для этого столбца"
   ]
  },
  {
   "cell_type": "code",
   "execution_count": 94,
   "id": "bb05ba2e",
   "metadata": {},
   "outputs": [
    {
     "data": {
      "text/plain": [
       "36"
      ]
     },
     "execution_count": 94,
     "metadata": {},
     "output_type": "execute_result"
    }
   ],
   "source": [
    "df['brand'].nunique()"
   ]
  },
  {
   "cell_type": "markdown",
   "id": "f4b3850d",
   "metadata": {},
   "source": [
    "Выведем все уникальные значения этого столбца"
   ]
  },
  {
   "cell_type": "code",
   "execution_count": 95,
   "id": "4a58750e",
   "metadata": {},
   "outputs": [
    {
     "data": {
      "text/plain": [
       "array(['AUDI', 'BMW', 'CADILLAC', 'CHERY', 'CHEVROLET', 'CHRYSLER',\n",
       "       'CITROEN', 'DAEWOO', 'DODGE', 'FORD', 'GEELY', 'HONDA', 'HYUNDAI',\n",
       "       'INFINITI', 'JAGUAR', 'JEEP', 'KIA', 'LEXUS', 'MAZDA', 'MINI',\n",
       "       'MITSUBISHI', 'NISSAN', 'OPEL', 'PEUGEOT', 'PORSCHE', 'RENAULT',\n",
       "       'SKODA', 'SUBARU', 'SUZUKI', 'TOYOTA', 'VOLKSWAGEN', 'VOLVO',\n",
       "       'GREAT_WALL', 'LAND_ROVER', 'MERCEDES', 'SSANG_YONG'], dtype=object)"
      ]
     },
     "execution_count": 95,
     "metadata": {},
     "output_type": "execute_result"
    }
   ],
   "source": [
    "df['brand'].unique()"
   ]
  },
  {
   "cell_type": "markdown",
   "id": "08dd2f5b",
   "metadata": {},
   "source": [
    "### Столбец 'color'"
   ]
  },
  {
   "cell_type": "markdown",
   "id": "653f9279",
   "metadata": {},
   "source": [
    "Данный столбец содержит информацию о цвете автомобилей"
   ]
  },
  {
   "cell_type": "code",
   "execution_count": 96,
   "id": "76597739",
   "metadata": {},
   "outputs": [
    {
     "data": {
      "text/plain": [
       "0        040001\n",
       "1        EE1D19\n",
       "2        0000CC\n",
       "3        CACECB\n",
       "4        040001\n",
       "          ...  \n",
       "89373    040001\n",
       "89374    CACECB\n",
       "89375    040001\n",
       "89376    97948F\n",
       "89377    FAFBFB\n",
       "Name: color, Length: 89377, dtype: object"
      ]
     },
     "execution_count": 96,
     "metadata": {},
     "output_type": "execute_result"
    }
   ],
   "source": [
    "df['color']"
   ]
  },
  {
   "cell_type": "markdown",
   "id": "7d8f98cc",
   "metadata": {},
   "source": [
    "Выведем количество значений NaN"
   ]
  },
  {
   "cell_type": "code",
   "execution_count": 97,
   "id": "94a9ad56",
   "metadata": {},
   "outputs": [
    {
     "data": {
      "text/plain": [
       "0"
      ]
     },
     "execution_count": 97,
     "metadata": {},
     "output_type": "execute_result"
    }
   ],
   "source": [
    "df['color'].isna().sum()"
   ]
  },
  {
   "cell_type": "markdown",
   "id": "8d795ae6",
   "metadata": {},
   "source": [
    "Выведем все уникальные значения этого столбца"
   ]
  },
  {
   "cell_type": "code",
   "execution_count": 98,
   "id": "aba26743",
   "metadata": {},
   "outputs": [
    {
     "data": {
      "text/plain": [
       "array(['040001', 'EE1D19', '0000CC', 'CACECB', '007F00', 'FAFBFB',\n",
       "       '97948F', '22A0F8', '660099', '200204', 'C49648', 'DEA522',\n",
       "       '4A2197', 'FFD600', 'FF8649', 'FFC0CB'], dtype=object)"
      ]
     },
     "execution_count": 98,
     "metadata": {},
     "output_type": "execute_result"
    }
   ],
   "source": [
    "df['color'].unique()"
   ]
  },
  {
   "cell_type": "markdown",
   "id": "8a5fa63c",
   "metadata": {},
   "source": [
    "### Столбец 'fuelType'"
   ]
  },
  {
   "cell_type": "markdown",
   "id": "73950537",
   "metadata": {},
   "source": [
    "Данный столбец содержит информацию о типе топлива автомобилей"
   ]
  },
  {
   "cell_type": "code",
   "execution_count": 99,
   "id": "8adfe901",
   "metadata": {},
   "outputs": [
    {
     "data": {
      "text/plain": [
       "0        бензин\n",
       "1        бензин\n",
       "2        бензин\n",
       "3        бензин\n",
       "4        бензин\n",
       "          ...  \n",
       "89373    дизель\n",
       "89374    дизель\n",
       "89375    дизель\n",
       "89376    дизель\n",
       "89377    дизель\n",
       "Name: fuelType, Length: 89377, dtype: object"
      ]
     },
     "execution_count": 99,
     "metadata": {},
     "output_type": "execute_result"
    }
   ],
   "source": [
    "df['fuelType']"
   ]
  },
  {
   "cell_type": "markdown",
   "id": "60193d5e",
   "metadata": {},
   "source": [
    "Выведем количество значений NaN"
   ]
  },
  {
   "cell_type": "code",
   "execution_count": 100,
   "id": "fc5efbd9",
   "metadata": {},
   "outputs": [
    {
     "data": {
      "text/plain": [
       "0"
      ]
     },
     "execution_count": 100,
     "metadata": {},
     "output_type": "execute_result"
    }
   ],
   "source": [
    "df['fuelType'].isna().sum()"
   ]
  },
  {
   "cell_type": "markdown",
   "id": "83115164",
   "metadata": {},
   "source": [
    "Выведем все уникальные значения этого столбца"
   ]
  },
  {
   "cell_type": "code",
   "execution_count": 101,
   "id": "9399c351",
   "metadata": {},
   "outputs": [
    {
     "data": {
      "text/plain": [
       "array(['бензин', 'дизель', 'электро', 'гибрид', 'газ'], dtype=object)"
      ]
     },
     "execution_count": 101,
     "metadata": {},
     "output_type": "execute_result"
    }
   ],
   "source": [
    "df['fuelType'].unique()"
   ]
  },
  {
   "cell_type": "markdown",
   "id": "e4487a8c",
   "metadata": {},
   "source": [
    "### Столбец 'modelDate'"
   ]
  },
  {
   "cell_type": "markdown",
   "id": "91a9ec94",
   "metadata": {},
   "source": [
    "Данный столбец содержит информацию о годе каждой модели"
   ]
  },
  {
   "cell_type": "code",
   "execution_count": 102,
   "id": "ff2024ea",
   "metadata": {},
   "outputs": [
    {
     "data": {
      "text/plain": [
       "0        1990.0\n",
       "1        1982.0\n",
       "2        1988.0\n",
       "3        1988.0\n",
       "4        1990.0\n",
       "          ...  \n",
       "89373    2004.0\n",
       "89374    2004.0\n",
       "89375    2013.0\n",
       "89376    2013.0\n",
       "89377    2013.0\n",
       "Name: modelDate, Length: 89377, dtype: float64"
      ]
     },
     "execution_count": 102,
     "metadata": {},
     "output_type": "execute_result"
    }
   ],
   "source": [
    "df['modelDate']"
   ]
  },
  {
   "cell_type": "markdown",
   "id": "222e4633",
   "metadata": {},
   "source": [
    "Выведем количество значений NaN"
   ]
  },
  {
   "cell_type": "code",
   "execution_count": 103,
   "id": "cfc957ad",
   "metadata": {},
   "outputs": [
    {
     "data": {
      "text/plain": [
       "0"
      ]
     },
     "execution_count": 103,
     "metadata": {},
     "output_type": "execute_result"
    }
   ],
   "source": [
    "df['modelDate'].isna().sum()"
   ]
  },
  {
   "cell_type": "markdown",
   "id": "66158da2",
   "metadata": {},
   "source": [
    "Выведем количество уникальных значений для этого столбца"
   ]
  },
  {
   "cell_type": "code",
   "execution_count": 104,
   "id": "3705bb3f",
   "metadata": {},
   "outputs": [
    {
     "data": {
      "text/plain": [
       "78"
      ]
     },
     "execution_count": 104,
     "metadata": {},
     "output_type": "execute_result"
    }
   ],
   "source": [
    "df['modelDate'].nunique()"
   ]
  },
  {
   "cell_type": "markdown",
   "id": "701d6836",
   "metadata": {},
   "source": [
    "Построем график распределения даты выпуска автомобилей"
   ]
  },
  {
   "cell_type": "code",
   "execution_count": 105,
   "id": "c49be610",
   "metadata": {},
   "outputs": [
    {
     "data": {
      "image/png": "[encoded data removed]",
      "text/plain": [
       "<Figure size 720x432 with 1 Axes>"
      ]
     },
     "metadata": {},
     "output_type": "display_data"
    }
   ],
   "source": [
    "sns.set_style('whitegrid')\n",
    "fig, ax = plt.subplots(figsize=(10, 6))\n",
    "\n",
    "sns.histplot(x=df['modelDate'], ax=ax, kde=False, color='#4c72b0', binwidth=1)\n",
    "ax.set_xlabel('Дата выпуска', fontsize=12)\n",
    "ax.set_ylabel('Количество', fontsize=12)\n",
    "ax.set_title('Распределение даты выпуска автомобилей', fontsize=18, color='#c44e52')\n",
    "ax.tick_params(axis='both', labelsize=10)\n",
    "\n",
    "plt.show()"
   ]
  },
  {
   "cell_type": "markdown",
   "id": "f8bf7818",
   "metadata": {},
   "source": [
    "Удалим выбросы из данного столбца"
   ]
  },
  {
   "cell_type": "code",
   "execution_count": 106,
   "id": "114f559b",
   "metadata": {},
   "outputs": [
    {
     "name": "stdout",
     "output_type": "stream",
     "text": [
      "1986.3535477498792 2030.953153540733\n"
     ]
    }
   ],
   "source": [
    "mean = np.log(df['modelDate']).mean()\n",
    "std = np.log(df['modelDate']).std()\n",
    "\n",
    "# определяем выбросы\n",
    "lower_bound = np.exp(mean - 3 * std)\n",
    "upper_bound = np.exp(mean + 3 * std)\n",
    "\n",
    "print(lower_bound, upper_bound)"
   ]
  },
  {
   "cell_type": "markdown",
   "id": "dfc14ce3",
   "metadata": {},
   "source": [
    "Выведем количество строк, которые будем удалять"
   ]
  },
  {
   "cell_type": "code",
   "execution_count": 107,
   "id": "b69f34f8",
   "metadata": {},
   "outputs": [
    {
     "data": {
      "text/plain": [
       "88543"
      ]
     },
     "execution_count": 107,
     "metadata": {},
     "output_type": "execute_result"
    }
   ],
   "source": [
    "df.loc[df['modelDate'] > lower_bound].shape[0]"
   ]
  },
  {
   "cell_type": "markdown",
   "id": "9816b2a5",
   "metadata": {},
   "source": [
    "Удалим строки"
   ]
  },
  {
   "cell_type": "code",
   "execution_count": 108,
   "id": "3c5c23e5",
   "metadata": {},
   "outputs": [],
   "source": [
    "df = df.loc[df['modelDate'] > lower_bound]"
   ]
  },
  {
   "cell_type": "markdown",
   "id": "9ed9cd71",
   "metadata": {},
   "source": [
    "Новое количество строк"
   ]
  },
  {
   "cell_type": "code",
   "execution_count": 109,
   "id": "b118694f",
   "metadata": {},
   "outputs": [
    {
     "data": {
      "text/plain": [
       "88543"
      ]
     },
     "execution_count": 109,
     "metadata": {},
     "output_type": "execute_result"
    }
   ],
   "source": [
    "df.shape[0]"
   ]
  },
  {
   "cell_type": "markdown",
   "id": "6d7683c5",
   "metadata": {},
   "source": [
    "Построим график распределения дат с новыми данными"
   ]
  },
  {
   "cell_type": "code",
   "execution_count": 110,
   "id": "ff9a9ef8",
   "metadata": {},
   "outputs": [
    {
     "data": {
      "image/png": "[encoded data removed]",
      "text/plain": [
       "<Figure size 720x432 with 1 Axes>"
      ]
     },
     "metadata": {},
     "output_type": "display_data"
    }
   ],
   "source": [
    "sns.set_style('whitegrid')\n",
    "fig, ax = plt.subplots(figsize=(10, 6))\n",
    "\n",
    "sns.histplot(x=df['modelDate'], ax=ax, kde=False, color='#4c72b0', binwidth=1)\n",
    "ax.set_xlabel('Дата выпуска', fontsize=12)\n",
    "ax.set_ylabel('Количество', fontsize=12)\n",
    "ax.set_title('Распределение даты выпуска автомобилей', fontsize=18, color='#c44e52')\n",
    "ax.tick_params(axis='both', labelsize=10)\n",
    "\n",
    "plt.show()"
   ]
  },
  {
   "cell_type": "markdown",
   "id": "eb6addb8",
   "metadata": {},
   "source": [
    "### Столбец 'name'"
   ]
  },
  {
   "cell_type": "markdown",
   "id": "08762a8b",
   "metadata": {},
   "source": [
    "Данный столбец содержит информацию о названии автомобилей"
   ]
  },
  {
   "cell_type": "code",
   "execution_count": 111,
   "id": "4b147b7c",
   "metadata": {},
   "outputs": [
    {
     "data": {
      "text/plain": [
       "0         2.8 MT (174 л.с.) 4WD\n",
       "2         2.3 MT (136 л.с.) 4WD\n",
       "3              1.8 MT (90 л.с.)\n",
       "4             2.0 MT (101 л.с.)\n",
       "5             2.8 MT (174 л.с.)\n",
       "                  ...          \n",
       "89373    2.7d AT (163 л.с.) 4WD\n",
       "89374    2.7d AT (163 л.с.) 4WD\n",
       "89375    2.0d AT (149 л.с.) 4WD\n",
       "89376    2.0d AT (149 л.с.) 4WD\n",
       "89377    2.0d AT (149 л.с.) 4WD\n",
       "Name: name, Length: 88543, dtype: object"
      ]
     },
     "execution_count": 111,
     "metadata": {},
     "output_type": "execute_result"
    }
   ],
   "source": [
    "df['name']"
   ]
  },
  {
   "cell_type": "markdown",
   "id": "db8b2625",
   "metadata": {},
   "source": [
    "Выведем количество значений NaN"
   ]
  },
  {
   "cell_type": "code",
   "execution_count": 112,
   "id": "40700b89",
   "metadata": {},
   "outputs": [
    {
     "data": {
      "text/plain": [
       "0"
      ]
     },
     "execution_count": 112,
     "metadata": {},
     "output_type": "execute_result"
    }
   ],
   "source": [
    "df['name'].isna().sum()"
   ]
  },
  {
   "cell_type": "markdown",
   "id": "6286b985",
   "metadata": {},
   "source": [
    "Выведем количество уникальных значений для этого столбца"
   ]
  },
  {
   "cell_type": "code",
   "execution_count": 113,
   "id": "07edbd4d",
   "metadata": {},
   "outputs": [
    {
     "data": {
      "text/plain": [
       "4201"
      ]
     },
     "execution_count": 113,
     "metadata": {},
     "output_type": "execute_result"
    }
   ],
   "source": [
    "df['name'].nunique()"
   ]
  },
  {
   "cell_type": "markdown",
   "id": "7cb6b365",
   "metadata": {},
   "source": [
    "### Столбец 'numberOfDoors'"
   ]
  },
  {
   "cell_type": "markdown",
   "id": "44322b00",
   "metadata": {},
   "source": [
    "Данный столбец содержит информацию о количестве дверей автомобилей"
   ]
  },
  {
   "cell_type": "code",
   "execution_count": 114,
   "id": "d1f7ed83",
   "metadata": {},
   "outputs": [
    {
     "data": {
      "text/plain": [
       "0        4.0\n",
       "2        5.0\n",
       "3        4.0\n",
       "4        4.0\n",
       "5        4.0\n",
       "        ... \n",
       "89373    5.0\n",
       "89374    5.0\n",
       "89375    5.0\n",
       "89376    5.0\n",
       "89377    5.0\n",
       "Name: numberOfDoors, Length: 88543, dtype: float64"
      ]
     },
     "execution_count": 114,
     "metadata": {},
     "output_type": "execute_result"
    }
   ],
   "source": [
    "df['numberOfDoors']"
   ]
  },
  {
   "cell_type": "markdown",
   "id": "7f226459",
   "metadata": {},
   "source": [
    "Выведем количество значений NaN"
   ]
  },
  {
   "cell_type": "code",
   "execution_count": 115,
   "id": "e4487d3c",
   "metadata": {},
   "outputs": [
    {
     "data": {
      "text/plain": [
       "0"
      ]
     },
     "execution_count": 115,
     "metadata": {},
     "output_type": "execute_result"
    }
   ],
   "source": [
    "df['numberOfDoors'].isna().sum()"
   ]
  },
  {
   "cell_type": "markdown",
   "id": "b72d9c1c",
   "metadata": {},
   "source": [
    "Выведем все уникальные значения для данного столбца"
   ]
  },
  {
   "cell_type": "code",
   "execution_count": 116,
   "id": "52460e88",
   "metadata": {},
   "outputs": [
    {
     "data": {
      "text/plain": [
       "array([4., 5., 3., 2.])"
      ]
     },
     "execution_count": 116,
     "metadata": {},
     "output_type": "execute_result"
    }
   ],
   "source": [
    "df['numberOfDoors'].unique()"
   ]
  },
  {
   "cell_type": "markdown",
   "id": "f19a3087",
   "metadata": {},
   "source": [
    "### Столбец 'productionDate'"
   ]
  },
  {
   "cell_type": "markdown",
   "id": "dab1da6d",
   "metadata": {},
   "source": [
    "Данный столбец содержит информацию о дате выпуска автомобилей"
   ]
  },
  {
   "cell_type": "code",
   "execution_count": 117,
   "id": "0e9dd7d5",
   "metadata": {},
   "outputs": [
    {
     "data": {
      "text/plain": [
       "0        1991\n",
       "2        1989\n",
       "3        1989\n",
       "4        1991\n",
       "5        1993\n",
       "         ... \n",
       "89373    2006\n",
       "89374    2007\n",
       "89375    2014\n",
       "89376    2013\n",
       "89377    2014\n",
       "Name: productionDate, Length: 88543, dtype: int64"
      ]
     },
     "execution_count": 117,
     "metadata": {},
     "output_type": "execute_result"
    }
   ],
   "source": [
    "df['productionDate']"
   ]
  },
  {
   "cell_type": "markdown",
   "id": "49944e58",
   "metadata": {},
   "source": [
    "Выведем количество значений NaN"
   ]
  },
  {
   "cell_type": "code",
   "execution_count": 118,
   "id": "85bc4ac0",
   "metadata": {},
   "outputs": [
    {
     "data": {
      "text/plain": [
       "0"
      ]
     },
     "execution_count": 118,
     "metadata": {},
     "output_type": "execute_result"
    }
   ],
   "source": [
    "df['productionDate'].isna().sum()"
   ]
  },
  {
   "cell_type": "markdown",
   "id": "73247371",
   "metadata": {},
   "source": [
    "Построим график распределения даты выпуска автомобилей"
   ]
  },
  {
   "cell_type": "code",
   "execution_count": 119,
   "id": "05fbe9fb",
   "metadata": {},
   "outputs": [
    {
     "data": {
      "image/png": "[encoded data removed]",
      "text/plain": [
       "<Figure size 720x432 with 1 Axes>"
      ]
     },
     "metadata": {},
     "output_type": "display_data"
    }
   ],
   "source": [
    "sns.set_style('whitegrid')\n",
    "fig, ax = plt.subplots(figsize=(10, 6))\n",
    "\n",
    "sns.histplot(x=df['productionDate'], ax=ax, kde=False, color='#4c72b0', binwidth=1)\n",
    "ax.set_xlabel('Дата выпуска', fontsize=12)\n",
    "ax.set_ylabel('Количество', fontsize=12)\n",
    "ax.set_title('Распределение даты выпуска автомобилей', fontsize=18, color='#c44e52')\n",
    "ax.tick_params(axis='both', labelsize=10)\n",
    "\n",
    "plt.show()"
   ]
  },
  {
   "cell_type": "markdown",
   "id": "5577119e",
   "metadata": {},
   "source": [
    "### Столбец 'vehicleTransmission'"
   ]
  },
  {
   "cell_type": "markdown",
   "id": "c2c14106",
   "metadata": {},
   "source": [
    "Данный столбец содержит информацию о коробке передач автомобилей"
   ]
  },
  {
   "cell_type": "code",
   "execution_count": 120,
   "id": "6169fcd9",
   "metadata": {},
   "outputs": [
    {
     "data": {
      "text/plain": [
       "0        MECHANICAL\n",
       "2        MECHANICAL\n",
       "3        MECHANICAL\n",
       "4        MECHANICAL\n",
       "5        MECHANICAL\n",
       "            ...    \n",
       "89373     AUTOMATIC\n",
       "89374     AUTOMATIC\n",
       "89375     AUTOMATIC\n",
       "89376     AUTOMATIC\n",
       "89377     AUTOMATIC\n",
       "Name: vehicleTransmission, Length: 88543, dtype: object"
      ]
     },
     "execution_count": 120,
     "metadata": {},
     "output_type": "execute_result"
    }
   ],
   "source": [
    "df['vehicleTransmission']"
   ]
  },
  {
   "cell_type": "markdown",
   "id": "ffe7197f",
   "metadata": {},
   "source": [
    "Выведем количество значения NaN для данного столбца"
   ]
  },
  {
   "cell_type": "code",
   "execution_count": 121,
   "id": "24a27b0a",
   "metadata": {},
   "outputs": [
    {
     "data": {
      "text/plain": [
       "0"
      ]
     },
     "execution_count": 121,
     "metadata": {},
     "output_type": "execute_result"
    }
   ],
   "source": [
    "df['vehicleTransmission'].isna().sum()"
   ]
  },
  {
   "cell_type": "markdown",
   "id": "1f4d5e86",
   "metadata": {},
   "source": [
    "Выведем все уникальные значения для данного столбца"
   ]
  },
  {
   "cell_type": "code",
   "execution_count": 122,
   "id": "7d01bb08",
   "metadata": {},
   "outputs": [
    {
     "data": {
      "text/plain": [
       "array(['MECHANICAL', 'AUTOMATIC', 'ROBOT', 'VARIATOR'], dtype=object)"
      ]
     },
     "execution_count": 122,
     "metadata": {},
     "output_type": "execute_result"
    }
   ],
   "source": [
    "df['vehicleTransmission'].unique()"
   ]
  },
  {
   "cell_type": "markdown",
   "id": "e5dc213e",
   "metadata": {},
   "source": [
    "### Столбец 'engineDisplacement'"
   ]
  },
  {
   "cell_type": "markdown",
   "id": "435c4127",
   "metadata": {},
   "source": [
    "Данный столбец содержит информацию о вместимости двигателей автомобилей"
   ]
  },
  {
   "cell_type": "code",
   "execution_count": 123,
   "id": "18b6719b",
   "metadata": {},
   "outputs": [
    {
     "data": {
      "text/plain": [
       "0         2.8\n",
       "2         2.3\n",
       "3         1.8\n",
       "4         2.0\n",
       "5         2.8\n",
       "         ... \n",
       "89373    2.7d\n",
       "89374    2.7d\n",
       "89375    2.0d\n",
       "89376    2.0d\n",
       "89377    2.0d\n",
       "Name: engineDisplacement, Length: 88543, dtype: object"
      ]
     },
     "execution_count": 123,
     "metadata": {},
     "output_type": "execute_result"
    }
   ],
   "source": [
    "df['engineDisplacement']"
   ]
  },
  {
   "cell_type": "markdown",
   "id": "8c3fe4a1",
   "metadata": {},
   "source": [
    "Выведем количество значений NaN"
   ]
  },
  {
   "cell_type": "code",
   "execution_count": 124,
   "id": "ef6d631b",
   "metadata": {},
   "outputs": [
    {
     "data": {
      "text/plain": [
       "0"
      ]
     },
     "execution_count": 124,
     "metadata": {},
     "output_type": "execute_result"
    }
   ],
   "source": [
    "df['engineDisplacement'].isna().sum()"
   ]
  },
  {
   "cell_type": "markdown",
   "id": "8cb5f478",
   "metadata": {},
   "source": [
    "Выдедем количество уникальных значений для данного столбца"
   ]
  },
  {
   "cell_type": "code",
   "execution_count": 125,
   "id": "fd1b32be",
   "metadata": {},
   "outputs": [
    {
     "data": {
      "text/plain": [
       "518"
      ]
     },
     "execution_count": 125,
     "metadata": {},
     "output_type": "execute_result"
    }
   ],
   "source": [
    "df['engineDisplacement'].nunique()"
   ]
  },
  {
   "cell_type": "markdown",
   "id": "ad6ee8dd",
   "metadata": {},
   "source": [
    "Выведем все уникальные значения для данного столбца"
   ]
  },
  {
   "cell_type": "code",
   "execution_count": 126,
   "id": "7664c043",
   "metadata": {},
   "outputs": [
    {
     "data": {
      "text/plain": [
       "array(['2.8', '2.3', '1.8', '2.0', '2.6', '2.2', 'S4', '2.5d', '1.9d',\n",
       "       '1.6', '1.4', '1.2d', 'ultra', '1.2', '3.2', '1.5', '2.0d', '8V',\n",
       "       '3.1', '2.4', '16V', '3.0d', '2.7d', '3.0', '7S-tronic',\n",
       "       'tiptronic', '40', '45', '55', '2.7', '4.2', 'S-tronic',\n",
       "       'Tiptronic', 'Long', '4.0', '60', '3.9d', '6.0', '3.7', '4.1d',\n",
       "       '35', '8tiptronic', 'clean', '2.0hyb', '3.6', '5.9d', 'V10', 'V8',\n",
       "       '2.5', '2.9', '5.0', '5.2', 'M135i', '116i', '120i', '118i',\n",
       "       '135i', 'M140i', '125i', '120d', '130i', '118d', '218i', '220i',\n",
       "       '220d', 'M235i', '218d', '216d', '335i', '320i', '318i', '318d',\n",
       "       '320d', '316i', '328i', '330i', '325xi', '325i', '330d', '323i',\n",
       "       '340i', '335d', '335xi', '330xi', 'N46', '420d', '428i', '420i',\n",
       "       '435i', '430i', '440i', '520d', '530d', '525i', '523i', '520i',\n",
       "       '530i', '525d', '528i', '550i', '535d', 'M550i', 'M550d', '540i',\n",
       "       '535i', '530xi', '530Li', '525xi', '520Li', '528Li', '535xi',\n",
       "       '545i', '524d', '518i', '535Li', '530xd', '630i', '640i', '650i',\n",
       "       '640d', '630d', '620d', '645i', '750d', '740i', '730Ld', '750i',\n",
       "       '750Li', '740Li', '730d', '730i', '740d', '750Ld', '730Li',\n",
       "       'M760Li', '740Ld', 'Active', '760Li', '735i', '745d', '728i',\n",
       "       '728Li', '760i', '745i', '745Li', '735Li', '725d', 'M850i', '840d',\n",
       "       '840i', '850i', '94Ah', 'Electro', 'S', '0.7hyb', '1.5hyb', '3.3',\n",
       "       'Competition', '4.4', '4.9', '18i', '20i', '18d', '20d', '25d',\n",
       "       '28i', '23d', '25i', 'sDrive18i', 'xDrive20i', 'xDrive18d',\n",
       "       'xDrive20d', '30d', 'M40d', '30i', '35i', 'M40i', '35d', 'M50d',\n",
       "       '40i', '48i', '3.0sd', '50i', '3.0i', '40d', 'M50i', '4.4i',\n",
       "       '4.8i', '3.0si', '4.8is', '40e', '4.6is', 'ActiveHybrid', '1.9',\n",
       "       '23i', '35is', '6.2', '4.6', 'ESV', '5.3', '5.7', '6-speed',\n",
       "       '5-speed', '1.3', '1.1', '0.8', '3.4', '8.1', '4.3', 'SS', 'ZL1',\n",
       "       '2.2d', 'Stingray', 'Z06', '3.8', '1.7', '6.6d', 'Double', '1.0',\n",
       "       'EV', '7.5', '7.4', '6AT', '6.5d', '2.8d', 'EXT', '1.4hyb', 'SRT8',\n",
       "       '3.5', 'Fifth', '3.6hyb', 'SWB', 'Grand', '1.6d', '5-doors',\n",
       "       'Донинвест', '1.4d', 'SensoDrive', 'Aircross', 'Triomphe',\n",
       "       'Hydractive', 'CrossTourer', 'XL', '2.1d', 'Best', 'SRT-4', 'R__T',\n",
       "       'Hellcat', 'SRT', '3.9', '4.7', 'Crew', '6.4', '6.7d', 'SRT-10',\n",
       "       '1.8d', '5.4', '5.8', '7.3d', '2.3hyb', '6.8', 'Sport', 'Raptor',\n",
       "       'SVT', 'KAT', 'Electric', 'ST170', 'StreetKa', 'PowerShift',\n",
       "       'ST220', 'Shelby', '3.2d', 'SHO', 'LWB', 'Type', '0.7', 'Hybrid',\n",
       "       'AMT', 'Shuttle', 'del', 'Spike', '1.3hyb', 'Spada', 'ТагАЗ',\n",
       "       '1.5d', 'Prime', 'Limousine', '1.7d', 'Classic', '2.6d', '2.9d',\n",
       "       'EX25', 'EX35', 'EX37', 'FX37', 'FX35', 'FX50', 'FX45', 'FX30d',\n",
       "       'FX', 'G37', 'G35', 'G25', 'G20', 'I30', 'JX35', 'M37', 'M35',\n",
       "       'M56', 'M25', 'M45', 'Q45', '3.5hyb', '5.6', '2.5hyb', 'SVR', 'R',\n",
       "       '2.1', 'TrailHawk', 'Trackhawk', '3.1d', '5.9', 'Trailhawk',\n",
       "       '4-speed', '8-speed', '2.4hyb', 'GT', 'X-Line', '200h', '250',\n",
       "       '200', '300', '350', '330', '300h', '450h', '430', '460', '470',\n",
       "       '250h', '200t', '250C', '400', '600h', '500', '570', '450d', '450',\n",
       "       '270', '400h', '350L', 'Brawny', 'S-Wagon', 'Hard', 'Soft', 'John',\n",
       "       'Cooper', 'One', 'Grandis', 'CZ1', 'CZ2', 'Plus', 'CZ3', '2.3d',\n",
       "       'VR-4', 'Easy', '2.4d', 'Super', 'Cedia', 'PHEV', 'Cubic', '30kWh',\n",
       "       '1.2hyb', '4.2d', '4.8', 'Joy', '4.5', 'Latio', 'GTC', '1.3d',\n",
       "       'C16NZ', '16LZ2', 'X16SZR', 'CNG', 'GSi', 'Country', 'L', '+', '7',\n",
       "       'Carrera', 'Turbo', '4', '4S', 'RS', '4.6hyb', 'Diesel', 'GTS',\n",
       "       'E-Hybrid', '2.9hyb', 'Europa', 'Campus', 'Be', 'Stepway', 'RX4',\n",
       "       'Conquest', 'Scout', 'DSG7', 'DSG', 'ACT', 'tS', 'STi',\n",
       "       'S-Edition', 'XV', 'XL-7', 'US', 'Japan', 'Gracia', 'Prominent',\n",
       "       'GT-Four', 'Fielder', 'Axio', 'Ceres', 'Runx', 'i', 'SF', 'Premio',\n",
       "       '1.8hyb', 'Lucida', 'Emina', '3.3hyb', 'Regius', '4.5d', '105',\n",
       "       'Cygnus', '78', '76', '79', 'Arctic', 'Noah', 'Qualis', 'JDM',\n",
       "       'CrewMax', 'Ardeo', 'Multimode', 'full-time', 'part-time', 'Maxi',\n",
       "       'BiFuel', 'Alltrack', 'EcoFuel', '4MOTION', 'e-Golf', 'VR6',\n",
       "       'GTI\"35\"', '5-Seater', '4-Seater', '4.9d', 'Cross', 'Allspace',\n",
       "       '3.0hyb', '4.1', 'T-5R', 'Bi-Fuel', 'XC', 'G3', 'G5', 'G1', '110',\n",
       "       'Base', '90', '130', 'Ingenium', 'Supercharged', '3.6d', '4.4d',\n",
       "       '9-speed', 'HST', '180', '160', '150', '170', '220', '140', '210',\n",
       "       'C', '63', '53', '43', '230', '240', '280', '320', '109', '550',\n",
       "       '600', '420', '65', 'All-Terrain', '290', '50', 'Brabus', '560',\n",
       "       '650', 'Pullman', 'L1', 'L3', 'L2', 'Marco', '121', '113', '111',\n",
       "       '119', '114', '112', '108', '115', '116', 'Sports'], dtype=object)"
      ]
     },
     "execution_count": 126,
     "metadata": {},
     "output_type": "execute_result"
    }
   ],
   "source": [
    "df['engineDisplacement'].unique()"
   ]
  },
  {
   "cell_type": "markdown",
   "id": "537a8b1f",
   "metadata": {},
   "source": [
    "### Столбец 'enginePower'"
   ]
  },
  {
   "cell_type": "markdown",
   "id": "84450fd3",
   "metadata": {},
   "source": [
    "Данный столбец содержит информацию о мощности автомобилей"
   ]
  },
  {
   "cell_type": "code",
   "execution_count": 127,
   "id": "cc31d567",
   "metadata": {},
   "outputs": [
    {
     "data": {
      "text/plain": [
       "0        174.0\n",
       "2        136.0\n",
       "3         90.0\n",
       "4        101.0\n",
       "5        174.0\n",
       "         ...  \n",
       "89373    163.0\n",
       "89374    163.0\n",
       "89375    149.0\n",
       "89376    149.0\n",
       "89377    149.0\n",
       "Name: enginePower, Length: 88543, dtype: float64"
      ]
     },
     "execution_count": 127,
     "metadata": {},
     "output_type": "execute_result"
    }
   ],
   "source": [
    "df['enginePower']"
   ]
  },
  {
   "cell_type": "markdown",
   "id": "f4301625",
   "metadata": {},
   "source": [
    "Выведем количество значений NaN"
   ]
  },
  {
   "cell_type": "code",
   "execution_count": 128,
   "id": "06d40103",
   "metadata": {},
   "outputs": [
    {
     "data": {
      "text/plain": [
       "0"
      ]
     },
     "execution_count": 128,
     "metadata": {},
     "output_type": "execute_result"
    }
   ],
   "source": [
    "df['enginePower'].isna().sum()"
   ]
  },
  {
   "cell_type": "markdown",
   "id": "e91960e1",
   "metadata": {},
   "source": [
    "Построем график распределения мощности автомобилей"
   ]
  },
  {
   "cell_type": "code",
   "execution_count": 129,
   "id": "ca7bac30",
   "metadata": {},
   "outputs": [
    {
     "data": {
      "image/png": "[encoded data removed]",
      "text/plain": [
       "<Figure size 720x432 with 1 Axes>"
      ]
     },
     "metadata": {},
     "output_type": "display_data"
    }
   ],
   "source": [
    "sns.set_style('whitegrid')\n",
    "fig, ax = plt.subplots(figsize=(10, 6))\n",
    "\n",
    "sns.histplot(x=df['enginePower'], ax=ax, kde=False, color='#4c72b0', binwidth=20)\n",
    "ax.set_xlabel('Дата выпуска', fontsize=12)\n",
    "ax.set_ylabel('Количество', fontsize=12)\n",
    "ax.set_title('Распределение даты выпуска автомобилей', fontsize=18, color='#c44e52')\n",
    "ax.tick_params(axis='both', labelsize=10)\n",
    "\n",
    "plt.show()"
   ]
  },
  {
   "cell_type": "markdown",
   "id": "a78b9aa3",
   "metadata": {},
   "source": [
    "Найдем и удалим выбросы"
   ]
  },
  {
   "cell_type": "code",
   "execution_count": 130,
   "id": "76a7b6c8",
   "metadata": {},
   "outputs": [
    {
     "name": "stdout",
     "output_type": "stream",
     "text": [
      "50.520191286213304 452.9872001146838\n"
     ]
    }
   ],
   "source": [
    "# вычисляем межквартильный размах\n",
    "q1 = np.log(df['enginePower']).quantile(0.25)\n",
    "q3 = np.log(df['enginePower']).quantile(0.75)\n",
    "iqr = q3 - q1\n",
    "\n",
    "# определяем выбросы\n",
    "lower_bound = np.exp(q1 - 1.5 * iqr)\n",
    "upper_bound = np.exp(q3 + 1.5 * iqr)\n",
    "\n",
    "print(lower_bound, upper_bound)"
   ]
  },
  {
   "cell_type": "markdown",
   "id": "3509f160",
   "metadata": {},
   "source": [
    "Выведем количество строк с выбросами"
   ]
  },
  {
   "cell_type": "code",
   "execution_count": 131,
   "id": "97fa8ca6",
   "metadata": {},
   "outputs": [
    {
     "data": {
      "text/plain": [
       "1237"
      ]
     },
     "execution_count": 131,
     "metadata": {},
     "output_type": "execute_result"
    }
   ],
   "source": [
    "df.loc[df['enginePower'] > upper_bound].shape[0]"
   ]
  },
  {
   "cell_type": "markdown",
   "id": "fba4a1a1",
   "metadata": {},
   "source": [
    "Удалим выбросы"
   ]
  },
  {
   "cell_type": "code",
   "execution_count": 132,
   "id": "143d2798",
   "metadata": {},
   "outputs": [],
   "source": [
    "df = df.loc[df['enginePower'] < upper_bound]"
   ]
  },
  {
   "cell_type": "code",
   "execution_count": 133,
   "id": "f0e0071c",
   "metadata": {},
   "outputs": [
    {
     "data": {
      "text/plain": [
       "87306"
      ]
     },
     "execution_count": 133,
     "metadata": {},
     "output_type": "execute_result"
    }
   ],
   "source": [
    "df.shape[0]"
   ]
  },
  {
   "cell_type": "markdown",
   "id": "c95bcb7e",
   "metadata": {},
   "source": [
    "Построем новый график распределния мощности"
   ]
  },
  {
   "cell_type": "code",
   "execution_count": 134,
   "id": "56b489cf",
   "metadata": {},
   "outputs": [
    {
     "data": {
      "image/png": "[encoded data removed]",
      "text/plain": [
       "<Figure size 720x432 with 1 Axes>"
      ]
     },
     "metadata": {},
     "output_type": "display_data"
    }
   ],
   "source": [
    "sns.set_style('whitegrid')\n",
    "fig, ax = plt.subplots(figsize=(10, 6))\n",
    "\n",
    "sns.histplot(x=df['enginePower'], ax=ax, kde=False, color='#4c72b0', binwidth=10)\n",
    "ax.set_xlabel('Мощность', fontsize=12)\n",
    "ax.set_ylabel('Количество', fontsize=12)\n",
    "ax.set_title('Распределение мощности двигателей автомобилей', fontsize=18, color='#c44e52')\n",
    "ax.tick_params(axis='both', labelsize=10)\n",
    "\n",
    "plt.show()"
   ]
  },
  {
   "cell_type": "markdown",
   "id": "c6160288",
   "metadata": {},
   "source": [
    "### Столбец 'description'"
   ]
  },
  {
   "cell_type": "markdown",
   "id": "ba0b7f44",
   "metadata": {},
   "source": [
    "Данный столбец содержит информацию о описании автомобилей из объявлений"
   ]
  },
  {
   "cell_type": "code",
   "execution_count": 135,
   "id": "5511cd3d",
   "metadata": {},
   "outputs": [
    {
     "data": {
      "text/plain": [
       "0         Машина  в приличном состоянии ,не гнилая не р...\n",
       "2        ПТС Оригинал!\\nПолный комплект ключей!\\nПо рез...\n",
       "3                                                      NaN\n",
       "4        Машина не гнилая, дыр нет, днище целое, даже в...\n",
       "5        Хорошая комплектация: климат, эл. стекла, эл. ...\n",
       "                               ...                        \n",
       "89373    СВЕТИТ КРУТИТ РАБОТАЕТ ВСЁ.  БЕЗ ТОРГА .В МОСК...\n",
       "89374    Автомобиль на ходу, каждый день в движении.\\nС...\n",
       "89375    Автомобиль куплен в декабре 2015 г., новым. Вс...\n",
       "89376    Продаю семейного любимца. Большой вместительны...\n",
       "89377    Авто в отличном состоянии всё работает. Большо...\n",
       "Name: description, Length: 87306, dtype: object"
      ]
     },
     "execution_count": 135,
     "metadata": {},
     "output_type": "execute_result"
    }
   ],
   "source": [
    "df['description']"
   ]
  },
  {
   "cell_type": "markdown",
   "id": "812c3690",
   "metadata": {},
   "source": [
    "Выведем количество значений NaN"
   ]
  },
  {
   "cell_type": "code",
   "execution_count": 136,
   "id": "2e2a2814",
   "metadata": {},
   "outputs": [
    {
     "data": {
      "text/plain": [
       "3183"
      ]
     },
     "execution_count": 136,
     "metadata": {},
     "output_type": "execute_result"
    }
   ],
   "source": [
    "df['description'].isna().sum()"
   ]
  },
  {
   "cell_type": "markdown",
   "id": "4b7634bd",
   "metadata": {},
   "source": [
    "Так как зачастую цена автомобиля зависит от полноты его описания, введем новый столбец куда включим количество символов в описании"
   ]
  },
  {
   "cell_type": "code",
   "execution_count": 137,
   "id": "eb2f5034",
   "metadata": {},
   "outputs": [],
   "source": [
    "df['description_len'] = df['description'].str.len()"
   ]
  },
  {
   "cell_type": "markdown",
   "id": "f94ea0b5",
   "metadata": {},
   "source": [
    "Пропуски заполним нулем"
   ]
  },
  {
   "cell_type": "code",
   "execution_count": 138,
   "id": "c62edff0",
   "metadata": {},
   "outputs": [],
   "source": [
    "df['description_len'] = df['description_len'].fillna(0)"
   ]
  },
  {
   "cell_type": "markdown",
   "id": "b1aa0c4c",
   "metadata": {},
   "source": [
    "Построем график распределения количества символов в описании"
   ]
  },
  {
   "cell_type": "code",
   "execution_count": 139,
   "id": "071d7fc6",
   "metadata": {},
   "outputs": [
    {
     "data": {
      "image/png": "[encoded data removed]",
      "text/plain": [
       "<Figure size 720x432 with 1 Axes>"
      ]
     },
     "metadata": {},
     "output_type": "display_data"
    }
   ],
   "source": [
    "sns.set_style('whitegrid')\n",
    "fig, ax = plt.subplots(figsize=(10, 6))\n",
    "\n",
    "sns.histplot(x=df['description_len'], ax=ax, kde=False, color='#4c72b0', binwidth=100)\n",
    "ax.set_xlabel('Длина описания', fontsize=12)\n",
    "ax.set_ylabel('Количество', fontsize=12)\n",
    "ax.set_title('Распределение длины описания объявления', fontsize=18, color='#c44e52')\n",
    "ax.tick_params(axis='both', labelsize=10)\n",
    "\n",
    "plt.show()"
   ]
  },
  {
   "cell_type": "markdown",
   "id": "e53e833d",
   "metadata": {},
   "source": [
    "Посчитаем кожффициент корреляции для этого столбца и цены"
   ]
  },
  {
   "cell_type": "code",
   "execution_count": 140,
   "id": "2d8fc377",
   "metadata": {},
   "outputs": [
    {
     "data": {
      "text/plain": [
       "nan"
      ]
     },
     "execution_count": 140,
     "metadata": {},
     "output_type": "execute_result"
    }
   ],
   "source": [
    "np.corrcoef(df['description_len'], df['price'])[0, 1]"
   ]
  },
  {
   "cell_type": "markdown",
   "id": "60256b6f",
   "metadata": {},
   "source": [
    "### Столбец 'mileage'"
   ]
  },
  {
   "cell_type": "markdown",
   "id": "8eb20655",
   "metadata": {},
   "source": [
    "Данный столбец содержит информацию о пробеге автомобилей"
   ]
  },
  {
   "cell_type": "code",
   "execution_count": 141,
   "id": "5791b75c",
   "metadata": {},
   "outputs": [
    {
     "data": {
      "text/plain": [
       "0        350000\n",
       "2        230000\n",
       "3        240000\n",
       "4        300000\n",
       "5        200000\n",
       "          ...  \n",
       "89373    260000\n",
       "89374    300000\n",
       "89375    126000\n",
       "89376     84000\n",
       "89377    144000\n",
       "Name: mileage, Length: 87306, dtype: int64"
      ]
     },
     "execution_count": 141,
     "metadata": {},
     "output_type": "execute_result"
    }
   ],
   "source": [
    "df['mileage']"
   ]
  },
  {
   "cell_type": "markdown",
   "id": "97ee3fd8",
   "metadata": {},
   "source": [
    "Выведем количество значений NaN"
   ]
  },
  {
   "cell_type": "code",
   "execution_count": 142,
   "id": "16bc2ae3",
   "metadata": {},
   "outputs": [
    {
     "data": {
      "text/plain": [
       "0"
      ]
     },
     "execution_count": 142,
     "metadata": {},
     "output_type": "execute_result"
    }
   ],
   "source": [
    "df['mileage'].isna().sum()"
   ]
  },
  {
   "cell_type": "markdown",
   "id": "0d7eb3fb",
   "metadata": {},
   "source": [
    "Построем график распределения пробега автомобилей"
   ]
  },
  {
   "cell_type": "code",
   "execution_count": 143,
   "id": "986aa08c",
   "metadata": {},
   "outputs": [
    {
     "data": {
      "image/png": "[encoded data removed]",
      "text/plain": [
       "<Figure size 720x432 with 1 Axes>"
      ]
     },
     "metadata": {},
     "output_type": "display_data"
    }
   ],
   "source": [
    "sns.set_style('whitegrid')\n",
    "fig, ax = plt.subplots(figsize=(10, 6))\n",
    "\n",
    "sns.histplot(x=df['mileage'], ax=ax, kde=False, color='#4c72b0', binwidth=10000)\n",
    "ax.set_xlabel('Пробег', fontsize=12)\n",
    "ax.set_ylabel('Количество', fontsize=12)\n",
    "ax.set_title('Распределение пробега автомобилей', fontsize=18, color='#c44e52')\n",
    "ax.tick_params(axis='both', labelsize=10)\n",
    "\n",
    "plt.show()"
   ]
  },
  {
   "cell_type": "markdown",
   "id": "fdf23e8c",
   "metadata": {},
   "source": [
    "Видно, что большое количество объявлений имеет пробег 0"
   ]
  },
  {
   "cell_type": "markdown",
   "id": "25d34577",
   "metadata": {},
   "source": [
    "### Столбец 'Комплектация'"
   ]
  },
  {
   "cell_type": "markdown",
   "id": "40979b2b",
   "metadata": {},
   "source": [
    "Данный столбец содержит информацию о комплектации автомобилей"
   ]
  },
  {
   "cell_type": "code",
   "execution_count": 144,
   "id": "58eccd94",
   "metadata": {},
   "outputs": [
    {
     "data": {
      "text/plain": [
       "0                                              {'id': '0'}\n",
       "2                                              {'id': '0'}\n",
       "3                                              {'id': '0'}\n",
       "4                                              {'id': '0'}\n",
       "5                                              {'id': '0'}\n",
       "                               ...                        \n",
       "89373                                          {'id': '0'}\n",
       "89374                                          {'id': '0'}\n",
       "89375    {'id': '10408082', 'name': 'Luxury', 'availabl...\n",
       "89376    {'id': '10408081', 'name': 'Elegance', 'availa...\n",
       "89377                                          {'id': '0'}\n",
       "Name: Комплектация, Length: 87306, dtype: object"
      ]
     },
     "execution_count": 144,
     "metadata": {},
     "output_type": "execute_result"
    }
   ],
   "source": [
    "df['Комплектация']"
   ]
  },
  {
   "cell_type": "markdown",
   "id": "e550f664",
   "metadata": {},
   "source": [
    "Выведем количество значений NaN"
   ]
  },
  {
   "cell_type": "code",
   "execution_count": 145,
   "id": "548ca481",
   "metadata": {},
   "outputs": [
    {
     "data": {
      "text/plain": [
       "0"
      ]
     },
     "execution_count": 145,
     "metadata": {},
     "output_type": "execute_result"
    }
   ],
   "source": [
    "df['Комплектация'].isna().sum()"
   ]
  },
  {
   "cell_type": "markdown",
   "id": "bdef2c6d",
   "metadata": {},
   "source": [
    "Выведем все уникальные значения для данного столбца"
   ]
  },
  {
   "cell_type": "code",
   "execution_count": 146,
   "id": "1fef2890",
   "metadata": {},
   "outputs": [
    {
     "data": {
      "text/plain": [
       "array([\"{'id': '0'}\",\n",
       "       \"{'id': '20717199', 'name': 'Basis', 'available_options': ['sport-seats', 'multi-wheel', 'heated-wash-system', 'airbag-passenger', 'lock', 'door-sill-panel', 'electro-mirrors', 'mirrors-heat', 'start-stop-function', 'computer', 'seat-transformation', 'wheel-power', 'fabric-seats', 'airbag-side', 'abs', 'wheel-leather', 'climate-control-1', 'esp', 'audiopreparation', 'front-centre-armrest', 'electro-window-back', '16-inch-wheels', 'condition', 'airbag-driver', 'isofix', 'electro-window-front', 'light-sensor', 'airbag-curtain', 'leather-gear-stick', 'rain-sensor', 'tyre-pressure', 'audiosystem-cd', 'front-seats-heat', 'wheel-configuration2', 'wheel-configuration1', 'immo', '12v-socket', 'third-rear-headrest'], 'vendor_colors': [{'body_color_id': 20617588, 'mark_color_id': 21386826, 'name_ru': 'Mythos black', 'hex_codes': ['010101'], 'color_type': 'METALLIC', 'stock_color': {'hex_code': '040001', 'name_ru': 'черный'}, 'photos': [{'name': '34-front', 'sizes': {'orig': '//avatars.mds.yandex.net/get-verba/787013/2a000001609d03d0f2f54eec64533a0363c4/orig', 'wizardv3mr': '//avatars.mds.yandex.net/get-verba/787013/2a000001609d03d0f2f54eec64533a0363c4/wizardv3mr', 'wizardv3': '//avatars.mds.yandex.net/get-verba/787013/2a000001609d03d0f2f54eec64533a0363c4/wizardv3', 'cattouch': '//avatars.mds.yandex.net/get-verba/787013/2a000001609d03d0f2f54eec64533a0363c4/cattouch', 'small': '//avatars.mds.yandex.net/get-verba/787013/2a000001609d03d0f2f54eec64533a0363c4/small', '320x240': '//avatars.mds.yandex.net/get-verba/787013/2a000001609d03d0f2f54eec64533a0363c4/320x240', '1200x900': '//avatars.mds.yandex.net/get-verba/787013/2a000001609d03d0f2f54eec64533a0363c4/1200x900', '1200x900n': '//avatars.mds.yandex.net/get-verba/787013/2a000001609d03d0f2f54eec64533a0363c4/1200x900n', 'thumb_m': '//avatars.mds.yandex.net/get-verba/787013/2a000001609d03d0f2f54eec64533a0363c4/thumb_m', 'full': '//avatars.mds.yandex.net/get-verba/787013/2a000001609d03d0f2f54eec64533a0363c4/full', '832x624': '//avatars.mds.yandex.net/get-verba/787013/2a000001609d03d0f2f54eec64533a0363c4/832x624', '456x342': '//avatars.mds.yandex.net/get-verba/787013/2a000001609d03d0f2f54eec64533a0363c4/456x342', '120x90': '//avatars.mds.yandex.net/get-verba/787013/2a000001609d03d0f2f54eec64533a0363c4/120x90', '92x69': '//avatars.mds.yandex.net/get-verba/787013/2a000001609d03d0f2f54eec64533a0363c4/92x69', 'islandoff': '//avatars.mds.yandex.net/get-verba/787013/2a000001609d03d0f2f54eec64533a0363c4/islandoff', 'thumb_s': '//avatars.mds.yandex.net/get-verba/787013/2a000001609d03d0f2f54eec64533a0363c4/thumb_s', 'thumb_s_2x': '//avatars.mds.yandex.net/get-verba/787013/2a000001609d03d0f2f54eec64533a0363c4/thumb_s_2x'}}, {'name': '34-back', 'sizes': {'orig': '//avatars.mds.yandex.net/get-verba/787013/2a000001609ce386d74c59c3d65a1d657cab/orig', 'wizardv3mr': '//avatars.mds.yandex.net/get-verba/787013/2a000001609ce386d74c59c3d65a1d657cab/wizardv3mr', 'wizardv3': '//avatars.mds.yandex.net/get-verba/787013/2a000001609ce386d74c59c3d65a1d657cab/wizardv3', 'cattouch': '//avatars.mds.yandex.net/get-verba/787013/2a000001609ce386d74c59c3d65a1d657cab/cattouch', 'small': '//avatars.mds.yandex.net/get-verba/787013/2a000001609ce386d74c59c3d65a1d657cab/small', '320x240': '//avatars.mds.yandex.net/get-verba/787013/2a000001609ce386d74c59c3d65a1d657cab/320x240', '1200x900': '//avatars.mds.yandex.net/get-verba/787013/2a000001609ce386d74c59c3d65a1d657cab/1200x900', '1200x900n': '//avatars.mds.yandex.net/get-verba/787013/2a000001609ce386d74c59c3d65a1d657cab/1200x900n', 'thumb_m': '//avatars.mds.yandex.net/get-verba/787013/2a000001609ce386d74c59c3d65a1d657cab/thumb_m', 'full': '//avatars.mds.yandex.net/get-verba/787013/2a000001609ce386d74c59c3d65a1d657cab/full', '832x624': '//avatars.mds.yandex.net/get-verba/787013/2a000001609ce386d74c59c3d65a1d657cab/832x624', '456x342': '//avatars.mds.yandex.net/get-verba/787013/2a000001609ce386d74c59c3d65a1d657cab/456x342', '120x90': '//avatars.mds.yandex.net/get-verba/787013/2a000001609ce386d74c59c3d65a1d657cab/120x90', '92x69': '//avatars.mds.yandex.net/get-verba/787013/2a000001609ce386d74c59c3d65a1d657cab/92x69', 'islandoff': '//avatars.mds.yandex.net/get-verba/787013/2a000001609ce386d74c59c3d65a1d657cab/islandoff', 'thumb_s': '//avatars.mds.yandex.net/get-verba/787013/2a000001609ce386d74c59c3d65a1d657cab/thumb_s', 'thumb_s_2x': '//avatars.mds.yandex.net/get-verba/787013/2a000001609ce386d74c59c3d65a1d657cab/thumb_s_2x'}}, {'name': 'side', 'sizes': {'orig': '//avatars.mds.yandex.net/get-verba/787013/2a000001609d3e6aac7f658c2507e7fff50f/orig', 'wizardv3mr': '//avatars.mds.yandex.net/get-verba/787013/2a000001609d3e6aac7f658c2507e7fff50f/wizardv3mr', 'wizardv3': '//avatars.mds.yandex.net/get-verba/787013/2a000001609d3e6aac7f658c2507e7fff50f/wizardv3', 'cattouch': '//avatars.mds.yandex.net/get-verba/787013/2a000001609d3e6aac7f658c2507e7fff50f/cattouch', 'small': '//avatars.mds.yandex.net/get-verba/787013/2a000001609d3e6aac7f658c2507e7fff50f/small', '320x240': '//avatars.mds.yandex.net/get-verba/787013/2a000001609d3e6aac7f658c2507e7fff50f/320x240', '1200x900': '//avatars.mds.yandex.net/get-verba/787013/2a000001609d3e6aac7f658c2507e7fff50f/1200x900', '1200x900n': '//avatars.mds.yandex.net/get-verba/787013/2a000001609d3e6aac7f658c2507e7fff50f/1200x900n', 'thumb_m': '//avatars.mds.yandex.net/get-verba/787013/2a000001609d3e6aac7f658c2507e7fff50f/thumb_m', 'full': '//avatars.mds.yandex.net/get-verba/787013/2a000001609d3e6aac7f658c2507e7fff50f/full', '832x624': '//avatars.mds.yandex.net/get-verba/787013/2a000001609d3e6aac7f658c2507e7fff50f/832x624', '456x342': '//avatars.mds.yandex.net/get-verba/787013/2a000001609d3e6aac7f658c2507e7fff50f/456x342', '120x90': '//avatars.mds.yandex.net/get-verba/787013/2a000001609d3e6aac7f658c2507e7fff50f/120x90', '92x69': '//avatars.mds.yandex.net/get-verba/787013/2a000001609d3e6aac7f658c2507e7fff50f/92x69', 'islandoff': '//avatars.mds.yandex.net/get-verba/787013/2a000001609d3e6aac7f658c2507e7fff50f/islandoff', 'thumb_s': '//avatars.mds.yandex.net/get-verba/787013/2a000001609d3e6aac7f658c2507e7fff50f/thumb_s', 'thumb_s_2x': '//avatars.mds.yandex.net/get-verba/787013/2a000001609d3e6aac7f658c2507e7fff50f/thumb_s_2x'}}], 'main_color': False}]}\",\n",
       "       \"{'id': '7979583', 'name': 'Ambition', 'available_options': ['sport-seats', 'heated-wash-system', 'airbag-passenger', 'roof-rails', 'lock', 'electro-mirrors', 'mirrors-heat', 'start-stop-function', 'computer', 'seat-transformation', 'wheel-power', 'fabric-seats', 'airbag-side', 'abs', 'wheel-leather', 'esp', 'audiopreparation', 'electro-window-back', '16-inch-wheels', 'condition', 'airbag-driver', 'isofix', 'electro-window-front', 'airbag-curtain', 'ptf', 'audiosystem-cd', 'front-seats-heat', 'wheel-configuration2', 'wheel-configuration1', 'immo', 'third-rear-headrest']}\",\n",
       "       ...,\n",
       "       \"{'id': '2488771', 'name': 'Elegance', 'available_options': ['airbag-passenger', 'lock', 'electro-mirrors', 'mirrors-heat', 'leather', 'seat-transformation', 'wheel-power', 'airbag-side', 'abs', 'climate-control-1', 'audiopreparation', 'electro-window-back', 'condition', 'airbag-driver', 'electro-window-front', 'passenger-seat-electric', 'paint-metallic', 'front-seats-heat', 'immo']}\",\n",
       "       \"{'id': '10408082', 'name': 'Luxury', 'available_options': ['cruise-control', 'multi-wheel', 'airbag-passenger', 'roof-rails', 'lock', 'electro-mirrors', 'mirrors-heat', 'leather', 'seat-transformation', 'wheel-power', 'airbag-side', 'abs', 'wheel-leather', 'third-row-seats', 'climate-control-1', 'auto-mirrors', 'esp', 'usb', 'audiopreparation', 'electro-window-back', 'hatch', '17-inch-wheels', 'body-mouldings', 'wheel-heat', 'condition', 'park-assist-r', 'airbag-driver', 'isofix', 'electro-window-front', 'passenger-seat-electric', 'alarm', 'leather-gear-stick', 'ptf', 'rain-sensor', 'audiosystem-cd', 'front-seats-heat', 'bluetooth', 'wheel-configuration1', 'immo', 'third-rear-headrest'], 'vendor_colors': [{'body_color_id': 20620323, 'mark_color_id': 21391027, 'name_ru': 'Черный', 'color_type': 'METALLIC', 'stock_color': {'hex_code': '040001', 'name_ru': 'черный'}, 'photos': [{'name': '34-front', 'sizes': {'orig': '//avatars.mds.yandex.net/get-verba/787013/2a000001609b9d3b0fed7c022e8066cc29f6/orig', 'wizardv3mr': '//avatars.mds.yandex.net/get-verba/787013/2a000001609b9d3b0fed7c022e8066cc29f6/wizardv3mr', 'wizardv3': '//avatars.mds.yandex.net/get-verba/787013/2a000001609b9d3b0fed7c022e8066cc29f6/wizardv3', 'cattouch': '//avatars.mds.yandex.net/get-verba/787013/2a000001609b9d3b0fed7c022e8066cc29f6/cattouch', 'small': '//avatars.mds.yandex.net/get-verba/787013/2a000001609b9d3b0fed7c022e8066cc29f6/small', '320x240': '//avatars.mds.yandex.net/get-verba/787013/2a000001609b9d3b0fed7c022e8066cc29f6/320x240', '1200x900': '//avatars.mds.yandex.net/get-verba/787013/2a000001609b9d3b0fed7c022e8066cc29f6/1200x900', '1200x900n': '//avatars.mds.yandex.net/get-verba/787013/2a000001609b9d3b0fed7c022e8066cc29f6/1200x900n', 'thumb_m': '//avatars.mds.yandex.net/get-verba/787013/2a000001609b9d3b0fed7c022e8066cc29f6/thumb_m', 'full': '//avatars.mds.yandex.net/get-verba/787013/2a000001609b9d3b0fed7c022e8066cc29f6/full', '832x624': '//avatars.mds.yandex.net/get-verba/787013/2a000001609b9d3b0fed7c022e8066cc29f6/832x624', '456x342': '//avatars.mds.yandex.net/get-verba/787013/2a000001609b9d3b0fed7c022e8066cc29f6/456x342', '120x90': '//avatars.mds.yandex.net/get-verba/787013/2a000001609b9d3b0fed7c022e8066cc29f6/120x90', '92x69': '//avatars.mds.yandex.net/get-verba/787013/2a000001609b9d3b0fed7c022e8066cc29f6/92x69', 'islandoff': '//avatars.mds.yandex.net/get-verba/787013/2a000001609b9d3b0fed7c022e8066cc29f6/islandoff', 'thumb_s': '//avatars.mds.yandex.net/get-verba/787013/2a000001609b9d3b0fed7c022e8066cc29f6/thumb_s', 'thumb_s_2x': '//avatars.mds.yandex.net/get-verba/787013/2a000001609b9d3b0fed7c022e8066cc29f6/thumb_s_2x'}}, {'name': '34-back', 'sizes': {'orig': '//avatars.mds.yandex.net/get-verba/216201/2a000001609d32f4c1e1d35cfc0201ad00a4/orig', 'wizardv3mr': '//avatars.mds.yandex.net/get-verba/216201/2a000001609d32f4c1e1d35cfc0201ad00a4/wizardv3mr', 'wizardv3': '//avatars.mds.yandex.net/get-verba/216201/2a000001609d32f4c1e1d35cfc0201ad00a4/wizardv3', 'cattouch': '//avatars.mds.yandex.net/get-verba/216201/2a000001609d32f4c1e1d35cfc0201ad00a4/cattouch', 'small': '//avatars.mds.yandex.net/get-verba/216201/2a000001609d32f4c1e1d35cfc0201ad00a4/small', '320x240': '//avatars.mds.yandex.net/get-verba/216201/2a000001609d32f4c1e1d35cfc0201ad00a4/320x240', '1200x900': '//avatars.mds.yandex.net/get-verba/216201/2a000001609d32f4c1e1d35cfc0201ad00a4/1200x900', '1200x900n': '//avatars.mds.yandex.net/get-verba/216201/2a000001609d32f4c1e1d35cfc0201ad00a4/1200x900n', 'thumb_m': '//avatars.mds.yandex.net/get-verba/216201/2a000001609d32f4c1e1d35cfc0201ad00a4/thumb_m', 'full': '//avatars.mds.yandex.net/get-verba/216201/2a000001609d32f4c1e1d35cfc0201ad00a4/full', '832x624': '//avatars.mds.yandex.net/get-verba/216201/2a000001609d32f4c1e1d35cfc0201ad00a4/832x624', '456x342': '//avatars.mds.yandex.net/get-verba/216201/2a000001609d32f4c1e1d35cfc0201ad00a4/456x342', '120x90': '//avatars.mds.yandex.net/get-verba/216201/2a000001609d32f4c1e1d35cfc0201ad00a4/120x90', '92x69': '//avatars.mds.yandex.net/get-verba/216201/2a000001609d32f4c1e1d35cfc0201ad00a4/92x69', 'islandoff': '//avatars.mds.yandex.net/get-verba/216201/2a000001609d32f4c1e1d35cfc0201ad00a4/islandoff', 'thumb_s': '//avatars.mds.yandex.net/get-verba/216201/2a000001609d32f4c1e1d35cfc0201ad00a4/thumb_s', 'thumb_s_2x': '//avatars.mds.yandex.net/get-verba/216201/2a000001609d32f4c1e1d35cfc0201ad00a4/thumb_s_2x'}}, {'name': 'side', 'sizes': {'orig': '//avatars.mds.yandex.net/get-verba/1030388/2a000001609d63fdab1cf1c8a1ce75416f99/orig', 'wizardv3mr': '//avatars.mds.yandex.net/get-verba/1030388/2a000001609d63fdab1cf1c8a1ce75416f99/wizardv3mr', 'wizardv3': '//avatars.mds.yandex.net/get-verba/1030388/2a000001609d63fdab1cf1c8a1ce75416f99/wizardv3', 'cattouch': '//avatars.mds.yandex.net/get-verba/1030388/2a000001609d63fdab1cf1c8a1ce75416f99/cattouch', 'small': '//avatars.mds.yandex.net/get-verba/1030388/2a000001609d63fdab1cf1c8a1ce75416f99/small', '320x240': '//avatars.mds.yandex.net/get-verba/1030388/2a000001609d63fdab1cf1c8a1ce75416f99/320x240', '1200x900': '//avatars.mds.yandex.net/get-verba/1030388/2a000001609d63fdab1cf1c8a1ce75416f99/1200x900', '1200x900n': '//avatars.mds.yandex.net/get-verba/1030388/2a000001609d63fdab1cf1c8a1ce75416f99/1200x900n', 'thumb_m': '//avatars.mds.yandex.net/get-verba/1030388/2a000001609d63fdab1cf1c8a1ce75416f99/thumb_m', 'full': '//avatars.mds.yandex.net/get-verba/1030388/2a000001609d63fdab1cf1c8a1ce75416f99/full', '832x624': '//avatars.mds.yandex.net/get-verba/1030388/2a000001609d63fdab1cf1c8a1ce75416f99/832x624', '456x342': '//avatars.mds.yandex.net/get-verba/1030388/2a000001609d63fdab1cf1c8a1ce75416f99/456x342', '120x90': '//avatars.mds.yandex.net/get-verba/1030388/2a000001609d63fdab1cf1c8a1ce75416f99/120x90', '92x69': '//avatars.mds.yandex.net/get-verba/1030388/2a000001609d63fdab1cf1c8a1ce75416f99/92x69', 'islandoff': '//avatars.mds.yandex.net/get-verba/1030388/2a000001609d63fdab1cf1c8a1ce75416f99/islandoff', 'thumb_s': '//avatars.mds.yandex.net/get-verba/1030388/2a000001609d63fdab1cf1c8a1ce75416f99/thumb_s', 'thumb_s_2x': '//avatars.mds.yandex.net/get-verba/1030388/2a000001609d63fdab1cf1c8a1ce75416f99/thumb_s_2x'}}, {'name': 'front', 'sizes': {'orig': '//avatars.mds.yandex.net/get-verba/1030388/2a000001609d63aa0cb07fa1f9d21b569eb4/orig', 'wizardv3mr': '//avatars.mds.yandex.net/get-verba/1030388/2a000001609d63aa0cb07fa1f9d21b569eb4/wizardv3mr', 'wizardv3': '//avatars.mds.yandex.net/get-verba/1030388/2a000001609d63aa0cb07fa1f9d21b569eb4/wizardv3', 'cattouch': '//avatars.mds.yandex.net/get-verba/1030388/2a000001609d63aa0cb07fa1f9d21b569eb4/cattouch', 'small': '//avatars.mds.yandex.net/get-verba/1030388/2a000001609d63aa0cb07fa1f9d21b569eb4/small', '320x240': '//avatars.mds.yandex.net/get-verba/1030388/2a000001609d63aa0cb07fa1f9d21b569eb4/320x240', '1200x900': '//avatars.mds.yandex.net/get-verba/1030388/2a000001609d63aa0cb07fa1f9d21b569eb4/1200x900', '1200x900n': '//avatars.mds.yandex.net/get-verba/1030388/2a000001609d63aa0cb07fa1f9d21b569eb4/1200x900n', 'thumb_m': '//avatars.mds.yandex.net/get-verba/1030388/2a000001609d63aa0cb07fa1f9d21b569eb4/thumb_m', 'full': '//avatars.mds.yandex.net/get-verba/1030388/2a000001609d63aa0cb07fa1f9d21b569eb4/full', '832x624': '//avatars.mds.yandex.net/get-verba/1030388/2a000001609d63aa0cb07fa1f9d21b569eb4/832x624', '456x342': '//avatars.mds.yandex.net/get-verba/1030388/2a000001609d63aa0cb07fa1f9d21b569eb4/456x342', '120x90': '//avatars.mds.yandex.net/get-verba/1030388/2a000001609d63aa0cb07fa1f9d21b569eb4/120x90', '92x69': '//avatars.mds.yandex.net/get-verba/1030388/2a000001609d63aa0cb07fa1f9d21b569eb4/92x69', 'islandoff': '//avatars.mds.yandex.net/get-verba/1030388/2a000001609d63aa0cb07fa1f9d21b569eb4/islandoff', 'thumb_s': '//avatars.mds.yandex.net/get-verba/1030388/2a000001609d63aa0cb07fa1f9d21b569eb4/thumb_s', 'thumb_s_2x': '//avatars.mds.yandex.net/get-verba/1030388/2a000001609d63aa0cb07fa1f9d21b569eb4/thumb_s_2x'}}, {'name': 'back', 'sizes': {'orig': '//avatars.mds.yandex.net/get-verba/216201/2a000001609c14fca230bf0034d0503cdeb9/orig', 'wizardv3mr': '//avatars.mds.yandex.net/get-verba/216201/2a000001609c14fca230bf0034d0503cdeb9/wizardv3mr', 'wizardv3': '//avatars.mds.yandex.net/get-verba/216201/2a000001609c14fca230bf0034d0503cdeb9/wizardv3', 'cattouch': '//avatars.mds.yandex.net/get-verba/216201/2a000001609c14fca230bf0034d0503cdeb9/cattouch', 'small': '//avatars.mds.yandex.net/get-verba/216201/2a000001609c14fca230bf0034d0503cdeb9/small', '320x240': '//avatars.mds.yandex.net/get-verba/216201/2a000001609c14fca230bf0034d0503cdeb9/320x240', '1200x900': '//avatars.mds.yandex.net/get-verba/216201/2a000001609c14fca230bf0034d0503cdeb9/1200x900', '1200x900n': '//avatars.mds.yandex.net/get-verba/216201/2a000001609c14fca230bf0034d0503cdeb9/1200x900n', 'thumb_m': '//avatars.mds.yandex.net/get-verba/216201/2a000001609c14fca230bf0034d0503cdeb9/thumb_m', 'full': '//avatars.mds.yandex.net/get-verba/216201/2a000001609c14fca230bf0034d0503cdeb9/full', '832x624': '//avatars.mds.yandex.net/get-verba/216201/2a000001609c14fca230bf0034d0503cdeb9/832x624', '456x342': '//avatars.mds.yandex.net/get-verba/216201/2a000001609c14fca230bf0034d0503cdeb9/456x342', '120x90': '//avatars.mds.yandex.net/get-verba/216201/2a000001609c14fca230bf0034d0503cdeb9/120x90', '92x69': '//avatars.mds.yandex.net/get-verba/216201/2a000001609c14fca230bf0034d0503cdeb9/92x69', 'islandoff': '//avatars.mds.yandex.net/get-verba/216201/2a000001609c14fca230bf0034d0503cdeb9/islandoff', 'thumb_s': '//avatars.mds.yandex.net/get-verba/216201/2a000001609c14fca230bf0034d0503cdeb9/thumb_s', 'thumb_s_2x': '//avatars.mds.yandex.net/get-verba/216201/2a000001609c14fca230bf0034d0503cdeb9/thumb_s_2x'}}], 'main_color': False}]}\",\n",
       "       \"{'id': '10408081', 'name': 'Elegance', 'available_options': ['cruise-control', 'multi-wheel', 'airbag-passenger', 'roof-rails', 'lock', 'electro-mirrors', 'mirrors-heat', 'seat-transformation', 'wheel-power', 'fabric-seats', 'airbag-side', 'abs', 'wheel-leather', 'third-row-seats', 'climate-control-1', 'auto-mirrors', 'esp', 'usb', 'audiopreparation', 'electro-window-back', '17-inch-wheels', 'body-mouldings', 'wheel-heat', 'condition', 'park-assist-r', 'airbag-driver', 'isofix', 'electro-window-front', 'alarm', 'leather-gear-stick', 'ptf', 'rain-sensor', 'audiosystem-cd', 'front-seats-heat', 'bluetooth', 'wheel-configuration1', 'immo', 'third-rear-headrest'], 'vendor_colors': [{'body_color_id': 20620330, 'mark_color_id': 21391020, 'name_ru': 'Серый', 'color_type': 'METALLIC', 'stock_color': {'hex_code': '97948F', 'name_ru': 'серый'}, 'photos': [{'name': '34-front', 'sizes': {'orig': '//avatars.mds.yandex.net/get-verba/937147/2a000001609d0560d6a252f9023649f03306/orig', 'wizardv3mr': '//avatars.mds.yandex.net/get-verba/937147/2a000001609d0560d6a252f9023649f03306/wizardv3mr', 'wizardv3': '//avatars.mds.yandex.net/get-verba/937147/2a000001609d0560d6a252f9023649f03306/wizardv3', 'cattouch': '//avatars.mds.yandex.net/get-verba/937147/2a000001609d0560d6a252f9023649f03306/cattouch', 'small': '//avatars.mds.yandex.net/get-verba/937147/2a000001609d0560d6a252f9023649f03306/small', '320x240': '//avatars.mds.yandex.net/get-verba/937147/2a000001609d0560d6a252f9023649f03306/320x240', '1200x900': '//avatars.mds.yandex.net/get-verba/937147/2a000001609d0560d6a252f9023649f03306/1200x900', '1200x900n': '//avatars.mds.yandex.net/get-verba/937147/2a000001609d0560d6a252f9023649f03306/1200x900n', 'thumb_m': '//avatars.mds.yandex.net/get-verba/937147/2a000001609d0560d6a252f9023649f03306/thumb_m', 'full': '//avatars.mds.yandex.net/get-verba/937147/2a000001609d0560d6a252f9023649f03306/full', '832x624': '//avatars.mds.yandex.net/get-verba/937147/2a000001609d0560d6a252f9023649f03306/832x624', '456x342': '//avatars.mds.yandex.net/get-verba/937147/2a000001609d0560d6a252f9023649f03306/456x342', '120x90': '//avatars.mds.yandex.net/get-verba/937147/2a000001609d0560d6a252f9023649f03306/120x90', '92x69': '//avatars.mds.yandex.net/get-verba/937147/2a000001609d0560d6a252f9023649f03306/92x69', 'islandoff': '//avatars.mds.yandex.net/get-verba/937147/2a000001609d0560d6a252f9023649f03306/islandoff', 'thumb_s': '//avatars.mds.yandex.net/get-verba/937147/2a000001609d0560d6a252f9023649f03306/thumb_s', 'thumb_s_2x': '//avatars.mds.yandex.net/get-verba/937147/2a000001609d0560d6a252f9023649f03306/thumb_s_2x'}}, {'name': '34-back', 'sizes': {'orig': '//avatars.mds.yandex.net/get-verba/787013/2a000001609cf51a968fb7eb8de0d4274862/orig', 'wizardv3mr': '//avatars.mds.yandex.net/get-verba/787013/2a000001609cf51a968fb7eb8de0d4274862/wizardv3mr', 'wizardv3': '//avatars.mds.yandex.net/get-verba/787013/2a000001609cf51a968fb7eb8de0d4274862/wizardv3', 'cattouch': '//avatars.mds.yandex.net/get-verba/787013/2a000001609cf51a968fb7eb8de0d4274862/cattouch', 'small': '//avatars.mds.yandex.net/get-verba/787013/2a000001609cf51a968fb7eb8de0d4274862/small', '320x240': '//avatars.mds.yandex.net/get-verba/787013/2a000001609cf51a968fb7eb8de0d4274862/320x240', '1200x900': '//avatars.mds.yandex.net/get-verba/787013/2a000001609cf51a968fb7eb8de0d4274862/1200x900', '1200x900n': '//avatars.mds.yandex.net/get-verba/787013/2a000001609cf51a968fb7eb8de0d4274862/1200x900n', 'thumb_m': '//avatars.mds.yandex.net/get-verba/787013/2a000001609cf51a968fb7eb8de0d4274862/thumb_m', 'full': '//avatars.mds.yandex.net/get-verba/787013/2a000001609cf51a968fb7eb8de0d4274862/full', '832x624': '//avatars.mds.yandex.net/get-verba/787013/2a000001609cf51a968fb7eb8de0d4274862/832x624', '456x342': '//avatars.mds.yandex.net/get-verba/787013/2a000001609cf51a968fb7eb8de0d4274862/456x342', '120x90': '//avatars.mds.yandex.net/get-verba/787013/2a000001609cf51a968fb7eb8de0d4274862/120x90', '92x69': '//avatars.mds.yandex.net/get-verba/787013/2a000001609cf51a968fb7eb8de0d4274862/92x69', 'islandoff': '//avatars.mds.yandex.net/get-verba/787013/2a000001609cf51a968fb7eb8de0d4274862/islandoff', 'thumb_s': '//avatars.mds.yandex.net/get-verba/787013/2a000001609cf51a968fb7eb8de0d4274862/thumb_s', 'thumb_s_2x': '//avatars.mds.yandex.net/get-verba/787013/2a000001609cf51a968fb7eb8de0d4274862/thumb_s_2x'}}, {'name': 'side', 'sizes': {'orig': '//avatars.mds.yandex.net/get-verba/937147/2a000001609cee869ba847d0c2b9a88e0bb1/orig', 'wizardv3mr': '//avatars.mds.yandex.net/get-verba/937147/2a000001609cee869ba847d0c2b9a88e0bb1/wizardv3mr', 'wizardv3': '//avatars.mds.yandex.net/get-verba/937147/2a000001609cee869ba847d0c2b9a88e0bb1/wizardv3', 'cattouch': '//avatars.mds.yandex.net/get-verba/937147/2a000001609cee869ba847d0c2b9a88e0bb1/cattouch', 'small': '//avatars.mds.yandex.net/get-verba/937147/2a000001609cee869ba847d0c2b9a88e0bb1/small', '320x240': '//avatars.mds.yandex.net/get-verba/937147/2a000001609cee869ba847d0c2b9a88e0bb1/320x240', '1200x900': '//avatars.mds.yandex.net/get-verba/937147/2a000001609cee869ba847d0c2b9a88e0bb1/1200x900', '1200x900n': '//avatars.mds.yandex.net/get-verba/937147/2a000001609cee869ba847d0c2b9a88e0bb1/1200x900n', 'thumb_m': '//avatars.mds.yandex.net/get-verba/937147/2a000001609cee869ba847d0c2b9a88e0bb1/thumb_m', 'full': '//avatars.mds.yandex.net/get-verba/937147/2a000001609cee869ba847d0c2b9a88e0bb1/full', '832x624': '//avatars.mds.yandex.net/get-verba/937147/2a000001609cee869ba847d0c2b9a88e0bb1/832x624', '456x342': '//avatars.mds.yandex.net/get-verba/937147/2a000001609cee869ba847d0c2b9a88e0bb1/456x342', '120x90': '//avatars.mds.yandex.net/get-verba/937147/2a000001609cee869ba847d0c2b9a88e0bb1/120x90', '92x69': '//avatars.mds.yandex.net/get-verba/937147/2a000001609cee869ba847d0c2b9a88e0bb1/92x69', 'islandoff': '//avatars.mds.yandex.net/get-verba/937147/2a000001609cee869ba847d0c2b9a88e0bb1/islandoff', 'thumb_s': '//avatars.mds.yandex.net/get-verba/937147/2a000001609cee869ba847d0c2b9a88e0bb1/thumb_s', 'thumb_s_2x': '//avatars.mds.yandex.net/get-verba/937147/2a000001609cee869ba847d0c2b9a88e0bb1/thumb_s_2x'}}, {'name': 'front', 'sizes': {'orig': '//avatars.mds.yandex.net/get-verba/787013/2a000001609d6fc464907be5afdb3c7a59e4/orig', 'wizardv3mr': '//avatars.mds.yandex.net/get-verba/787013/2a000001609d6fc464907be5afdb3c7a59e4/wizardv3mr', 'wizardv3': '//avatars.mds.yandex.net/get-verba/787013/2a000001609d6fc464907be5afdb3c7a59e4/wizardv3', 'cattouch': '//avatars.mds.yandex.net/get-verba/787013/2a000001609d6fc464907be5afdb3c7a59e4/cattouch', 'small': '//avatars.mds.yandex.net/get-verba/787013/2a000001609d6fc464907be5afdb3c7a59e4/small', '320x240': '//avatars.mds.yandex.net/get-verba/787013/2a000001609d6fc464907be5afdb3c7a59e4/320x240', '1200x900': '//avatars.mds.yandex.net/get-verba/787013/2a000001609d6fc464907be5afdb3c7a59e4/1200x900', '1200x900n': '//avatars.mds.yandex.net/get-verba/787013/2a000001609d6fc464907be5afdb3c7a59e4/1200x900n', 'thumb_m': '//avatars.mds.yandex.net/get-verba/787013/2a000001609d6fc464907be5afdb3c7a59e4/thumb_m', 'full': '//avatars.mds.yandex.net/get-verba/787013/2a000001609d6fc464907be5afdb3c7a59e4/full', '832x624': '//avatars.mds.yandex.net/get-verba/787013/2a000001609d6fc464907be5afdb3c7a59e4/832x624', '456x342': '//avatars.mds.yandex.net/get-verba/787013/2a000001609d6fc464907be5afdb3c7a59e4/456x342', '120x90': '//avatars.mds.yandex.net/get-verba/787013/2a000001609d6fc464907be5afdb3c7a59e4/120x90', '92x69': '//avatars.mds.yandex.net/get-verba/787013/2a000001609d6fc464907be5afdb3c7a59e4/92x69', 'islandoff': '//avatars.mds.yandex.net/get-verba/787013/2a000001609d6fc464907be5afdb3c7a59e4/islandoff', 'thumb_s': '//avatars.mds.yandex.net/get-verba/787013/2a000001609d6fc464907be5afdb3c7a59e4/thumb_s', 'thumb_s_2x': '//avatars.mds.yandex.net/get-verba/787013/2a000001609d6fc464907be5afdb3c7a59e4/thumb_s_2x'}}, {'name': 'back', 'sizes': {'orig': '//avatars.mds.yandex.net/get-verba/787013/2a000001609c8fbc45bac94df7e63f23f60f/orig', 'wizardv3mr': '//avatars.mds.yandex.net/get-verba/787013/2a000001609c8fbc45bac94df7e63f23f60f/wizardv3mr', 'wizardv3': '//avatars.mds.yandex.net/get-verba/787013/2a000001609c8fbc45bac94df7e63f23f60f/wizardv3', 'cattouch': '//avatars.mds.yandex.net/get-verba/787013/2a000001609c8fbc45bac94df7e63f23f60f/cattouch', 'small': '//avatars.mds.yandex.net/get-verba/787013/2a000001609c8fbc45bac94df7e63f23f60f/small', '320x240': '//avatars.mds.yandex.net/get-verba/787013/2a000001609c8fbc45bac94df7e63f23f60f/320x240', '1200x900': '//avatars.mds.yandex.net/get-verba/787013/2a000001609c8fbc45bac94df7e63f23f60f/1200x900', '1200x900n': '//avatars.mds.yandex.net/get-verba/787013/2a000001609c8fbc45bac94df7e63f23f60f/1200x900n', 'thumb_m': '//avatars.mds.yandex.net/get-verba/787013/2a000001609c8fbc45bac94df7e63f23f60f/thumb_m', 'full': '//avatars.mds.yandex.net/get-verba/787013/2a000001609c8fbc45bac94df7e63f23f60f/full', '832x624': '//avatars.mds.yandex.net/get-verba/787013/2a000001609c8fbc45bac94df7e63f23f60f/832x624', '456x342': '//avatars.mds.yandex.net/get-verba/787013/2a000001609c8fbc45bac94df7e63f23f60f/456x342', '120x90': '//avatars.mds.yandex.net/get-verba/787013/2a000001609c8fbc45bac94df7e63f23f60f/120x90', '92x69': '//avatars.mds.yandex.net/get-verba/787013/2a000001609c8fbc45bac94df7e63f23f60f/92x69', 'islandoff': '//avatars.mds.yandex.net/get-verba/787013/2a000001609c8fbc45bac94df7e63f23f60f/islandoff', 'thumb_s': '//avatars.mds.yandex.net/get-verba/787013/2a000001609c8fbc45bac94df7e63f23f60f/thumb_s', 'thumb_s_2x': '//avatars.mds.yandex.net/get-verba/787013/2a000001609c8fbc45bac94df7e63f23f60f/thumb_s_2x'}}], 'main_color': False}]}\"],\n",
       "      dtype=object)"
      ]
     },
     "execution_count": 146,
     "metadata": {},
     "output_type": "execute_result"
    }
   ],
   "source": [
    "df['Комплектация'].unique()"
   ]
  },
  {
   "cell_type": "markdown",
   "id": "ac7b78c3",
   "metadata": {},
   "source": [
    "Интерпретировать данный столбец тяжело из-за большого количества информации в нем. Однако можно предположить, что длина строки может влиять на цену, так как чем выше параметры комплектации, тем дороже автомобиль. Введем новый столбец с длиной словаря каждой строки"
   ]
  },
  {
   "cell_type": "code",
   "execution_count": 196,
   "id": "62580617",
   "metadata": {},
   "outputs": [],
   "source": [
    "df['equipment'] = df['Комплектация'].apply(eval).apply(len)"
   ]
  },
  {
   "cell_type": "code",
   "execution_count": 197,
   "id": "49370058",
   "metadata": {},
   "outputs": [
    {
     "data": {
      "text/plain": [
       "0        1\n",
       "2        1\n",
       "3        1\n",
       "4        1\n",
       "5        1\n",
       "        ..\n",
       "89373    1\n",
       "89374    1\n",
       "89375    4\n",
       "89376    4\n",
       "89377    1\n",
       "Name: equipment, Length: 86841, dtype: int64"
      ]
     },
     "execution_count": 197,
     "metadata": {},
     "output_type": "execute_result"
    }
   ],
   "source": [
    "df['equipment']"
   ]
  },
  {
   "cell_type": "markdown",
   "id": "71bca5db",
   "metadata": {},
   "source": [
    "Поситаем коэффициент корреляции нового столбца и цены"
   ]
  },
  {
   "cell_type": "code",
   "execution_count": 149,
   "id": "5ef2eefc",
   "metadata": {},
   "outputs": [
    {
     "data": {
      "text/plain": [
       "nan"
      ]
     },
     "execution_count": 149,
     "metadata": {},
     "output_type": "execute_result"
    }
   ],
   "source": [
    "np.corrcoef(df['Complectation'], df['price'])[0, 1]"
   ]
  },
  {
   "cell_type": "markdown",
   "id": "5ad1cbff",
   "metadata": {},
   "source": [
    "### Столбец 'Привод'"
   ]
  },
  {
   "cell_type": "markdown",
   "id": "583f4917",
   "metadata": {},
   "source": [
    "Данный столбец содержит информацию о приводе автомобилей"
   ]
  },
  {
   "cell_type": "code",
   "execution_count": 150,
   "id": "35e025e3",
   "metadata": {},
   "outputs": [
    {
     "data": {
      "text/plain": [
       "0          полный\n",
       "2          полный\n",
       "3        передний\n",
       "4        передний\n",
       "5        передний\n",
       "           ...   \n",
       "89373      полный\n",
       "89374      полный\n",
       "89375      полный\n",
       "89376      полный\n",
       "89377      полный\n",
       "Name: Привод, Length: 87306, dtype: object"
      ]
     },
     "execution_count": 150,
     "metadata": {},
     "output_type": "execute_result"
    }
   ],
   "source": [
    "df['Привод']"
   ]
  },
  {
   "cell_type": "markdown",
   "id": "10ebb2bc",
   "metadata": {},
   "source": [
    "Выведем количество значений NaN"
   ]
  },
  {
   "cell_type": "code",
   "execution_count": 151,
   "id": "8ea07957",
   "metadata": {},
   "outputs": [
    {
     "data": {
      "text/plain": [
       "0"
      ]
     },
     "execution_count": 151,
     "metadata": {},
     "output_type": "execute_result"
    }
   ],
   "source": [
    "df['Привод'].isna().sum()"
   ]
  },
  {
   "cell_type": "markdown",
   "id": "3039e2e1",
   "metadata": {},
   "source": [
    "Выведем все уникальные значения для данного столбца"
   ]
  },
  {
   "cell_type": "code",
   "execution_count": 152,
   "id": "093055a8",
   "metadata": {},
   "outputs": [
    {
     "data": {
      "text/plain": [
       "array(['полный', 'передний', 'задний'], dtype=object)"
      ]
     },
     "execution_count": 152,
     "metadata": {},
     "output_type": "execute_result"
    }
   ],
   "source": [
    "df['Привод'].unique()"
   ]
  },
  {
   "cell_type": "markdown",
   "id": "a3e993e4",
   "metadata": {},
   "source": [
    "### Столбец 'Руль'"
   ]
  },
  {
   "cell_type": "markdown",
   "id": "65ca95b9",
   "metadata": {},
   "source": [
    "Данный столбец содержит информацию о расположении руля автомобилей"
   ]
  },
  {
   "cell_type": "code",
   "execution_count": 153,
   "id": "1950435c",
   "metadata": {},
   "outputs": [
    {
     "data": {
      "text/plain": [
       "0        LEFT\n",
       "2        LEFT\n",
       "3        LEFT\n",
       "4        LEFT\n",
       "5        LEFT\n",
       "         ... \n",
       "89373    LEFT\n",
       "89374    LEFT\n",
       "89375    LEFT\n",
       "89376    LEFT\n",
       "89377    LEFT\n",
       "Name: Руль, Length: 87306, dtype: object"
      ]
     },
     "execution_count": 153,
     "metadata": {},
     "output_type": "execute_result"
    }
   ],
   "source": [
    "df['Руль']"
   ]
  },
  {
   "cell_type": "markdown",
   "id": "b005842d",
   "metadata": {},
   "source": [
    "Выведем количество значений NaN"
   ]
  },
  {
   "cell_type": "code",
   "execution_count": 154,
   "id": "65000e90",
   "metadata": {},
   "outputs": [
    {
     "data": {
      "text/plain": [
       "0"
      ]
     },
     "execution_count": 154,
     "metadata": {},
     "output_type": "execute_result"
    }
   ],
   "source": [
    "df['Руль'].isna().sum()"
   ]
  },
  {
   "cell_type": "markdown",
   "id": "ae7f27f8",
   "metadata": {},
   "source": [
    "Выведем все уникальные значения для данного столбца"
   ]
  },
  {
   "cell_type": "code",
   "execution_count": 155,
   "id": "770157a4",
   "metadata": {},
   "outputs": [
    {
     "data": {
      "text/plain": [
       "array(['LEFT', 'RIGHT'], dtype=object)"
      ]
     },
     "execution_count": 155,
     "metadata": {},
     "output_type": "execute_result"
    }
   ],
   "source": [
    "df['Руль'].unique()"
   ]
  },
  {
   "cell_type": "markdown",
   "id": "18fa7fd8",
   "metadata": {},
   "source": [
    "### Столбец 'Владельцы'"
   ]
  },
  {
   "cell_type": "markdown",
   "id": "d6f37c4e",
   "metadata": {},
   "source": [
    "Данный столбец содержит информацию о количесвте владельцев автомобилей"
   ]
  },
  {
   "cell_type": "code",
   "execution_count": 156,
   "id": "c8b7850b",
   "metadata": {},
   "outputs": [
    {
     "data": {
      "text/plain": [
       "0        3.0\n",
       "2        3.0\n",
       "3        3.0\n",
       "4        3.0\n",
       "5        3.0\n",
       "        ... \n",
       "89373    3.0\n",
       "89374    3.0\n",
       "89375    1.0\n",
       "89376    3.0\n",
       "89377    2.0\n",
       "Name: Владельцы, Length: 87306, dtype: float64"
      ]
     },
     "execution_count": 156,
     "metadata": {},
     "output_type": "execute_result"
    }
   ],
   "source": [
    "df['Владельцы']"
   ]
  },
  {
   "cell_type": "markdown",
   "id": "9cbdfe93",
   "metadata": {},
   "source": [
    "Выведем количество значений NaN"
   ]
  },
  {
   "cell_type": "code",
   "execution_count": 157,
   "id": "ae7aedc9",
   "metadata": {},
   "outputs": [
    {
     "data": {
      "text/plain": [
       "13345"
      ]
     },
     "execution_count": 157,
     "metadata": {},
     "output_type": "execute_result"
    }
   ],
   "source": [
    "df['Владельцы'].isna().sum()"
   ]
  },
  {
   "cell_type": "markdown",
   "id": "65f3c272",
   "metadata": {},
   "source": [
    "Видно, что большое количество имеет значения NaN"
   ]
  },
  {
   "cell_type": "code",
   "execution_count": 158,
   "id": "429dd462",
   "metadata": {},
   "outputs": [
    {
     "data": {
      "text/html": [
       "<div>\n",
       "<style scoped>\n",
       "    .dataframe tbody tr th:only-of-type {\n",
       "        vertical-align: middle;\n",
       "    }\n",
       "\n",
       "    .dataframe tbody tr th {\n",
       "        vertical-align: top;\n",
       "    }\n",
       "\n",
       "    .dataframe thead th {\n",
       "        text-align: right;\n",
       "    }\n",
       "</style>\n",
       "<table border=\"1\" class=\"dataframe\">\n",
       "  <thead>\n",
       "    <tr style=\"text-align: right;\">\n",
       "      <th></th>\n",
       "      <th>bodyType</th>\n",
       "      <th>brand</th>\n",
       "      <th>color</th>\n",
       "      <th>fuelType</th>\n",
       "      <th>modelDate</th>\n",
       "      <th>name</th>\n",
       "      <th>numberOfDoors</th>\n",
       "      <th>productionDate</th>\n",
       "      <th>vehicleConfiguration</th>\n",
       "      <th>vehicleTransmission</th>\n",
       "      <th>...</th>\n",
       "      <th>Руль</th>\n",
       "      <th>Владельцы</th>\n",
       "      <th>ПТС</th>\n",
       "      <th>Таможня</th>\n",
       "      <th>Владение</th>\n",
       "      <th>price</th>\n",
       "      <th>start_date</th>\n",
       "      <th>model</th>\n",
       "      <th>description_len</th>\n",
       "      <th>Complectation</th>\n",
       "    </tr>\n",
       "  </thead>\n",
       "  <tbody>\n",
       "    <tr>\n",
       "      <th>332</th>\n",
       "      <td>Седан</td>\n",
       "      <td>AUDI</td>\n",
       "      <td>97948F</td>\n",
       "      <td>бензин</td>\n",
       "      <td>2016.0</td>\n",
       "      <td>1.4 AMT (150 л.с.)</td>\n",
       "      <td>4.0</td>\n",
       "      <td>2020</td>\n",
       "      <td>SEDAN ROBOT 1.4</td>\n",
       "      <td>ROBOT</td>\n",
       "      <td>...</td>\n",
       "      <td>LEFT</td>\n",
       "      <td>NaN</td>\n",
       "      <td>ORIGINAL</td>\n",
       "      <td>True</td>\n",
       "      <td>NaN</td>\n",
       "      <td>1885400.0</td>\n",
       "      <td>2020-08-10T18:16:24Z</td>\n",
       "      <td>A3</td>\n",
       "      <td>2818.0</td>\n",
       "      <td>4</td>\n",
       "    </tr>\n",
       "    <tr>\n",
       "      <th>333</th>\n",
       "      <td>Седан</td>\n",
       "      <td>AUDI</td>\n",
       "      <td>CACECB</td>\n",
       "      <td>бензин</td>\n",
       "      <td>2016.0</td>\n",
       "      <td>1.4 AMT (150 л.с.)</td>\n",
       "      <td>4.0</td>\n",
       "      <td>2020</td>\n",
       "      <td>SEDAN ROBOT 1.4</td>\n",
       "      <td>ROBOT</td>\n",
       "      <td>...</td>\n",
       "      <td>LEFT</td>\n",
       "      <td>NaN</td>\n",
       "      <td>ORIGINAL</td>\n",
       "      <td>True</td>\n",
       "      <td>NaN</td>\n",
       "      <td>1885400.0</td>\n",
       "      <td>2020-08-10T18:16:24Z</td>\n",
       "      <td>A3</td>\n",
       "      <td>2818.0</td>\n",
       "      <td>4</td>\n",
       "    </tr>\n",
       "    <tr>\n",
       "      <th>336</th>\n",
       "      <td>Седан</td>\n",
       "      <td>AUDI</td>\n",
       "      <td>0000CC</td>\n",
       "      <td>бензин</td>\n",
       "      <td>2016.0</td>\n",
       "      <td>1.4 AMT (150 л.с.)</td>\n",
       "      <td>4.0</td>\n",
       "      <td>2020</td>\n",
       "      <td>SEDAN ROBOT 1.4</td>\n",
       "      <td>ROBOT</td>\n",
       "      <td>...</td>\n",
       "      <td>LEFT</td>\n",
       "      <td>NaN</td>\n",
       "      <td>ORIGINAL</td>\n",
       "      <td>True</td>\n",
       "      <td>NaN</td>\n",
       "      <td>1885400.0</td>\n",
       "      <td>2020-08-04T16:44:36Z</td>\n",
       "      <td>A3</td>\n",
       "      <td>2643.0</td>\n",
       "      <td>4</td>\n",
       "    </tr>\n",
       "    <tr>\n",
       "      <th>339</th>\n",
       "      <td>Седан</td>\n",
       "      <td>AUDI</td>\n",
       "      <td>0000CC</td>\n",
       "      <td>бензин</td>\n",
       "      <td>2016.0</td>\n",
       "      <td>1.4 AMT (150 л.с.)</td>\n",
       "      <td>4.0</td>\n",
       "      <td>2020</td>\n",
       "      <td>SEDAN ROBOT 1.4</td>\n",
       "      <td>ROBOT</td>\n",
       "      <td>...</td>\n",
       "      <td>LEFT</td>\n",
       "      <td>NaN</td>\n",
       "      <td>ORIGINAL</td>\n",
       "      <td>True</td>\n",
       "      <td>NaN</td>\n",
       "      <td>2016000.0</td>\n",
       "      <td>2020-08-01T03:19:03Z</td>\n",
       "      <td>A3</td>\n",
       "      <td>6295.0</td>\n",
       "      <td>4</td>\n",
       "    </tr>\n",
       "    <tr>\n",
       "      <th>342</th>\n",
       "      <td>Седан</td>\n",
       "      <td>AUDI</td>\n",
       "      <td>97948F</td>\n",
       "      <td>бензин</td>\n",
       "      <td>2016.0</td>\n",
       "      <td>1.4 AMT (150 л.с.)</td>\n",
       "      <td>4.0</td>\n",
       "      <td>2020</td>\n",
       "      <td>SEDAN ROBOT 1.4</td>\n",
       "      <td>ROBOT</td>\n",
       "      <td>...</td>\n",
       "      <td>LEFT</td>\n",
       "      <td>NaN</td>\n",
       "      <td>ORIGINAL</td>\n",
       "      <td>True</td>\n",
       "      <td>NaN</td>\n",
       "      <td>1946000.0</td>\n",
       "      <td>2020-08-01T03:19:03Z</td>\n",
       "      <td>A3</td>\n",
       "      <td>5943.0</td>\n",
       "      <td>4</td>\n",
       "    </tr>\n",
       "  </tbody>\n",
       "</table>\n",
       "<p>5 rows × 26 columns</p>\n",
       "</div>"
      ],
      "text/plain": [
       "    bodyType brand   color fuelType  modelDate                name  \\\n",
       "332    Седан  AUDI  97948F   бензин     2016.0  1.4 AMT (150 л.с.)   \n",
       "333    Седан  AUDI  CACECB   бензин     2016.0  1.4 AMT (150 л.с.)   \n",
       "336    Седан  AUDI  0000CC   бензин     2016.0  1.4 AMT (150 л.с.)   \n",
       "339    Седан  AUDI  0000CC   бензин     2016.0  1.4 AMT (150 л.с.)   \n",
       "342    Седан  AUDI  97948F   бензин     2016.0  1.4 AMT (150 л.с.)   \n",
       "\n",
       "     numberOfDoors  productionDate vehicleConfiguration vehicleTransmission  \\\n",
       "332            4.0            2020      SEDAN ROBOT 1.4               ROBOT   \n",
       "333            4.0            2020      SEDAN ROBOT 1.4               ROBOT   \n",
       "336            4.0            2020      SEDAN ROBOT 1.4               ROBOT   \n",
       "339            4.0            2020      SEDAN ROBOT 1.4               ROBOT   \n",
       "342            4.0            2020      SEDAN ROBOT 1.4               ROBOT   \n",
       "\n",
       "     ...  Руль  Владельцы       ПТС  Таможня Владение      price  \\\n",
       "332  ...  LEFT        NaN  ORIGINAL     True      NaN  1885400.0   \n",
       "333  ...  LEFT        NaN  ORIGINAL     True      NaN  1885400.0   \n",
       "336  ...  LEFT        NaN  ORIGINAL     True      NaN  1885400.0   \n",
       "339  ...  LEFT        NaN  ORIGINAL     True      NaN  2016000.0   \n",
       "342  ...  LEFT        NaN  ORIGINAL     True      NaN  1946000.0   \n",
       "\n",
       "               start_date  model description_len  Complectation  \n",
       "332  2020-08-10T18:16:24Z     A3          2818.0              4  \n",
       "333  2020-08-10T18:16:24Z     A3          2818.0              4  \n",
       "336  2020-08-04T16:44:36Z     A3          2643.0              4  \n",
       "339  2020-08-01T03:19:03Z     A3          6295.0              4  \n",
       "342  2020-08-01T03:19:03Z     A3          5943.0              4  \n",
       "\n",
       "[5 rows x 26 columns]"
      ]
     },
     "execution_count": 158,
     "metadata": {},
     "output_type": "execute_result"
    }
   ],
   "source": [
    "df[df['Владельцы'].isna()].head()"
   ]
  },
  {
   "cell_type": "markdown",
   "id": "bc08540b",
   "metadata": {},
   "source": [
    "Выведем количество автомобилей для каждого года выпуска, которые имеют значения NaN"
   ]
  },
  {
   "cell_type": "code",
   "execution_count": 159,
   "id": "8ab6a712",
   "metadata": {},
   "outputs": [
    {
     "name": "stdout",
     "output_type": "stream",
     "text": [
      "Количество автомобилей без указания количества владельцев для автомобилей 2020 года: 12119\n",
      "Количество автомобилей без указания количества владельцев для автомобилей 2019 года: 1151\n",
      "Количество автомобилей без указания количества владельцев для автомобилей 2018 года: 74\n",
      "Количество автомобилей без указания количества владельцев для автомобилей 2017 года: 1\n"
     ]
    }
   ],
   "source": [
    "for i in df[df['Владельцы'].isna()]['productionDate'].unique():\n",
    "    print('Количество автомобилей без указания количества владельцев для автомобилей {} года:'.format(i), df.loc[((df['Владельцы'].isna()) & (df['productionDate'] == i))].shape[0])"
   ]
  },
  {
   "cell_type": "markdown",
   "id": "4a3c73ce",
   "metadata": {},
   "source": [
    "Видно, что такие значения имеют новые автомобили. Учитывая это, мы можеи предположить, что эти автомобили никогда не имели владельцев и заменим пропуски нулями"
   ]
  },
  {
   "cell_type": "code",
   "execution_count": 160,
   "id": "3fb92f08",
   "metadata": {},
   "outputs": [],
   "source": [
    "df['Владельцы'] = df['Владельцы'].fillna(0)"
   ]
  },
  {
   "cell_type": "code",
   "execution_count": 161,
   "id": "0836145b",
   "metadata": {},
   "outputs": [
    {
     "data": {
      "text/plain": [
       "0"
      ]
     },
     "execution_count": 161,
     "metadata": {},
     "output_type": "execute_result"
    }
   ],
   "source": [
    "df['Владельцы'].isna().sum()"
   ]
  },
  {
   "cell_type": "markdown",
   "id": "15180d93",
   "metadata": {},
   "source": [
    "Построем график распределения для количесвта владельцев автомобилей"
   ]
  },
  {
   "cell_type": "code",
   "execution_count": 162,
   "id": "fdb6c68d",
   "metadata": {},
   "outputs": [
    {
     "data": {
      "image/png": "[encoded data removed]",
      "text/plain": [
       "<Figure size 720x432 with 1 Axes>"
      ]
     },
     "metadata": {},
     "output_type": "display_data"
    }
   ],
   "source": [
    "sns.set_style('whitegrid')\n",
    "fig, ax = plt.subplots(figsize=(10, 6))\n",
    "\n",
    "sns.histplot(x=df['Владельцы'], ax=ax, kde=False, color='#4c72b0', binwidth=1)\n",
    "ax.set_xlabel('Количество владельцев', fontsize=12)\n",
    "ax.set_ylabel('Количество', fontsize=12)\n",
    "ax.set_title('Распределение количества владельцев автомобилей', fontsize=18, color='#c44e52')\n",
    "ax.tick_params(axis='both', labelsize=10)\n",
    "\n",
    "plt.show()"
   ]
  },
  {
   "cell_type": "markdown",
   "id": "6c15aff5",
   "metadata": {},
   "source": [
    "### Столбец 'ПТС'"
   ]
  },
  {
   "cell_type": "markdown",
   "id": "22a1d667",
   "metadata": {},
   "source": [
    "Данный столбец содержит информацию о ПТС автомобилей"
   ]
  },
  {
   "cell_type": "code",
   "execution_count": 163,
   "id": "7f74a08b",
   "metadata": {},
   "outputs": [
    {
     "data": {
      "text/plain": [
       "0         ORIGINAL\n",
       "2         ORIGINAL\n",
       "3         ORIGINAL\n",
       "4        DUPLICATE\n",
       "5         ORIGINAL\n",
       "           ...    \n",
       "89373     ORIGINAL\n",
       "89374     ORIGINAL\n",
       "89375     ORIGINAL\n",
       "89376     ORIGINAL\n",
       "89377     ORIGINAL\n",
       "Name: ПТС, Length: 87306, dtype: object"
      ]
     },
     "execution_count": 163,
     "metadata": {},
     "output_type": "execute_result"
    }
   ],
   "source": [
    "df['ПТС']"
   ]
  },
  {
   "cell_type": "markdown",
   "id": "c773ac4b",
   "metadata": {},
   "source": [
    "Выведем количество значений NaN"
   ]
  },
  {
   "cell_type": "code",
   "execution_count": 164,
   "id": "d7cb444e",
   "metadata": {},
   "outputs": [
    {
     "data": {
      "text/plain": [
       "345"
      ]
     },
     "execution_count": 164,
     "metadata": {},
     "output_type": "execute_result"
    }
   ],
   "source": [
    "df['ПТС'].isna().sum()"
   ]
  },
  {
   "cell_type": "markdown",
   "id": "7b9d158c",
   "metadata": {},
   "source": [
    "Так как данный столбец имеет маленькое количество пропусков, то мы можем заменить его на моду без вреда для датасета"
   ]
  },
  {
   "cell_type": "code",
   "execution_count": 165,
   "id": "f6be7009",
   "metadata": {},
   "outputs": [],
   "source": [
    "df['ПТС'] = df['ПТС'].fillna(0)"
   ]
  },
  {
   "cell_type": "code",
   "execution_count": 166,
   "id": "9778a81d",
   "metadata": {},
   "outputs": [
    {
     "data": {
      "text/plain": [
       "0"
      ]
     },
     "execution_count": 166,
     "metadata": {},
     "output_type": "execute_result"
    }
   ],
   "source": [
    "df['ПТС'].isna().sum()"
   ]
  },
  {
   "cell_type": "markdown",
   "id": "a68fdaf4",
   "metadata": {},
   "source": [
    "Выведем уникальные значения для данного столбца"
   ]
  },
  {
   "cell_type": "code",
   "execution_count": 167,
   "id": "fa27666d",
   "metadata": {},
   "outputs": [
    {
     "data": {
      "text/plain": [
       "array(['ORIGINAL', 'DUPLICATE', 0], dtype=object)"
      ]
     },
     "execution_count": 167,
     "metadata": {},
     "output_type": "execute_result"
    }
   ],
   "source": [
    "df['ПТС'].unique()"
   ]
  },
  {
   "cell_type": "markdown",
   "id": "32683a5a",
   "metadata": {},
   "source": [
    "### Столбец 'Таможня'"
   ]
  },
  {
   "cell_type": "markdown",
   "id": "62332ba5",
   "metadata": {},
   "source": [
    "Данный столбец содержит информацию о растоможенности автомобилей"
   ]
  },
  {
   "cell_type": "code",
   "execution_count": 168,
   "id": "5677298b",
   "metadata": {},
   "outputs": [
    {
     "data": {
      "text/plain": [
       "0        True\n",
       "2        True\n",
       "3        True\n",
       "4        True\n",
       "5        True\n",
       "         ... \n",
       "89373    True\n",
       "89374    True\n",
       "89375    True\n",
       "89376    True\n",
       "89377    True\n",
       "Name: Таможня, Length: 87306, dtype: bool"
      ]
     },
     "execution_count": 168,
     "metadata": {},
     "output_type": "execute_result"
    }
   ],
   "source": [
    "df['Таможня']"
   ]
  },
  {
   "cell_type": "markdown",
   "id": "04fe04d1",
   "metadata": {},
   "source": [
    "Выведем количество значений NaN"
   ]
  },
  {
   "cell_type": "code",
   "execution_count": 169,
   "id": "f03b7c71",
   "metadata": {},
   "outputs": [
    {
     "data": {
      "text/plain": [
       "0"
      ]
     },
     "execution_count": 169,
     "metadata": {},
     "output_type": "execute_result"
    }
   ],
   "source": [
    "df['Таможня'].isna().sum()"
   ]
  },
  {
   "cell_type": "markdown",
   "id": "61d4c5db",
   "metadata": {},
   "source": [
    "Выведем количество уникальных значений для данного столбца"
   ]
  },
  {
   "cell_type": "code",
   "execution_count": 170,
   "id": "ad42129c",
   "metadata": {},
   "outputs": [
    {
     "data": {
      "text/plain": [
       "1"
      ]
     },
     "execution_count": 170,
     "metadata": {},
     "output_type": "execute_result"
    }
   ],
   "source": [
    "df['Таможня'].nunique()"
   ]
  },
  {
   "cell_type": "markdown",
   "id": "e475fb2b",
   "metadata": {},
   "source": [
    "Данный столбец имеет одно уникальное значение и ни одного пропуска. Это означает, что значения столбца одинаковы для всех строк, следовательно, не имеет никакого столбец не имеет никакого смысла. Удалим его"
   ]
  },
  {
   "cell_type": "code",
   "execution_count": 171,
   "id": "9709169f",
   "metadata": {},
   "outputs": [],
   "source": [
    "df = df.drop(columns=['Таможня'])"
   ]
  },
  {
   "cell_type": "markdown",
   "id": "09cc2bc0",
   "metadata": {},
   "source": [
    "### Столбец 'Владение'"
   ]
  },
  {
   "cell_type": "markdown",
   "id": "528accad",
   "metadata": {},
   "source": [
    "Данный столбец содержит информацию о дате начала владения автомобилей"
   ]
  },
  {
   "cell_type": "code",
   "execution_count": 172,
   "id": "1b81cbc8",
   "metadata": {},
   "outputs": [
    {
     "data": {
      "text/plain": [
       "0                                NaN\n",
       "2                                NaN\n",
       "3                                NaN\n",
       "4                                NaN\n",
       "5                                NaN\n",
       "                    ...             \n",
       "89373                            NaN\n",
       "89374     {'year': 2017, 'month': 2}\n",
       "89375    {'year': 2015, 'month': 12}\n",
       "89376    {'year': 2017, 'month': 10}\n",
       "89377     {'year': 2018, 'month': 6}\n",
       "Name: Владение, Length: 87306, dtype: object"
      ]
     },
     "execution_count": 172,
     "metadata": {},
     "output_type": "execute_result"
    }
   ],
   "source": [
    "df['Владение']"
   ]
  },
  {
   "cell_type": "markdown",
   "id": "33545d6b",
   "metadata": {},
   "source": [
    "Выведем количество значений NaN"
   ]
  },
  {
   "cell_type": "code",
   "execution_count": 173,
   "id": "e73fa063",
   "metadata": {},
   "outputs": [
    {
     "data": {
      "text/plain": [
       "58736"
      ]
     },
     "execution_count": 173,
     "metadata": {},
     "output_type": "execute_result"
    }
   ],
   "source": [
    "df['Владение'].isna().sum()"
   ]
  },
  {
   "cell_type": "markdown",
   "id": "05a171d9",
   "metadata": {},
   "source": [
    "### Столбец 'price'"
   ]
  },
  {
   "cell_type": "markdown",
   "id": "4c968ccf",
   "metadata": {},
   "source": [
    "Данный столбец содержит информацию о цене автомобилей"
   ]
  },
  {
   "cell_type": "code",
   "execution_count": 174,
   "id": "db8041db",
   "metadata": {},
   "outputs": [
    {
     "data": {
      "text/plain": [
       "0         200000.0\n",
       "2          99000.0\n",
       "3          65000.0\n",
       "4         100000.0\n",
       "5          90000.0\n",
       "           ...    \n",
       "89373     450000.0\n",
       "89374     485000.0\n",
       "89375    1090000.0\n",
       "89376    1180000.0\n",
       "89377    1075000.0\n",
       "Name: price, Length: 87306, dtype: float64"
      ]
     },
     "execution_count": 174,
     "metadata": {},
     "output_type": "execute_result"
    }
   ],
   "source": [
    "df['price']"
   ]
  },
  {
   "cell_type": "markdown",
   "id": "cae05f41",
   "metadata": {},
   "source": [
    "Выведем количество значений NaN"
   ]
  },
  {
   "cell_type": "code",
   "execution_count": 175,
   "id": "5d03fad7",
   "metadata": {},
   "outputs": [
    {
     "data": {
      "text/plain": [
       "401"
      ]
     },
     "execution_count": 175,
     "metadata": {},
     "output_type": "execute_result"
    }
   ],
   "source": [
    "df['price'].isna().sum()"
   ]
  },
  {
   "cell_type": "markdown",
   "id": "d2e1a294",
   "metadata": {},
   "source": [
    "Удалим пропуски"
   ]
  },
  {
   "cell_type": "code",
   "execution_count": 176,
   "id": "1992c7c6",
   "metadata": {},
   "outputs": [],
   "source": [
    "df = df.dropna(subset=['price'])"
   ]
  },
  {
   "cell_type": "code",
   "execution_count": 177,
   "id": "933111ee",
   "metadata": {},
   "outputs": [
    {
     "data": {
      "text/plain": [
       "0"
      ]
     },
     "execution_count": 177,
     "metadata": {},
     "output_type": "execute_result"
    }
   ],
   "source": [
    "df['price'].isna().sum()"
   ]
  },
  {
   "cell_type": "markdown",
   "id": "a19141af",
   "metadata": {},
   "source": [
    "Построем график распределения цены"
   ]
  },
  {
   "cell_type": "code",
   "execution_count": 178,
   "id": "ec79d7fc",
   "metadata": {},
   "outputs": [
    {
     "data": {
      "image/png": "[encoded data removed]",
      "text/plain": [
       "<Figure size 720x432 with 1 Axes>"
      ]
     },
     "metadata": {},
     "output_type": "display_data"
    }
   ],
   "source": [
    "sns.set_style('whitegrid')\n",
    "fig, ax = plt.subplots(figsize=(10, 6))\n",
    "\n",
    "sns.histplot(x=df['price'], ax=ax, kde=False, color='#4c72b0', binwidth=1000000)\n",
    "ax.set_xlabel('Цена', fontsize=12)\n",
    "ax.set_ylabel('Количество', fontsize=12)\n",
    "ax.set_title('Распределение цены автомобилей', fontsize=18, color='#c44e52')\n",
    "ax.tick_params(axis='both', labelsize=10)\n",
    "\n",
    "plt.show()"
   ]
  },
  {
   "cell_type": "markdown",
   "id": "5e9edf38",
   "metadata": {},
   "source": [
    "Удалим выбросы"
   ]
  },
  {
   "cell_type": "code",
   "execution_count": 179,
   "id": "75d9a94c",
   "metadata": {},
   "outputs": [
    {
     "name": "stdout",
     "output_type": "stream",
     "text": [
      "33366.1111370894 15111753.829507219\n"
     ]
    }
   ],
   "source": [
    "mean = np.log(df['price']).mean()\n",
    "std = np.log(df['price']).std()\n",
    "\n",
    "# определяем выбросы\n",
    "lower_bound = np.exp(mean - 3 * std)\n",
    "upper_bound = np.exp(mean + 3 * std)\n",
    "\n",
    "print(lower_bound, upper_bound)"
   ]
  },
  {
   "cell_type": "code",
   "execution_count": 180,
   "id": "c15abd0f",
   "metadata": {},
   "outputs": [],
   "source": [
    "df = df.loc[((df['price'] < upper_bound) & (df['price'] > lower_bound))]"
   ]
  },
  {
   "cell_type": "markdown",
   "id": "e48af6a2",
   "metadata": {},
   "source": [
    "Построем новый график распределения цены"
   ]
  },
  {
   "cell_type": "code",
   "execution_count": 181,
   "id": "fb68d503",
   "metadata": {},
   "outputs": [
    {
     "data": {
      "image/png": "[encoded data removed]",
      "text/plain": [
       "<Figure size 720x432 with 1 Axes>"
      ]
     },
     "metadata": {},
     "output_type": "display_data"
    }
   ],
   "source": [
    "sns.set_style('whitegrid')\n",
    "fig, ax = plt.subplots(figsize=(10, 6))\n",
    "\n",
    "sns.histplot(x=df['price'], ax=ax, kde=False, color='#4c72b0', binwidth=100000)\n",
    "ax.set_xlabel('Цена', fontsize=12)\n",
    "ax.set_ylabel('Количество', fontsize=12)\n",
    "ax.set_title('Распределение цены автомобилей', fontsize=18, color='#c44e52')\n",
    "ax.tick_params(axis='both', labelsize=10)\n",
    "\n",
    "plt.show()"
   ]
  },
  {
   "cell_type": "code",
   "execution_count": 182,
   "id": "2d63ec46",
   "metadata": {},
   "outputs": [
    {
     "data": {
      "text/plain": [
       "86841"
      ]
     },
     "execution_count": 182,
     "metadata": {},
     "output_type": "execute_result"
    }
   ],
   "source": [
    "df.shape[0]"
   ]
  },
  {
   "cell_type": "markdown",
   "id": "dc33879e",
   "metadata": {},
   "source": [
    "### Столбец 'start_date'"
   ]
  },
  {
   "cell_type": "markdown",
   "id": "80bff67a",
   "metadata": {},
   "source": [
    "Данный столбец содержит информацию о публикации объявления автомобилей"
   ]
  },
  {
   "cell_type": "code",
   "execution_count": 183,
   "id": "9efd9a89",
   "metadata": {},
   "outputs": [
    {
     "data": {
      "text/plain": [
       "0        2019-10-03T08:09:11Z\n",
       "2        2020-09-02T14:04:21Z\n",
       "3        2020-08-23T17:40:09Z\n",
       "4        2020-09-08T09:22:07Z\n",
       "5        2020-09-08T09:47:16Z\n",
       "                 ...         \n",
       "89373    2020-02-11T09:29:59Z\n",
       "89374    2020-05-30T18:56:30Z\n",
       "89375    2020-08-30T14:39:15Z\n",
       "89376    2019-05-14T15:43:20Z\n",
       "89377    2020-08-10T11:30:29Z\n",
       "Name: start_date, Length: 86841, dtype: object"
      ]
     },
     "execution_count": 183,
     "metadata": {},
     "output_type": "execute_result"
    }
   ],
   "source": [
    "df['start_date']"
   ]
  },
  {
   "cell_type": "markdown",
   "id": "78616b68",
   "metadata": {},
   "source": [
    "Выведем количество значений NaN"
   ]
  },
  {
   "cell_type": "code",
   "execution_count": 184,
   "id": "9a7bb0f6",
   "metadata": {},
   "outputs": [
    {
     "data": {
      "text/plain": [
       "0"
      ]
     },
     "execution_count": 184,
     "metadata": {},
     "output_type": "execute_result"
    }
   ],
   "source": [
    "df['start_date'].isna().sum()"
   ]
  },
  {
   "cell_type": "markdown",
   "id": "c27c3015",
   "metadata": {},
   "source": [
    "Переведем столбец в формат datetime"
   ]
  },
  {
   "cell_type": "code",
   "execution_count": 185,
   "id": "8c893d3b",
   "metadata": {},
   "outputs": [
    {
     "data": {
      "text/plain": [
       "0        2019-10-03\n",
       "2        2020-09-02\n",
       "3        2020-08-23\n",
       "4        2020-09-08\n",
       "5        2020-09-08\n",
       "            ...    \n",
       "89373    2020-02-11\n",
       "89374    2020-05-30\n",
       "89375    2020-08-30\n",
       "89376    2019-05-14\n",
       "89377    2020-08-10\n",
       "Name: start_date, Length: 86841, dtype: object"
      ]
     },
     "execution_count": 185,
     "metadata": {},
     "output_type": "execute_result"
    }
   ],
   "source": [
    "df['start_date'].str[:10]"
   ]
  },
  {
   "cell_type": "code",
   "execution_count": 186,
   "id": "c5de9fe8",
   "metadata": {},
   "outputs": [],
   "source": [
    "df['start_date'] = pd.to_datetime(df['start_date'].str[:10])"
   ]
  },
  {
   "cell_type": "code",
   "execution_count": 187,
   "id": "00899e4d",
   "metadata": {},
   "outputs": [
    {
     "data": {
      "text/plain": [
       "0       2019-10-03\n",
       "2       2020-09-02\n",
       "3       2020-08-23\n",
       "4       2020-09-08\n",
       "5       2020-09-08\n",
       "           ...    \n",
       "89373   2020-02-11\n",
       "89374   2020-05-30\n",
       "89375   2020-08-30\n",
       "89376   2019-05-14\n",
       "89377   2020-08-10\n",
       "Name: start_date, Length: 86841, dtype: datetime64[ns]"
      ]
     },
     "execution_count": 187,
     "metadata": {},
     "output_type": "execute_result"
    }
   ],
   "source": [
    "df['start_date']"
   ]
  },
  {
   "cell_type": "markdown",
   "id": "f0011eaa",
   "metadata": {},
   "source": [
    "Построем график распределения даты загрузки объявления"
   ]
  },
  {
   "cell_type": "code",
   "execution_count": 188,
   "id": "1a7331ef",
   "metadata": {},
   "outputs": [
    {
     "data": {
      "image/png": "[encoded data removed]",
      "text/plain": [
       "<Figure size 720x432 with 1 Axes>"
      ]
     },
     "metadata": {},
     "output_type": "display_data"
    }
   ],
   "source": [
    "sns.set_style('whitegrid')\n",
    "fig, ax = plt.subplots(figsize=(10, 6))\n",
    "\n",
    "sns.histplot(x=df['start_date'], ax=ax, kde=False, color='#4c72b0', binwidth=100)\n",
    "ax.set_xlabel('Дата', fontsize=12)\n",
    "ax.set_ylabel('Количество', fontsize=12)\n",
    "ax.set_title('Распределение даты загрузки объявления автомобилей', fontsize=18, color='#c44e52')\n",
    "ax.tick_params(axis='both', labelsize=10)\n",
    "\n",
    "plt.show()"
   ]
  },
  {
   "cell_type": "markdown",
   "id": "3da9b5c0",
   "metadata": {},
   "source": [
    "### Столбец 'model'"
   ]
  },
  {
   "cell_type": "markdown",
   "id": "93953037",
   "metadata": {},
   "source": [
    "Данный столбец содержит информацию о модели автомобилей"
   ]
  },
  {
   "cell_type": "code",
   "execution_count": 189,
   "id": "3cbad736",
   "metadata": {},
   "outputs": [
    {
     "data": {
      "text/plain": [
       "0           100\n",
       "2           100\n",
       "3           100\n",
       "4           100\n",
       "5           100\n",
       "          ...  \n",
       "89373    RODIUS\n",
       "89374    RODIUS\n",
       "89375    STAVIC\n",
       "89376    STAVIC\n",
       "89377    STAVIC\n",
       "Name: model, Length: 86841, dtype: object"
      ]
     },
     "execution_count": 189,
     "metadata": {},
     "output_type": "execute_result"
    }
   ],
   "source": [
    "df['model']"
   ]
  },
  {
   "cell_type": "markdown",
   "id": "f8c02e7d",
   "metadata": {},
   "source": [
    "Выведем количество значений NaN"
   ]
  },
  {
   "cell_type": "code",
   "execution_count": 190,
   "id": "e894b9e6",
   "metadata": {},
   "outputs": [
    {
     "data": {
      "text/plain": [
       "0"
      ]
     },
     "execution_count": 190,
     "metadata": {},
     "output_type": "execute_result"
    }
   ],
   "source": [
    "df['model'].isna().sum()"
   ]
  },
  {
   "cell_type": "markdown",
   "id": "58ca17b6",
   "metadata": {},
   "source": [
    "Выведем количество уникальных значений"
   ]
  },
  {
   "cell_type": "code",
   "execution_count": 191,
   "id": "b32eeb4b",
   "metadata": {},
   "outputs": [
    {
     "data": {
      "text/plain": [
       "995"
      ]
     },
     "execution_count": 191,
     "metadata": {},
     "output_type": "execute_result"
    }
   ],
   "source": [
    "df['model'].nunique()"
   ]
  },
  {
   "cell_type": "markdown",
   "id": "b2bb6672",
   "metadata": {},
   "source": [
    "# Подготовка данных для построения модели машинного обучения"
   ]
  },
  {
   "cell_type": "markdown",
   "id": "a960fa90",
   "metadata": {},
   "source": [
    "Выведем общую информацию о столбцах после их обработки"
   ]
  },
  {
   "cell_type": "code",
   "execution_count": 198,
   "id": "73ee3ac6",
   "metadata": {},
   "outputs": [
    {
     "name": "stdout",
     "output_type": "stream",
     "text": [
      "<class 'pandas.core.frame.DataFrame'>\n",
      "Int64Index: 86841 entries, 0 to 89377\n",
      "Data columns (total 26 columns):\n",
      " #   Column                Non-Null Count  Dtype         \n",
      "---  ------                --------------  -----         \n",
      " 0   bodyType              86841 non-null  object        \n",
      " 1   brand                 86841 non-null  object        \n",
      " 2   color                 86841 non-null  object        \n",
      " 3   fuelType              86841 non-null  object        \n",
      " 4   modelDate             86841 non-null  float64       \n",
      " 5   name                  86841 non-null  object        \n",
      " 6   numberOfDoors         86841 non-null  float64       \n",
      " 7   productionDate        86841 non-null  int64         \n",
      " 8   vehicleConfiguration  86841 non-null  object        \n",
      " 9   vehicleTransmission   86841 non-null  object        \n",
      " 10  engineDisplacement    86841 non-null  object        \n",
      " 11  enginePower           86841 non-null  float64       \n",
      " 12  description           83678 non-null  object        \n",
      " 13  mileage               86841 non-null  int64         \n",
      " 14  Комплектация          86841 non-null  object        \n",
      " 15  Привод                86841 non-null  object        \n",
      " 16  Руль                  86841 non-null  object        \n",
      " 17  Владельцы             86841 non-null  float64       \n",
      " 18  ПТС                   86841 non-null  object        \n",
      " 19  Владение              28396 non-null  object        \n",
      " 20  price                 86841 non-null  float64       \n",
      " 21  start_date            86841 non-null  datetime64[ns]\n",
      " 22  model                 86841 non-null  object        \n",
      " 23  description_len       86841 non-null  float64       \n",
      " 24  Complectation         86841 non-null  int64         \n",
      " 25  equipment             86841 non-null  int64         \n",
      "dtypes: datetime64[ns](1), float64(6), int64(4), object(15)\n",
      "memory usage: 17.9+ MB\n"
     ]
    }
   ],
   "source": [
    "df.info()"
   ]
  },
  {
   "cell_type": "markdown",
   "id": "c91e0b3f",
   "metadata": {},
   "source": [
    "Выберем столбцы, которые потребуются для обучения модели"
   ]
  },
  {
   "cell_type": "code",
   "execution_count": 199,
   "id": "a9be3c50",
   "metadata": {},
   "outputs": [],
   "source": [
    "x_columns = ['bodyType', 'brand', 'color', 'fuelType', 'modelDate', 'numberOfDoors', 'productionDate', \n",
    "             'vehicleTransmission', 'engineDisplacement', 'enginePower', 'mileage', 'Привод', 'Руль', \n",
    "             'Владельцы', 'ПТС', 'start_date', 'description_len', 'equipment']\n",
    "\n",
    "y_columns = ['price']"
   ]
  },
  {
   "cell_type": "code",
   "execution_count": 200,
   "id": "66608a7e",
   "metadata": {},
   "outputs": [],
   "source": [
    "X = pd.DataFrame()"
   ]
  },
  {
   "cell_type": "markdown",
   "id": "072a4b96",
   "metadata": {},
   "source": [
    "Проведем нормализацию для числовых столбцов, а для остальных заменим уникальные значения на числа"
   ]
  },
  {
   "cell_type": "code",
   "execution_count": 201,
   "id": "3d07539d",
   "metadata": {},
   "outputs": [],
   "source": [
    "from sklearn.preprocessing import StandardScaler\n",
    "scaler = StandardScaler()\n",
    "\n",
    "for col in x_columns:\n",
    "    if df[col].dtypes == 'object':\n",
    "        parental = {element: index for index, element in enumerate(df[col].unique())}\n",
    "        X[col] = df[col].replace(parental)\n",
    "    else:\n",
    "        X[col] = scaler.fit_transform(df.loc[:,[col]])"
   ]
  },
  {
   "cell_type": "markdown",
   "id": "ba32b724",
   "metadata": {},
   "source": [
    "Выведем новый датафрейм Х, который содержит новые необходимые столбцы"
   ]
  },
  {
   "cell_type": "code",
   "execution_count": 205,
   "id": "e9d68973",
   "metadata": {},
   "outputs": [
    {
     "data": {
      "text/html": [
       "<div>\n",
       "<style scoped>\n",
       "    .dataframe tbody tr th:only-of-type {\n",
       "        vertical-align: middle;\n",
       "    }\n",
       "\n",
       "    .dataframe tbody tr th {\n",
       "        vertical-align: top;\n",
       "    }\n",
       "\n",
       "    .dataframe thead th {\n",
       "        text-align: right;\n",
       "    }\n",
       "</style>\n",
       "<table border=\"1\" class=\"dataframe\">\n",
       "  <thead>\n",
       "    <tr style=\"text-align: right;\">\n",
       "      <th></th>\n",
       "      <th>bodyType</th>\n",
       "      <th>brand</th>\n",
       "      <th>color</th>\n",
       "      <th>fuelType</th>\n",
       "      <th>modelDate</th>\n",
       "      <th>numberOfDoors</th>\n",
       "      <th>productionDate</th>\n",
       "      <th>vehicleTransmission</th>\n",
       "      <th>engineDisplacement</th>\n",
       "      <th>enginePower</th>\n",
       "      <th>mileage</th>\n",
       "      <th>Привод</th>\n",
       "      <th>Руль</th>\n",
       "      <th>Владельцы</th>\n",
       "      <th>ПТС</th>\n",
       "      <th>start_date</th>\n",
       "      <th>description_len</th>\n",
       "      <th>equipment</th>\n",
       "    </tr>\n",
       "  </thead>\n",
       "  <tbody>\n",
       "    <tr>\n",
       "      <th>0</th>\n",
       "      <td>0</td>\n",
       "      <td>0</td>\n",
       "      <td>0</td>\n",
       "      <td>0</td>\n",
       "      <td>-2.759864</td>\n",
       "      <td>-0.815338</td>\n",
       "      <td>-3.085909</td>\n",
       "      <td>0</td>\n",
       "      <td>0</td>\n",
       "      <td>0.103890</td>\n",
       "      <td>2.115905</td>\n",
       "      <td>0</td>\n",
       "      <td>0</td>\n",
       "      <td>1.007349</td>\n",
       "      <td>0</td>\n",
       "      <td>-1.418032</td>\n",
       "      <td>-0.496321</td>\n",
       "      <td>-0.699282</td>\n",
       "    </tr>\n",
       "    <tr>\n",
       "      <th>2</th>\n",
       "      <td>1</td>\n",
       "      <td>0</td>\n",
       "      <td>1</td>\n",
       "      <td>0</td>\n",
       "      <td>-3.053977</td>\n",
       "      <td>0.749201</td>\n",
       "      <td>-3.393980</td>\n",
       "      <td>0</td>\n",
       "      <td>1</td>\n",
       "      <td>-0.427215</td>\n",
       "      <td>0.935968</td>\n",
       "      <td>0</td>\n",
       "      <td>0</td>\n",
       "      <td>1.007349</td>\n",
       "      <td>0</td>\n",
       "      <td>0.685843</td>\n",
       "      <td>0.027605</td>\n",
       "      <td>-0.699282</td>\n",
       "    </tr>\n",
       "    <tr>\n",
       "      <th>3</th>\n",
       "      <td>0</td>\n",
       "      <td>0</td>\n",
       "      <td>2</td>\n",
       "      <td>0</td>\n",
       "      <td>-3.053977</td>\n",
       "      <td>-0.815338</td>\n",
       "      <td>-3.393980</td>\n",
       "      <td>0</td>\n",
       "      <td>2</td>\n",
       "      <td>-1.070132</td>\n",
       "      <td>1.034296</td>\n",
       "      <td>1</td>\n",
       "      <td>0</td>\n",
       "      <td>1.007349</td>\n",
       "      <td>0</td>\n",
       "      <td>0.623041</td>\n",
       "      <td>-0.626305</td>\n",
       "      <td>-0.699282</td>\n",
       "    </tr>\n",
       "    <tr>\n",
       "      <th>4</th>\n",
       "      <td>0</td>\n",
       "      <td>0</td>\n",
       "      <td>0</td>\n",
       "      <td>0</td>\n",
       "      <td>-2.759864</td>\n",
       "      <td>-0.815338</td>\n",
       "      <td>-3.085909</td>\n",
       "      <td>0</td>\n",
       "      <td>3</td>\n",
       "      <td>-0.916391</td>\n",
       "      <td>1.624265</td>\n",
       "      <td>1</td>\n",
       "      <td>0</td>\n",
       "      <td>1.007349</td>\n",
       "      <td>1</td>\n",
       "      <td>0.723524</td>\n",
       "      <td>-0.510004</td>\n",
       "      <td>-0.699282</td>\n",
       "    </tr>\n",
       "    <tr>\n",
       "      <th>5</th>\n",
       "      <td>0</td>\n",
       "      <td>0</td>\n",
       "      <td>3</td>\n",
       "      <td>0</td>\n",
       "      <td>-2.759864</td>\n",
       "      <td>-0.815338</td>\n",
       "      <td>-2.777838</td>\n",
       "      <td>0</td>\n",
       "      <td>0</td>\n",
       "      <td>0.103890</td>\n",
       "      <td>0.640984</td>\n",
       "      <td>1</td>\n",
       "      <td>0</td>\n",
       "      <td>1.007349</td>\n",
       "      <td>0</td>\n",
       "      <td>0.723524</td>\n",
       "      <td>-0.506583</td>\n",
       "      <td>-0.699282</td>\n",
       "    </tr>\n",
       "    <tr>\n",
       "      <th>...</th>\n",
       "      <td>...</td>\n",
       "      <td>...</td>\n",
       "      <td>...</td>\n",
       "      <td>...</td>\n",
       "      <td>...</td>\n",
       "      <td>...</td>\n",
       "      <td>...</td>\n",
       "      <td>...</td>\n",
       "      <td>...</td>\n",
       "      <td>...</td>\n",
       "      <td>...</td>\n",
       "      <td>...</td>\n",
       "      <td>...</td>\n",
       "      <td>...</td>\n",
       "      <td>...</td>\n",
       "      <td>...</td>\n",
       "      <td>...</td>\n",
       "      <td>...</td>\n",
       "    </tr>\n",
       "    <tr>\n",
       "      <th>89373</th>\n",
       "      <td>11</td>\n",
       "      <td>35</td>\n",
       "      <td>0</td>\n",
       "      <td>1</td>\n",
       "      <td>-0.701073</td>\n",
       "      <td>0.749201</td>\n",
       "      <td>-0.775379</td>\n",
       "      <td>1</td>\n",
       "      <td>21</td>\n",
       "      <td>-0.049851</td>\n",
       "      <td>1.230952</td>\n",
       "      <td>0</td>\n",
       "      <td>0</td>\n",
       "      <td>1.007349</td>\n",
       "      <td>0</td>\n",
       "      <td>-0.595323</td>\n",
       "      <td>-0.513995</td>\n",
       "      <td>-0.699282</td>\n",
       "    </tr>\n",
       "    <tr>\n",
       "      <th>89374</th>\n",
       "      <td>11</td>\n",
       "      <td>35</td>\n",
       "      <td>2</td>\n",
       "      <td>1</td>\n",
       "      <td>-0.701073</td>\n",
       "      <td>0.749201</td>\n",
       "      <td>-0.621344</td>\n",
       "      <td>1</td>\n",
       "      <td>21</td>\n",
       "      <td>-0.049851</td>\n",
       "      <td>1.624265</td>\n",
       "      <td>0</td>\n",
       "      <td>0</td>\n",
       "      <td>1.007349</td>\n",
       "      <td>0</td>\n",
       "      <td>0.089222</td>\n",
       "      <td>-0.328711</td>\n",
       "      <td>-0.699282</td>\n",
       "    </tr>\n",
       "    <tr>\n",
       "      <th>89375</th>\n",
       "      <td>11</td>\n",
       "      <td>35</td>\n",
       "      <td>0</td>\n",
       "      <td>1</td>\n",
       "      <td>0.622436</td>\n",
       "      <td>0.749201</td>\n",
       "      <td>0.456904</td>\n",
       "      <td>1</td>\n",
       "      <td>16</td>\n",
       "      <td>-0.245521</td>\n",
       "      <td>-0.086644</td>\n",
       "      <td>0</td>\n",
       "      <td>0</td>\n",
       "      <td>-0.809136</td>\n",
       "      <td>0</td>\n",
       "      <td>0.667002</td>\n",
       "      <td>-0.511714</td>\n",
       "      <td>1.642472</td>\n",
       "    </tr>\n",
       "    <tr>\n",
       "      <th>89376</th>\n",
       "      <td>11</td>\n",
       "      <td>35</td>\n",
       "      <td>5</td>\n",
       "      <td>1</td>\n",
       "      <td>0.622436</td>\n",
       "      <td>0.749201</td>\n",
       "      <td>0.302868</td>\n",
       "      <td>1</td>\n",
       "      <td>16</td>\n",
       "      <td>-0.245521</td>\n",
       "      <td>-0.499622</td>\n",
       "      <td>0</td>\n",
       "      <td>0</td>\n",
       "      <td>1.007349</td>\n",
       "      <td>0</td>\n",
       "      <td>-2.309824</td>\n",
       "      <td>0.332611</td>\n",
       "      <td>1.642472</td>\n",
       "    </tr>\n",
       "    <tr>\n",
       "      <th>89377</th>\n",
       "      <td>11</td>\n",
       "      <td>35</td>\n",
       "      <td>4</td>\n",
       "      <td>1</td>\n",
       "      <td>0.622436</td>\n",
       "      <td>0.749201</td>\n",
       "      <td>0.456904</td>\n",
       "      <td>1</td>\n",
       "      <td>16</td>\n",
       "      <td>-0.245521</td>\n",
       "      <td>0.090346</td>\n",
       "      <td>0</td>\n",
       "      <td>0</td>\n",
       "      <td>0.099106</td>\n",
       "      <td>0</td>\n",
       "      <td>0.541398</td>\n",
       "      <td>-0.437031</td>\n",
       "      <td>-0.699282</td>\n",
       "    </tr>\n",
       "  </tbody>\n",
       "</table>\n",
       "<p>86841 rows × 18 columns</p>\n",
       "</div>"
      ],
      "text/plain": [
       "       bodyType  brand  color  fuelType  modelDate  numberOfDoors  \\\n",
       "0             0      0      0         0  -2.759864      -0.815338   \n",
       "2             1      0      1         0  -3.053977       0.749201   \n",
       "3             0      0      2         0  -3.053977      -0.815338   \n",
       "4             0      0      0         0  -2.759864      -0.815338   \n",
       "5             0      0      3         0  -2.759864      -0.815338   \n",
       "...         ...    ...    ...       ...        ...            ...   \n",
       "89373        11     35      0         1  -0.701073       0.749201   \n",
       "89374        11     35      2         1  -0.701073       0.749201   \n",
       "89375        11     35      0         1   0.622436       0.749201   \n",
       "89376        11     35      5         1   0.622436       0.749201   \n",
       "89377        11     35      4         1   0.622436       0.749201   \n",
       "\n",
       "       productionDate  vehicleTransmission  engineDisplacement  enginePower  \\\n",
       "0           -3.085909                    0                   0     0.103890   \n",
       "2           -3.393980                    0                   1    -0.427215   \n",
       "3           -3.393980                    0                   2    -1.070132   \n",
       "4           -3.085909                    0                   3    -0.916391   \n",
       "5           -2.777838                    0                   0     0.103890   \n",
       "...               ...                  ...                 ...          ...   \n",
       "89373       -0.775379                    1                  21    -0.049851   \n",
       "89374       -0.621344                    1                  21    -0.049851   \n",
       "89375        0.456904                    1                  16    -0.245521   \n",
       "89376        0.302868                    1                  16    -0.245521   \n",
       "89377        0.456904                    1                  16    -0.245521   \n",
       "\n",
       "        mileage  Привод  Руль  Владельцы  ПТС  start_date  description_len  \\\n",
       "0      2.115905       0     0   1.007349    0   -1.418032        -0.496321   \n",
       "2      0.935968       0     0   1.007349    0    0.685843         0.027605   \n",
       "3      1.034296       1     0   1.007349    0    0.623041        -0.626305   \n",
       "4      1.624265       1     0   1.007349    1    0.723524        -0.510004   \n",
       "5      0.640984       1     0   1.007349    0    0.723524        -0.506583   \n",
       "...         ...     ...   ...        ...  ...         ...              ...   \n",
       "89373  1.230952       0     0   1.007349    0   -0.595323        -0.513995   \n",
       "89374  1.624265       0     0   1.007349    0    0.089222        -0.328711   \n",
       "89375 -0.086644       0     0  -0.809136    0    0.667002        -0.511714   \n",
       "89376 -0.499622       0     0   1.007349    0   -2.309824         0.332611   \n",
       "89377  0.090346       0     0   0.099106    0    0.541398        -0.437031   \n",
       "\n",
       "       equipment  \n",
       "0      -0.699282  \n",
       "2      -0.699282  \n",
       "3      -0.699282  \n",
       "4      -0.699282  \n",
       "5      -0.699282  \n",
       "...          ...  \n",
       "89373  -0.699282  \n",
       "89374  -0.699282  \n",
       "89375   1.642472  \n",
       "89376   1.642472  \n",
       "89377  -0.699282  \n",
       "\n",
       "[86841 rows x 18 columns]"
      ]
     },
     "execution_count": 205,
     "metadata": {},
     "output_type": "execute_result"
    }
   ],
   "source": [
    "X"
   ]
  },
  {
   "cell_type": "markdown",
   "id": "0c5a44f9",
   "metadata": {},
   "source": [
    "Выведем датафрейм у, который содержит столбец, который будем предсказывать"
   ]
  },
  {
   "cell_type": "code",
   "execution_count": 206,
   "id": "9e06de9d",
   "metadata": {},
   "outputs": [],
   "source": [
    "y = df[y_columns]"
   ]
  },
  {
   "cell_type": "code",
   "execution_count": 207,
   "id": "086fb459",
   "metadata": {},
   "outputs": [
    {
     "data": {
      "text/html": [
       "<div>\n",
       "<style scoped>\n",
       "    .dataframe tbody tr th:only-of-type {\n",
       "        vertical-align: middle;\n",
       "    }\n",
       "\n",
       "    .dataframe tbody tr th {\n",
       "        vertical-align: top;\n",
       "    }\n",
       "\n",
       "    .dataframe thead th {\n",
       "        text-align: right;\n",
       "    }\n",
       "</style>\n",
       "<table border=\"1\" class=\"dataframe\">\n",
       "  <thead>\n",
       "    <tr style=\"text-align: right;\">\n",
       "      <th></th>\n",
       "      <th>price</th>\n",
       "    </tr>\n",
       "  </thead>\n",
       "  <tbody>\n",
       "    <tr>\n",
       "      <th>0</th>\n",
       "      <td>200000.0</td>\n",
       "    </tr>\n",
       "    <tr>\n",
       "      <th>2</th>\n",
       "      <td>99000.0</td>\n",
       "    </tr>\n",
       "    <tr>\n",
       "      <th>3</th>\n",
       "      <td>65000.0</td>\n",
       "    </tr>\n",
       "    <tr>\n",
       "      <th>4</th>\n",
       "      <td>100000.0</td>\n",
       "    </tr>\n",
       "    <tr>\n",
       "      <th>5</th>\n",
       "      <td>90000.0</td>\n",
       "    </tr>\n",
       "    <tr>\n",
       "      <th>...</th>\n",
       "      <td>...</td>\n",
       "    </tr>\n",
       "    <tr>\n",
       "      <th>89373</th>\n",
       "      <td>450000.0</td>\n",
       "    </tr>\n",
       "    <tr>\n",
       "      <th>89374</th>\n",
       "      <td>485000.0</td>\n",
       "    </tr>\n",
       "    <tr>\n",
       "      <th>89375</th>\n",
       "      <td>1090000.0</td>\n",
       "    </tr>\n",
       "    <tr>\n",
       "      <th>89376</th>\n",
       "      <td>1180000.0</td>\n",
       "    </tr>\n",
       "    <tr>\n",
       "      <th>89377</th>\n",
       "      <td>1075000.0</td>\n",
       "    </tr>\n",
       "  </tbody>\n",
       "</table>\n",
       "<p>86841 rows × 1 columns</p>\n",
       "</div>"
      ],
      "text/plain": [
       "           price\n",
       "0       200000.0\n",
       "2        99000.0\n",
       "3        65000.0\n",
       "4       100000.0\n",
       "5        90000.0\n",
       "...          ...\n",
       "89373   450000.0\n",
       "89374   485000.0\n",
       "89375  1090000.0\n",
       "89376  1180000.0\n",
       "89377  1075000.0\n",
       "\n",
       "[86841 rows x 1 columns]"
      ]
     },
     "execution_count": 207,
     "metadata": {},
     "output_type": "execute_result"
    }
   ],
   "source": [
    "y"
   ]
  },
  {
   "cell_type": "markdown",
   "id": "297379e3",
   "metadata": {},
   "source": [
    "Выведем тепловую карту коэффициента корреляции Пирсона"
   ]
  },
  {
   "cell_type": "code",
   "execution_count": 208,
   "id": "bb3404bf",
   "metadata": {},
   "outputs": [
    {
     "data": {
      "image/png": "[encoded data removed]",
      "text/plain": [
       "<Figure size 1008x1008 with 2 Axes>"
      ]
     },
     "metadata": {},
     "output_type": "display_data"
    }
   ],
   "source": [
    "sns.set_style('white')\n",
    "fig, ax = plt.subplots(figsize=(14, 14))\n",
    "\n",
    "corr = pd.concat([X, y], axis=1).corr(method='pearson')\n",
    "sns.heatmap(corr, vmin=-1, vmax=1, cmap='coolwarm', annot=True, square=True, ax=ax)\n",
    "ax.set_title('Тепловая карта коэффициента корреляции Пирсона', fontsize=18, color='#c44e52')\n",
    "\n",
    "plt.show()"
   ]
  },
  {
   "cell_type": "markdown",
   "id": "641200eb",
   "metadata": {},
   "source": [
    "# Построение модели машинного обучения"
   ]
  },
  {
   "cell_type": "code",
   "execution_count": 230,
   "id": "9033d3ca",
   "metadata": {},
   "outputs": [],
   "source": [
    "from sklearn.model_selection import train_test_split\n",
    "from sklearn.linear_model import LinearRegression\n",
    "from sklearn.ensemble import RandomForestRegressor\n",
    "from xgboost import XGBRegressor\n",
    "from catboost import CatBoostRegressor\n",
    "from lightgbm import LGBMRegressor\n",
    "from sklearn.metrics import mean_squared_error\n",
    "from sklearn.metrics import mean_absolute_error\n",
    "from sklearn.metrics import mean_squared_log_error\n",
    "\n",
    "\n",
    "X_train, X_test, y_train, y_test = train_test_split(X, y, test_size=0.2, random_state=42)"
   ]
  },
  {
   "cell_type": "markdown",
   "id": "904c1ff5",
   "metadata": {},
   "source": [
    "Обучаем модель на трех моделях и считаем среднее по предсказаниям"
   ]
  },
  {
   "cell_type": "code",
   "execution_count": 225,
   "id": "6715eead",
   "metadata": {},
   "outputs": [],
   "source": [
    "xgbr = XGBRegressor(learning_rate = 0.1, \n",
    "                    max_depth = 10, \n",
    "                    n_estimators = 3000)\n",
    "\n",
    "xgbr.fit(X_train, y_train)\n",
    "\n",
    "y_pred_xgbr = xgbr.predict(X_test)"
   ]
  },
  {
   "cell_type": "code",
   "execution_count": 226,
   "id": "06c0a9de",
   "metadata": {},
   "outputs": [
    {
     "name": "stdout",
     "output_type": "stream",
     "text": [
      "MSE: 62773725891.12\n",
      "MAE: 98604.45\n"
     ]
    }
   ],
   "source": [
    "mse = mean_squared_error(y_test, y_pred_xgbr)\n",
    "mae = mean_absolute_error(y_test, y_pred_xgbr)\n",
    "print(f'MSE: {mse:.2f}')\n",
    "print(f'MAE: {mae:.2f}')"
   ]
  },
  {
   "cell_type": "code",
   "execution_count": 212,
   "id": "9d251ad7",
   "metadata": {},
   "outputs": [
    {
     "name": "stdout",
     "output_type": "stream",
     "text": [
      "0:\tlearn: 1418217.7675758\ttotal: 188ms\tremaining: 9m 24s\n",
      "1:\tlearn: 1299260.0301190\ttotal: 218ms\tremaining: 5m 26s\n",
      "2:\tlearn: 1191002.4918202\ttotal: 252ms\tremaining: 4m 11s\n",
      "3:\tlearn: 1095123.0113334\ttotal: 281ms\tremaining: 3m 30s\n",
      "4:\tlearn: 1008235.5321129\ttotal: 321ms\tremaining: 3m 12s\n",
      "5:\tlearn: 931266.6312370\ttotal: 352ms\tremaining: 2m 55s\n",
      "6:\tlearn: 863369.5771944\ttotal: 380ms\tremaining: 2m 42s\n",
      "7:\tlearn: 801905.6682112\ttotal: 410ms\tremaining: 2m 33s\n",
      "8:\tlearn: 746974.7885912\ttotal: 438ms\tremaining: 2m 25s\n",
      "9:\tlearn: 700289.4139633\ttotal: 468ms\tremaining: 2m 20s\n",
      "10:\tlearn: 659384.3792838\ttotal: 497ms\tremaining: 2m 14s\n",
      "11:\tlearn: 622045.6895994\ttotal: 525ms\tremaining: 2m 10s\n",
      "12:\tlearn: 588554.0002032\ttotal: 555ms\tremaining: 2m 7s\n",
      "13:\tlearn: 559128.1749188\ttotal: 588ms\tremaining: 2m 5s\n",
      "14:\tlearn: 533943.4153521\ttotal: 619ms\tremaining: 2m 3s\n",
      "15:\tlearn: 511638.9744029\ttotal: 649ms\tremaining: 2m\n",
      "16:\tlearn: 492220.1197825\ttotal: 680ms\tremaining: 1m 59s\n",
      "17:\tlearn: 474498.1236419\ttotal: 708ms\tremaining: 1m 57s\n",
      "18:\tlearn: 459228.0725642\ttotal: 737ms\tremaining: 1m 55s\n",
      "19:\tlearn: 446325.9577772\ttotal: 773ms\tremaining: 1m 55s\n",
      "20:\tlearn: 434387.8787978\ttotal: 802ms\tremaining: 1m 53s\n",
      "21:\tlearn: 423264.8946016\ttotal: 832ms\tremaining: 1m 52s\n",
      "22:\tlearn: 414031.2240770\ttotal: 863ms\tremaining: 1m 51s\n",
      "23:\tlearn: 405735.9289302\ttotal: 894ms\tremaining: 1m 50s\n",
      "24:\tlearn: 399032.6929709\ttotal: 924ms\tremaining: 1m 49s\n",
      "25:\tlearn: 392288.5095537\ttotal: 953ms\tremaining: 1m 49s\n",
      "26:\tlearn: 386432.8165364\ttotal: 983ms\tremaining: 1m 48s\n",
      "27:\tlearn: 380105.5402145\ttotal: 1.01s\tremaining: 1m 47s\n",
      "28:\tlearn: 375841.0923234\ttotal: 1.04s\tremaining: 1m 46s\n",
      "29:\tlearn: 371389.0888410\ttotal: 1.07s\tremaining: 1m 45s\n",
      "30:\tlearn: 368481.3407237\ttotal: 1.1s\tremaining: 1m 45s\n",
      "31:\tlearn: 364561.5503380\ttotal: 1.12s\tremaining: 1m 44s\n",
      "32:\tlearn: 358985.1574781\ttotal: 1.15s\tremaining: 1m 43s\n",
      "33:\tlearn: 356225.4727561\ttotal: 1.18s\tremaining: 1m 42s\n",
      "34:\tlearn: 354280.5927094\ttotal: 1.2s\tremaining: 1m 41s\n",
      "35:\tlearn: 350423.9596052\ttotal: 1.23s\tremaining: 1m 41s\n",
      "36:\tlearn: 347910.8366309\ttotal: 1.25s\tremaining: 1m 40s\n",
      "37:\tlearn: 345351.4486361\ttotal: 1.28s\tremaining: 1m 40s\n",
      "38:\tlearn: 343345.5979271\ttotal: 1.31s\tremaining: 1m 39s\n",
      "39:\tlearn: 341074.7417668\ttotal: 1.34s\tremaining: 1m 38s\n",
      "40:\tlearn: 338747.6431332\ttotal: 1.37s\tremaining: 1m 39s\n",
      "41:\tlearn: 336362.2730846\ttotal: 1.4s\tremaining: 1m 38s\n",
      "42:\tlearn: 334649.6151651\ttotal: 1.43s\tremaining: 1m 38s\n",
      "43:\tlearn: 332738.6101436\ttotal: 1.46s\tremaining: 1m 37s\n",
      "44:\tlearn: 331454.8576951\ttotal: 1.49s\tremaining: 1m 37s\n",
      "45:\tlearn: 330030.3249718\ttotal: 1.52s\tremaining: 1m 37s\n",
      "46:\tlearn: 328431.8935088\ttotal: 1.54s\tremaining: 1m 37s\n",
      "47:\tlearn: 326592.0365786\ttotal: 1.57s\tremaining: 1m 36s\n",
      "48:\tlearn: 325692.4922257\ttotal: 1.6s\tremaining: 1m 36s\n",
      "49:\tlearn: 323212.5726096\ttotal: 1.63s\tremaining: 1m 36s\n",
      "50:\tlearn: 321962.8474360\ttotal: 1.66s\tremaining: 1m 36s\n",
      "51:\tlearn: 320882.7642782\ttotal: 1.69s\tremaining: 1m 35s\n",
      "52:\tlearn: 318646.5739057\ttotal: 1.72s\tremaining: 1m 35s\n",
      "53:\tlearn: 317211.8640462\ttotal: 1.75s\tremaining: 1m 35s\n",
      "54:\tlearn: 315835.9385587\ttotal: 1.78s\tremaining: 1m 35s\n",
      "55:\tlearn: 314321.7353767\ttotal: 1.81s\tremaining: 1m 35s\n",
      "56:\tlearn: 313267.7043273\ttotal: 1.84s\tremaining: 1m 34s\n",
      "57:\tlearn: 311951.0821728\ttotal: 1.87s\tremaining: 1m 34s\n",
      "58:\tlearn: 311254.6314396\ttotal: 1.9s\tremaining: 1m 34s\n",
      "59:\tlearn: 309908.3790939\ttotal: 1.93s\tremaining: 1m 34s\n",
      "60:\tlearn: 309012.9184267\ttotal: 1.96s\tremaining: 1m 34s\n",
      "61:\tlearn: 307819.2053096\ttotal: 1.99s\tremaining: 1m 34s\n",
      "62:\tlearn: 306757.3205923\ttotal: 2.02s\tremaining: 1m 33s\n",
      "63:\tlearn: 304794.6755039\ttotal: 2.04s\tremaining: 1m 33s\n",
      "64:\tlearn: 303822.9792164\ttotal: 2.07s\tremaining: 1m 33s\n",
      "65:\tlearn: 302419.5469772\ttotal: 2.1s\tremaining: 1m 33s\n",
      "66:\tlearn: 301822.1319025\ttotal: 2.12s\tremaining: 1m 32s\n",
      "67:\tlearn: 301044.6812488\ttotal: 2.15s\tremaining: 1m 32s\n",
      "68:\tlearn: 300110.8858141\ttotal: 2.17s\tremaining: 1m 32s\n",
      "69:\tlearn: 298546.3031424\ttotal: 2.2s\tremaining: 1m 32s\n",
      "70:\tlearn: 297708.1375755\ttotal: 2.23s\tremaining: 1m 31s\n",
      "71:\tlearn: 297166.8875536\ttotal: 2.26s\tremaining: 1m 31s\n",
      "72:\tlearn: 296162.3800985\ttotal: 2.29s\tremaining: 1m 31s\n",
      "73:\tlearn: 295599.1362779\ttotal: 2.31s\tremaining: 1m 31s\n",
      "74:\tlearn: 294362.9701659\ttotal: 2.34s\tremaining: 1m 31s\n",
      "75:\tlearn: 293974.6548224\ttotal: 2.37s\tremaining: 1m 31s\n",
      "76:\tlearn: 292783.5302923\ttotal: 2.39s\tremaining: 1m 30s\n",
      "77:\tlearn: 292174.0811378\ttotal: 2.42s\tremaining: 1m 30s\n",
      "78:\tlearn: 291714.0077531\ttotal: 2.46s\tremaining: 1m 30s\n",
      "79:\tlearn: 291305.7876899\ttotal: 2.48s\tremaining: 1m 30s\n",
      "80:\tlearn: 290627.8838963\ttotal: 2.51s\tremaining: 1m 30s\n",
      "81:\tlearn: 289452.5995990\ttotal: 2.54s\tremaining: 1m 30s\n",
      "82:\tlearn: 288114.1335616\ttotal: 2.57s\tremaining: 1m 30s\n",
      "83:\tlearn: 287296.0768828\ttotal: 2.6s\tremaining: 1m 30s\n",
      "84:\tlearn: 286535.3703443\ttotal: 2.63s\tremaining: 1m 30s\n",
      "85:\tlearn: 285949.5124635\ttotal: 2.66s\tremaining: 1m 30s\n",
      "86:\tlearn: 285496.9467073\ttotal: 2.69s\tremaining: 1m 29s\n",
      "87:\tlearn: 284597.5241537\ttotal: 2.72s\tremaining: 1m 29s\n",
      "88:\tlearn: 283151.6226554\ttotal: 2.75s\tremaining: 1m 29s\n",
      "89:\tlearn: 282602.4508655\ttotal: 2.77s\tremaining: 1m 29s\n",
      "90:\tlearn: 281772.0584735\ttotal: 2.8s\tremaining: 1m 29s\n",
      "91:\tlearn: 281311.0719692\ttotal: 2.83s\tremaining: 1m 29s\n",
      "92:\tlearn: 280221.6157930\ttotal: 2.87s\tremaining: 1m 29s\n",
      "93:\tlearn: 279764.7830673\ttotal: 2.89s\tremaining: 1m 29s\n",
      "94:\tlearn: 278992.6472548\ttotal: 2.92s\tremaining: 1m 29s\n",
      "95:\tlearn: 278289.6101654\ttotal: 2.95s\tremaining: 1m 29s\n",
      "96:\tlearn: 277199.4086217\ttotal: 2.98s\tremaining: 1m 29s\n",
      "97:\tlearn: 276639.9173749\ttotal: 3.01s\tremaining: 1m 29s\n",
      "98:\tlearn: 276097.3644938\ttotal: 3.04s\tremaining: 1m 29s\n",
      "99:\tlearn: 275212.9014041\ttotal: 3.07s\tremaining: 1m 28s\n",
      "100:\tlearn: 274712.7887245\ttotal: 3.1s\tremaining: 1m 28s\n",
      "101:\tlearn: 273988.7209650\ttotal: 3.12s\tremaining: 1m 28s\n",
      "102:\tlearn: 272868.0350353\ttotal: 3.15s\tremaining: 1m 28s\n",
      "103:\tlearn: 272005.5757541\ttotal: 3.17s\tremaining: 1m 28s\n",
      "104:\tlearn: 271340.8437687\ttotal: 3.2s\tremaining: 1m 28s\n",
      "105:\tlearn: 270940.7986249\ttotal: 3.23s\tremaining: 1m 28s\n",
      "106:\tlearn: 270184.8953169\ttotal: 3.25s\tremaining: 1m 28s\n",
      "107:\tlearn: 269694.7215035\ttotal: 3.28s\tremaining: 1m 27s\n",
      "108:\tlearn: 269321.4831879\ttotal: 3.31s\tremaining: 1m 27s\n",
      "109:\tlearn: 268760.7810186\ttotal: 3.34s\tremaining: 1m 27s\n",
      "110:\tlearn: 267857.3073635\ttotal: 3.37s\tremaining: 1m 27s\n",
      "111:\tlearn: 267471.5657631\ttotal: 3.39s\tremaining: 1m 27s\n",
      "112:\tlearn: 266874.4721774\ttotal: 3.42s\tremaining: 1m 27s\n",
      "113:\tlearn: 265970.1061363\ttotal: 3.45s\tremaining: 1m 27s\n",
      "114:\tlearn: 265048.8194609\ttotal: 3.48s\tremaining: 1m 27s\n",
      "115:\tlearn: 264536.0053378\ttotal: 3.51s\tremaining: 1m 27s\n",
      "116:\tlearn: 264173.9237748\ttotal: 3.54s\tremaining: 1m 27s\n",
      "117:\tlearn: 263652.8062339\ttotal: 3.57s\tremaining: 1m 27s\n",
      "118:\tlearn: 262808.2953499\ttotal: 3.6s\tremaining: 1m 27s\n",
      "119:\tlearn: 262242.0323916\ttotal: 3.63s\tremaining: 1m 27s\n",
      "120:\tlearn: 261779.3128528\ttotal: 3.66s\tremaining: 1m 27s\n",
      "121:\tlearn: 261186.2712916\ttotal: 3.69s\tremaining: 1m 27s\n",
      "122:\tlearn: 260838.9302908\ttotal: 3.72s\tremaining: 1m 26s\n",
      "123:\tlearn: 260028.9634314\ttotal: 3.75s\tremaining: 1m 26s\n",
      "124:\tlearn: 259441.7731050\ttotal: 3.79s\tremaining: 1m 27s\n",
      "125:\tlearn: 259112.8449630\ttotal: 3.82s\tremaining: 1m 27s\n",
      "126:\tlearn: 258364.3159276\ttotal: 3.85s\tremaining: 1m 27s\n",
      "127:\tlearn: 258023.8808058\ttotal: 3.88s\tremaining: 1m 26s\n",
      "128:\tlearn: 257627.4377839\ttotal: 3.91s\tremaining: 1m 26s\n",
      "129:\tlearn: 257328.7179870\ttotal: 3.94s\tremaining: 1m 26s\n",
      "130:\tlearn: 256920.8812538\ttotal: 3.96s\tremaining: 1m 26s\n",
      "131:\tlearn: 256005.9866297\ttotal: 3.99s\tremaining: 1m 26s\n",
      "132:\tlearn: 254642.2074616\ttotal: 4.02s\tremaining: 1m 26s\n",
      "133:\tlearn: 254385.7721870\ttotal: 4.05s\tremaining: 1m 26s\n",
      "134:\tlearn: 253977.4002551\ttotal: 4.08s\tremaining: 1m 26s\n",
      "135:\tlearn: 253570.0252350\ttotal: 4.11s\tremaining: 1m 26s\n",
      "136:\tlearn: 252664.6965582\ttotal: 4.13s\tremaining: 1m 26s\n",
      "137:\tlearn: 252200.6954502\ttotal: 4.16s\tremaining: 1m 26s\n",
      "138:\tlearn: 251963.1311058\ttotal: 4.18s\tremaining: 1m 26s\n",
      "139:\tlearn: 251037.9456445\ttotal: 4.21s\tremaining: 1m 26s\n",
      "140:\tlearn: 250704.4186317\ttotal: 4.24s\tremaining: 1m 25s\n",
      "141:\tlearn: 250493.6443231\ttotal: 4.26s\tremaining: 1m 25s\n",
      "142:\tlearn: 249943.2833436\ttotal: 4.29s\tremaining: 1m 25s\n",
      "143:\tlearn: 249679.7235550\ttotal: 4.32s\tremaining: 1m 25s\n",
      "144:\tlearn: 249361.5239391\ttotal: 4.34s\tremaining: 1m 25s\n",
      "145:\tlearn: 248610.5099232\ttotal: 4.37s\tremaining: 1m 25s\n",
      "146:\tlearn: 248145.3117148\ttotal: 4.4s\tremaining: 1m 25s\n"
     ]
    },
    {
     "name": "stdout",
     "output_type": "stream",
     "text": [
      "147:\tlearn: 247854.9689296\ttotal: 4.43s\tremaining: 1m 25s\n",
      "148:\tlearn: 247476.4274088\ttotal: 4.46s\tremaining: 1m 25s\n",
      "149:\tlearn: 246840.3954510\ttotal: 4.48s\tremaining: 1m 25s\n",
      "150:\tlearn: 246352.7413036\ttotal: 4.51s\tremaining: 1m 25s\n",
      "151:\tlearn: 245651.5266325\ttotal: 4.54s\tremaining: 1m 25s\n",
      "152:\tlearn: 245438.3522436\ttotal: 4.57s\tremaining: 1m 25s\n",
      "153:\tlearn: 244907.2485017\ttotal: 4.6s\tremaining: 1m 25s\n",
      "154:\tlearn: 244387.4594481\ttotal: 4.63s\tremaining: 1m 25s\n",
      "155:\tlearn: 243975.8282487\ttotal: 4.67s\tremaining: 1m 25s\n",
      "156:\tlearn: 243550.5164313\ttotal: 4.69s\tremaining: 1m 24s\n",
      "157:\tlearn: 242872.6253782\ttotal: 4.72s\tremaining: 1m 24s\n",
      "158:\tlearn: 242239.5876223\ttotal: 4.75s\tremaining: 1m 24s\n",
      "159:\tlearn: 242018.4570137\ttotal: 4.78s\tremaining: 1m 24s\n",
      "160:\tlearn: 241561.4377597\ttotal: 4.81s\tremaining: 1m 24s\n",
      "161:\tlearn: 241306.7136169\ttotal: 4.84s\tremaining: 1m 24s\n",
      "162:\tlearn: 240736.5038167\ttotal: 4.88s\tremaining: 1m 24s\n",
      "163:\tlearn: 240357.2222720\ttotal: 4.9s\tremaining: 1m 24s\n",
      "164:\tlearn: 239896.4228004\ttotal: 4.93s\tremaining: 1m 24s\n",
      "165:\tlearn: 239216.0283242\ttotal: 4.96s\tremaining: 1m 24s\n",
      "166:\tlearn: 238954.3085426\ttotal: 4.99s\tremaining: 1m 24s\n",
      "167:\tlearn: 238625.7348669\ttotal: 5.02s\tremaining: 1m 24s\n",
      "168:\tlearn: 238297.5722578\ttotal: 5.04s\tremaining: 1m 24s\n",
      "169:\tlearn: 237726.4224558\ttotal: 5.07s\tremaining: 1m 24s\n",
      "170:\tlearn: 237441.9987132\ttotal: 5.1s\tremaining: 1m 24s\n",
      "171:\tlearn: 237071.5304330\ttotal: 5.12s\tremaining: 1m 24s\n",
      "172:\tlearn: 236425.0278023\ttotal: 5.15s\tremaining: 1m 24s\n",
      "173:\tlearn: 235675.6360075\ttotal: 5.17s\tremaining: 1m 24s\n",
      "174:\tlearn: 235184.5843871\ttotal: 5.2s\tremaining: 1m 23s\n",
      "175:\tlearn: 234510.3025714\ttotal: 5.23s\tremaining: 1m 23s\n",
      "176:\tlearn: 233988.2189878\ttotal: 5.25s\tremaining: 1m 23s\n",
      "177:\tlearn: 233652.0935436\ttotal: 5.28s\tremaining: 1m 23s\n",
      "178:\tlearn: 233308.5412314\ttotal: 5.31s\tremaining: 1m 23s\n",
      "179:\tlearn: 232986.5291254\ttotal: 5.34s\tremaining: 1m 23s\n",
      "180:\tlearn: 232534.6510047\ttotal: 5.37s\tremaining: 1m 23s\n",
      "181:\tlearn: 232244.0492972\ttotal: 5.39s\tremaining: 1m 23s\n",
      "182:\tlearn: 231935.9400586\ttotal: 5.42s\tremaining: 1m 23s\n",
      "183:\tlearn: 231499.3749944\ttotal: 5.45s\tremaining: 1m 23s\n",
      "184:\tlearn: 230969.2419873\ttotal: 5.48s\tremaining: 1m 23s\n",
      "185:\tlearn: 230600.7837844\ttotal: 5.51s\tremaining: 1m 23s\n",
      "186:\tlearn: 230198.5629407\ttotal: 5.54s\tremaining: 1m 23s\n",
      "187:\tlearn: 229805.1939967\ttotal: 5.57s\tremaining: 1m 23s\n",
      "188:\tlearn: 229413.4131162\ttotal: 5.6s\tremaining: 1m 23s\n",
      "189:\tlearn: 229017.8644991\ttotal: 5.63s\tremaining: 1m 23s\n",
      "190:\tlearn: 228732.2799395\ttotal: 5.65s\tremaining: 1m 23s\n",
      "191:\tlearn: 228451.5657691\ttotal: 5.68s\tremaining: 1m 23s\n",
      "192:\tlearn: 228049.5421165\ttotal: 5.71s\tremaining: 1m 23s\n",
      "193:\tlearn: 227869.2895215\ttotal: 5.74s\tremaining: 1m 23s\n",
      "194:\tlearn: 227385.3702157\ttotal: 5.77s\tremaining: 1m 23s\n",
      "195:\tlearn: 227093.2759132\ttotal: 5.81s\tremaining: 1m 23s\n",
      "196:\tlearn: 226648.1463437\ttotal: 5.84s\tremaining: 1m 23s\n",
      "197:\tlearn: 226102.2711803\ttotal: 5.87s\tremaining: 1m 23s\n",
      "198:\tlearn: 225705.6072296\ttotal: 5.9s\tremaining: 1m 23s\n",
      "199:\tlearn: 225378.2148438\ttotal: 5.93s\tremaining: 1m 22s\n",
      "200:\tlearn: 225112.1182743\ttotal: 5.96s\tremaining: 1m 23s\n",
      "201:\tlearn: 224708.2132913\ttotal: 5.99s\tremaining: 1m 23s\n",
      "202:\tlearn: 224139.1162817\ttotal: 6.02s\tremaining: 1m 22s\n",
      "203:\tlearn: 223883.1099926\ttotal: 6.05s\tremaining: 1m 22s\n",
      "204:\tlearn: 223714.0550986\ttotal: 6.08s\tremaining: 1m 22s\n",
      "205:\tlearn: 223437.7661643\ttotal: 6.11s\tremaining: 1m 22s\n",
      "206:\tlearn: 222973.7033705\ttotal: 6.13s\tremaining: 1m 22s\n",
      "207:\tlearn: 222638.4348302\ttotal: 6.16s\tremaining: 1m 22s\n",
      "208:\tlearn: 222408.9179117\ttotal: 6.19s\tremaining: 1m 22s\n",
      "209:\tlearn: 222001.6305372\ttotal: 6.22s\tremaining: 1m 22s\n",
      "210:\tlearn: 221717.2986699\ttotal: 6.24s\tremaining: 1m 22s\n",
      "211:\tlearn: 221519.0522868\ttotal: 6.27s\tremaining: 1m 22s\n",
      "212:\tlearn: 221002.1019885\ttotal: 6.3s\tremaining: 1m 22s\n",
      "213:\tlearn: 220795.3924458\ttotal: 6.32s\tremaining: 1m 22s\n",
      "214:\tlearn: 220516.3853593\ttotal: 6.35s\tremaining: 1m 22s\n",
      "215:\tlearn: 219944.0192371\ttotal: 6.38s\tremaining: 1m 22s\n",
      "216:\tlearn: 219804.4343173\ttotal: 6.4s\tremaining: 1m 22s\n",
      "217:\tlearn: 219558.9777973\ttotal: 6.43s\tremaining: 1m 22s\n",
      "218:\tlearn: 219445.3695755\ttotal: 6.46s\tremaining: 1m 22s\n",
      "219:\tlearn: 219145.4559473\ttotal: 6.49s\tremaining: 1m 22s\n",
      "220:\tlearn: 218844.9962237\ttotal: 6.52s\tremaining: 1m 21s\n",
      "221:\tlearn: 218552.2137437\ttotal: 6.54s\tremaining: 1m 21s\n",
      "222:\tlearn: 218316.0462961\ttotal: 6.57s\tremaining: 1m 21s\n",
      "223:\tlearn: 217729.4927105\ttotal: 6.6s\tremaining: 1m 21s\n",
      "224:\tlearn: 217435.6430531\ttotal: 6.63s\tremaining: 1m 21s\n",
      "225:\tlearn: 217247.8793016\ttotal: 6.66s\tremaining: 1m 21s\n",
      "226:\tlearn: 216933.0196336\ttotal: 6.69s\tremaining: 1m 21s\n",
      "227:\tlearn: 216803.8247813\ttotal: 6.72s\tremaining: 1m 21s\n",
      "228:\tlearn: 216229.0331414\ttotal: 6.75s\tremaining: 1m 21s\n",
      "229:\tlearn: 216092.4742139\ttotal: 6.77s\tremaining: 1m 21s\n",
      "230:\tlearn: 215694.1679867\ttotal: 6.8s\tremaining: 1m 21s\n",
      "231:\tlearn: 215293.6922567\ttotal: 6.84s\tremaining: 1m 21s\n",
      "232:\tlearn: 214870.0982791\ttotal: 6.87s\tremaining: 1m 21s\n",
      "233:\tlearn: 214701.1845093\ttotal: 6.9s\tremaining: 1m 21s\n",
      "234:\tlearn: 214480.8637264\ttotal: 6.93s\tremaining: 1m 21s\n",
      "235:\tlearn: 214384.9055530\ttotal: 6.96s\tremaining: 1m 21s\n",
      "236:\tlearn: 213843.7884241\ttotal: 6.99s\tremaining: 1m 21s\n",
      "237:\tlearn: 213590.7218760\ttotal: 7.01s\tremaining: 1m 21s\n",
      "238:\tlearn: 213333.0253134\ttotal: 7.04s\tremaining: 1m 21s\n",
      "239:\tlearn: 213045.9552398\ttotal: 7.07s\tremaining: 1m 21s\n",
      "240:\tlearn: 212716.6027682\ttotal: 7.1s\tremaining: 1m 21s\n",
      "241:\tlearn: 212520.0781116\ttotal: 7.12s\tremaining: 1m 21s\n",
      "242:\tlearn: 212400.6188962\ttotal: 7.15s\tremaining: 1m 21s\n",
      "243:\tlearn: 212054.6037820\ttotal: 7.18s\tremaining: 1m 21s\n",
      "244:\tlearn: 211831.8028716\ttotal: 7.2s\tremaining: 1m 20s\n",
      "245:\tlearn: 211483.6622589\ttotal: 7.23s\tremaining: 1m 20s\n",
      "246:\tlearn: 211083.5771491\ttotal: 7.25s\tremaining: 1m 20s\n",
      "247:\tlearn: 210847.5720124\ttotal: 7.28s\tremaining: 1m 20s\n",
      "248:\tlearn: 210623.0913548\ttotal: 7.31s\tremaining: 1m 20s\n",
      "249:\tlearn: 210486.1350584\ttotal: 7.34s\tremaining: 1m 20s\n",
      "250:\tlearn: 210333.9736949\ttotal: 7.37s\tremaining: 1m 20s\n",
      "251:\tlearn: 209912.4013365\ttotal: 7.39s\tremaining: 1m 20s\n",
      "252:\tlearn: 209600.9607146\ttotal: 7.42s\tremaining: 1m 20s\n",
      "253:\tlearn: 209328.8287373\ttotal: 7.45s\tremaining: 1m 20s\n",
      "254:\tlearn: 209234.5254743\ttotal: 7.48s\tremaining: 1m 20s\n",
      "255:\tlearn: 208896.0403530\ttotal: 7.51s\tremaining: 1m 20s\n",
      "256:\tlearn: 208694.1030894\ttotal: 7.54s\tremaining: 1m 20s\n",
      "257:\tlearn: 208541.0282034\ttotal: 7.57s\tremaining: 1m 20s\n",
      "258:\tlearn: 208338.0001905\ttotal: 7.6s\tremaining: 1m 20s\n",
      "259:\tlearn: 208012.5205946\ttotal: 7.63s\tremaining: 1m 20s\n",
      "260:\tlearn: 207795.9823065\ttotal: 7.66s\tremaining: 1m 20s\n",
      "261:\tlearn: 207625.0424933\ttotal: 7.69s\tremaining: 1m 20s\n",
      "262:\tlearn: 207297.1878115\ttotal: 7.71s\tremaining: 1m 20s\n",
      "263:\tlearn: 206767.8526517\ttotal: 7.75s\tremaining: 1m 20s\n",
      "264:\tlearn: 206641.4819781\ttotal: 7.78s\tremaining: 1m 20s\n",
      "265:\tlearn: 206406.4808884\ttotal: 7.8s\tremaining: 1m 20s\n",
      "266:\tlearn: 206190.9259037\ttotal: 7.83s\tremaining: 1m 20s\n",
      "267:\tlearn: 205981.4188554\ttotal: 7.87s\tremaining: 1m 20s\n",
      "268:\tlearn: 205774.8283403\ttotal: 7.89s\tremaining: 1m 20s\n",
      "269:\tlearn: 205475.4885676\ttotal: 7.93s\tremaining: 1m 20s\n",
      "270:\tlearn: 205127.5236555\ttotal: 7.95s\tremaining: 1m 20s\n",
      "271:\tlearn: 204798.9883802\ttotal: 7.98s\tremaining: 1m 20s\n",
      "272:\tlearn: 204353.3575444\ttotal: 8.01s\tremaining: 1m 20s\n",
      "273:\tlearn: 203943.1965962\ttotal: 8.04s\tremaining: 1m 19s\n",
      "274:\tlearn: 203725.2308638\ttotal: 8.06s\tremaining: 1m 19s\n",
      "275:\tlearn: 203582.1343314\ttotal: 8.09s\tremaining: 1m 19s\n",
      "276:\tlearn: 203397.7700032\ttotal: 8.12s\tremaining: 1m 19s\n",
      "277:\tlearn: 203239.4574105\ttotal: 8.14s\tremaining: 1m 19s\n",
      "278:\tlearn: 202898.3090244\ttotal: 8.17s\tremaining: 1m 19s\n",
      "279:\tlearn: 202662.0294989\ttotal: 8.2s\tremaining: 1m 19s\n",
      "280:\tlearn: 202561.0870555\ttotal: 8.22s\tremaining: 1m 19s\n",
      "281:\tlearn: 202283.7295071\ttotal: 8.25s\tremaining: 1m 19s\n",
      "282:\tlearn: 202133.8129737\ttotal: 8.28s\tremaining: 1m 19s\n",
      "283:\tlearn: 201937.0174135\ttotal: 8.3s\tremaining: 1m 19s\n",
      "284:\tlearn: 201637.5900207\ttotal: 8.33s\tremaining: 1m 19s\n",
      "285:\tlearn: 201556.2835297\ttotal: 8.36s\tremaining: 1m 19s\n",
      "286:\tlearn: 201473.8130186\ttotal: 8.39s\tremaining: 1m 19s\n",
      "287:\tlearn: 201191.1022392\ttotal: 8.43s\tremaining: 1m 19s\n",
      "288:\tlearn: 200841.7473278\ttotal: 8.46s\tremaining: 1m 19s\n",
      "289:\tlearn: 200629.3290212\ttotal: 8.49s\tremaining: 1m 19s\n",
      "290:\tlearn: 200119.8173641\ttotal: 8.52s\tremaining: 1m 19s\n",
      "291:\tlearn: 199920.5522952\ttotal: 8.55s\tremaining: 1m 19s\n"
     ]
    },
    {
     "name": "stdout",
     "output_type": "stream",
     "text": [
      "292:\tlearn: 199641.9974868\ttotal: 8.58s\tremaining: 1m 19s\n",
      "293:\tlearn: 199477.6122102\ttotal: 8.61s\tremaining: 1m 19s\n",
      "294:\tlearn: 199267.9853734\ttotal: 8.64s\tremaining: 1m 19s\n",
      "295:\tlearn: 199183.6623568\ttotal: 8.67s\tremaining: 1m 19s\n",
      "296:\tlearn: 199072.5939593\ttotal: 8.7s\tremaining: 1m 19s\n",
      "297:\tlearn: 198857.4861130\ttotal: 8.73s\tremaining: 1m 19s\n",
      "298:\tlearn: 198678.1714069\ttotal: 8.75s\tremaining: 1m 19s\n",
      "299:\tlearn: 198464.4954316\ttotal: 8.79s\tremaining: 1m 19s\n",
      "300:\tlearn: 198302.4496991\ttotal: 8.82s\tremaining: 1m 19s\n",
      "301:\tlearn: 197986.3395673\ttotal: 8.85s\tremaining: 1m 19s\n",
      "302:\tlearn: 197854.1224375\ttotal: 8.88s\tremaining: 1m 19s\n",
      "303:\tlearn: 197597.5150519\ttotal: 8.91s\tremaining: 1m 19s\n",
      "304:\tlearn: 197351.2719042\ttotal: 8.94s\tremaining: 1m 18s\n",
      "305:\tlearn: 197240.6241796\ttotal: 8.97s\tremaining: 1m 18s\n",
      "306:\tlearn: 197157.0380795\ttotal: 9s\tremaining: 1m 18s\n",
      "307:\tlearn: 197069.8727133\ttotal: 9.03s\tremaining: 1m 18s\n",
      "308:\tlearn: 196868.0589007\ttotal: 9.05s\tremaining: 1m 18s\n",
      "309:\tlearn: 196552.4312091\ttotal: 9.08s\tremaining: 1m 18s\n",
      "310:\tlearn: 196336.4429389\ttotal: 9.11s\tremaining: 1m 18s\n",
      "311:\tlearn: 196122.5683312\ttotal: 9.13s\tremaining: 1m 18s\n",
      "312:\tlearn: 195893.1517643\ttotal: 9.16s\tremaining: 1m 18s\n",
      "313:\tlearn: 195658.3426709\ttotal: 9.19s\tremaining: 1m 18s\n",
      "314:\tlearn: 195493.1439945\ttotal: 9.21s\tremaining: 1m 18s\n",
      "315:\tlearn: 195287.4436456\ttotal: 9.24s\tremaining: 1m 18s\n",
      "316:\tlearn: 195033.0722520\ttotal: 9.27s\tremaining: 1m 18s\n",
      "317:\tlearn: 194807.8663155\ttotal: 9.29s\tremaining: 1m 18s\n",
      "318:\tlearn: 194699.8099626\ttotal: 9.32s\tremaining: 1m 18s\n",
      "319:\tlearn: 194566.5518113\ttotal: 9.35s\tremaining: 1m 18s\n",
      "320:\tlearn: 194443.7718493\ttotal: 9.37s\tremaining: 1m 18s\n",
      "321:\tlearn: 194298.0372989\ttotal: 9.4s\tremaining: 1m 18s\n",
      "322:\tlearn: 194146.2566798\ttotal: 9.43s\tremaining: 1m 18s\n",
      "323:\tlearn: 193820.8590243\ttotal: 9.46s\tremaining: 1m 18s\n",
      "324:\tlearn: 193737.1537945\ttotal: 9.49s\tremaining: 1m 18s\n",
      "325:\tlearn: 193625.6805711\ttotal: 9.52s\tremaining: 1m 18s\n",
      "326:\tlearn: 193482.2094629\ttotal: 9.54s\tremaining: 1m 18s\n",
      "327:\tlearn: 193287.7035944\ttotal: 9.57s\tremaining: 1m 17s\n",
      "328:\tlearn: 193169.5172494\ttotal: 9.6s\tremaining: 1m 17s\n",
      "329:\tlearn: 193003.7232631\ttotal: 9.63s\tremaining: 1m 17s\n",
      "330:\tlearn: 192698.7253344\ttotal: 9.66s\tremaining: 1m 17s\n",
      "331:\tlearn: 192629.1382827\ttotal: 9.69s\tremaining: 1m 17s\n",
      "332:\tlearn: 191943.4327520\ttotal: 9.72s\tremaining: 1m 17s\n",
      "333:\tlearn: 191865.8478593\ttotal: 9.75s\tremaining: 1m 17s\n",
      "334:\tlearn: 191693.8080836\ttotal: 9.78s\tremaining: 1m 17s\n",
      "335:\tlearn: 191605.8802485\ttotal: 9.81s\tremaining: 1m 17s\n",
      "336:\tlearn: 191385.2058901\ttotal: 9.84s\tremaining: 1m 17s\n",
      "337:\tlearn: 191245.2797088\ttotal: 9.87s\tremaining: 1m 17s\n",
      "338:\tlearn: 191120.6351134\ttotal: 9.91s\tremaining: 1m 17s\n",
      "339:\tlearn: 190937.5517732\ttotal: 9.94s\tremaining: 1m 17s\n",
      "340:\tlearn: 190704.2406116\ttotal: 9.97s\tremaining: 1m 17s\n",
      "341:\tlearn: 190607.3435645\ttotal: 9.99s\tremaining: 1m 17s\n",
      "342:\tlearn: 190487.0065771\ttotal: 10s\tremaining: 1m 17s\n",
      "343:\tlearn: 190312.4659816\ttotal: 10.1s\tremaining: 1m 17s\n",
      "344:\tlearn: 190129.9128749\ttotal: 10.1s\tremaining: 1m 17s\n",
      "345:\tlearn: 190001.9020923\ttotal: 10.1s\tremaining: 1m 17s\n",
      "346:\tlearn: 189941.8903186\ttotal: 10.1s\tremaining: 1m 17s\n",
      "347:\tlearn: 189745.1251944\ttotal: 10.2s\tremaining: 1m 17s\n",
      "348:\tlearn: 189564.8918341\ttotal: 10.2s\tremaining: 1m 17s\n",
      "349:\tlearn: 189096.7814860\ttotal: 10.2s\tremaining: 1m 17s\n",
      "350:\tlearn: 188903.5774711\ttotal: 10.2s\tremaining: 1m 17s\n",
      "351:\tlearn: 188740.5659414\ttotal: 10.3s\tremaining: 1m 17s\n",
      "352:\tlearn: 188342.7234602\ttotal: 10.3s\tremaining: 1m 17s\n",
      "353:\tlearn: 188196.8225297\ttotal: 10.3s\tremaining: 1m 17s\n",
      "354:\tlearn: 187965.5195525\ttotal: 10.3s\tremaining: 1m 17s\n",
      "355:\tlearn: 187586.2878999\ttotal: 10.4s\tremaining: 1m 17s\n",
      "356:\tlearn: 187419.8435465\ttotal: 10.4s\tremaining: 1m 16s\n",
      "357:\tlearn: 186954.1412825\ttotal: 10.4s\tremaining: 1m 16s\n",
      "358:\tlearn: 186785.1586148\ttotal: 10.5s\tremaining: 1m 16s\n",
      "359:\tlearn: 186581.7491279\ttotal: 10.5s\tremaining: 1m 16s\n",
      "360:\tlearn: 186496.7755968\ttotal: 10.5s\tremaining: 1m 16s\n",
      "361:\tlearn: 186331.1397749\ttotal: 10.5s\tremaining: 1m 16s\n",
      "362:\tlearn: 186104.1307717\ttotal: 10.6s\tremaining: 1m 16s\n",
      "363:\tlearn: 185924.3289248\ttotal: 10.6s\tremaining: 1m 16s\n",
      "364:\tlearn: 185730.2509634\ttotal: 10.6s\tremaining: 1m 16s\n",
      "365:\tlearn: 185634.2828031\ttotal: 10.7s\tremaining: 1m 16s\n",
      "366:\tlearn: 185592.8695559\ttotal: 10.7s\tremaining: 1m 16s\n",
      "367:\tlearn: 185526.7384445\ttotal: 10.7s\tremaining: 1m 16s\n",
      "368:\tlearn: 185368.4860788\ttotal: 10.7s\tremaining: 1m 16s\n",
      "369:\tlearn: 185241.7632814\ttotal: 10.8s\tremaining: 1m 16s\n",
      "370:\tlearn: 185105.6317046\ttotal: 10.8s\tremaining: 1m 16s\n",
      "371:\tlearn: 184886.3302583\ttotal: 10.8s\tremaining: 1m 16s\n",
      "372:\tlearn: 184781.2354701\ttotal: 10.9s\tremaining: 1m 16s\n",
      "373:\tlearn: 184633.6827577\ttotal: 10.9s\tremaining: 1m 16s\n",
      "374:\tlearn: 184438.8298521\ttotal: 10.9s\tremaining: 1m 16s\n",
      "375:\tlearn: 184241.7151352\ttotal: 11s\tremaining: 1m 16s\n",
      "376:\tlearn: 184089.0876273\ttotal: 11s\tremaining: 1m 16s\n",
      "377:\tlearn: 184010.6724120\ttotal: 11s\tremaining: 1m 16s\n",
      "378:\tlearn: 183863.2127371\ttotal: 11s\tremaining: 1m 16s\n",
      "379:\tlearn: 183764.8624520\ttotal: 11.1s\tremaining: 1m 16s\n",
      "380:\tlearn: 183628.6913457\ttotal: 11.1s\tremaining: 1m 16s\n",
      "381:\tlearn: 183479.6321396\ttotal: 11.1s\tremaining: 1m 16s\n",
      "382:\tlearn: 183240.8475164\ttotal: 11.2s\tremaining: 1m 16s\n",
      "383:\tlearn: 183097.1567430\ttotal: 11.2s\tremaining: 1m 16s\n",
      "384:\tlearn: 182822.8654072\ttotal: 11.2s\tremaining: 1m 16s\n",
      "385:\tlearn: 182662.2869273\ttotal: 11.2s\tremaining: 1m 16s\n",
      "386:\tlearn: 182534.3981936\ttotal: 11.3s\tremaining: 1m 16s\n",
      "387:\tlearn: 182367.5713381\ttotal: 11.3s\tremaining: 1m 16s\n",
      "388:\tlearn: 182156.5777575\ttotal: 11.3s\tremaining: 1m 15s\n",
      "389:\tlearn: 181906.6527542\ttotal: 11.3s\tremaining: 1m 15s\n",
      "390:\tlearn: 181722.9307280\ttotal: 11.4s\tremaining: 1m 15s\n",
      "391:\tlearn: 181494.1767170\ttotal: 11.4s\tremaining: 1m 15s\n",
      "392:\tlearn: 181258.4465171\ttotal: 11.4s\tremaining: 1m 15s\n",
      "393:\tlearn: 181072.0900162\ttotal: 11.5s\tremaining: 1m 15s\n",
      "394:\tlearn: 180933.8836149\ttotal: 11.5s\tremaining: 1m 15s\n",
      "395:\tlearn: 180857.7823727\ttotal: 11.5s\tremaining: 1m 15s\n",
      "396:\tlearn: 180727.3960262\ttotal: 11.5s\tremaining: 1m 15s\n",
      "397:\tlearn: 180371.2199108\ttotal: 11.6s\tremaining: 1m 15s\n",
      "398:\tlearn: 180219.5873657\ttotal: 11.6s\tremaining: 1m 15s\n",
      "399:\tlearn: 180078.8337161\ttotal: 11.6s\tremaining: 1m 15s\n",
      "400:\tlearn: 179925.0356306\ttotal: 11.7s\tremaining: 1m 15s\n",
      "401:\tlearn: 179773.3033008\ttotal: 11.7s\tremaining: 1m 15s\n",
      "402:\tlearn: 179616.1040284\ttotal: 11.7s\tremaining: 1m 15s\n",
      "403:\tlearn: 179502.6883021\ttotal: 11.7s\tremaining: 1m 15s\n",
      "404:\tlearn: 179308.0274491\ttotal: 11.8s\tremaining: 1m 15s\n",
      "405:\tlearn: 178931.9270641\ttotal: 11.8s\tremaining: 1m 15s\n",
      "406:\tlearn: 178704.8602870\ttotal: 11.8s\tremaining: 1m 15s\n",
      "407:\tlearn: 178605.9007682\ttotal: 11.9s\tremaining: 1m 15s\n",
      "408:\tlearn: 178517.6177043\ttotal: 11.9s\tremaining: 1m 15s\n",
      "409:\tlearn: 178327.5332052\ttotal: 11.9s\tremaining: 1m 15s\n",
      "410:\tlearn: 178052.8763133\ttotal: 12s\tremaining: 1m 15s\n",
      "411:\tlearn: 177980.9323038\ttotal: 12s\tremaining: 1m 15s\n",
      "412:\tlearn: 177743.0677006\ttotal: 12s\tremaining: 1m 15s\n",
      "413:\tlearn: 177703.9406109\ttotal: 12s\tremaining: 1m 15s\n",
      "414:\tlearn: 177618.4135146\ttotal: 12.1s\tremaining: 1m 15s\n",
      "415:\tlearn: 177556.2108245\ttotal: 12.1s\tremaining: 1m 15s\n",
      "416:\tlearn: 177326.4584468\ttotal: 12.1s\tremaining: 1m 15s\n",
      "417:\tlearn: 177087.9368224\ttotal: 12.2s\tremaining: 1m 15s\n",
      "418:\tlearn: 176938.2745302\ttotal: 12.2s\tremaining: 1m 15s\n",
      "419:\tlearn: 176796.3669736\ttotal: 12.2s\tremaining: 1m 14s\n",
      "420:\tlearn: 176675.9687245\ttotal: 12.2s\tremaining: 1m 14s\n",
      "421:\tlearn: 176559.6598127\ttotal: 12.3s\tremaining: 1m 14s\n",
      "422:\tlearn: 176480.2520026\ttotal: 12.3s\tremaining: 1m 14s\n",
      "423:\tlearn: 176281.5167437\ttotal: 12.3s\tremaining: 1m 14s\n",
      "424:\tlearn: 176111.3152885\ttotal: 12.3s\tremaining: 1m 14s\n",
      "425:\tlearn: 175871.9071023\ttotal: 12.4s\tremaining: 1m 14s\n",
      "426:\tlearn: 175736.1491676\ttotal: 12.4s\tremaining: 1m 14s\n",
      "427:\tlearn: 175622.7816256\ttotal: 12.4s\tremaining: 1m 14s\n",
      "428:\tlearn: 175515.8646087\ttotal: 12.4s\tremaining: 1m 14s\n",
      "429:\tlearn: 175217.2183051\ttotal: 12.5s\tremaining: 1m 14s\n",
      "430:\tlearn: 175121.6296526\ttotal: 12.5s\tremaining: 1m 14s\n",
      "431:\tlearn: 175001.2237695\ttotal: 12.5s\tremaining: 1m 14s\n",
      "432:\tlearn: 174732.1012735\ttotal: 12.6s\tremaining: 1m 14s\n",
      "433:\tlearn: 174620.7781605\ttotal: 12.6s\tremaining: 1m 14s\n",
      "434:\tlearn: 174485.5647562\ttotal: 12.6s\tremaining: 1m 14s\n",
      "435:\tlearn: 174290.8309068\ttotal: 12.7s\tremaining: 1m 14s\n",
      "436:\tlearn: 174204.2871408\ttotal: 12.7s\tremaining: 1m 14s\n"
     ]
    },
    {
     "name": "stdout",
     "output_type": "stream",
     "text": [
      "437:\tlearn: 173981.3050105\ttotal: 12.7s\tremaining: 1m 14s\n",
      "438:\tlearn: 173864.7501523\ttotal: 12.7s\tremaining: 1m 14s\n",
      "439:\tlearn: 173760.7625959\ttotal: 12.8s\tremaining: 1m 14s\n",
      "440:\tlearn: 173688.4684677\ttotal: 12.8s\tremaining: 1m 14s\n",
      "441:\tlearn: 173573.3944549\ttotal: 12.8s\tremaining: 1m 14s\n",
      "442:\tlearn: 173146.3661423\ttotal: 12.9s\tremaining: 1m 14s\n",
      "443:\tlearn: 172975.2965104\ttotal: 12.9s\tremaining: 1m 14s\n",
      "444:\tlearn: 172831.2341208\ttotal: 12.9s\tremaining: 1m 14s\n",
      "445:\tlearn: 172624.3912756\ttotal: 13s\tremaining: 1m 14s\n",
      "446:\tlearn: 172420.7666307\ttotal: 13s\tremaining: 1m 14s\n",
      "447:\tlearn: 172311.1638871\ttotal: 13s\tremaining: 1m 14s\n",
      "448:\tlearn: 172188.8618780\ttotal: 13.1s\tremaining: 1m 14s\n",
      "449:\tlearn: 172093.2680705\ttotal: 13.1s\tremaining: 1m 14s\n",
      "450:\tlearn: 171977.9316325\ttotal: 13.1s\tremaining: 1m 14s\n",
      "451:\tlearn: 171748.0628398\ttotal: 13.1s\tremaining: 1m 14s\n",
      "452:\tlearn: 171539.1742051\ttotal: 13.2s\tremaining: 1m 14s\n",
      "453:\tlearn: 171454.3000356\ttotal: 13.2s\tremaining: 1m 13s\n",
      "454:\tlearn: 171344.8919692\ttotal: 13.2s\tremaining: 1m 13s\n",
      "455:\tlearn: 171058.3147657\ttotal: 13.2s\tremaining: 1m 13s\n",
      "456:\tlearn: 170961.2048333\ttotal: 13.3s\tremaining: 1m 13s\n",
      "457:\tlearn: 170836.4714740\ttotal: 13.3s\tremaining: 1m 13s\n",
      "458:\tlearn: 170740.5232589\ttotal: 13.3s\tremaining: 1m 13s\n",
      "459:\tlearn: 170705.7301999\ttotal: 13.4s\tremaining: 1m 13s\n",
      "460:\tlearn: 170539.7783645\ttotal: 13.4s\tremaining: 1m 13s\n",
      "461:\tlearn: 170385.9805223\ttotal: 13.4s\tremaining: 1m 13s\n",
      "462:\tlearn: 170259.8719230\ttotal: 13.4s\tremaining: 1m 13s\n",
      "463:\tlearn: 170101.9666618\ttotal: 13.5s\tremaining: 1m 13s\n",
      "464:\tlearn: 169983.3867470\ttotal: 13.5s\tremaining: 1m 13s\n",
      "465:\tlearn: 169738.8641112\ttotal: 13.5s\tremaining: 1m 13s\n",
      "466:\tlearn: 169601.3180650\ttotal: 13.6s\tremaining: 1m 13s\n",
      "467:\tlearn: 169509.8546093\ttotal: 13.6s\tremaining: 1m 13s\n",
      "468:\tlearn: 169427.1295019\ttotal: 13.6s\tremaining: 1m 13s\n",
      "469:\tlearn: 169159.7304615\ttotal: 13.7s\tremaining: 1m 13s\n",
      "470:\tlearn: 169088.8518090\ttotal: 13.7s\tremaining: 1m 13s\n",
      "471:\tlearn: 169012.3923023\ttotal: 13.7s\tremaining: 1m 13s\n",
      "472:\tlearn: 168808.2860914\ttotal: 13.8s\tremaining: 1m 13s\n",
      "473:\tlearn: 168731.3978506\ttotal: 13.8s\tremaining: 1m 13s\n",
      "474:\tlearn: 168607.6773246\ttotal: 13.8s\tremaining: 1m 13s\n",
      "475:\tlearn: 168425.3181769\ttotal: 13.9s\tremaining: 1m 13s\n",
      "476:\tlearn: 168290.9955865\ttotal: 13.9s\tremaining: 1m 13s\n",
      "477:\tlearn: 168216.5792487\ttotal: 13.9s\tremaining: 1m 13s\n",
      "478:\tlearn: 168062.2103611\ttotal: 14s\tremaining: 1m 13s\n",
      "479:\tlearn: 168037.7132886\ttotal: 14s\tremaining: 1m 13s\n",
      "480:\tlearn: 167964.3916666\ttotal: 14s\tremaining: 1m 13s\n",
      "481:\tlearn: 167763.3942105\ttotal: 14.1s\tremaining: 1m 13s\n",
      "482:\tlearn: 167591.1664208\ttotal: 14.1s\tremaining: 1m 13s\n",
      "483:\tlearn: 167526.6185595\ttotal: 14.1s\tremaining: 1m 13s\n",
      "484:\tlearn: 167397.0869582\ttotal: 14.1s\tremaining: 1m 13s\n",
      "485:\tlearn: 167180.7564626\ttotal: 14.2s\tremaining: 1m 13s\n",
      "486:\tlearn: 167099.5864863\ttotal: 14.2s\tremaining: 1m 13s\n",
      "487:\tlearn: 166971.3890105\ttotal: 14.2s\tremaining: 1m 13s\n",
      "488:\tlearn: 166819.1216067\ttotal: 14.3s\tremaining: 1m 13s\n",
      "489:\tlearn: 166781.3254371\ttotal: 14.3s\tremaining: 1m 13s\n",
      "490:\tlearn: 166708.8954102\ttotal: 14.3s\tremaining: 1m 13s\n",
      "491:\tlearn: 166608.8971747\ttotal: 14.4s\tremaining: 1m 13s\n",
      "492:\tlearn: 166550.0542292\ttotal: 14.4s\tremaining: 1m 13s\n",
      "493:\tlearn: 166480.6241365\ttotal: 14.4s\tremaining: 1m 13s\n",
      "494:\tlearn: 166149.6249889\ttotal: 14.4s\tremaining: 1m 13s\n",
      "495:\tlearn: 166045.7379015\ttotal: 14.5s\tremaining: 1m 13s\n",
      "496:\tlearn: 165938.3113079\ttotal: 14.5s\tremaining: 1m 13s\n",
      "497:\tlearn: 165839.7809265\ttotal: 14.5s\tremaining: 1m 13s\n",
      "498:\tlearn: 165750.8898915\ttotal: 14.6s\tremaining: 1m 13s\n",
      "499:\tlearn: 165600.8165144\ttotal: 14.6s\tremaining: 1m 12s\n",
      "500:\tlearn: 165404.7785784\ttotal: 14.6s\tremaining: 1m 12s\n",
      "501:\tlearn: 165305.0900334\ttotal: 14.7s\tremaining: 1m 12s\n",
      "502:\tlearn: 165222.7140226\ttotal: 14.7s\tremaining: 1m 12s\n",
      "503:\tlearn: 165079.5845461\ttotal: 14.7s\tremaining: 1m 12s\n",
      "504:\tlearn: 164933.6714633\ttotal: 14.7s\tremaining: 1m 12s\n",
      "505:\tlearn: 164796.7438762\ttotal: 14.8s\tremaining: 1m 12s\n",
      "506:\tlearn: 164705.3095451\ttotal: 14.8s\tremaining: 1m 12s\n",
      "507:\tlearn: 164584.3691086\ttotal: 14.8s\tremaining: 1m 12s\n",
      "508:\tlearn: 164425.7541858\ttotal: 14.9s\tremaining: 1m 12s\n",
      "509:\tlearn: 164396.6611635\ttotal: 14.9s\tremaining: 1m 12s\n",
      "510:\tlearn: 164227.7197057\ttotal: 14.9s\tremaining: 1m 12s\n",
      "511:\tlearn: 164084.7188316\ttotal: 14.9s\tremaining: 1m 12s\n",
      "512:\tlearn: 163949.5218121\ttotal: 15s\tremaining: 1m 12s\n",
      "513:\tlearn: 163775.8865251\ttotal: 15s\tremaining: 1m 12s\n",
      "514:\tlearn: 163696.6371412\ttotal: 15s\tremaining: 1m 12s\n",
      "515:\tlearn: 163512.3201896\ttotal: 15.1s\tremaining: 1m 12s\n",
      "516:\tlearn: 163454.1806654\ttotal: 15.1s\tremaining: 1m 12s\n",
      "517:\tlearn: 163299.0641772\ttotal: 15.1s\tremaining: 1m 12s\n",
      "518:\tlearn: 163229.6715867\ttotal: 15.2s\tremaining: 1m 12s\n",
      "519:\tlearn: 163202.3651406\ttotal: 15.2s\tremaining: 1m 12s\n",
      "520:\tlearn: 163174.4516125\ttotal: 15.2s\tremaining: 1m 12s\n",
      "521:\tlearn: 163148.5051058\ttotal: 15.2s\tremaining: 1m 12s\n",
      "522:\tlearn: 163030.3189085\ttotal: 15.3s\tremaining: 1m 12s\n",
      "523:\tlearn: 163002.1908218\ttotal: 15.3s\tremaining: 1m 12s\n",
      "524:\tlearn: 162792.4139536\ttotal: 15.3s\tremaining: 1m 12s\n",
      "525:\tlearn: 162580.4096382\ttotal: 15.4s\tremaining: 1m 12s\n",
      "526:\tlearn: 162435.0488530\ttotal: 15.4s\tremaining: 1m 12s\n",
      "527:\tlearn: 162304.8544819\ttotal: 15.4s\tremaining: 1m 12s\n",
      "528:\tlearn: 162234.4549430\ttotal: 15.5s\tremaining: 1m 12s\n",
      "529:\tlearn: 162169.6256299\ttotal: 15.5s\tremaining: 1m 12s\n",
      "530:\tlearn: 162085.2639492\ttotal: 15.5s\tremaining: 1m 12s\n",
      "531:\tlearn: 161942.5030456\ttotal: 15.5s\tremaining: 1m 12s\n",
      "532:\tlearn: 161863.4350042\ttotal: 15.6s\tremaining: 1m 12s\n",
      "533:\tlearn: 161738.9941333\ttotal: 15.6s\tremaining: 1m 12s\n",
      "534:\tlearn: 161658.4049462\ttotal: 15.6s\tremaining: 1m 12s\n",
      "535:\tlearn: 161520.9414057\ttotal: 15.7s\tremaining: 1m 12s\n",
      "536:\tlearn: 161433.2308801\ttotal: 15.7s\tremaining: 1m 12s\n",
      "537:\tlearn: 161345.7929501\ttotal: 15.7s\tremaining: 1m 12s\n",
      "538:\tlearn: 161150.8300780\ttotal: 15.8s\tremaining: 1m 12s\n",
      "539:\tlearn: 161043.0862175\ttotal: 15.8s\tremaining: 1m 12s\n",
      "540:\tlearn: 160973.6950776\ttotal: 15.8s\tremaining: 1m 12s\n",
      "541:\tlearn: 160871.1700443\ttotal: 15.9s\tremaining: 1m 12s\n",
      "542:\tlearn: 160682.0819975\ttotal: 15.9s\tremaining: 1m 11s\n",
      "543:\tlearn: 160619.0411219\ttotal: 15.9s\tremaining: 1m 11s\n",
      "544:\tlearn: 160554.8260656\ttotal: 16s\tremaining: 1m 11s\n",
      "545:\tlearn: 160394.0814775\ttotal: 16s\tremaining: 1m 11s\n",
      "546:\tlearn: 160371.8676985\ttotal: 16s\tremaining: 1m 11s\n",
      "547:\tlearn: 160258.6044397\ttotal: 16.1s\tremaining: 1m 11s\n",
      "548:\tlearn: 160172.6381986\ttotal: 16.1s\tremaining: 1m 11s\n",
      "549:\tlearn: 160020.2623731\ttotal: 16.1s\tremaining: 1m 11s\n",
      "550:\tlearn: 159921.1015998\ttotal: 16.2s\tremaining: 1m 11s\n",
      "551:\tlearn: 159747.6715788\ttotal: 16.2s\tremaining: 1m 11s\n",
      "552:\tlearn: 159680.6787422\ttotal: 16.2s\tremaining: 1m 11s\n",
      "553:\tlearn: 159612.1582088\ttotal: 16.3s\tremaining: 1m 11s\n",
      "554:\tlearn: 159409.8523861\ttotal: 16.3s\tremaining: 1m 11s\n",
      "555:\tlearn: 159301.9450305\ttotal: 16.3s\tremaining: 1m 11s\n",
      "556:\tlearn: 159281.0991238\ttotal: 16.3s\tremaining: 1m 11s\n",
      "557:\tlearn: 159052.8950084\ttotal: 16.4s\tremaining: 1m 11s\n",
      "558:\tlearn: 159028.8407353\ttotal: 16.4s\tremaining: 1m 11s\n",
      "559:\tlearn: 158969.7977757\ttotal: 16.4s\tremaining: 1m 11s\n",
      "560:\tlearn: 158898.4329502\ttotal: 16.5s\tremaining: 1m 11s\n",
      "561:\tlearn: 158879.6630532\ttotal: 16.5s\tremaining: 1m 11s\n",
      "562:\tlearn: 158805.2922566\ttotal: 16.5s\tremaining: 1m 11s\n",
      "563:\tlearn: 158766.1033294\ttotal: 16.6s\tremaining: 1m 11s\n",
      "564:\tlearn: 158668.0932710\ttotal: 16.6s\tremaining: 1m 11s\n",
      "565:\tlearn: 158471.5517683\ttotal: 16.6s\tremaining: 1m 11s\n",
      "566:\tlearn: 158332.0957144\ttotal: 16.7s\tremaining: 1m 11s\n",
      "567:\tlearn: 158156.7424832\ttotal: 16.7s\tremaining: 1m 11s\n",
      "568:\tlearn: 158063.2777374\ttotal: 16.7s\tremaining: 1m 11s\n",
      "569:\tlearn: 158045.8315886\ttotal: 16.8s\tremaining: 1m 11s\n",
      "570:\tlearn: 157973.9551698\ttotal: 16.8s\tremaining: 1m 11s\n",
      "571:\tlearn: 157764.8414142\ttotal: 16.8s\tremaining: 1m 11s\n",
      "572:\tlearn: 157625.7449330\ttotal: 16.9s\tremaining: 1m 11s\n",
      "573:\tlearn: 157557.0884666\ttotal: 16.9s\tremaining: 1m 11s\n",
      "574:\tlearn: 157467.9155143\ttotal: 16.9s\tremaining: 1m 11s\n",
      "575:\tlearn: 157406.3329548\ttotal: 17s\tremaining: 1m 11s\n",
      "576:\tlearn: 157241.3841965\ttotal: 17s\tremaining: 1m 11s\n",
      "577:\tlearn: 157150.7378821\ttotal: 17s\tremaining: 1m 11s\n",
      "578:\tlearn: 157077.5550228\ttotal: 17s\tremaining: 1m 11s\n",
      "579:\tlearn: 156985.9953802\ttotal: 17.1s\tremaining: 1m 11s\n",
      "580:\tlearn: 156859.0977297\ttotal: 17.1s\tremaining: 1m 11s\n",
      "581:\tlearn: 156785.3816669\ttotal: 17.1s\tremaining: 1m 11s\n"
     ]
    },
    {
     "name": "stdout",
     "output_type": "stream",
     "text": [
      "582:\tlearn: 156584.6904557\ttotal: 17.1s\tremaining: 1m 11s\n",
      "583:\tlearn: 156432.9931432\ttotal: 17.2s\tremaining: 1m 11s\n",
      "584:\tlearn: 156215.1837231\ttotal: 17.2s\tremaining: 1m 11s\n",
      "585:\tlearn: 156135.1381578\ttotal: 17.2s\tremaining: 1m 10s\n",
      "586:\tlearn: 155896.7969635\ttotal: 17.3s\tremaining: 1m 10s\n",
      "587:\tlearn: 155849.0048321\ttotal: 17.3s\tremaining: 1m 10s\n",
      "588:\tlearn: 155689.6314699\ttotal: 17.3s\tremaining: 1m 10s\n",
      "589:\tlearn: 155625.7642134\ttotal: 17.3s\tremaining: 1m 10s\n",
      "590:\tlearn: 155507.3843883\ttotal: 17.4s\tremaining: 1m 10s\n",
      "591:\tlearn: 155419.7707358\ttotal: 17.4s\tremaining: 1m 10s\n",
      "592:\tlearn: 155274.4802727\ttotal: 17.4s\tremaining: 1m 10s\n",
      "593:\tlearn: 155114.3275866\ttotal: 17.5s\tremaining: 1m 10s\n",
      "594:\tlearn: 154925.4136361\ttotal: 17.5s\tremaining: 1m 10s\n",
      "595:\tlearn: 154831.6918387\ttotal: 17.5s\tremaining: 1m 10s\n",
      "596:\tlearn: 154800.2911109\ttotal: 17.6s\tremaining: 1m 10s\n",
      "597:\tlearn: 154659.9203889\ttotal: 17.6s\tremaining: 1m 10s\n",
      "598:\tlearn: 154570.3609525\ttotal: 17.6s\tremaining: 1m 10s\n",
      "599:\tlearn: 154507.9143946\ttotal: 17.7s\tremaining: 1m 10s\n",
      "600:\tlearn: 154487.5258498\ttotal: 17.7s\tremaining: 1m 10s\n",
      "601:\tlearn: 154469.5490283\ttotal: 17.7s\tremaining: 1m 10s\n",
      "602:\tlearn: 154378.5099019\ttotal: 17.7s\tremaining: 1m 10s\n",
      "603:\tlearn: 154342.1406474\ttotal: 17.8s\tremaining: 1m 10s\n",
      "604:\tlearn: 154263.0852722\ttotal: 17.8s\tremaining: 1m 10s\n",
      "605:\tlearn: 154101.7025089\ttotal: 17.8s\tremaining: 1m 10s\n",
      "606:\tlearn: 154059.2031523\ttotal: 17.9s\tremaining: 1m 10s\n",
      "607:\tlearn: 153893.5197787\ttotal: 17.9s\tremaining: 1m 10s\n",
      "608:\tlearn: 153852.2692290\ttotal: 17.9s\tremaining: 1m 10s\n",
      "609:\tlearn: 153808.8987263\ttotal: 18s\tremaining: 1m 10s\n",
      "610:\tlearn: 153752.8358278\ttotal: 18s\tremaining: 1m 10s\n",
      "611:\tlearn: 153641.2397134\ttotal: 18s\tremaining: 1m 10s\n",
      "612:\tlearn: 153373.5205896\ttotal: 18s\tremaining: 1m 10s\n",
      "613:\tlearn: 153283.4209783\ttotal: 18.1s\tremaining: 1m 10s\n",
      "614:\tlearn: 153123.7545560\ttotal: 18.1s\tremaining: 1m 10s\n",
      "615:\tlearn: 153008.0752141\ttotal: 18.1s\tremaining: 1m 10s\n",
      "616:\tlearn: 152825.6562006\ttotal: 18.1s\tremaining: 1m 10s\n",
      "617:\tlearn: 152740.3512662\ttotal: 18.2s\tremaining: 1m 10s\n",
      "618:\tlearn: 152676.5747574\ttotal: 18.2s\tremaining: 1m 10s\n",
      "619:\tlearn: 152609.6694673\ttotal: 18.2s\tremaining: 1m 9s\n",
      "620:\tlearn: 152544.6079587\ttotal: 18.3s\tremaining: 1m 9s\n",
      "621:\tlearn: 152446.4091905\ttotal: 18.3s\tremaining: 1m 9s\n",
      "622:\tlearn: 152345.1902356\ttotal: 18.3s\tremaining: 1m 9s\n",
      "623:\tlearn: 152254.5806891\ttotal: 18.4s\tremaining: 1m 9s\n",
      "624:\tlearn: 152173.0345200\ttotal: 18.4s\tremaining: 1m 9s\n",
      "625:\tlearn: 152011.7325630\ttotal: 18.4s\tremaining: 1m 9s\n",
      "626:\tlearn: 151982.7175585\ttotal: 18.4s\tremaining: 1m 9s\n",
      "627:\tlearn: 151874.3399305\ttotal: 18.5s\tremaining: 1m 9s\n",
      "628:\tlearn: 151817.6978243\ttotal: 18.5s\tremaining: 1m 9s\n",
      "629:\tlearn: 151674.7965529\ttotal: 18.5s\tremaining: 1m 9s\n",
      "630:\tlearn: 151556.5476337\ttotal: 18.6s\tremaining: 1m 9s\n",
      "631:\tlearn: 151510.1865345\ttotal: 18.6s\tremaining: 1m 9s\n",
      "632:\tlearn: 151448.5721825\ttotal: 18.6s\tremaining: 1m 9s\n",
      "633:\tlearn: 151322.0562979\ttotal: 18.6s\tremaining: 1m 9s\n",
      "634:\tlearn: 151252.3354441\ttotal: 18.7s\tremaining: 1m 9s\n",
      "635:\tlearn: 151184.3246226\ttotal: 18.7s\tremaining: 1m 9s\n",
      "636:\tlearn: 151114.4679457\ttotal: 18.7s\tremaining: 1m 9s\n",
      "637:\tlearn: 151050.9070172\ttotal: 18.8s\tremaining: 1m 9s\n",
      "638:\tlearn: 151023.1912833\ttotal: 18.8s\tremaining: 1m 9s\n",
      "639:\tlearn: 150948.6692284\ttotal: 18.8s\tremaining: 1m 9s\n",
      "640:\tlearn: 150868.1366871\ttotal: 18.9s\tremaining: 1m 9s\n",
      "641:\tlearn: 150737.1916399\ttotal: 18.9s\tremaining: 1m 9s\n",
      "642:\tlearn: 150643.6177944\ttotal: 18.9s\tremaining: 1m 9s\n",
      "643:\tlearn: 150488.8631201\ttotal: 18.9s\tremaining: 1m 9s\n",
      "644:\tlearn: 150408.3809536\ttotal: 19s\tremaining: 1m 9s\n",
      "645:\tlearn: 150379.7090318\ttotal: 19s\tremaining: 1m 9s\n",
      "646:\tlearn: 150317.2285849\ttotal: 19s\tremaining: 1m 9s\n",
      "647:\tlearn: 150237.2577214\ttotal: 19s\tremaining: 1m 9s\n",
      "648:\tlearn: 150139.3126708\ttotal: 19.1s\tremaining: 1m 9s\n",
      "649:\tlearn: 150038.3212920\ttotal: 19.1s\tremaining: 1m 9s\n",
      "650:\tlearn: 149963.4880824\ttotal: 19.1s\tremaining: 1m 9s\n",
      "651:\tlearn: 149786.9197368\ttotal: 19.2s\tremaining: 1m 9s\n",
      "652:\tlearn: 149673.2818166\ttotal: 19.2s\tremaining: 1m 8s\n",
      "653:\tlearn: 149633.4350543\ttotal: 19.2s\tremaining: 1m 8s\n",
      "654:\tlearn: 149585.2127115\ttotal: 19.2s\tremaining: 1m 8s\n",
      "655:\tlearn: 149465.7285270\ttotal: 19.3s\tremaining: 1m 8s\n",
      "656:\tlearn: 149417.1214200\ttotal: 19.3s\tremaining: 1m 8s\n",
      "657:\tlearn: 149275.2860399\ttotal: 19.3s\tremaining: 1m 8s\n",
      "658:\tlearn: 149183.4235933\ttotal: 19.4s\tremaining: 1m 8s\n",
      "659:\tlearn: 149127.5597184\ttotal: 19.4s\tremaining: 1m 8s\n",
      "660:\tlearn: 149080.7103593\ttotal: 19.4s\tremaining: 1m 8s\n",
      "661:\tlearn: 149038.2906486\ttotal: 19.5s\tremaining: 1m 8s\n",
      "662:\tlearn: 148973.6175627\ttotal: 19.5s\tremaining: 1m 8s\n",
      "663:\tlearn: 148852.3640703\ttotal: 19.5s\tremaining: 1m 8s\n",
      "664:\tlearn: 148740.7135305\ttotal: 19.5s\tremaining: 1m 8s\n",
      "665:\tlearn: 148668.3947825\ttotal: 19.6s\tremaining: 1m 8s\n",
      "666:\tlearn: 148603.6158147\ttotal: 19.6s\tremaining: 1m 8s\n",
      "667:\tlearn: 148534.5488498\ttotal: 19.6s\tremaining: 1m 8s\n",
      "668:\tlearn: 148453.6762930\ttotal: 19.7s\tremaining: 1m 8s\n",
      "669:\tlearn: 148396.0173519\ttotal: 19.7s\tremaining: 1m 8s\n",
      "670:\tlearn: 148355.6547687\ttotal: 19.7s\tremaining: 1m 8s\n",
      "671:\tlearn: 148153.6887583\ttotal: 19.8s\tremaining: 1m 8s\n",
      "672:\tlearn: 148060.8631153\ttotal: 19.8s\tremaining: 1m 8s\n",
      "673:\tlearn: 147988.3428812\ttotal: 19.8s\tremaining: 1m 8s\n",
      "674:\tlearn: 147836.0964637\ttotal: 19.9s\tremaining: 1m 8s\n",
      "675:\tlearn: 147788.1145273\ttotal: 19.9s\tremaining: 1m 8s\n",
      "676:\tlearn: 147714.8486086\ttotal: 19.9s\tremaining: 1m 8s\n",
      "677:\tlearn: 147644.4381634\ttotal: 19.9s\tremaining: 1m 8s\n",
      "678:\tlearn: 147592.0597514\ttotal: 20s\tremaining: 1m 8s\n",
      "679:\tlearn: 147444.1079552\ttotal: 20s\tremaining: 1m 8s\n",
      "680:\tlearn: 147289.8925623\ttotal: 20s\tremaining: 1m 8s\n",
      "681:\tlearn: 147238.4871283\ttotal: 20.1s\tremaining: 1m 8s\n",
      "682:\tlearn: 147194.6233663\ttotal: 20.1s\tremaining: 1m 8s\n",
      "683:\tlearn: 147045.0594381\ttotal: 20.1s\tremaining: 1m 8s\n",
      "684:\tlearn: 146940.9161839\ttotal: 20.1s\tremaining: 1m 8s\n",
      "685:\tlearn: 146876.7166593\ttotal: 20.2s\tremaining: 1m 8s\n",
      "686:\tlearn: 146679.8985794\ttotal: 20.2s\tremaining: 1m 7s\n",
      "687:\tlearn: 146523.1409651\ttotal: 20.2s\tremaining: 1m 7s\n",
      "688:\tlearn: 146392.5778525\ttotal: 20.2s\tremaining: 1m 7s\n",
      "689:\tlearn: 146273.6034730\ttotal: 20.3s\tremaining: 1m 7s\n",
      "690:\tlearn: 146191.9752159\ttotal: 20.3s\tremaining: 1m 7s\n",
      "691:\tlearn: 146137.4978000\ttotal: 20.3s\tremaining: 1m 7s\n",
      "692:\tlearn: 146040.9832391\ttotal: 20.4s\tremaining: 1m 7s\n",
      "693:\tlearn: 145987.5127278\ttotal: 20.4s\tremaining: 1m 7s\n",
      "694:\tlearn: 145926.6373246\ttotal: 20.4s\tremaining: 1m 7s\n",
      "695:\tlearn: 145876.3421375\ttotal: 20.5s\tremaining: 1m 7s\n",
      "696:\tlearn: 145808.6437236\ttotal: 20.5s\tremaining: 1m 7s\n",
      "697:\tlearn: 145775.3278244\ttotal: 20.5s\tremaining: 1m 7s\n",
      "698:\tlearn: 145719.2370270\ttotal: 20.5s\tremaining: 1m 7s\n",
      "699:\tlearn: 145636.2924983\ttotal: 20.6s\tremaining: 1m 7s\n",
      "700:\tlearn: 145587.7889986\ttotal: 20.6s\tremaining: 1m 7s\n",
      "701:\tlearn: 145541.7164653\ttotal: 20.6s\tremaining: 1m 7s\n",
      "702:\tlearn: 145481.6688732\ttotal: 20.7s\tremaining: 1m 7s\n",
      "703:\tlearn: 145406.1159918\ttotal: 20.7s\tremaining: 1m 7s\n",
      "704:\tlearn: 145329.7254814\ttotal: 20.7s\tremaining: 1m 7s\n",
      "705:\tlearn: 145190.2510309\ttotal: 20.8s\tremaining: 1m 7s\n",
      "706:\tlearn: 145133.4588970\ttotal: 20.8s\tremaining: 1m 7s\n",
      "707:\tlearn: 145060.3567230\ttotal: 20.8s\tremaining: 1m 7s\n",
      "708:\tlearn: 145021.9101332\ttotal: 20.9s\tremaining: 1m 7s\n",
      "709:\tlearn: 144943.9646712\ttotal: 20.9s\tremaining: 1m 7s\n",
      "710:\tlearn: 144881.0779844\ttotal: 20.9s\tremaining: 1m 7s\n",
      "711:\tlearn: 144807.2457405\ttotal: 20.9s\tremaining: 1m 7s\n",
      "712:\tlearn: 144764.9204098\ttotal: 21s\tremaining: 1m 7s\n",
      "713:\tlearn: 144716.2861982\ttotal: 21s\tremaining: 1m 7s\n",
      "714:\tlearn: 144529.4472699\ttotal: 21s\tremaining: 1m 7s\n",
      "715:\tlearn: 144340.2293576\ttotal: 21.1s\tremaining: 1m 7s\n",
      "716:\tlearn: 144273.8025908\ttotal: 21.1s\tremaining: 1m 7s\n",
      "717:\tlearn: 144187.7876341\ttotal: 21.1s\tremaining: 1m 7s\n",
      "718:\tlearn: 144127.2434254\ttotal: 21.1s\tremaining: 1m 7s\n",
      "719:\tlearn: 144090.6111799\ttotal: 21.2s\tremaining: 1m 7s\n",
      "720:\tlearn: 144018.4434168\ttotal: 21.2s\tremaining: 1m 6s\n",
      "721:\tlearn: 143955.9203089\ttotal: 21.2s\tremaining: 1m 6s\n",
      "722:\tlearn: 143759.4725713\ttotal: 21.2s\tremaining: 1m 6s\n",
      "723:\tlearn: 143694.5101448\ttotal: 21.3s\tremaining: 1m 6s\n",
      "724:\tlearn: 143634.4165378\ttotal: 21.3s\tremaining: 1m 6s\n",
      "725:\tlearn: 143513.6568397\ttotal: 21.3s\tremaining: 1m 6s\n",
      "726:\tlearn: 143331.9136443\ttotal: 21.4s\tremaining: 1m 6s\n",
      "727:\tlearn: 143197.1271476\ttotal: 21.4s\tremaining: 1m 6s\n",
      "728:\tlearn: 143113.7858011\ttotal: 21.4s\tremaining: 1m 6s\n",
      "729:\tlearn: 142998.6151149\ttotal: 21.4s\tremaining: 1m 6s\n",
      "730:\tlearn: 142912.7443482\ttotal: 21.5s\tremaining: 1m 6s\n",
      "731:\tlearn: 142812.6828054\ttotal: 21.5s\tremaining: 1m 6s\n",
      "732:\tlearn: 142566.2458035\ttotal: 21.5s\tremaining: 1m 6s\n"
     ]
    },
    {
     "name": "stdout",
     "output_type": "stream",
     "text": [
      "733:\tlearn: 142485.1277664\ttotal: 21.6s\tremaining: 1m 6s\n",
      "734:\tlearn: 142428.0424280\ttotal: 21.6s\tremaining: 1m 6s\n",
      "735:\tlearn: 142240.3911556\ttotal: 21.6s\tremaining: 1m 6s\n",
      "736:\tlearn: 142114.0905112\ttotal: 21.7s\tremaining: 1m 6s\n",
      "737:\tlearn: 141982.4523525\ttotal: 21.7s\tremaining: 1m 6s\n",
      "738:\tlearn: 141892.9010562\ttotal: 21.7s\tremaining: 1m 6s\n",
      "739:\tlearn: 141816.0733979\ttotal: 21.7s\tremaining: 1m 6s\n",
      "740:\tlearn: 141710.2397982\ttotal: 21.8s\tremaining: 1m 6s\n",
      "741:\tlearn: 141633.8813771\ttotal: 21.8s\tremaining: 1m 6s\n",
      "742:\tlearn: 141572.0544300\ttotal: 21.8s\tremaining: 1m 6s\n",
      "743:\tlearn: 141524.4681224\ttotal: 21.9s\tremaining: 1m 6s\n",
      "744:\tlearn: 141482.0495674\ttotal: 21.9s\tremaining: 1m 6s\n",
      "745:\tlearn: 141446.1454695\ttotal: 21.9s\tremaining: 1m 6s\n",
      "746:\tlearn: 141361.3933726\ttotal: 21.9s\tremaining: 1m 6s\n",
      "747:\tlearn: 141319.0344583\ttotal: 22s\tremaining: 1m 6s\n",
      "748:\tlearn: 141136.8077968\ttotal: 22s\tremaining: 1m 6s\n",
      "749:\tlearn: 141084.3686856\ttotal: 22s\tremaining: 1m 6s\n",
      "750:\tlearn: 140897.7152553\ttotal: 22.1s\tremaining: 1m 6s\n",
      "751:\tlearn: 140843.5898501\ttotal: 22.1s\tremaining: 1m 6s\n",
      "752:\tlearn: 140757.6251658\ttotal: 22.1s\tremaining: 1m 5s\n",
      "753:\tlearn: 140695.0560219\ttotal: 22.1s\tremaining: 1m 5s\n",
      "754:\tlearn: 140634.6799344\ttotal: 22.2s\tremaining: 1m 5s\n",
      "755:\tlearn: 140497.3686607\ttotal: 22.2s\tremaining: 1m 5s\n",
      "756:\tlearn: 140448.9890994\ttotal: 22.2s\tremaining: 1m 5s\n",
      "757:\tlearn: 140380.0470263\ttotal: 22.3s\tremaining: 1m 5s\n",
      "758:\tlearn: 140289.8148544\ttotal: 22.3s\tremaining: 1m 5s\n",
      "759:\tlearn: 140201.2591934\ttotal: 22.3s\tremaining: 1m 5s\n",
      "760:\tlearn: 140160.6012057\ttotal: 22.3s\tremaining: 1m 5s\n",
      "761:\tlearn: 140116.4367952\ttotal: 22.4s\tremaining: 1m 5s\n",
      "762:\tlearn: 140054.5217144\ttotal: 22.4s\tremaining: 1m 5s\n",
      "763:\tlearn: 139931.2309917\ttotal: 22.4s\tremaining: 1m 5s\n",
      "764:\tlearn: 139867.7192861\ttotal: 22.5s\tremaining: 1m 5s\n",
      "765:\tlearn: 139799.0923195\ttotal: 22.5s\tremaining: 1m 5s\n",
      "766:\tlearn: 139732.7976784\ttotal: 22.5s\tremaining: 1m 5s\n",
      "767:\tlearn: 139637.3643078\ttotal: 22.5s\tremaining: 1m 5s\n",
      "768:\tlearn: 139585.4104577\ttotal: 22.6s\tremaining: 1m 5s\n",
      "769:\tlearn: 139565.2999145\ttotal: 22.6s\tremaining: 1m 5s\n",
      "770:\tlearn: 139390.6765481\ttotal: 22.6s\tremaining: 1m 5s\n",
      "771:\tlearn: 139297.6095585\ttotal: 22.7s\tremaining: 1m 5s\n",
      "772:\tlearn: 139242.0408890\ttotal: 22.7s\tremaining: 1m 5s\n",
      "773:\tlearn: 139183.7341539\ttotal: 22.7s\tremaining: 1m 5s\n",
      "774:\tlearn: 139134.4835195\ttotal: 22.8s\tremaining: 1m 5s\n",
      "775:\tlearn: 139058.0684957\ttotal: 22.8s\tremaining: 1m 5s\n",
      "776:\tlearn: 138997.7487463\ttotal: 22.8s\tremaining: 1m 5s\n",
      "777:\tlearn: 138940.6514747\ttotal: 22.8s\tremaining: 1m 5s\n",
      "778:\tlearn: 138919.4616817\ttotal: 22.9s\tremaining: 1m 5s\n",
      "779:\tlearn: 138846.0145604\ttotal: 22.9s\tremaining: 1m 5s\n",
      "780:\tlearn: 138803.4367382\ttotal: 22.9s\tremaining: 1m 5s\n",
      "781:\tlearn: 138763.6071623\ttotal: 23s\tremaining: 1m 5s\n",
      "782:\tlearn: 138707.7695305\ttotal: 23s\tremaining: 1m 5s\n",
      "783:\tlearn: 138638.6816013\ttotal: 23s\tremaining: 1m 5s\n",
      "784:\tlearn: 138566.0088448\ttotal: 23s\tremaining: 1m 4s\n",
      "785:\tlearn: 138512.7296612\ttotal: 23.1s\tremaining: 1m 4s\n",
      "786:\tlearn: 138479.5669010\ttotal: 23.1s\tremaining: 1m 4s\n",
      "787:\tlearn: 138407.9989547\ttotal: 23.1s\tremaining: 1m 4s\n",
      "788:\tlearn: 138346.4510409\ttotal: 23.1s\tremaining: 1m 4s\n",
      "789:\tlearn: 138293.7516675\ttotal: 23.2s\tremaining: 1m 4s\n",
      "790:\tlearn: 138235.6532495\ttotal: 23.2s\tremaining: 1m 4s\n",
      "791:\tlearn: 138135.8967515\ttotal: 23.2s\tremaining: 1m 4s\n",
      "792:\tlearn: 138089.9785184\ttotal: 23.3s\tremaining: 1m 4s\n",
      "793:\tlearn: 138067.2699138\ttotal: 23.3s\tremaining: 1m 4s\n",
      "794:\tlearn: 138016.6202533\ttotal: 23.3s\tremaining: 1m 4s\n",
      "795:\tlearn: 137983.8712798\ttotal: 23.3s\tremaining: 1m 4s\n",
      "796:\tlearn: 137944.6598927\ttotal: 23.4s\tremaining: 1m 4s\n",
      "797:\tlearn: 137767.2954469\ttotal: 23.4s\tremaining: 1m 4s\n",
      "798:\tlearn: 137716.9038963\ttotal: 23.4s\tremaining: 1m 4s\n",
      "799:\tlearn: 137636.6445948\ttotal: 23.5s\tremaining: 1m 4s\n",
      "800:\tlearn: 137565.9872121\ttotal: 23.5s\tremaining: 1m 4s\n",
      "801:\tlearn: 137541.3127290\ttotal: 23.5s\tremaining: 1m 4s\n",
      "802:\tlearn: 137446.3604052\ttotal: 23.5s\tremaining: 1m 4s\n",
      "803:\tlearn: 137392.9680097\ttotal: 23.6s\tremaining: 1m 4s\n",
      "804:\tlearn: 137323.6921987\ttotal: 23.6s\tremaining: 1m 4s\n",
      "805:\tlearn: 137214.0966542\ttotal: 23.6s\tremaining: 1m 4s\n",
      "806:\tlearn: 137177.6630478\ttotal: 23.7s\tremaining: 1m 4s\n",
      "807:\tlearn: 137141.3990788\ttotal: 23.7s\tremaining: 1m 4s\n",
      "808:\tlearn: 137105.9257473\ttotal: 23.7s\tremaining: 1m 4s\n",
      "809:\tlearn: 137082.9871955\ttotal: 23.7s\tremaining: 1m 4s\n",
      "810:\tlearn: 137001.2635784\ttotal: 23.8s\tremaining: 1m 4s\n",
      "811:\tlearn: 136989.7902490\ttotal: 23.8s\tremaining: 1m 4s\n",
      "812:\tlearn: 136922.6847008\ttotal: 23.8s\tremaining: 1m 4s\n",
      "813:\tlearn: 136879.1465127\ttotal: 23.9s\tremaining: 1m 4s\n",
      "814:\tlearn: 136847.6779322\ttotal: 23.9s\tremaining: 1m 4s\n",
      "815:\tlearn: 136775.0009615\ttotal: 23.9s\tremaining: 1m 4s\n",
      "816:\tlearn: 136728.2344449\ttotal: 23.9s\tremaining: 1m 3s\n",
      "817:\tlearn: 136648.4470355\ttotal: 24s\tremaining: 1m 3s\n",
      "818:\tlearn: 136565.7887532\ttotal: 24s\tremaining: 1m 3s\n",
      "819:\tlearn: 136453.7731282\ttotal: 24s\tremaining: 1m 3s\n",
      "820:\tlearn: 136414.8750410\ttotal: 24.1s\tremaining: 1m 3s\n",
      "821:\tlearn: 136367.4204477\ttotal: 24.1s\tremaining: 1m 3s\n",
      "822:\tlearn: 136311.0712061\ttotal: 24.1s\tremaining: 1m 3s\n",
      "823:\tlearn: 136275.9560732\ttotal: 24.1s\tremaining: 1m 3s\n",
      "824:\tlearn: 136199.4940707\ttotal: 24.2s\tremaining: 1m 3s\n",
      "825:\tlearn: 136154.3713188\ttotal: 24.2s\tremaining: 1m 3s\n",
      "826:\tlearn: 136067.3704737\ttotal: 24.2s\tremaining: 1m 3s\n",
      "827:\tlearn: 136054.9140686\ttotal: 24.2s\tremaining: 1m 3s\n",
      "828:\tlearn: 136010.1389888\ttotal: 24.3s\tremaining: 1m 3s\n",
      "829:\tlearn: 135889.8509479\ttotal: 24.3s\tremaining: 1m 3s\n",
      "830:\tlearn: 135840.5352411\ttotal: 24.3s\tremaining: 1m 3s\n",
      "831:\tlearn: 135789.1827651\ttotal: 24.4s\tremaining: 1m 3s\n",
      "832:\tlearn: 135661.3066411\ttotal: 24.4s\tremaining: 1m 3s\n",
      "833:\tlearn: 135593.4528632\ttotal: 24.4s\tremaining: 1m 3s\n",
      "834:\tlearn: 135549.8247553\ttotal: 24.5s\tremaining: 1m 3s\n",
      "835:\tlearn: 135484.4333337\ttotal: 24.5s\tremaining: 1m 3s\n",
      "836:\tlearn: 135353.6021454\ttotal: 24.5s\tremaining: 1m 3s\n",
      "837:\tlearn: 135294.2465650\ttotal: 24.5s\tremaining: 1m 3s\n",
      "838:\tlearn: 135244.2127982\ttotal: 24.6s\tremaining: 1m 3s\n",
      "839:\tlearn: 135167.7917480\ttotal: 24.6s\tremaining: 1m 3s\n",
      "840:\tlearn: 135130.5721153\ttotal: 24.6s\tremaining: 1m 3s\n",
      "841:\tlearn: 135015.7240097\ttotal: 24.7s\tremaining: 1m 3s\n",
      "842:\tlearn: 134933.2658808\ttotal: 24.7s\tremaining: 1m 3s\n",
      "843:\tlearn: 134881.0660586\ttotal: 24.7s\tremaining: 1m 3s\n",
      "844:\tlearn: 134771.4978960\ttotal: 24.7s\tremaining: 1m 3s\n",
      "845:\tlearn: 134703.4044907\ttotal: 24.8s\tremaining: 1m 3s\n",
      "846:\tlearn: 134689.4509755\ttotal: 24.8s\tremaining: 1m 3s\n",
      "847:\tlearn: 134631.5608104\ttotal: 24.8s\tremaining: 1m 3s\n",
      "848:\tlearn: 134548.4568337\ttotal: 24.9s\tremaining: 1m 2s\n",
      "849:\tlearn: 134484.4216432\ttotal: 24.9s\tremaining: 1m 2s\n",
      "850:\tlearn: 134421.9432661\ttotal: 24.9s\tremaining: 1m 2s\n",
      "851:\tlearn: 134375.8005521\ttotal: 24.9s\tremaining: 1m 2s\n",
      "852:\tlearn: 134293.3373701\ttotal: 25s\tremaining: 1m 2s\n",
      "853:\tlearn: 134219.2875826\ttotal: 25s\tremaining: 1m 2s\n",
      "854:\tlearn: 134177.3962857\ttotal: 25s\tremaining: 1m 2s\n",
      "855:\tlearn: 134159.5277163\ttotal: 25.1s\tremaining: 1m 2s\n",
      "856:\tlearn: 134144.8516573\ttotal: 25.1s\tremaining: 1m 2s\n",
      "857:\tlearn: 134092.7434190\ttotal: 25.1s\tremaining: 1m 2s\n",
      "858:\tlearn: 134055.2265714\ttotal: 25.1s\tremaining: 1m 2s\n",
      "859:\tlearn: 133990.1011290\ttotal: 25.2s\tremaining: 1m 2s\n",
      "860:\tlearn: 133928.5126207\ttotal: 25.2s\tremaining: 1m 2s\n",
      "861:\tlearn: 133874.2340697\ttotal: 25.2s\tremaining: 1m 2s\n",
      "862:\tlearn: 133859.2397054\ttotal: 25.3s\tremaining: 1m 2s\n",
      "863:\tlearn: 133850.8252310\ttotal: 25.3s\tremaining: 1m 2s\n",
      "864:\tlearn: 133831.1080559\ttotal: 25.3s\tremaining: 1m 2s\n",
      "865:\tlearn: 133720.5529190\ttotal: 25.3s\tremaining: 1m 2s\n",
      "866:\tlearn: 133682.5530872\ttotal: 25.4s\tremaining: 1m 2s\n",
      "867:\tlearn: 133641.7177710\ttotal: 25.4s\tremaining: 1m 2s\n",
      "868:\tlearn: 133623.6741779\ttotal: 25.4s\tremaining: 1m 2s\n",
      "869:\tlearn: 133578.6805946\ttotal: 25.5s\tremaining: 1m 2s\n",
      "870:\tlearn: 133428.7020899\ttotal: 25.5s\tremaining: 1m 2s\n",
      "871:\tlearn: 133312.3678108\ttotal: 25.5s\tremaining: 1m 2s\n",
      "872:\tlearn: 133305.0960629\ttotal: 25.5s\tremaining: 1m 2s\n",
      "873:\tlearn: 133234.4132826\ttotal: 25.6s\tremaining: 1m 2s\n",
      "874:\tlearn: 133166.1000927\ttotal: 25.6s\tremaining: 1m 2s\n",
      "875:\tlearn: 133084.7360132\ttotal: 25.6s\tremaining: 1m 2s\n",
      "876:\tlearn: 133018.5135019\ttotal: 25.7s\tremaining: 1m 2s\n",
      "877:\tlearn: 132990.5576143\ttotal: 25.7s\tremaining: 1m 2s\n",
      "878:\tlearn: 132947.8334418\ttotal: 25.7s\tremaining: 1m 2s\n",
      "879:\tlearn: 132867.5045044\ttotal: 25.8s\tremaining: 1m 2s\n"
     ]
    },
    {
     "name": "stdout",
     "output_type": "stream",
     "text": [
      "880:\tlearn: 132808.6492560\ttotal: 25.8s\tremaining: 1m 2s\n",
      "881:\tlearn: 132761.9052246\ttotal: 25.8s\tremaining: 1m 2s\n",
      "882:\tlearn: 132701.4310411\ttotal: 25.9s\tremaining: 1m 2s\n",
      "883:\tlearn: 132640.3790132\ttotal: 25.9s\tremaining: 1m 1s\n",
      "884:\tlearn: 132597.8698029\ttotal: 25.9s\tremaining: 1m 1s\n",
      "885:\tlearn: 132552.6812613\ttotal: 26s\tremaining: 1m 1s\n",
      "886:\tlearn: 132497.0688919\ttotal: 26s\tremaining: 1m 1s\n",
      "887:\tlearn: 132443.4088686\ttotal: 26s\tremaining: 1m 1s\n",
      "888:\tlearn: 132388.5100706\ttotal: 26s\tremaining: 1m 1s\n",
      "889:\tlearn: 132285.6445791\ttotal: 26.1s\tremaining: 1m 1s\n",
      "890:\tlearn: 132241.6432999\ttotal: 26.1s\tremaining: 1m 1s\n",
      "891:\tlearn: 132188.9312399\ttotal: 26.1s\tremaining: 1m 1s\n",
      "892:\tlearn: 132105.9672050\ttotal: 26.1s\tremaining: 1m 1s\n",
      "893:\tlearn: 132032.5581959\ttotal: 26.2s\tremaining: 1m 1s\n",
      "894:\tlearn: 131970.8060827\ttotal: 26.2s\tremaining: 1m 1s\n",
      "895:\tlearn: 131931.0211486\ttotal: 26.2s\tremaining: 1m 1s\n",
      "896:\tlearn: 131804.7373500\ttotal: 26.3s\tremaining: 1m 1s\n",
      "897:\tlearn: 131679.1730952\ttotal: 26.3s\tremaining: 1m 1s\n",
      "898:\tlearn: 131630.7562796\ttotal: 26.3s\tremaining: 1m 1s\n",
      "899:\tlearn: 131506.8070004\ttotal: 26.4s\tremaining: 1m 1s\n",
      "900:\tlearn: 131416.1558973\ttotal: 26.4s\tremaining: 1m 1s\n",
      "901:\tlearn: 131322.3659825\ttotal: 26.4s\tremaining: 1m 1s\n",
      "902:\tlearn: 131229.4702751\ttotal: 26.4s\tremaining: 1m 1s\n",
      "903:\tlearn: 131172.3199365\ttotal: 26.5s\tremaining: 1m 1s\n",
      "904:\tlearn: 131087.8914718\ttotal: 26.5s\tremaining: 1m 1s\n",
      "905:\tlearn: 131055.3027270\ttotal: 26.5s\tremaining: 1m 1s\n",
      "906:\tlearn: 130925.6144981\ttotal: 26.6s\tremaining: 1m 1s\n",
      "907:\tlearn: 130899.2754375\ttotal: 26.6s\tremaining: 1m 1s\n",
      "908:\tlearn: 130821.2002787\ttotal: 26.6s\tremaining: 1m 1s\n",
      "909:\tlearn: 130750.1594110\ttotal: 26.6s\tremaining: 1m 1s\n",
      "910:\tlearn: 130703.8822406\ttotal: 26.7s\tremaining: 1m 1s\n",
      "911:\tlearn: 130655.9722933\ttotal: 26.7s\tremaining: 1m 1s\n",
      "912:\tlearn: 130569.2223708\ttotal: 26.7s\tremaining: 1m 1s\n",
      "913:\tlearn: 130540.6665840\ttotal: 26.8s\tremaining: 1m 1s\n",
      "914:\tlearn: 130504.7054605\ttotal: 26.8s\tremaining: 1m 1s\n",
      "915:\tlearn: 130432.8199282\ttotal: 26.8s\tremaining: 1m 1s\n",
      "916:\tlearn: 130367.3220390\ttotal: 26.9s\tremaining: 1m 1s\n",
      "917:\tlearn: 130349.0461606\ttotal: 26.9s\tremaining: 1m\n",
      "918:\tlearn: 130288.9388829\ttotal: 26.9s\tremaining: 1m\n",
      "919:\tlearn: 130200.8756598\ttotal: 26.9s\tremaining: 1m\n",
      "920:\tlearn: 130148.0083564\ttotal: 27s\tremaining: 1m\n",
      "921:\tlearn: 130099.0059730\ttotal: 27s\tremaining: 1m\n",
      "922:\tlearn: 130029.2711407\ttotal: 27s\tremaining: 1m\n",
      "923:\tlearn: 129993.4565035\ttotal: 27s\tremaining: 1m\n",
      "924:\tlearn: 129930.7307244\ttotal: 27.1s\tremaining: 1m\n",
      "925:\tlearn: 129889.5402814\ttotal: 27.1s\tremaining: 1m\n",
      "926:\tlearn: 129833.0331803\ttotal: 27.1s\tremaining: 1m\n",
      "927:\tlearn: 129794.5899570\ttotal: 27.2s\tremaining: 1m\n",
      "928:\tlearn: 129719.9261594\ttotal: 27.2s\tremaining: 1m\n",
      "929:\tlearn: 129645.0838519\ttotal: 27.2s\tremaining: 1m\n",
      "930:\tlearn: 129593.7851741\ttotal: 27.2s\tremaining: 1m\n",
      "931:\tlearn: 129507.4476636\ttotal: 27.3s\tremaining: 1m\n",
      "932:\tlearn: 129451.7750001\ttotal: 27.3s\tremaining: 1m\n",
      "933:\tlearn: 129391.8690388\ttotal: 27.3s\tremaining: 1m\n",
      "934:\tlearn: 129374.5185725\ttotal: 27.4s\tremaining: 1m\n",
      "935:\tlearn: 129318.1911101\ttotal: 27.4s\tremaining: 1m\n",
      "936:\tlearn: 129278.6775787\ttotal: 27.4s\tremaining: 1m\n",
      "937:\tlearn: 129214.3342013\ttotal: 27.4s\tremaining: 1m\n",
      "938:\tlearn: 129147.2892571\ttotal: 27.5s\tremaining: 1m\n",
      "939:\tlearn: 129086.1698348\ttotal: 27.5s\tremaining: 1m\n",
      "940:\tlearn: 129048.2610240\ttotal: 27.5s\tremaining: 1m\n",
      "941:\tlearn: 128953.1450747\ttotal: 27.6s\tremaining: 1m\n",
      "942:\tlearn: 128832.3475300\ttotal: 27.6s\tremaining: 1m\n",
      "943:\tlearn: 128814.9846996\ttotal: 27.6s\tremaining: 1m\n",
      "944:\tlearn: 128757.7909668\ttotal: 27.7s\tremaining: 1m\n",
      "945:\tlearn: 128721.0288882\ttotal: 27.7s\tremaining: 1m\n",
      "946:\tlearn: 128662.4791666\ttotal: 27.7s\tremaining: 1m\n",
      "947:\tlearn: 128633.9735943\ttotal: 27.7s\tremaining: 1m\n",
      "948:\tlearn: 128556.3723597\ttotal: 27.8s\tremaining: 1m\n",
      "949:\tlearn: 128524.2813071\ttotal: 27.8s\tremaining: 60s\n",
      "950:\tlearn: 128437.0531743\ttotal: 27.8s\tremaining: 60s\n",
      "951:\tlearn: 128419.4544929\ttotal: 27.9s\tremaining: 59.9s\n",
      "952:\tlearn: 128371.8914149\ttotal: 27.9s\tremaining: 59.9s\n",
      "953:\tlearn: 128324.7883128\ttotal: 27.9s\tremaining: 59.9s\n",
      "954:\tlearn: 128237.9397042\ttotal: 27.9s\tremaining: 59.8s\n",
      "955:\tlearn: 128194.4050524\ttotal: 28s\tremaining: 59.8s\n",
      "956:\tlearn: 128154.2451156\ttotal: 28s\tremaining: 59.7s\n",
      "957:\tlearn: 128116.9452358\ttotal: 28s\tremaining: 59.7s\n",
      "958:\tlearn: 128072.8169071\ttotal: 28s\tremaining: 59.7s\n",
      "959:\tlearn: 128008.4059980\ttotal: 28.1s\tremaining: 59.6s\n",
      "960:\tlearn: 127962.3134425\ttotal: 28.1s\tremaining: 59.6s\n",
      "961:\tlearn: 127924.3940615\ttotal: 28.1s\tremaining: 59.6s\n",
      "962:\tlearn: 127863.5042313\ttotal: 28.2s\tremaining: 59.6s\n",
      "963:\tlearn: 127855.2907099\ttotal: 28.2s\tremaining: 59.5s\n",
      "964:\tlearn: 127807.9183110\ttotal: 28.2s\tremaining: 59.5s\n",
      "965:\tlearn: 127766.9975454\ttotal: 28.2s\tremaining: 59.5s\n",
      "966:\tlearn: 127700.6904762\ttotal: 28.3s\tremaining: 59.4s\n",
      "967:\tlearn: 127661.5716515\ttotal: 28.3s\tremaining: 59.4s\n",
      "968:\tlearn: 127569.1067317\ttotal: 28.3s\tremaining: 59.4s\n",
      "969:\tlearn: 127534.2904492\ttotal: 28.4s\tremaining: 59.4s\n",
      "970:\tlearn: 127497.2878644\ttotal: 28.4s\tremaining: 59.3s\n",
      "971:\tlearn: 127449.5479383\ttotal: 28.4s\tremaining: 59.3s\n",
      "972:\tlearn: 127361.6474646\ttotal: 28.4s\tremaining: 59.3s\n",
      "973:\tlearn: 127338.2496347\ttotal: 28.5s\tremaining: 59.2s\n",
      "974:\tlearn: 127181.2429683\ttotal: 28.5s\tremaining: 59.2s\n",
      "975:\tlearn: 127128.1260514\ttotal: 28.5s\tremaining: 59.2s\n",
      "976:\tlearn: 127090.8236466\ttotal: 28.6s\tremaining: 59.1s\n",
      "977:\tlearn: 127025.0262189\ttotal: 28.6s\tremaining: 59.1s\n",
      "978:\tlearn: 126954.2549569\ttotal: 28.6s\tremaining: 59.1s\n",
      "979:\tlearn: 126904.8414942\ttotal: 28.7s\tremaining: 59.1s\n",
      "980:\tlearn: 126861.6025515\ttotal: 28.7s\tremaining: 59s\n",
      "981:\tlearn: 126818.2697045\ttotal: 28.7s\tremaining: 59s\n",
      "982:\tlearn: 126755.3038147\ttotal: 28.7s\tremaining: 59s\n",
      "983:\tlearn: 126717.0060639\ttotal: 28.8s\tremaining: 58.9s\n",
      "984:\tlearn: 126667.1973829\ttotal: 28.8s\tremaining: 58.9s\n",
      "985:\tlearn: 126605.1124600\ttotal: 28.8s\tremaining: 58.9s\n",
      "986:\tlearn: 126532.8734900\ttotal: 28.9s\tremaining: 58.8s\n",
      "987:\tlearn: 126492.3119969\ttotal: 28.9s\tremaining: 58.8s\n",
      "988:\tlearn: 126367.3173812\ttotal: 28.9s\tremaining: 58.8s\n",
      "989:\tlearn: 126318.9349717\ttotal: 28.9s\tremaining: 58.7s\n",
      "990:\tlearn: 126242.8462216\ttotal: 29s\tremaining: 58.7s\n",
      "991:\tlearn: 126180.1424397\ttotal: 29s\tremaining: 58.7s\n",
      "992:\tlearn: 126150.6000219\ttotal: 29s\tremaining: 58.6s\n",
      "993:\tlearn: 126094.9505406\ttotal: 29s\tremaining: 58.6s\n",
      "994:\tlearn: 126005.4928707\ttotal: 29.1s\tremaining: 58.6s\n",
      "995:\tlearn: 125950.6827771\ttotal: 29.1s\tremaining: 58.5s\n",
      "996:\tlearn: 125869.9148212\ttotal: 29.1s\tremaining: 58.5s\n",
      "997:\tlearn: 125819.1149624\ttotal: 29.2s\tremaining: 58.5s\n",
      "998:\tlearn: 125755.5766708\ttotal: 29.2s\tremaining: 58.5s\n",
      "999:\tlearn: 125704.8955860\ttotal: 29.2s\tremaining: 58.4s\n",
      "1000:\tlearn: 125628.5295723\ttotal: 29.2s\tremaining: 58.4s\n",
      "1001:\tlearn: 125564.6901264\ttotal: 29.3s\tremaining: 58.4s\n",
      "1002:\tlearn: 125494.4723367\ttotal: 29.3s\tremaining: 58.3s\n",
      "1003:\tlearn: 125457.5490471\ttotal: 29.3s\tremaining: 58.3s\n",
      "1004:\tlearn: 125407.0289973\ttotal: 29.4s\tremaining: 58.3s\n",
      "1005:\tlearn: 125282.2040857\ttotal: 29.4s\tremaining: 58.2s\n",
      "1006:\tlearn: 125231.0552764\ttotal: 29.4s\tremaining: 58.2s\n",
      "1007:\tlearn: 125206.7221448\ttotal: 29.4s\tremaining: 58.2s\n",
      "1008:\tlearn: 125157.6890825\ttotal: 29.5s\tremaining: 58.2s\n",
      "1009:\tlearn: 125089.9149767\ttotal: 29.5s\tremaining: 58.1s\n",
      "1010:\tlearn: 125045.4356902\ttotal: 29.5s\tremaining: 58.1s\n",
      "1011:\tlearn: 125016.2609187\ttotal: 29.6s\tremaining: 58.1s\n",
      "1012:\tlearn: 124904.5788430\ttotal: 29.6s\tremaining: 58s\n",
      "1013:\tlearn: 124837.4891709\ttotal: 29.6s\tremaining: 58s\n",
      "1014:\tlearn: 124806.2735038\ttotal: 29.7s\tremaining: 58s\n",
      "1015:\tlearn: 124762.2014303\ttotal: 29.7s\tremaining: 58s\n",
      "1016:\tlearn: 124683.7124261\ttotal: 29.7s\tremaining: 57.9s\n",
      "1017:\tlearn: 124648.2867067\ttotal: 29.7s\tremaining: 57.9s\n",
      "1018:\tlearn: 124605.6919901\ttotal: 29.8s\tremaining: 57.9s\n",
      "1019:\tlearn: 124545.1356827\ttotal: 29.8s\tremaining: 57.8s\n",
      "1020:\tlearn: 124515.1463529\ttotal: 29.8s\tremaining: 57.8s\n",
      "1021:\tlearn: 124453.7623333\ttotal: 29.9s\tremaining: 57.8s\n",
      "1022:\tlearn: 124396.8605237\ttotal: 29.9s\tremaining: 57.8s\n",
      "1023:\tlearn: 124338.1158898\ttotal: 29.9s\tremaining: 57.7s\n",
      "1024:\tlearn: 124277.1421694\ttotal: 29.9s\tremaining: 57.7s\n",
      "1025:\tlearn: 124111.5869529\ttotal: 30s\tremaining: 57.7s\n"
     ]
    },
    {
     "name": "stdout",
     "output_type": "stream",
     "text": [
      "1026:\tlearn: 124048.3414299\ttotal: 30s\tremaining: 57.6s\n",
      "1027:\tlearn: 123981.9849074\ttotal: 30s\tremaining: 57.6s\n",
      "1028:\tlearn: 123902.4341551\ttotal: 30.1s\tremaining: 57.6s\n",
      "1029:\tlearn: 123854.5004339\ttotal: 30.1s\tremaining: 57.5s\n",
      "1030:\tlearn: 123776.4989667\ttotal: 30.1s\tremaining: 57.5s\n",
      "1031:\tlearn: 123737.2859052\ttotal: 30.1s\tremaining: 57.5s\n",
      "1032:\tlearn: 123658.4478983\ttotal: 30.2s\tremaining: 57.5s\n",
      "1033:\tlearn: 123572.8159072\ttotal: 30.2s\tremaining: 57.4s\n",
      "1034:\tlearn: 123528.6423415\ttotal: 30.2s\tremaining: 57.4s\n",
      "1035:\tlearn: 123493.2944834\ttotal: 30.3s\tremaining: 57.4s\n",
      "1036:\tlearn: 123425.5597826\ttotal: 30.3s\tremaining: 57.4s\n",
      "1037:\tlearn: 123363.7008117\ttotal: 30.3s\tremaining: 57.3s\n",
      "1038:\tlearn: 123323.8640689\ttotal: 30.4s\tremaining: 57.3s\n",
      "1039:\tlearn: 123271.3435783\ttotal: 30.4s\tremaining: 57.3s\n",
      "1040:\tlearn: 123232.2371767\ttotal: 30.4s\tremaining: 57.2s\n",
      "1041:\tlearn: 123205.1343264\ttotal: 30.5s\tremaining: 57.2s\n",
      "1042:\tlearn: 123159.7881560\ttotal: 30.5s\tremaining: 57.2s\n",
      "1043:\tlearn: 123101.7573830\ttotal: 30.5s\tremaining: 57.2s\n",
      "1044:\tlearn: 123068.4518134\ttotal: 30.5s\tremaining: 57.1s\n",
      "1045:\tlearn: 123037.3857027\ttotal: 30.6s\tremaining: 57.1s\n",
      "1046:\tlearn: 122976.3091295\ttotal: 30.6s\tremaining: 57.1s\n",
      "1047:\tlearn: 122932.0199565\ttotal: 30.6s\tremaining: 57.1s\n",
      "1048:\tlearn: 122885.1982576\ttotal: 30.7s\tremaining: 57s\n",
      "1049:\tlearn: 122835.9696890\ttotal: 30.7s\tremaining: 57s\n",
      "1050:\tlearn: 122790.4440048\ttotal: 30.7s\tremaining: 57s\n",
      "1051:\tlearn: 122747.5791205\ttotal: 30.8s\tremaining: 56.9s\n",
      "1052:\tlearn: 122660.3176304\ttotal: 30.8s\tremaining: 56.9s\n",
      "1053:\tlearn: 122596.4494036\ttotal: 30.8s\tremaining: 56.9s\n",
      "1054:\tlearn: 122514.5563345\ttotal: 30.8s\tremaining: 56.9s\n",
      "1055:\tlearn: 122481.7177712\ttotal: 30.9s\tremaining: 56.8s\n",
      "1056:\tlearn: 122387.8544733\ttotal: 30.9s\tremaining: 56.8s\n",
      "1057:\tlearn: 122363.0994885\ttotal: 30.9s\tremaining: 56.8s\n",
      "1058:\tlearn: 122349.3934724\ttotal: 31s\tremaining: 56.7s\n",
      "1059:\tlearn: 122302.1618032\ttotal: 31s\tremaining: 56.7s\n",
      "1060:\tlearn: 122247.4195379\ttotal: 31s\tremaining: 56.7s\n",
      "1061:\tlearn: 122141.4929430\ttotal: 31s\tremaining: 56.6s\n",
      "1062:\tlearn: 122075.5277396\ttotal: 31.1s\tremaining: 56.6s\n",
      "1063:\tlearn: 122020.3032686\ttotal: 31.1s\tremaining: 56.6s\n",
      "1064:\tlearn: 121979.1628880\ttotal: 31.1s\tremaining: 56.6s\n",
      "1065:\tlearn: 121945.4168204\ttotal: 31.2s\tremaining: 56.5s\n",
      "1066:\tlearn: 121914.3611924\ttotal: 31.2s\tremaining: 56.5s\n",
      "1067:\tlearn: 121878.7813114\ttotal: 31.2s\tremaining: 56.5s\n",
      "1068:\tlearn: 121801.0047970\ttotal: 31.3s\tremaining: 56.5s\n",
      "1069:\tlearn: 121704.7609173\ttotal: 31.3s\tremaining: 56.4s\n",
      "1070:\tlearn: 121682.0468838\ttotal: 31.3s\tremaining: 56.4s\n",
      "1071:\tlearn: 121659.8946499\ttotal: 31.3s\tremaining: 56.4s\n",
      "1072:\tlearn: 121604.8194176\ttotal: 31.4s\tremaining: 56.4s\n",
      "1073:\tlearn: 121549.1872675\ttotal: 31.4s\tremaining: 56.3s\n",
      "1074:\tlearn: 121522.7148955\ttotal: 31.4s\tremaining: 56.3s\n",
      "1075:\tlearn: 121477.8194040\ttotal: 31.5s\tremaining: 56.3s\n",
      "1076:\tlearn: 121433.9215838\ttotal: 31.5s\tremaining: 56.2s\n",
      "1077:\tlearn: 121402.5259690\ttotal: 31.5s\tremaining: 56.2s\n",
      "1078:\tlearn: 121370.1884682\ttotal: 31.6s\tremaining: 56.2s\n",
      "1079:\tlearn: 121285.9301097\ttotal: 31.6s\tremaining: 56.2s\n",
      "1080:\tlearn: 121218.2640034\ttotal: 31.6s\tremaining: 56.2s\n",
      "1081:\tlearn: 121158.8349412\ttotal: 31.7s\tremaining: 56.1s\n",
      "1082:\tlearn: 121109.9890056\ttotal: 31.7s\tremaining: 56.1s\n",
      "1083:\tlearn: 121055.4913643\ttotal: 31.7s\tremaining: 56.1s\n",
      "1084:\tlearn: 121030.8468307\ttotal: 31.8s\tremaining: 56s\n",
      "1085:\tlearn: 120978.1526479\ttotal: 31.8s\tremaining: 56s\n",
      "1086:\tlearn: 120935.0650646\ttotal: 31.8s\tremaining: 56s\n",
      "1087:\tlearn: 120874.7222904\ttotal: 31.8s\tremaining: 55.9s\n",
      "1088:\tlearn: 120848.6012166\ttotal: 31.9s\tremaining: 55.9s\n",
      "1089:\tlearn: 120816.0417046\ttotal: 31.9s\tremaining: 55.9s\n",
      "1090:\tlearn: 120756.6525428\ttotal: 31.9s\tremaining: 55.8s\n",
      "1091:\tlearn: 120699.7949973\ttotal: 31.9s\tremaining: 55.8s\n",
      "1092:\tlearn: 120623.9273191\ttotal: 32s\tremaining: 55.8s\n",
      "1093:\tlearn: 120560.3613859\ttotal: 32s\tremaining: 55.8s\n",
      "1094:\tlearn: 120481.8116781\ttotal: 32s\tremaining: 55.7s\n",
      "1095:\tlearn: 120443.6975493\ttotal: 32.1s\tremaining: 55.7s\n",
      "1096:\tlearn: 120379.1635235\ttotal: 32.1s\tremaining: 55.7s\n",
      "1097:\tlearn: 120348.1463389\ttotal: 32.1s\tremaining: 55.6s\n",
      "1098:\tlearn: 120324.9737531\ttotal: 32.2s\tremaining: 55.6s\n",
      "1099:\tlearn: 120247.8472931\ttotal: 32.2s\tremaining: 55.6s\n",
      "1100:\tlearn: 120177.0103612\ttotal: 32.2s\tremaining: 55.6s\n",
      "1101:\tlearn: 120135.7735371\ttotal: 32.3s\tremaining: 55.6s\n",
      "1102:\tlearn: 120102.9948060\ttotal: 32.3s\tremaining: 55.5s\n",
      "1103:\tlearn: 120051.5801757\ttotal: 32.3s\tremaining: 55.5s\n",
      "1104:\tlearn: 120016.0658933\ttotal: 32.4s\tremaining: 55.5s\n",
      "1105:\tlearn: 119959.3317344\ttotal: 32.4s\tremaining: 55.5s\n",
      "1106:\tlearn: 119908.3356782\ttotal: 32.4s\tremaining: 55.4s\n",
      "1107:\tlearn: 119859.4535563\ttotal: 32.5s\tremaining: 55.4s\n",
      "1108:\tlearn: 119798.2693747\ttotal: 32.5s\tremaining: 55.4s\n",
      "1109:\tlearn: 119759.2242154\ttotal: 32.5s\tremaining: 55.4s\n",
      "1110:\tlearn: 119690.5390797\ttotal: 32.5s\tremaining: 55.3s\n",
      "1111:\tlearn: 119667.0862463\ttotal: 32.6s\tremaining: 55.3s\n",
      "1112:\tlearn: 119601.1073753\ttotal: 32.6s\tremaining: 55.3s\n",
      "1113:\tlearn: 119567.2387182\ttotal: 32.6s\tremaining: 55.2s\n",
      "1114:\tlearn: 119532.5744903\ttotal: 32.7s\tremaining: 55.2s\n",
      "1115:\tlearn: 119493.2846566\ttotal: 32.7s\tremaining: 55.2s\n",
      "1116:\tlearn: 119439.0898573\ttotal: 32.7s\tremaining: 55.2s\n",
      "1117:\tlearn: 119399.8708132\ttotal: 32.7s\tremaining: 55.1s\n",
      "1118:\tlearn: 119347.2989373\ttotal: 32.8s\tremaining: 55.1s\n",
      "1119:\tlearn: 119316.9887887\ttotal: 32.8s\tremaining: 55.1s\n",
      "1120:\tlearn: 119240.1197109\ttotal: 32.8s\tremaining: 55s\n",
      "1121:\tlearn: 119192.3588390\ttotal: 32.9s\tremaining: 55s\n",
      "1122:\tlearn: 119111.8672430\ttotal: 32.9s\tremaining: 55s\n",
      "1123:\tlearn: 119081.7162582\ttotal: 32.9s\tremaining: 54.9s\n",
      "1124:\tlearn: 119050.8281139\ttotal: 32.9s\tremaining: 54.9s\n",
      "1125:\tlearn: 118996.0622334\ttotal: 33s\tremaining: 54.9s\n",
      "1126:\tlearn: 118930.6588093\ttotal: 33s\tremaining: 54.8s\n",
      "1127:\tlearn: 118909.3992165\ttotal: 33s\tremaining: 54.8s\n",
      "1128:\tlearn: 118874.2921541\ttotal: 33s\tremaining: 54.8s\n",
      "1129:\tlearn: 118824.7525570\ttotal: 33.1s\tremaining: 54.7s\n",
      "1130:\tlearn: 118746.5543557\ttotal: 33.1s\tremaining: 54.7s\n",
      "1131:\tlearn: 118689.5915745\ttotal: 33.1s\tremaining: 54.7s\n",
      "1132:\tlearn: 118644.7824574\ttotal: 33.2s\tremaining: 54.7s\n",
      "1133:\tlearn: 118629.9231720\ttotal: 33.2s\tremaining: 54.6s\n",
      "1134:\tlearn: 118583.2804926\ttotal: 33.2s\tremaining: 54.6s\n",
      "1135:\tlearn: 118542.1830130\ttotal: 33.3s\tremaining: 54.6s\n",
      "1136:\tlearn: 118486.7462113\ttotal: 33.3s\tremaining: 54.5s\n",
      "1137:\tlearn: 118455.3749893\ttotal: 33.3s\tremaining: 54.5s\n",
      "1138:\tlearn: 118435.4002381\ttotal: 33.3s\tremaining: 54.5s\n",
      "1139:\tlearn: 118390.1915604\ttotal: 33.4s\tremaining: 54.5s\n",
      "1140:\tlearn: 118343.5451064\ttotal: 33.4s\tremaining: 54.4s\n",
      "1141:\tlearn: 118325.0393945\ttotal: 33.4s\tremaining: 54.4s\n",
      "1142:\tlearn: 118262.0099484\ttotal: 33.5s\tremaining: 54.4s\n",
      "1143:\tlearn: 118250.4686108\ttotal: 33.5s\tremaining: 54.3s\n",
      "1144:\tlearn: 118185.6118836\ttotal: 33.5s\tremaining: 54.3s\n",
      "1145:\tlearn: 118137.8967474\ttotal: 33.5s\tremaining: 54.3s\n",
      "1146:\tlearn: 118089.2291106\ttotal: 33.6s\tremaining: 54.3s\n",
      "1147:\tlearn: 118058.6596837\ttotal: 33.6s\tremaining: 54.2s\n",
      "1148:\tlearn: 117981.4602806\ttotal: 33.6s\tremaining: 54.2s\n",
      "1149:\tlearn: 117949.1532302\ttotal: 33.7s\tremaining: 54.2s\n",
      "1150:\tlearn: 117929.8268482\ttotal: 33.7s\tremaining: 54.1s\n",
      "1151:\tlearn: 117896.7017503\ttotal: 33.7s\tremaining: 54.1s\n",
      "1152:\tlearn: 117787.6501365\ttotal: 33.8s\tremaining: 54.1s\n",
      "1153:\tlearn: 117709.9511027\ttotal: 33.8s\tremaining: 54s\n",
      "1154:\tlearn: 117656.1461486\ttotal: 33.8s\tremaining: 54s\n",
      "1155:\tlearn: 117612.0678227\ttotal: 33.8s\tremaining: 54s\n",
      "1156:\tlearn: 117562.6031436\ttotal: 33.9s\tremaining: 53.9s\n",
      "1157:\tlearn: 117517.6480141\ttotal: 33.9s\tremaining: 53.9s\n",
      "1158:\tlearn: 117486.5158224\ttotal: 33.9s\tremaining: 53.9s\n",
      "1159:\tlearn: 117445.8896269\ttotal: 33.9s\tremaining: 53.8s\n",
      "1160:\tlearn: 117398.3714934\ttotal: 34s\tremaining: 53.8s\n",
      "1161:\tlearn: 117347.7986907\ttotal: 34s\tremaining: 53.8s\n",
      "1162:\tlearn: 117312.0126960\ttotal: 34s\tremaining: 53.7s\n",
      "1163:\tlearn: 117240.5213540\ttotal: 34.1s\tremaining: 53.7s\n",
      "1164:\tlearn: 117220.4035952\ttotal: 34.1s\tremaining: 53.7s\n",
      "1165:\tlearn: 117179.6676958\ttotal: 34.1s\tremaining: 53.7s\n",
      "1166:\tlearn: 117123.1254408\ttotal: 34.1s\tremaining: 53.6s\n",
      "1167:\tlearn: 117048.6961162\ttotal: 34.2s\tremaining: 53.6s\n",
      "1168:\tlearn: 116994.6666517\ttotal: 34.2s\tremaining: 53.6s\n"
     ]
    },
    {
     "name": "stdout",
     "output_type": "stream",
     "text": [
      "1169:\tlearn: 116943.0328177\ttotal: 34.2s\tremaining: 53.6s\n",
      "1170:\tlearn: 116879.5921622\ttotal: 34.3s\tremaining: 53.5s\n",
      "1171:\tlearn: 116841.4900537\ttotal: 34.3s\tremaining: 53.5s\n",
      "1172:\tlearn: 116801.9579107\ttotal: 34.3s\tremaining: 53.5s\n",
      "1173:\tlearn: 116719.0514797\ttotal: 34.4s\tremaining: 53.4s\n",
      "1174:\tlearn: 116685.1052634\ttotal: 34.4s\tremaining: 53.4s\n",
      "1175:\tlearn: 116618.1251297\ttotal: 34.4s\tremaining: 53.4s\n",
      "1176:\tlearn: 116547.7564602\ttotal: 34.4s\tremaining: 53.3s\n",
      "1177:\tlearn: 116492.9361497\ttotal: 34.5s\tremaining: 53.3s\n",
      "1178:\tlearn: 116436.8264696\ttotal: 34.5s\tremaining: 53.3s\n",
      "1179:\tlearn: 116358.2695084\ttotal: 34.5s\tremaining: 53.3s\n",
      "1180:\tlearn: 116330.8001690\ttotal: 34.6s\tremaining: 53.2s\n",
      "1181:\tlearn: 116296.3230251\ttotal: 34.6s\tremaining: 53.2s\n",
      "1182:\tlearn: 116263.4072540\ttotal: 34.6s\tremaining: 53.2s\n",
      "1183:\tlearn: 116200.8281601\ttotal: 34.6s\tremaining: 53.1s\n",
      "1184:\tlearn: 116189.0947800\ttotal: 34.7s\tremaining: 53.1s\n",
      "1185:\tlearn: 116172.3856288\ttotal: 34.7s\tremaining: 53.1s\n",
      "1186:\tlearn: 116125.4624261\ttotal: 34.7s\tremaining: 53.1s\n",
      "1187:\tlearn: 116100.3426156\ttotal: 34.8s\tremaining: 53s\n",
      "1188:\tlearn: 115965.8309421\ttotal: 34.8s\tremaining: 53s\n",
      "1189:\tlearn: 115932.1984516\ttotal: 34.8s\tremaining: 53s\n",
      "1190:\tlearn: 115876.5621933\ttotal: 34.8s\tremaining: 52.9s\n",
      "1191:\tlearn: 115841.4216772\ttotal: 34.9s\tremaining: 52.9s\n",
      "1192:\tlearn: 115795.0401079\ttotal: 34.9s\tremaining: 52.9s\n",
      "1193:\tlearn: 115715.0350952\ttotal: 34.9s\tremaining: 52.8s\n",
      "1194:\tlearn: 115691.4069831\ttotal: 35s\tremaining: 52.8s\n",
      "1195:\tlearn: 115639.0205552\ttotal: 35s\tremaining: 52.8s\n",
      "1196:\tlearn: 115604.0124421\ttotal: 35s\tremaining: 52.7s\n",
      "1197:\tlearn: 115563.7018351\ttotal: 35s\tremaining: 52.7s\n",
      "1198:\tlearn: 115504.3294230\ttotal: 35.1s\tremaining: 52.7s\n",
      "1199:\tlearn: 115485.2221280\ttotal: 35.1s\tremaining: 52.6s\n",
      "1200:\tlearn: 115442.8309052\ttotal: 35.1s\tremaining: 52.6s\n",
      "1201:\tlearn: 115404.7395115\ttotal: 35.1s\tremaining: 52.6s\n",
      "1202:\tlearn: 115345.8385290\ttotal: 35.2s\tremaining: 52.5s\n",
      "1203:\tlearn: 115302.5822598\ttotal: 35.2s\tremaining: 52.5s\n",
      "1204:\tlearn: 115237.3615196\ttotal: 35.2s\tremaining: 52.5s\n",
      "1205:\tlearn: 115158.3739096\ttotal: 35.3s\tremaining: 52.5s\n",
      "1206:\tlearn: 115106.3222531\ttotal: 35.3s\tremaining: 52.4s\n",
      "1207:\tlearn: 115084.9678940\ttotal: 35.3s\tremaining: 52.4s\n",
      "1208:\tlearn: 115050.7515529\ttotal: 35.3s\tremaining: 52.4s\n",
      "1209:\tlearn: 114994.0542241\ttotal: 35.4s\tremaining: 52.3s\n",
      "1210:\tlearn: 114914.0152396\ttotal: 35.4s\tremaining: 52.3s\n",
      "1211:\tlearn: 114855.5823172\ttotal: 35.4s\tremaining: 52.3s\n",
      "1212:\tlearn: 114780.8306543\ttotal: 35.5s\tremaining: 52.2s\n",
      "1213:\tlearn: 114743.7552231\ttotal: 35.5s\tremaining: 52.2s\n",
      "1214:\tlearn: 114731.7462793\ttotal: 35.5s\tremaining: 52.2s\n",
      "1215:\tlearn: 114691.7902733\ttotal: 35.6s\tremaining: 52.2s\n",
      "1216:\tlearn: 114652.7970635\ttotal: 35.6s\tremaining: 52.1s\n",
      "1217:\tlearn: 114589.0339631\ttotal: 35.6s\tremaining: 52.1s\n",
      "1218:\tlearn: 114550.8772942\ttotal: 35.6s\tremaining: 52.1s\n",
      "1219:\tlearn: 114515.1977758\ttotal: 35.7s\tremaining: 52.1s\n",
      "1220:\tlearn: 114470.2204571\ttotal: 35.7s\tremaining: 52s\n",
      "1221:\tlearn: 114449.2790199\ttotal: 35.7s\tremaining: 52s\n",
      "1222:\tlearn: 114421.8720668\ttotal: 35.8s\tremaining: 52s\n",
      "1223:\tlearn: 114378.5759996\ttotal: 35.8s\tremaining: 51.9s\n",
      "1224:\tlearn: 114287.6955502\ttotal: 35.8s\tremaining: 51.9s\n",
      "1225:\tlearn: 114240.3823723\ttotal: 35.8s\tremaining: 51.9s\n",
      "1226:\tlearn: 114192.9611567\ttotal: 35.9s\tremaining: 51.8s\n",
      "1227:\tlearn: 114163.9590919\ttotal: 35.9s\tremaining: 51.8s\n",
      "1228:\tlearn: 114131.1251368\ttotal: 35.9s\tremaining: 51.8s\n",
      "1229:\tlearn: 114102.2051515\ttotal: 36s\tremaining: 51.7s\n",
      "1230:\tlearn: 114030.5784763\ttotal: 36s\tremaining: 51.7s\n",
      "1231:\tlearn: 113996.0631863\ttotal: 36s\tremaining: 51.7s\n",
      "1232:\tlearn: 113954.6857965\ttotal: 36s\tremaining: 51.6s\n",
      "1233:\tlearn: 113919.1367240\ttotal: 36.1s\tremaining: 51.6s\n",
      "1234:\tlearn: 113866.8878144\ttotal: 36.1s\tremaining: 51.6s\n",
      "1235:\tlearn: 113817.8377932\ttotal: 36.1s\tremaining: 51.6s\n",
      "1236:\tlearn: 113786.4153596\ttotal: 36.1s\tremaining: 51.5s\n",
      "1237:\tlearn: 113745.1888272\ttotal: 36.2s\tremaining: 51.5s\n",
      "1238:\tlearn: 113712.7909613\ttotal: 36.2s\tremaining: 51.5s\n",
      "1239:\tlearn: 113625.2538500\ttotal: 36.2s\tremaining: 51.4s\n",
      "1240:\tlearn: 113597.3523154\ttotal: 36.3s\tremaining: 51.4s\n",
      "1241:\tlearn: 113556.8142568\ttotal: 36.3s\tremaining: 51.4s\n",
      "1242:\tlearn: 113513.4666859\ttotal: 36.3s\tremaining: 51.3s\n",
      "1243:\tlearn: 113478.0174367\ttotal: 36.4s\tremaining: 51.3s\n",
      "1244:\tlearn: 113431.2238853\ttotal: 36.4s\tremaining: 51.3s\n",
      "1245:\tlearn: 113405.5115620\ttotal: 36.4s\tremaining: 51.3s\n",
      "1246:\tlearn: 113386.1356467\ttotal: 36.4s\tremaining: 51.2s\n",
      "1247:\tlearn: 113358.7473301\ttotal: 36.5s\tremaining: 51.2s\n",
      "1248:\tlearn: 113324.1483869\ttotal: 36.5s\tremaining: 51.2s\n",
      "1249:\tlearn: 113302.2401676\ttotal: 36.5s\tremaining: 51.1s\n",
      "1250:\tlearn: 113260.7124292\ttotal: 36.6s\tremaining: 51.1s\n",
      "1251:\tlearn: 113233.9050183\ttotal: 36.6s\tremaining: 51.1s\n",
      "1252:\tlearn: 113202.9428307\ttotal: 36.6s\tremaining: 51.1s\n",
      "1253:\tlearn: 113163.2146940\ttotal: 36.6s\tremaining: 51s\n",
      "1254:\tlearn: 113148.5726320\ttotal: 36.7s\tremaining: 51s\n",
      "1255:\tlearn: 113103.1294211\ttotal: 36.7s\tremaining: 51s\n",
      "1256:\tlearn: 113066.0725488\ttotal: 36.7s\tremaining: 50.9s\n",
      "1257:\tlearn: 113052.5481319\ttotal: 36.8s\tremaining: 50.9s\n",
      "1258:\tlearn: 112997.1015516\ttotal: 36.8s\tremaining: 50.9s\n",
      "1259:\tlearn: 112968.3115350\ttotal: 36.8s\tremaining: 50.8s\n",
      "1260:\tlearn: 112909.1217654\ttotal: 36.8s\tremaining: 50.8s\n",
      "1261:\tlearn: 112853.0401479\ttotal: 36.9s\tremaining: 50.8s\n",
      "1262:\tlearn: 112820.2283689\ttotal: 36.9s\tremaining: 50.7s\n",
      "1263:\tlearn: 112799.2509521\ttotal: 36.9s\tremaining: 50.7s\n",
      "1264:\tlearn: 112763.9061336\ttotal: 36.9s\tremaining: 50.7s\n",
      "1265:\tlearn: 112728.6203696\ttotal: 37s\tremaining: 50.6s\n",
      "1266:\tlearn: 112659.4023789\ttotal: 37s\tremaining: 50.6s\n",
      "1267:\tlearn: 112630.1391570\ttotal: 37s\tremaining: 50.6s\n",
      "1268:\tlearn: 112582.4855809\ttotal: 37.1s\tremaining: 50.6s\n",
      "1269:\tlearn: 112548.5042891\ttotal: 37.1s\tremaining: 50.5s\n",
      "1270:\tlearn: 112481.5228240\ttotal: 37.1s\tremaining: 50.5s\n",
      "1271:\tlearn: 112443.0435511\ttotal: 37.2s\tremaining: 50.5s\n",
      "1272:\tlearn: 112417.2493177\ttotal: 37.2s\tremaining: 50.4s\n",
      "1273:\tlearn: 112363.4578025\ttotal: 37.2s\tremaining: 50.4s\n",
      "1274:\tlearn: 112337.7851817\ttotal: 37.2s\tremaining: 50.4s\n",
      "1275:\tlearn: 112275.1208115\ttotal: 37.3s\tremaining: 50.4s\n",
      "1276:\tlearn: 112225.4312387\ttotal: 37.3s\tremaining: 50.3s\n",
      "1277:\tlearn: 112191.0155825\ttotal: 37.3s\tremaining: 50.3s\n",
      "1278:\tlearn: 112151.5455792\ttotal: 37.4s\tremaining: 50.3s\n",
      "1279:\tlearn: 112107.6030685\ttotal: 37.4s\tremaining: 50.2s\n",
      "1280:\tlearn: 112073.3712000\ttotal: 37.4s\tremaining: 50.2s\n",
      "1281:\tlearn: 112057.5668288\ttotal: 37.4s\tremaining: 50.2s\n",
      "1282:\tlearn: 112012.4160036\ttotal: 37.5s\tremaining: 50.2s\n",
      "1283:\tlearn: 111956.8158953\ttotal: 37.5s\tremaining: 50.1s\n",
      "1284:\tlearn: 111914.1763096\ttotal: 37.5s\tremaining: 50.1s\n",
      "1285:\tlearn: 111886.6680336\ttotal: 37.6s\tremaining: 50.1s\n",
      "1286:\tlearn: 111853.3652569\ttotal: 37.6s\tremaining: 50s\n",
      "1287:\tlearn: 111828.1559279\ttotal: 37.6s\tremaining: 50s\n",
      "1288:\tlearn: 111725.6248993\ttotal: 37.7s\tremaining: 50s\n",
      "1289:\tlearn: 111713.5369667\ttotal: 37.7s\tremaining: 50s\n",
      "1290:\tlearn: 111652.3591218\ttotal: 37.7s\tremaining: 49.9s\n",
      "1291:\tlearn: 111599.3512419\ttotal: 37.7s\tremaining: 49.9s\n",
      "1292:\tlearn: 111535.1663983\ttotal: 37.8s\tremaining: 49.9s\n",
      "1293:\tlearn: 111509.4222145\ttotal: 37.8s\tremaining: 49.8s\n",
      "1294:\tlearn: 111475.6971032\ttotal: 37.8s\tremaining: 49.8s\n",
      "1295:\tlearn: 111435.6319991\ttotal: 37.9s\tremaining: 49.8s\n",
      "1296:\tlearn: 111399.1186804\ttotal: 37.9s\tremaining: 49.7s\n",
      "1297:\tlearn: 111355.3117069\ttotal: 37.9s\tremaining: 49.7s\n",
      "1298:\tlearn: 111337.4448118\ttotal: 37.9s\tremaining: 49.7s\n",
      "1299:\tlearn: 111263.8078845\ttotal: 38s\tremaining: 49.6s\n",
      "1300:\tlearn: 111224.0389385\ttotal: 38s\tremaining: 49.6s\n",
      "1301:\tlearn: 111179.1559137\ttotal: 38s\tremaining: 49.6s\n",
      "1302:\tlearn: 111155.5215768\ttotal: 38s\tremaining: 49.6s\n",
      "1303:\tlearn: 111129.2545600\ttotal: 38.1s\tremaining: 49.5s\n",
      "1304:\tlearn: 111065.9475453\ttotal: 38.1s\tremaining: 49.5s\n",
      "1305:\tlearn: 110996.5327271\ttotal: 38.1s\tremaining: 49.5s\n",
      "1306:\tlearn: 110968.4494903\ttotal: 38.2s\tremaining: 49.4s\n",
      "1307:\tlearn: 110910.9230595\ttotal: 38.2s\tremaining: 49.4s\n",
      "1308:\tlearn: 110850.4227499\ttotal: 38.2s\tremaining: 49.4s\n",
      "1309:\tlearn: 110804.6560180\ttotal: 38.3s\tremaining: 49.4s\n",
      "1310:\tlearn: 110781.2518854\ttotal: 38.3s\tremaining: 49.3s\n",
      "1311:\tlearn: 110742.3384636\ttotal: 38.3s\tremaining: 49.3s\n",
      "1312:\tlearn: 110710.6534586\ttotal: 38.3s\tremaining: 49.3s\n",
      "1313:\tlearn: 110681.2215759\ttotal: 38.4s\tremaining: 49.2s\n",
      "1314:\tlearn: 110618.9235819\ttotal: 38.4s\tremaining: 49.2s\n",
      "1315:\tlearn: 110583.6293143\ttotal: 38.4s\tremaining: 49.2s\n",
      "1316:\tlearn: 110555.9766833\ttotal: 38.5s\tremaining: 49.1s\n"
     ]
    },
    {
     "name": "stdout",
     "output_type": "stream",
     "text": [
      "1317:\tlearn: 110526.7348449\ttotal: 38.5s\tremaining: 49.1s\n",
      "1318:\tlearn: 110499.0862850\ttotal: 38.5s\tremaining: 49.1s\n",
      "1319:\tlearn: 110444.0364439\ttotal: 38.5s\tremaining: 49.1s\n",
      "1320:\tlearn: 110383.9757136\ttotal: 38.6s\tremaining: 49s\n",
      "1321:\tlearn: 110366.7169520\ttotal: 38.6s\tremaining: 49s\n",
      "1322:\tlearn: 110340.1070545\ttotal: 38.6s\tremaining: 49s\n",
      "1323:\tlearn: 110310.6105133\ttotal: 38.7s\tremaining: 48.9s\n",
      "1324:\tlearn: 110264.0792952\ttotal: 38.7s\tremaining: 48.9s\n",
      "1325:\tlearn: 110223.8135487\ttotal: 38.7s\tremaining: 48.9s\n",
      "1326:\tlearn: 110188.4247724\ttotal: 38.8s\tremaining: 48.9s\n",
      "1327:\tlearn: 110121.8418220\ttotal: 38.8s\tremaining: 48.8s\n",
      "1328:\tlearn: 110097.5530347\ttotal: 38.8s\tremaining: 48.8s\n",
      "1329:\tlearn: 110071.6758844\ttotal: 38.8s\tremaining: 48.8s\n",
      "1330:\tlearn: 110046.6441684\ttotal: 38.9s\tremaining: 48.7s\n",
      "1331:\tlearn: 109994.4922558\ttotal: 38.9s\tremaining: 48.7s\n",
      "1332:\tlearn: 109944.7577747\ttotal: 38.9s\tremaining: 48.7s\n",
      "1333:\tlearn: 109906.0001953\ttotal: 38.9s\tremaining: 48.6s\n",
      "1334:\tlearn: 109870.6756821\ttotal: 39s\tremaining: 48.6s\n",
      "1335:\tlearn: 109844.9061717\ttotal: 39s\tremaining: 48.6s\n",
      "1336:\tlearn: 109780.4611677\ttotal: 39s\tremaining: 48.5s\n",
      "1337:\tlearn: 109751.2522555\ttotal: 39.1s\tremaining: 48.5s\n",
      "1338:\tlearn: 109727.9065825\ttotal: 39.1s\tremaining: 48.5s\n",
      "1339:\tlearn: 109712.4274516\ttotal: 39.1s\tremaining: 48.5s\n",
      "1340:\tlearn: 109668.7218924\ttotal: 39.1s\tremaining: 48.4s\n",
      "1341:\tlearn: 109631.9761553\ttotal: 39.2s\tremaining: 48.4s\n",
      "1342:\tlearn: 109606.3794755\ttotal: 39.2s\tremaining: 48.4s\n",
      "1343:\tlearn: 109563.8694069\ttotal: 39.2s\tremaining: 48.3s\n",
      "1344:\tlearn: 109532.7451668\ttotal: 39.3s\tremaining: 48.3s\n",
      "1345:\tlearn: 109511.6011706\ttotal: 39.3s\tremaining: 48.3s\n",
      "1346:\tlearn: 109474.4390928\ttotal: 39.3s\tremaining: 48.2s\n",
      "1347:\tlearn: 109442.7488070\ttotal: 39.3s\tremaining: 48.2s\n",
      "1348:\tlearn: 109416.5674306\ttotal: 39.4s\tremaining: 48.2s\n",
      "1349:\tlearn: 109392.3229898\ttotal: 39.4s\tremaining: 48.2s\n",
      "1350:\tlearn: 109360.5940027\ttotal: 39.4s\tremaining: 48.1s\n",
      "1351:\tlearn: 109334.7181542\ttotal: 39.5s\tremaining: 48.1s\n",
      "1352:\tlearn: 109291.6737267\ttotal: 39.5s\tremaining: 48.1s\n",
      "1353:\tlearn: 109265.7051360\ttotal: 39.5s\tremaining: 48s\n",
      "1354:\tlearn: 109222.3193514\ttotal: 39.5s\tremaining: 48s\n",
      "1355:\tlearn: 109204.7704513\ttotal: 39.6s\tremaining: 48s\n",
      "1356:\tlearn: 109186.7370772\ttotal: 39.6s\tremaining: 48s\n",
      "1357:\tlearn: 109162.5032986\ttotal: 39.7s\tremaining: 48s\n",
      "1358:\tlearn: 109148.7006735\ttotal: 39.7s\tremaining: 47.9s\n",
      "1359:\tlearn: 109117.5754671\ttotal: 39.7s\tremaining: 47.9s\n",
      "1360:\tlearn: 109072.4591981\ttotal: 39.7s\tremaining: 47.9s\n",
      "1361:\tlearn: 109039.3291569\ttotal: 39.8s\tremaining: 47.8s\n",
      "1362:\tlearn: 108952.7335024\ttotal: 39.8s\tremaining: 47.8s\n",
      "1363:\tlearn: 108898.8488414\ttotal: 39.8s\tremaining: 47.8s\n",
      "1364:\tlearn: 108882.4131636\ttotal: 39.9s\tremaining: 47.7s\n",
      "1365:\tlearn: 108868.3194329\ttotal: 39.9s\tremaining: 47.7s\n",
      "1366:\tlearn: 108840.4715055\ttotal: 39.9s\tremaining: 47.7s\n",
      "1367:\tlearn: 108826.6299793\ttotal: 39.9s\tremaining: 47.6s\n",
      "1368:\tlearn: 108801.6199495\ttotal: 40s\tremaining: 47.6s\n",
      "1369:\tlearn: 108781.7682028\ttotal: 40s\tremaining: 47.6s\n",
      "1370:\tlearn: 108746.2554067\ttotal: 40s\tremaining: 47.5s\n",
      "1371:\tlearn: 108717.7986848\ttotal: 40s\tremaining: 47.5s\n",
      "1372:\tlearn: 108653.4797356\ttotal: 40.1s\tremaining: 47.5s\n",
      "1373:\tlearn: 108610.7429989\ttotal: 40.1s\tremaining: 47.5s\n",
      "1374:\tlearn: 108581.8845193\ttotal: 40.1s\tremaining: 47.4s\n",
      "1375:\tlearn: 108525.8085035\ttotal: 40.2s\tremaining: 47.4s\n",
      "1376:\tlearn: 108466.7002510\ttotal: 40.2s\tremaining: 47.4s\n",
      "1377:\tlearn: 108445.9693261\ttotal: 40.2s\tremaining: 47.3s\n",
      "1378:\tlearn: 108387.9018336\ttotal: 40.2s\tremaining: 47.3s\n",
      "1379:\tlearn: 108369.7988538\ttotal: 40.3s\tremaining: 47.3s\n",
      "1380:\tlearn: 108348.7279830\ttotal: 40.3s\tremaining: 47.2s\n",
      "1381:\tlearn: 108329.3364183\ttotal: 40.3s\tremaining: 47.2s\n",
      "1382:\tlearn: 108300.0553135\ttotal: 40.4s\tremaining: 47.2s\n",
      "1383:\tlearn: 108267.7902977\ttotal: 40.4s\tremaining: 47.2s\n",
      "1384:\tlearn: 108219.1210932\ttotal: 40.4s\tremaining: 47.1s\n",
      "1385:\tlearn: 108139.6698807\ttotal: 40.4s\tremaining: 47.1s\n",
      "1386:\tlearn: 108094.2166740\ttotal: 40.5s\tremaining: 47.1s\n",
      "1387:\tlearn: 108054.8176177\ttotal: 40.5s\tremaining: 47s\n",
      "1388:\tlearn: 108019.8588275\ttotal: 40.5s\tremaining: 47s\n",
      "1389:\tlearn: 107973.2498502\ttotal: 40.6s\tremaining: 47s\n",
      "1390:\tlearn: 107947.4346416\ttotal: 40.6s\tremaining: 47s\n",
      "1391:\tlearn: 107933.1853703\ttotal: 40.6s\tremaining: 46.9s\n",
      "1392:\tlearn: 107906.4068342\ttotal: 40.7s\tremaining: 46.9s\n",
      "1393:\tlearn: 107881.0022219\ttotal: 40.7s\tremaining: 46.9s\n",
      "1394:\tlearn: 107852.9763932\ttotal: 40.7s\tremaining: 46.8s\n",
      "1395:\tlearn: 107835.1221957\ttotal: 40.7s\tremaining: 46.8s\n",
      "1396:\tlearn: 107812.8269037\ttotal: 40.8s\tremaining: 46.8s\n",
      "1397:\tlearn: 107789.7454728\ttotal: 40.8s\tremaining: 46.8s\n",
      "1398:\tlearn: 107723.9746128\ttotal: 40.8s\tremaining: 46.7s\n",
      "1399:\tlearn: 107701.0714045\ttotal: 40.8s\tremaining: 46.7s\n",
      "1400:\tlearn: 107655.3925710\ttotal: 40.9s\tremaining: 46.7s\n",
      "1401:\tlearn: 107624.8828633\ttotal: 40.9s\tremaining: 46.6s\n",
      "1402:\tlearn: 107607.9473066\ttotal: 40.9s\tremaining: 46.6s\n",
      "1403:\tlearn: 107569.0148874\ttotal: 41s\tremaining: 46.6s\n",
      "1404:\tlearn: 107540.2579291\ttotal: 41s\tremaining: 46.5s\n",
      "1405:\tlearn: 107509.9634074\ttotal: 41s\tremaining: 46.5s\n",
      "1406:\tlearn: 107480.2253249\ttotal: 41s\tremaining: 46.5s\n",
      "1407:\tlearn: 107450.3367116\ttotal: 41.1s\tremaining: 46.4s\n",
      "1408:\tlearn: 107364.6955140\ttotal: 41.1s\tremaining: 46.4s\n",
      "1409:\tlearn: 107341.9304406\ttotal: 41.1s\tremaining: 46.4s\n",
      "1410:\tlearn: 107308.5905067\ttotal: 41.2s\tremaining: 46.3s\n",
      "1411:\tlearn: 107277.3490681\ttotal: 41.2s\tremaining: 46.3s\n",
      "1412:\tlearn: 107245.2753605\ttotal: 41.2s\tremaining: 46.3s\n",
      "1413:\tlearn: 107231.3777654\ttotal: 41.2s\tremaining: 46.3s\n",
      "1414:\tlearn: 107199.1400651\ttotal: 41.3s\tremaining: 46.2s\n",
      "1415:\tlearn: 107157.1485565\ttotal: 41.3s\tremaining: 46.2s\n",
      "1416:\tlearn: 107109.0033030\ttotal: 41.3s\tremaining: 46.2s\n",
      "1417:\tlearn: 107067.7162780\ttotal: 41.4s\tremaining: 46.1s\n",
      "1418:\tlearn: 107038.6718472\ttotal: 41.4s\tremaining: 46.1s\n",
      "1419:\tlearn: 107011.1532595\ttotal: 41.4s\tremaining: 46.1s\n",
      "1420:\tlearn: 106920.9582915\ttotal: 41.4s\tremaining: 46s\n",
      "1421:\tlearn: 106886.6247488\ttotal: 41.5s\tremaining: 46s\n",
      "1422:\tlearn: 106868.0105148\ttotal: 41.5s\tremaining: 46s\n",
      "1423:\tlearn: 106843.7484711\ttotal: 41.5s\tremaining: 46s\n",
      "1424:\tlearn: 106830.6558550\ttotal: 41.6s\tremaining: 45.9s\n",
      "1425:\tlearn: 106814.8883841\ttotal: 41.6s\tremaining: 45.9s\n",
      "1426:\tlearn: 106798.0305034\ttotal: 41.6s\tremaining: 45.9s\n",
      "1427:\tlearn: 106755.5221644\ttotal: 41.6s\tremaining: 45.8s\n",
      "1428:\tlearn: 106726.3316885\ttotal: 41.7s\tremaining: 45.8s\n",
      "1429:\tlearn: 106658.3180077\ttotal: 41.7s\tremaining: 45.8s\n",
      "1430:\tlearn: 106620.8550005\ttotal: 41.7s\tremaining: 45.8s\n",
      "1431:\tlearn: 106583.0951771\ttotal: 41.8s\tremaining: 45.7s\n",
      "1432:\tlearn: 106544.4775363\ttotal: 41.8s\tremaining: 45.7s\n",
      "1433:\tlearn: 106519.6155718\ttotal: 41.8s\tremaining: 45.7s\n",
      "1434:\tlearn: 106484.5727529\ttotal: 41.8s\tremaining: 45.6s\n",
      "1435:\tlearn: 106418.9391025\ttotal: 41.9s\tremaining: 45.6s\n",
      "1436:\tlearn: 106386.7359884\ttotal: 41.9s\tremaining: 45.6s\n",
      "1437:\tlearn: 106307.4379851\ttotal: 41.9s\tremaining: 45.5s\n",
      "1438:\tlearn: 106275.1134086\ttotal: 41.9s\tremaining: 45.5s\n",
      "1439:\tlearn: 106242.8288956\ttotal: 42s\tremaining: 45.5s\n",
      "1440:\tlearn: 106216.1514511\ttotal: 42s\tremaining: 45.4s\n",
      "1441:\tlearn: 106195.6862355\ttotal: 42s\tremaining: 45.4s\n",
      "1442:\tlearn: 106171.6478932\ttotal: 42.1s\tremaining: 45.4s\n",
      "1443:\tlearn: 106123.9558661\ttotal: 42.1s\tremaining: 45.4s\n",
      "1444:\tlearn: 106077.2085840\ttotal: 42.1s\tremaining: 45.3s\n",
      "1445:\tlearn: 106059.7518705\ttotal: 42.2s\tremaining: 45.3s\n",
      "1446:\tlearn: 106014.6884633\ttotal: 42.2s\tremaining: 45.3s\n",
      "1447:\tlearn: 105979.5506693\ttotal: 42.2s\tremaining: 45.2s\n",
      "1448:\tlearn: 105932.3866803\ttotal: 42.2s\tremaining: 45.2s\n",
      "1449:\tlearn: 105910.3356401\ttotal: 42.3s\tremaining: 45.2s\n",
      "1450:\tlearn: 105863.5709555\ttotal: 42.3s\tremaining: 45.2s\n",
      "1451:\tlearn: 105829.9063357\ttotal: 42.3s\tremaining: 45.1s\n",
      "1452:\tlearn: 105788.6279205\ttotal: 42.4s\tremaining: 45.1s\n",
      "1453:\tlearn: 105764.1400981\ttotal: 42.4s\tremaining: 45.1s\n",
      "1454:\tlearn: 105737.8146992\ttotal: 42.4s\tremaining: 45s\n",
      "1455:\tlearn: 105689.4846974\ttotal: 42.5s\tremaining: 45s\n",
      "1456:\tlearn: 105665.2510774\ttotal: 42.5s\tremaining: 45s\n",
      "1457:\tlearn: 105625.1750029\ttotal: 42.5s\tremaining: 45s\n",
      "1458:\tlearn: 105588.5945955\ttotal: 42.5s\tremaining: 44.9s\n",
      "1459:\tlearn: 105561.8881580\ttotal: 42.6s\tremaining: 44.9s\n",
      "1460:\tlearn: 105531.9273374\ttotal: 42.6s\tremaining: 44.9s\n",
      "1461:\tlearn: 105494.7096512\ttotal: 42.6s\tremaining: 44.8s\n"
     ]
    },
    {
     "name": "stdout",
     "output_type": "stream",
     "text": [
      "1462:\tlearn: 105426.3372392\ttotal: 42.7s\tremaining: 44.8s\n",
      "1463:\tlearn: 105407.9675224\ttotal: 42.7s\tremaining: 44.8s\n",
      "1464:\tlearn: 105336.0096308\ttotal: 42.7s\tremaining: 44.8s\n",
      "1465:\tlearn: 105291.1886922\ttotal: 42.7s\tremaining: 44.7s\n",
      "1466:\tlearn: 105253.3698458\ttotal: 42.8s\tremaining: 44.7s\n",
      "1467:\tlearn: 105227.1413605\ttotal: 42.8s\tremaining: 44.7s\n",
      "1468:\tlearn: 105186.5800564\ttotal: 42.8s\tremaining: 44.6s\n",
      "1469:\tlearn: 105162.0044634\ttotal: 42.9s\tremaining: 44.6s\n",
      "1470:\tlearn: 105121.0917714\ttotal: 42.9s\tremaining: 44.6s\n",
      "1471:\tlearn: 105091.6773867\ttotal: 42.9s\tremaining: 44.5s\n",
      "1472:\tlearn: 105072.0992579\ttotal: 42.9s\tremaining: 44.5s\n",
      "1473:\tlearn: 105033.9923519\ttotal: 43s\tremaining: 44.5s\n",
      "1474:\tlearn: 105022.7120199\ttotal: 43s\tremaining: 44.4s\n",
      "1475:\tlearn: 105001.6879892\ttotal: 43s\tremaining: 44.4s\n",
      "1476:\tlearn: 104956.4481746\ttotal: 43s\tremaining: 44.4s\n",
      "1477:\tlearn: 104924.2840129\ttotal: 43.1s\tremaining: 44.4s\n",
      "1478:\tlearn: 104885.1869412\ttotal: 43.1s\tremaining: 44.3s\n",
      "1479:\tlearn: 104828.4436882\ttotal: 43.1s\tremaining: 44.3s\n",
      "1480:\tlearn: 104794.0892054\ttotal: 43.2s\tremaining: 44.3s\n",
      "1481:\tlearn: 104746.5328486\ttotal: 43.2s\tremaining: 44.2s\n",
      "1482:\tlearn: 104701.6041484\ttotal: 43.2s\tremaining: 44.2s\n",
      "1483:\tlearn: 104668.5724604\ttotal: 43.3s\tremaining: 44.2s\n",
      "1484:\tlearn: 104652.5010452\ttotal: 43.3s\tremaining: 44.2s\n",
      "1485:\tlearn: 104609.1083761\ttotal: 43.3s\tremaining: 44.1s\n",
      "1486:\tlearn: 104580.1279097\ttotal: 43.3s\tremaining: 44.1s\n",
      "1487:\tlearn: 104541.9195316\ttotal: 43.4s\tremaining: 44.1s\n",
      "1488:\tlearn: 104499.9377316\ttotal: 43.4s\tremaining: 44s\n",
      "1489:\tlearn: 104440.2587493\ttotal: 43.4s\tremaining: 44s\n",
      "1490:\tlearn: 104411.2174377\ttotal: 43.5s\tremaining: 44s\n",
      "1491:\tlearn: 104377.0741161\ttotal: 43.5s\tremaining: 44s\n",
      "1492:\tlearn: 104315.7158087\ttotal: 43.5s\tremaining: 43.9s\n",
      "1493:\tlearn: 104290.0397382\ttotal: 43.5s\tremaining: 43.9s\n",
      "1494:\tlearn: 104259.2380815\ttotal: 43.6s\tremaining: 43.9s\n",
      "1495:\tlearn: 104236.0953206\ttotal: 43.6s\tremaining: 43.8s\n",
      "1496:\tlearn: 104205.6528259\ttotal: 43.6s\tremaining: 43.8s\n",
      "1497:\tlearn: 104181.6935013\ttotal: 43.7s\tremaining: 43.8s\n",
      "1498:\tlearn: 104151.1304853\ttotal: 43.7s\tremaining: 43.7s\n",
      "1499:\tlearn: 104108.5852608\ttotal: 43.7s\tremaining: 43.7s\n",
      "1500:\tlearn: 104044.1158371\ttotal: 43.7s\tremaining: 43.7s\n",
      "1501:\tlearn: 104006.9880954\ttotal: 43.8s\tremaining: 43.7s\n",
      "1502:\tlearn: 103979.4687560\ttotal: 43.8s\tremaining: 43.6s\n",
      "1503:\tlearn: 103925.3991400\ttotal: 43.8s\tremaining: 43.6s\n",
      "1504:\tlearn: 103883.2709482\ttotal: 43.9s\tremaining: 43.6s\n",
      "1505:\tlearn: 103864.4160758\ttotal: 43.9s\tremaining: 43.5s\n",
      "1506:\tlearn: 103819.7166808\ttotal: 43.9s\tremaining: 43.5s\n",
      "1507:\tlearn: 103788.5356376\ttotal: 43.9s\tremaining: 43.5s\n",
      "1508:\tlearn: 103761.6337947\ttotal: 44s\tremaining: 43.4s\n",
      "1509:\tlearn: 103741.3439752\ttotal: 44s\tremaining: 43.4s\n",
      "1510:\tlearn: 103720.9678932\ttotal: 44s\tremaining: 43.4s\n",
      "1511:\tlearn: 103705.6495755\ttotal: 44s\tremaining: 43.3s\n",
      "1512:\tlearn: 103680.9856533\ttotal: 44.1s\tremaining: 43.3s\n",
      "1513:\tlearn: 103646.2301672\ttotal: 44.1s\tremaining: 43.3s\n",
      "1514:\tlearn: 103604.3539203\ttotal: 44.1s\tremaining: 43.3s\n",
      "1515:\tlearn: 103577.1151207\ttotal: 44.2s\tremaining: 43.2s\n",
      "1516:\tlearn: 103548.2862078\ttotal: 44.2s\tremaining: 43.2s\n",
      "1517:\tlearn: 103508.7333509\ttotal: 44.2s\tremaining: 43.2s\n",
      "1518:\tlearn: 103492.4036079\ttotal: 44.3s\tremaining: 43.1s\n",
      "1519:\tlearn: 103461.2593461\ttotal: 44.3s\tremaining: 43.1s\n",
      "1520:\tlearn: 103414.8248856\ttotal: 44.3s\tremaining: 43.1s\n",
      "1521:\tlearn: 103386.4871294\ttotal: 44.3s\tremaining: 43.1s\n",
      "1522:\tlearn: 103362.6821458\ttotal: 44.4s\tremaining: 43s\n",
      "1523:\tlearn: 103335.0089367\ttotal: 44.4s\tremaining: 43s\n",
      "1524:\tlearn: 103286.0579096\ttotal: 44.4s\tremaining: 43s\n",
      "1525:\tlearn: 103213.2829276\ttotal: 44.5s\tremaining: 42.9s\n",
      "1526:\tlearn: 103154.8396272\ttotal: 44.5s\tremaining: 42.9s\n",
      "1527:\tlearn: 103131.1970687\ttotal: 44.5s\tremaining: 42.9s\n",
      "1528:\tlearn: 103091.3321297\ttotal: 44.5s\tremaining: 42.9s\n",
      "1529:\tlearn: 103060.1750793\ttotal: 44.6s\tremaining: 42.8s\n",
      "1530:\tlearn: 103011.7453674\ttotal: 44.6s\tremaining: 42.8s\n",
      "1531:\tlearn: 102976.8432296\ttotal: 44.6s\tremaining: 42.8s\n",
      "1532:\tlearn: 102952.1762297\ttotal: 44.7s\tremaining: 42.7s\n",
      "1533:\tlearn: 102926.5572838\ttotal: 44.7s\tremaining: 42.7s\n",
      "1534:\tlearn: 102868.9297497\ttotal: 44.7s\tremaining: 42.7s\n",
      "1535:\tlearn: 102838.9100189\ttotal: 44.7s\tremaining: 42.6s\n",
      "1536:\tlearn: 102818.4727159\ttotal: 44.8s\tremaining: 42.6s\n",
      "1537:\tlearn: 102794.8692675\ttotal: 44.8s\tremaining: 42.6s\n",
      "1538:\tlearn: 102757.2510798\ttotal: 44.8s\tremaining: 42.5s\n",
      "1539:\tlearn: 102726.5346203\ttotal: 44.8s\tremaining: 42.5s\n",
      "1540:\tlearn: 102697.4744119\ttotal: 44.9s\tremaining: 42.5s\n",
      "1541:\tlearn: 102657.5092339\ttotal: 44.9s\tremaining: 42.5s\n",
      "1542:\tlearn: 102618.4779729\ttotal: 44.9s\tremaining: 42.4s\n",
      "1543:\tlearn: 102600.6869240\ttotal: 45s\tremaining: 42.4s\n",
      "1544:\tlearn: 102536.9365759\ttotal: 45s\tremaining: 42.4s\n",
      "1545:\tlearn: 102507.3883586\ttotal: 45s\tremaining: 42.3s\n",
      "1546:\tlearn: 102491.7804624\ttotal: 45s\tremaining: 42.3s\n",
      "1547:\tlearn: 102447.9321144\ttotal: 45.1s\tremaining: 42.3s\n",
      "1548:\tlearn: 102416.5976369\ttotal: 45.1s\tremaining: 42.2s\n",
      "1549:\tlearn: 102395.1850932\ttotal: 45.1s\tremaining: 42.2s\n",
      "1550:\tlearn: 102373.7808911\ttotal: 45.2s\tremaining: 42.2s\n",
      "1551:\tlearn: 102338.9369921\ttotal: 45.2s\tremaining: 42.2s\n",
      "1552:\tlearn: 102301.1706778\ttotal: 45.2s\tremaining: 42.1s\n",
      "1553:\tlearn: 102271.0107462\ttotal: 45.3s\tremaining: 42.1s\n",
      "1554:\tlearn: 102240.7499908\ttotal: 45.3s\tremaining: 42.1s\n",
      "1555:\tlearn: 102230.0289341\ttotal: 45.3s\tremaining: 42.1s\n",
      "1556:\tlearn: 102186.2921228\ttotal: 45.3s\tremaining: 42s\n",
      "1557:\tlearn: 102141.5037647\ttotal: 45.4s\tremaining: 42s\n",
      "1558:\tlearn: 102115.1864346\ttotal: 45.4s\tremaining: 42s\n",
      "1559:\tlearn: 102087.6146977\ttotal: 45.4s\tremaining: 41.9s\n",
      "1560:\tlearn: 102040.9644019\ttotal: 45.5s\tremaining: 41.9s\n",
      "1561:\tlearn: 101990.0296694\ttotal: 45.5s\tremaining: 41.9s\n",
      "1562:\tlearn: 101954.4739209\ttotal: 45.5s\tremaining: 41.9s\n",
      "1563:\tlearn: 101930.9497094\ttotal: 45.6s\tremaining: 41.8s\n",
      "1564:\tlearn: 101900.3771537\ttotal: 45.6s\tremaining: 41.8s\n",
      "1565:\tlearn: 101873.4073974\ttotal: 45.6s\tremaining: 41.8s\n",
      "1566:\tlearn: 101848.4282429\ttotal: 45.6s\tremaining: 41.7s\n",
      "1567:\tlearn: 101831.3929974\ttotal: 45.7s\tremaining: 41.7s\n",
      "1568:\tlearn: 101802.4463886\ttotal: 45.7s\tremaining: 41.7s\n",
      "1569:\tlearn: 101785.5234578\ttotal: 45.7s\tremaining: 41.7s\n",
      "1570:\tlearn: 101769.9104256\ttotal: 45.8s\tremaining: 41.6s\n",
      "1571:\tlearn: 101759.7903012\ttotal: 45.8s\tremaining: 41.6s\n",
      "1572:\tlearn: 101728.2781410\ttotal: 45.8s\tremaining: 41.6s\n",
      "1573:\tlearn: 101695.9465410\ttotal: 45.8s\tremaining: 41.5s\n",
      "1574:\tlearn: 101672.7890029\ttotal: 45.9s\tremaining: 41.5s\n",
      "1575:\tlearn: 101626.5889158\ttotal: 45.9s\tremaining: 41.5s\n",
      "1576:\tlearn: 101577.6639357\ttotal: 45.9s\tremaining: 41.4s\n",
      "1577:\tlearn: 101533.2144745\ttotal: 46s\tremaining: 41.4s\n",
      "1578:\tlearn: 101496.7945658\ttotal: 46s\tremaining: 41.4s\n",
      "1579:\tlearn: 101478.9681434\ttotal: 46s\tremaining: 41.4s\n",
      "1580:\tlearn: 101414.6877581\ttotal: 46s\tremaining: 41.3s\n",
      "1581:\tlearn: 101395.6708182\ttotal: 46.1s\tremaining: 41.3s\n",
      "1582:\tlearn: 101350.6408998\ttotal: 46.1s\tremaining: 41.3s\n",
      "1583:\tlearn: 101338.7431877\ttotal: 46.1s\tremaining: 41.2s\n",
      "1584:\tlearn: 101327.1035647\ttotal: 46.2s\tremaining: 41.2s\n",
      "1585:\tlearn: 101282.2623581\ttotal: 46.2s\tremaining: 41.2s\n",
      "1586:\tlearn: 101238.1455731\ttotal: 46.2s\tremaining: 41.2s\n",
      "1587:\tlearn: 101217.8964390\ttotal: 46.3s\tremaining: 41.1s\n",
      "1588:\tlearn: 101183.9728578\ttotal: 46.3s\tremaining: 41.1s\n",
      "1589:\tlearn: 101169.8197697\ttotal: 46.3s\tremaining: 41.1s\n",
      "1590:\tlearn: 101113.6126636\ttotal: 46.4s\tremaining: 41.1s\n",
      "1591:\tlearn: 101091.7072236\ttotal: 46.4s\tremaining: 41s\n",
      "1592:\tlearn: 101051.8850265\ttotal: 46.4s\tremaining: 41s\n",
      "1593:\tlearn: 101036.1772245\ttotal: 46.4s\tremaining: 41s\n",
      "1594:\tlearn: 101012.6291678\ttotal: 46.5s\tremaining: 40.9s\n",
      "1595:\tlearn: 100992.5534130\ttotal: 46.5s\tremaining: 40.9s\n",
      "1596:\tlearn: 100957.7561526\ttotal: 46.5s\tremaining: 40.9s\n",
      "1597:\tlearn: 100938.7960535\ttotal: 46.6s\tremaining: 40.9s\n",
      "1598:\tlearn: 100892.3573213\ttotal: 46.6s\tremaining: 40.8s\n",
      "1599:\tlearn: 100878.1031141\ttotal: 46.6s\tremaining: 40.8s\n",
      "1600:\tlearn: 100859.4272812\ttotal: 46.6s\tremaining: 40.8s\n",
      "1601:\tlearn: 100842.1308074\ttotal: 46.7s\tremaining: 40.7s\n",
      "1602:\tlearn: 100822.7182044\ttotal: 46.7s\tremaining: 40.7s\n",
      "1603:\tlearn: 100795.2039697\ttotal: 46.7s\tremaining: 40.7s\n",
      "1604:\tlearn: 100765.7494481\ttotal: 46.8s\tremaining: 40.6s\n",
      "1605:\tlearn: 100750.0621738\ttotal: 46.8s\tremaining: 40.6s\n",
      "1606:\tlearn: 100704.8792549\ttotal: 46.8s\tremaining: 40.6s\n",
      "1607:\tlearn: 100680.0696819\ttotal: 46.8s\tremaining: 40.5s\n",
      "1608:\tlearn: 100646.3380802\ttotal: 46.9s\tremaining: 40.5s\n",
      "1609:\tlearn: 100631.6434896\ttotal: 46.9s\tremaining: 40.5s\n",
      "1610:\tlearn: 100621.8382002\ttotal: 46.9s\tremaining: 40.5s\n"
     ]
    },
    {
     "name": "stdout",
     "output_type": "stream",
     "text": [
      "1611:\tlearn: 100588.9050201\ttotal: 47s\tremaining: 40.4s\n",
      "1612:\tlearn: 100570.4230516\ttotal: 47s\tremaining: 40.4s\n",
      "1613:\tlearn: 100543.6391533\ttotal: 47s\tremaining: 40.4s\n",
      "1614:\tlearn: 100515.4116680\ttotal: 47.1s\tremaining: 40.4s\n",
      "1615:\tlearn: 100498.5186295\ttotal: 47.1s\tremaining: 40.3s\n",
      "1616:\tlearn: 100470.2090697\ttotal: 47.1s\tremaining: 40.3s\n",
      "1617:\tlearn: 100442.8973627\ttotal: 47.1s\tremaining: 40.3s\n",
      "1618:\tlearn: 100414.7816615\ttotal: 47.2s\tremaining: 40.2s\n",
      "1619:\tlearn: 100389.1618005\ttotal: 47.2s\tremaining: 40.2s\n",
      "1620:\tlearn: 100376.5013176\ttotal: 47.2s\tremaining: 40.2s\n",
      "1621:\tlearn: 100349.7815104\ttotal: 47.3s\tremaining: 40.2s\n",
      "1622:\tlearn: 100335.8156197\ttotal: 47.3s\tremaining: 40.1s\n",
      "1623:\tlearn: 100292.0174705\ttotal: 47.3s\tremaining: 40.1s\n",
      "1624:\tlearn: 100262.5248793\ttotal: 47.4s\tremaining: 40.1s\n",
      "1625:\tlearn: 100239.5445743\ttotal: 47.4s\tremaining: 40.1s\n",
      "1626:\tlearn: 100224.7582862\ttotal: 47.4s\tremaining: 40s\n",
      "1627:\tlearn: 100193.3919891\ttotal: 47.5s\tremaining: 40s\n",
      "1628:\tlearn: 100137.0204934\ttotal: 47.5s\tremaining: 40s\n",
      "1629:\tlearn: 100094.8511341\ttotal: 47.5s\tremaining: 39.9s\n",
      "1630:\tlearn: 100067.3645740\ttotal: 47.6s\tremaining: 39.9s\n",
      "1631:\tlearn: 100048.5390893\ttotal: 47.6s\tremaining: 39.9s\n",
      "1632:\tlearn: 99989.1110883\ttotal: 47.6s\tremaining: 39.9s\n",
      "1633:\tlearn: 99974.9234197\ttotal: 47.6s\tremaining: 39.8s\n",
      "1634:\tlearn: 99957.1866349\ttotal: 47.7s\tremaining: 39.8s\n",
      "1635:\tlearn: 99949.6375671\ttotal: 47.7s\tremaining: 39.8s\n",
      "1636:\tlearn: 99929.0310693\ttotal: 47.7s\tremaining: 39.7s\n",
      "1637:\tlearn: 99893.4690266\ttotal: 47.8s\tremaining: 39.7s\n",
      "1638:\tlearn: 99880.1626306\ttotal: 47.8s\tremaining: 39.7s\n",
      "1639:\tlearn: 99865.6244488\ttotal: 47.8s\tremaining: 39.6s\n",
      "1640:\tlearn: 99823.6645862\ttotal: 47.8s\tremaining: 39.6s\n",
      "1641:\tlearn: 99805.8603151\ttotal: 47.9s\tremaining: 39.6s\n",
      "1642:\tlearn: 99794.5238801\ttotal: 47.9s\tremaining: 39.6s\n",
      "1643:\tlearn: 99786.3291685\ttotal: 47.9s\tremaining: 39.5s\n",
      "1644:\tlearn: 99771.3724390\ttotal: 48s\tremaining: 39.5s\n",
      "1645:\tlearn: 99767.7355179\ttotal: 48s\tremaining: 39.5s\n",
      "1646:\tlearn: 99741.9695046\ttotal: 48s\tremaining: 39.4s\n",
      "1647:\tlearn: 99665.1333028\ttotal: 48.1s\tremaining: 39.4s\n",
      "1648:\tlearn: 99566.8715582\ttotal: 48.1s\tremaining: 39.4s\n",
      "1649:\tlearn: 99538.5533229\ttotal: 48.1s\tremaining: 39.4s\n",
      "1650:\tlearn: 99513.9627455\ttotal: 48.2s\tremaining: 39.4s\n",
      "1651:\tlearn: 99489.5614254\ttotal: 48.2s\tremaining: 39.3s\n",
      "1652:\tlearn: 99460.8182202\ttotal: 48.2s\tremaining: 39.3s\n",
      "1653:\tlearn: 99429.2316700\ttotal: 48.3s\tremaining: 39.3s\n",
      "1654:\tlearn: 99394.9019327\ttotal: 48.3s\tremaining: 39.2s\n",
      "1655:\tlearn: 99373.1998871\ttotal: 48.3s\tremaining: 39.2s\n",
      "1656:\tlearn: 99307.2594549\ttotal: 48.3s\tremaining: 39.2s\n",
      "1657:\tlearn: 99271.8628576\ttotal: 48.4s\tremaining: 39.2s\n",
      "1658:\tlearn: 99249.7649900\ttotal: 48.4s\tremaining: 39.1s\n",
      "1659:\tlearn: 99236.1714706\ttotal: 48.4s\tremaining: 39.1s\n",
      "1660:\tlearn: 99194.3003041\ttotal: 48.5s\tremaining: 39.1s\n",
      "1661:\tlearn: 99182.2746629\ttotal: 48.5s\tremaining: 39s\n",
      "1662:\tlearn: 99149.4628077\ttotal: 48.5s\tremaining: 39s\n",
      "1663:\tlearn: 99123.5499440\ttotal: 48.6s\tremaining: 39s\n",
      "1664:\tlearn: 99093.6615836\ttotal: 48.6s\tremaining: 39s\n",
      "1665:\tlearn: 99079.5003035\ttotal: 48.6s\tremaining: 38.9s\n",
      "1666:\tlearn: 99033.0576167\ttotal: 48.6s\tremaining: 38.9s\n",
      "1667:\tlearn: 99000.3340432\ttotal: 48.7s\tremaining: 38.9s\n",
      "1668:\tlearn: 98978.2093818\ttotal: 48.7s\tremaining: 38.8s\n",
      "1669:\tlearn: 98964.2155022\ttotal: 48.7s\tremaining: 38.8s\n",
      "1670:\tlearn: 98935.5112485\ttotal: 48.7s\tremaining: 38.8s\n",
      "1671:\tlearn: 98911.9518505\ttotal: 48.8s\tremaining: 38.7s\n",
      "1672:\tlearn: 98890.8698746\ttotal: 48.8s\tremaining: 38.7s\n",
      "1673:\tlearn: 98872.0323915\ttotal: 48.8s\tremaining: 38.7s\n",
      "1674:\tlearn: 98844.1217723\ttotal: 48.9s\tremaining: 38.7s\n",
      "1675:\tlearn: 98806.6515406\ttotal: 48.9s\tremaining: 38.6s\n",
      "1676:\tlearn: 98784.3541840\ttotal: 48.9s\tremaining: 38.6s\n",
      "1677:\tlearn: 98764.0359131\ttotal: 49s\tremaining: 38.6s\n",
      "1678:\tlearn: 98707.6234253\ttotal: 49s\tremaining: 38.5s\n",
      "1679:\tlearn: 98688.1050408\ttotal: 49s\tremaining: 38.5s\n",
      "1680:\tlearn: 98669.8813528\ttotal: 49s\tremaining: 38.5s\n",
      "1681:\tlearn: 98644.9103468\ttotal: 49.1s\tremaining: 38.5s\n",
      "1682:\tlearn: 98625.4003342\ttotal: 49.1s\tremaining: 38.4s\n",
      "1683:\tlearn: 98605.4421520\ttotal: 49.1s\tremaining: 38.4s\n",
      "1684:\tlearn: 98582.6506475\ttotal: 49.2s\tremaining: 38.4s\n",
      "1685:\tlearn: 98549.1301133\ttotal: 49.2s\tremaining: 38.3s\n",
      "1686:\tlearn: 98511.1520610\ttotal: 49.2s\tremaining: 38.3s\n",
      "1687:\tlearn: 98460.1663083\ttotal: 49.3s\tremaining: 38.3s\n",
      "1688:\tlearn: 98437.1791293\ttotal: 49.3s\tremaining: 38.3s\n",
      "1689:\tlearn: 98398.4608274\ttotal: 49.3s\tremaining: 38.2s\n",
      "1690:\tlearn: 98345.4817590\ttotal: 49.3s\tremaining: 38.2s\n",
      "1691:\tlearn: 98314.6814865\ttotal: 49.4s\tremaining: 38.2s\n",
      "1692:\tlearn: 98280.6798178\ttotal: 49.4s\tremaining: 38.1s\n",
      "1693:\tlearn: 98255.5151980\ttotal: 49.4s\tremaining: 38.1s\n",
      "1694:\tlearn: 98233.2391094\ttotal: 49.5s\tremaining: 38.1s\n",
      "1695:\tlearn: 98207.1197119\ttotal: 49.5s\tremaining: 38.1s\n",
      "1696:\tlearn: 98172.5151613\ttotal: 49.5s\tremaining: 38s\n",
      "1697:\tlearn: 98154.6720745\ttotal: 49.5s\tremaining: 38s\n",
      "1698:\tlearn: 98109.2013420\ttotal: 49.6s\tremaining: 38s\n",
      "1699:\tlearn: 98096.2014124\ttotal: 49.6s\tremaining: 37.9s\n",
      "1700:\tlearn: 98084.2321399\ttotal: 49.6s\tremaining: 37.9s\n",
      "1701:\tlearn: 98052.9704752\ttotal: 49.7s\tremaining: 37.9s\n",
      "1702:\tlearn: 98006.4447307\ttotal: 49.7s\tremaining: 37.8s\n",
      "1703:\tlearn: 97995.4059306\ttotal: 49.7s\tremaining: 37.8s\n",
      "1704:\tlearn: 97958.8669962\ttotal: 49.7s\tremaining: 37.8s\n",
      "1705:\tlearn: 97935.3002707\ttotal: 49.8s\tremaining: 37.7s\n",
      "1706:\tlearn: 97913.5699071\ttotal: 49.8s\tremaining: 37.7s\n",
      "1707:\tlearn: 97893.8990471\ttotal: 49.8s\tremaining: 37.7s\n",
      "1708:\tlearn: 97863.6013120\ttotal: 49.8s\tremaining: 37.7s\n",
      "1709:\tlearn: 97789.1293336\ttotal: 49.9s\tremaining: 37.6s\n",
      "1710:\tlearn: 97719.2190233\ttotal: 49.9s\tremaining: 37.6s\n",
      "1711:\tlearn: 97699.9240868\ttotal: 49.9s\tremaining: 37.6s\n",
      "1712:\tlearn: 97652.8601632\ttotal: 50s\tremaining: 37.5s\n",
      "1713:\tlearn: 97642.3328769\ttotal: 50s\tremaining: 37.5s\n",
      "1714:\tlearn: 97626.4794295\ttotal: 50s\tremaining: 37.5s\n",
      "1715:\tlearn: 97590.3917003\ttotal: 50.1s\tremaining: 37.5s\n",
      "1716:\tlearn: 97537.1473759\ttotal: 50.1s\tremaining: 37.4s\n",
      "1717:\tlearn: 97521.6583464\ttotal: 50.1s\tremaining: 37.4s\n",
      "1718:\tlearn: 97498.7934661\ttotal: 50.1s\tremaining: 37.4s\n",
      "1719:\tlearn: 97481.1082628\ttotal: 50.2s\tremaining: 37.3s\n",
      "1720:\tlearn: 97471.6026078\ttotal: 50.2s\tremaining: 37.3s\n",
      "1721:\tlearn: 97442.6234063\ttotal: 50.2s\tremaining: 37.3s\n",
      "1722:\tlearn: 97408.5381708\ttotal: 50.3s\tremaining: 37.2s\n",
      "1723:\tlearn: 97376.1429556\ttotal: 50.3s\tremaining: 37.2s\n",
      "1724:\tlearn: 97369.9956221\ttotal: 50.3s\tremaining: 37.2s\n",
      "1725:\tlearn: 97355.1421685\ttotal: 50.3s\tremaining: 37.2s\n",
      "1726:\tlearn: 97300.3624388\ttotal: 50.4s\tremaining: 37.1s\n",
      "1727:\tlearn: 97261.3142069\ttotal: 50.4s\tremaining: 37.1s\n",
      "1728:\tlearn: 97219.0912959\ttotal: 50.4s\tremaining: 37.1s\n",
      "1729:\tlearn: 97189.5283183\ttotal: 50.5s\tremaining: 37s\n",
      "1730:\tlearn: 97139.0486545\ttotal: 50.5s\tremaining: 37s\n",
      "1731:\tlearn: 97120.3393657\ttotal: 50.5s\tremaining: 37s\n",
      "1732:\tlearn: 97088.4579676\ttotal: 50.6s\tremaining: 37s\n",
      "1733:\tlearn: 97052.5638954\ttotal: 50.6s\tremaining: 36.9s\n",
      "1734:\tlearn: 97042.4155826\ttotal: 50.6s\tremaining: 36.9s\n",
      "1735:\tlearn: 97020.5544815\ttotal: 50.6s\tremaining: 36.9s\n",
      "1736:\tlearn: 96997.9441372\ttotal: 50.7s\tremaining: 36.8s\n",
      "1737:\tlearn: 96951.1372166\ttotal: 50.7s\tremaining: 36.8s\n",
      "1738:\tlearn: 96934.7210311\ttotal: 50.7s\tremaining: 36.8s\n",
      "1739:\tlearn: 96921.5184140\ttotal: 50.7s\tremaining: 36.7s\n",
      "1740:\tlearn: 96899.4998262\ttotal: 50.8s\tremaining: 36.7s\n",
      "1741:\tlearn: 96867.7237898\ttotal: 50.8s\tremaining: 36.7s\n",
      "1742:\tlearn: 96804.3612238\ttotal: 50.8s\tremaining: 36.7s\n",
      "1743:\tlearn: 96767.6343327\ttotal: 50.9s\tremaining: 36.6s\n",
      "1744:\tlearn: 96732.4333664\ttotal: 50.9s\tremaining: 36.6s\n",
      "1745:\tlearn: 96702.9905605\ttotal: 50.9s\tremaining: 36.6s\n",
      "1746:\tlearn: 96652.8320952\ttotal: 50.9s\tremaining: 36.5s\n",
      "1747:\tlearn: 96602.8352536\ttotal: 51s\tremaining: 36.5s\n",
      "1748:\tlearn: 96577.4713648\ttotal: 51s\tremaining: 36.5s\n",
      "1749:\tlearn: 96550.0186264\ttotal: 51s\tremaining: 36.5s\n",
      "1750:\tlearn: 96526.7976199\ttotal: 51.1s\tremaining: 36.4s\n",
      "1751:\tlearn: 96507.4237567\ttotal: 51.1s\tremaining: 36.4s\n",
      "1752:\tlearn: 96484.7373991\ttotal: 51.1s\tremaining: 36.4s\n",
      "1753:\tlearn: 96465.0493430\ttotal: 51.1s\tremaining: 36.3s\n",
      "1754:\tlearn: 96444.3420790\ttotal: 51.2s\tremaining: 36.3s\n",
      "1755:\tlearn: 96423.5374310\ttotal: 51.2s\tremaining: 36.3s\n",
      "1756:\tlearn: 96398.9439689\ttotal: 51.2s\tremaining: 36.2s\n",
      "1757:\tlearn: 96374.0258745\ttotal: 51.3s\tremaining: 36.2s\n",
      "1758:\tlearn: 96299.1351470\ttotal: 51.3s\tremaining: 36.2s\n",
      "1759:\tlearn: 96288.7004964\ttotal: 51.3s\tremaining: 36.2s\n",
      "1760:\tlearn: 96250.3441338\ttotal: 51.3s\tremaining: 36.1s\n",
      "1761:\tlearn: 96239.8733810\ttotal: 51.4s\tremaining: 36.1s\n"
     ]
    },
    {
     "name": "stdout",
     "output_type": "stream",
     "text": [
      "1762:\tlearn: 96192.6909315\ttotal: 51.4s\tremaining: 36.1s\n",
      "1763:\tlearn: 96169.5857148\ttotal: 51.4s\tremaining: 36s\n",
      "1764:\tlearn: 96151.6489705\ttotal: 51.5s\tremaining: 36s\n",
      "1765:\tlearn: 96108.4604824\ttotal: 51.5s\tremaining: 36s\n",
      "1766:\tlearn: 96082.0776985\ttotal: 51.5s\tremaining: 36s\n",
      "1767:\tlearn: 96044.7681754\ttotal: 51.6s\tremaining: 35.9s\n",
      "1768:\tlearn: 96016.2310591\ttotal: 51.6s\tremaining: 35.9s\n",
      "1769:\tlearn: 95994.2688872\ttotal: 51.6s\tremaining: 35.9s\n",
      "1770:\tlearn: 95952.8410600\ttotal: 51.6s\tremaining: 35.8s\n",
      "1771:\tlearn: 95916.8530165\ttotal: 51.7s\tremaining: 35.8s\n",
      "1772:\tlearn: 95898.6784972\ttotal: 51.7s\tremaining: 35.8s\n",
      "1773:\tlearn: 95881.2106367\ttotal: 51.7s\tremaining: 35.7s\n",
      "1774:\tlearn: 95868.5652222\ttotal: 51.7s\tremaining: 35.7s\n",
      "1775:\tlearn: 95836.7396761\ttotal: 51.8s\tremaining: 35.7s\n",
      "1776:\tlearn: 95824.6266818\ttotal: 51.8s\tremaining: 35.6s\n",
      "1777:\tlearn: 95799.3663821\ttotal: 51.8s\tremaining: 35.6s\n",
      "1778:\tlearn: 95771.8533809\ttotal: 51.9s\tremaining: 35.6s\n",
      "1779:\tlearn: 95754.6465535\ttotal: 51.9s\tremaining: 35.6s\n",
      "1780:\tlearn: 95738.8552341\ttotal: 51.9s\tremaining: 35.5s\n",
      "1781:\tlearn: 95700.7875256\ttotal: 51.9s\tremaining: 35.5s\n",
      "1782:\tlearn: 95679.3097940\ttotal: 52s\tremaining: 35.5s\n",
      "1783:\tlearn: 95664.1952851\ttotal: 52s\tremaining: 35.4s\n",
      "1784:\tlearn: 95643.1895621\ttotal: 52s\tremaining: 35.4s\n",
      "1785:\tlearn: 95579.2160991\ttotal: 52.1s\tremaining: 35.4s\n",
      "1786:\tlearn: 95551.1450625\ttotal: 52.1s\tremaining: 35.4s\n",
      "1787:\tlearn: 95529.3734553\ttotal: 52.1s\tremaining: 35.3s\n",
      "1788:\tlearn: 95503.4105082\ttotal: 52.1s\tremaining: 35.3s\n",
      "1789:\tlearn: 95479.5738630\ttotal: 52.2s\tremaining: 35.3s\n",
      "1790:\tlearn: 95463.3335652\ttotal: 52.2s\tremaining: 35.2s\n",
      "1791:\tlearn: 95449.9485231\ttotal: 52.2s\tremaining: 35.2s\n",
      "1792:\tlearn: 95429.7621018\ttotal: 52.3s\tremaining: 35.2s\n",
      "1793:\tlearn: 95374.7885745\ttotal: 52.3s\tremaining: 35.2s\n",
      "1794:\tlearn: 95344.7314068\ttotal: 52.3s\tremaining: 35.1s\n",
      "1795:\tlearn: 95313.9639480\ttotal: 52.4s\tremaining: 35.1s\n",
      "1796:\tlearn: 95285.6672846\ttotal: 52.4s\tremaining: 35.1s\n",
      "1797:\tlearn: 95256.2659458\ttotal: 52.4s\tremaining: 35s\n",
      "1798:\tlearn: 95224.3367372\ttotal: 52.5s\tremaining: 35s\n",
      "1799:\tlearn: 95196.5678726\ttotal: 52.5s\tremaining: 35s\n",
      "1800:\tlearn: 95183.2726812\ttotal: 52.5s\tremaining: 35s\n",
      "1801:\tlearn: 95173.4017479\ttotal: 52.5s\tremaining: 34.9s\n",
      "1802:\tlearn: 95165.0994721\ttotal: 52.6s\tremaining: 34.9s\n",
      "1803:\tlearn: 95125.1740044\ttotal: 52.6s\tremaining: 34.9s\n",
      "1804:\tlearn: 95093.3353407\ttotal: 52.6s\tremaining: 34.8s\n",
      "1805:\tlearn: 95083.0901583\ttotal: 52.6s\tremaining: 34.8s\n",
      "1806:\tlearn: 95051.4983004\ttotal: 52.7s\tremaining: 34.8s\n",
      "1807:\tlearn: 95021.1332305\ttotal: 52.7s\tremaining: 34.7s\n",
      "1808:\tlearn: 94977.0400774\ttotal: 52.7s\tremaining: 34.7s\n",
      "1809:\tlearn: 94942.7948361\ttotal: 52.8s\tremaining: 34.7s\n",
      "1810:\tlearn: 94871.8170672\ttotal: 52.8s\tremaining: 34.7s\n",
      "1811:\tlearn: 94852.1560267\ttotal: 52.8s\tremaining: 34.6s\n",
      "1812:\tlearn: 94832.6522082\ttotal: 52.8s\tremaining: 34.6s\n",
      "1813:\tlearn: 94816.5988201\ttotal: 52.9s\tremaining: 34.6s\n",
      "1814:\tlearn: 94769.6217956\ttotal: 52.9s\tremaining: 34.5s\n",
      "1815:\tlearn: 94741.4199686\ttotal: 52.9s\tremaining: 34.5s\n",
      "1816:\tlearn: 94724.2917986\ttotal: 53s\tremaining: 34.5s\n",
      "1817:\tlearn: 94702.8447985\ttotal: 53s\tremaining: 34.4s\n",
      "1818:\tlearn: 94684.9480131\ttotal: 53s\tremaining: 34.4s\n",
      "1819:\tlearn: 94672.6566950\ttotal: 53s\tremaining: 34.4s\n",
      "1820:\tlearn: 94654.1223169\ttotal: 53.1s\tremaining: 34.4s\n",
      "1821:\tlearn: 94645.2218453\ttotal: 53.1s\tremaining: 34.3s\n",
      "1822:\tlearn: 94614.5186491\ttotal: 53.1s\tremaining: 34.3s\n",
      "1823:\tlearn: 94592.5774074\ttotal: 53.2s\tremaining: 34.3s\n",
      "1824:\tlearn: 94587.5149147\ttotal: 53.2s\tremaining: 34.2s\n",
      "1825:\tlearn: 94563.2222919\ttotal: 53.2s\tremaining: 34.2s\n",
      "1826:\tlearn: 94537.2751803\ttotal: 53.2s\tremaining: 34.2s\n",
      "1827:\tlearn: 94519.4836005\ttotal: 53.3s\tremaining: 34.2s\n",
      "1828:\tlearn: 94494.5289761\ttotal: 53.3s\tremaining: 34.1s\n",
      "1829:\tlearn: 94465.8574359\ttotal: 53.3s\tremaining: 34.1s\n",
      "1830:\tlearn: 94455.1247476\ttotal: 53.4s\tremaining: 34.1s\n",
      "1831:\tlearn: 94426.2247346\ttotal: 53.4s\tremaining: 34s\n",
      "1832:\tlearn: 94410.3278586\ttotal: 53.4s\tremaining: 34s\n",
      "1833:\tlearn: 94393.4873850\ttotal: 53.5s\tremaining: 34s\n",
      "1834:\tlearn: 94362.7361638\ttotal: 53.5s\tremaining: 34s\n",
      "1835:\tlearn: 94324.4897826\ttotal: 53.5s\tremaining: 33.9s\n",
      "1836:\tlearn: 94304.6208286\ttotal: 53.5s\tremaining: 33.9s\n",
      "1837:\tlearn: 94287.0276170\ttotal: 53.6s\tremaining: 33.9s\n",
      "1838:\tlearn: 94281.7666365\ttotal: 53.6s\tremaining: 33.8s\n",
      "1839:\tlearn: 94267.1911382\ttotal: 53.6s\tremaining: 33.8s\n",
      "1840:\tlearn: 94251.7957765\ttotal: 53.6s\tremaining: 33.8s\n",
      "1841:\tlearn: 94222.3562012\ttotal: 53.7s\tremaining: 33.7s\n",
      "1842:\tlearn: 94191.2405431\ttotal: 53.7s\tremaining: 33.7s\n",
      "1843:\tlearn: 94139.2048367\ttotal: 53.7s\tremaining: 33.7s\n",
      "1844:\tlearn: 94109.0508066\ttotal: 53.8s\tremaining: 33.6s\n",
      "1845:\tlearn: 94098.6757642\ttotal: 53.8s\tremaining: 33.6s\n",
      "1846:\tlearn: 94068.5709752\ttotal: 53.8s\tremaining: 33.6s\n",
      "1847:\tlearn: 94038.5882928\ttotal: 53.8s\tremaining: 33.6s\n",
      "1848:\tlearn: 94022.3006609\ttotal: 53.9s\tremaining: 33.5s\n",
      "1849:\tlearn: 93984.4281678\ttotal: 53.9s\tremaining: 33.5s\n",
      "1850:\tlearn: 93953.2726987\ttotal: 53.9s\tremaining: 33.5s\n",
      "1851:\tlearn: 93939.9248143\ttotal: 53.9s\tremaining: 33.4s\n",
      "1852:\tlearn: 93914.9239155\ttotal: 54s\tremaining: 33.4s\n",
      "1853:\tlearn: 93900.0595506\ttotal: 54s\tremaining: 33.4s\n",
      "1854:\tlearn: 93884.3450600\ttotal: 54s\tremaining: 33.4s\n",
      "1855:\tlearn: 93849.4275488\ttotal: 54.1s\tremaining: 33.3s\n",
      "1856:\tlearn: 93834.7207582\ttotal: 54.1s\tremaining: 33.3s\n",
      "1857:\tlearn: 93805.1562116\ttotal: 54.1s\tremaining: 33.3s\n",
      "1858:\tlearn: 93774.9071475\ttotal: 54.2s\tremaining: 33.2s\n",
      "1859:\tlearn: 93758.7791771\ttotal: 54.2s\tremaining: 33.2s\n",
      "1860:\tlearn: 93707.4849364\ttotal: 54.2s\tremaining: 33.2s\n",
      "1861:\tlearn: 93679.5228581\ttotal: 54.2s\tremaining: 33.1s\n",
      "1862:\tlearn: 93657.1114751\ttotal: 54.3s\tremaining: 33.1s\n",
      "1863:\tlearn: 93631.0677620\ttotal: 54.3s\tremaining: 33.1s\n",
      "1864:\tlearn: 93619.6448919\ttotal: 54.3s\tremaining: 33.1s\n",
      "1865:\tlearn: 93608.4370314\ttotal: 54.4s\tremaining: 33s\n",
      "1866:\tlearn: 93590.3949406\ttotal: 54.4s\tremaining: 33s\n",
      "1867:\tlearn: 93566.9630134\ttotal: 54.4s\tremaining: 33s\n",
      "1868:\tlearn: 93554.2799381\ttotal: 54.4s\tremaining: 32.9s\n",
      "1869:\tlearn: 93544.9482977\ttotal: 54.5s\tremaining: 32.9s\n",
      "1870:\tlearn: 93521.8669922\ttotal: 54.5s\tremaining: 32.9s\n",
      "1871:\tlearn: 93509.0572173\ttotal: 54.5s\tremaining: 32.9s\n",
      "1872:\tlearn: 93480.0112131\ttotal: 54.6s\tremaining: 32.8s\n",
      "1873:\tlearn: 93457.4616187\ttotal: 54.6s\tremaining: 32.8s\n",
      "1874:\tlearn: 93434.4051614\ttotal: 54.6s\tremaining: 32.8s\n",
      "1875:\tlearn: 93418.7405044\ttotal: 54.6s\tremaining: 32.7s\n",
      "1876:\tlearn: 93410.1765112\ttotal: 54.7s\tremaining: 32.7s\n",
      "1877:\tlearn: 93398.9447997\ttotal: 54.7s\tremaining: 32.7s\n",
      "1878:\tlearn: 93377.1726234\ttotal: 54.7s\tremaining: 32.6s\n",
      "1879:\tlearn: 93339.5274646\ttotal: 54.7s\tremaining: 32.6s\n",
      "1880:\tlearn: 93319.0112698\ttotal: 54.8s\tremaining: 32.6s\n",
      "1881:\tlearn: 93284.1437555\ttotal: 54.8s\tremaining: 32.6s\n",
      "1882:\tlearn: 93259.2992813\ttotal: 54.8s\tremaining: 32.5s\n",
      "1883:\tlearn: 93238.4222545\ttotal: 54.9s\tremaining: 32.5s\n",
      "1884:\tlearn: 93187.5419816\ttotal: 54.9s\tremaining: 32.5s\n",
      "1885:\tlearn: 93161.6577087\ttotal: 54.9s\tremaining: 32.4s\n",
      "1886:\tlearn: 93135.5064365\ttotal: 54.9s\tremaining: 32.4s\n",
      "1887:\tlearn: 93117.8955866\ttotal: 55s\tremaining: 32.4s\n",
      "1888:\tlearn: 93108.9527146\ttotal: 55s\tremaining: 32.4s\n",
      "1889:\tlearn: 93081.6902062\ttotal: 55s\tremaining: 32.3s\n",
      "1890:\tlearn: 93043.2844166\ttotal: 55.1s\tremaining: 32.3s\n",
      "1891:\tlearn: 93027.3247999\ttotal: 55.1s\tremaining: 32.3s\n",
      "1892:\tlearn: 93005.3686079\ttotal: 55.1s\tremaining: 32.2s\n",
      "1893:\tlearn: 92986.4293030\ttotal: 55.2s\tremaining: 32.2s\n",
      "1894:\tlearn: 92945.6198436\ttotal: 55.2s\tremaining: 32.2s\n",
      "1895:\tlearn: 92908.7819327\ttotal: 55.2s\tremaining: 32.2s\n",
      "1896:\tlearn: 92905.5828690\ttotal: 55.2s\tremaining: 32.1s\n",
      "1897:\tlearn: 92874.9536698\ttotal: 55.3s\tremaining: 32.1s\n",
      "1898:\tlearn: 92856.4924048\ttotal: 55.3s\tremaining: 32.1s\n",
      "1899:\tlearn: 92816.0972472\ttotal: 55.3s\tremaining: 32s\n",
      "1900:\tlearn: 92781.1727101\ttotal: 55.4s\tremaining: 32s\n",
      "1901:\tlearn: 92766.8323684\ttotal: 55.4s\tremaining: 32s\n",
      "1902:\tlearn: 92747.6416699\ttotal: 55.4s\tremaining: 32s\n",
      "1903:\tlearn: 92734.2661431\ttotal: 55.5s\tremaining: 31.9s\n",
      "1904:\tlearn: 92680.0458471\ttotal: 55.5s\tremaining: 31.9s\n",
      "1905:\tlearn: 92654.4664948\ttotal: 55.5s\tremaining: 31.9s\n",
      "1906:\tlearn: 92623.5193974\ttotal: 55.5s\tremaining: 31.8s\n",
      "1907:\tlearn: 92579.8361141\ttotal: 55.6s\tremaining: 31.8s\n",
      "1908:\tlearn: 92551.3706919\ttotal: 55.6s\tremaining: 31.8s\n",
      "1909:\tlearn: 92510.3124376\ttotal: 55.6s\tremaining: 31.7s\n",
      "1910:\tlearn: 92502.5340943\ttotal: 55.7s\tremaining: 31.7s\n",
      "1911:\tlearn: 92476.5165005\ttotal: 55.7s\tremaining: 31.7s\n"
     ]
    },
    {
     "name": "stdout",
     "output_type": "stream",
     "text": [
      "1912:\tlearn: 92438.8310515\ttotal: 55.7s\tremaining: 31.7s\n",
      "1913:\tlearn: 92432.0680824\ttotal: 55.7s\tremaining: 31.6s\n",
      "1914:\tlearn: 92401.0016183\ttotal: 55.8s\tremaining: 31.6s\n",
      "1915:\tlearn: 92378.9178679\ttotal: 55.8s\tremaining: 31.6s\n",
      "1916:\tlearn: 92366.5766230\ttotal: 55.8s\tremaining: 31.5s\n",
      "1917:\tlearn: 92321.7527408\ttotal: 55.9s\tremaining: 31.5s\n",
      "1918:\tlearn: 92308.3826808\ttotal: 55.9s\tremaining: 31.5s\n",
      "1919:\tlearn: 92282.9804285\ttotal: 55.9s\tremaining: 31.4s\n",
      "1920:\tlearn: 92255.2243322\ttotal: 55.9s\tremaining: 31.4s\n",
      "1921:\tlearn: 92227.1893985\ttotal: 56s\tremaining: 31.4s\n",
      "1922:\tlearn: 92195.7068909\ttotal: 56s\tremaining: 31.4s\n",
      "1923:\tlearn: 92170.6482685\ttotal: 56s\tremaining: 31.3s\n",
      "1924:\tlearn: 92155.6680966\ttotal: 56.1s\tremaining: 31.3s\n",
      "1925:\tlearn: 92132.7703144\ttotal: 56.1s\tremaining: 31.3s\n",
      "1926:\tlearn: 92076.9559030\ttotal: 56.1s\tremaining: 31.2s\n",
      "1927:\tlearn: 92055.8199709\ttotal: 56.1s\tremaining: 31.2s\n",
      "1928:\tlearn: 92043.1437872\ttotal: 56.2s\tremaining: 31.2s\n",
      "1929:\tlearn: 92010.0949740\ttotal: 56.2s\tremaining: 31.2s\n",
      "1930:\tlearn: 91988.1451923\ttotal: 56.2s\tremaining: 31.1s\n",
      "1931:\tlearn: 91969.2385199\ttotal: 56.3s\tremaining: 31.1s\n",
      "1932:\tlearn: 91923.4527121\ttotal: 56.3s\tremaining: 31.1s\n",
      "1933:\tlearn: 91895.8018640\ttotal: 56.3s\tremaining: 31s\n",
      "1934:\tlearn: 91862.5647936\ttotal: 56.4s\tremaining: 31s\n",
      "1935:\tlearn: 91844.9199978\ttotal: 56.4s\tremaining: 31s\n",
      "1936:\tlearn: 91836.8783385\ttotal: 56.4s\tremaining: 31s\n",
      "1937:\tlearn: 91827.5049517\ttotal: 56.4s\tremaining: 30.9s\n",
      "1938:\tlearn: 91785.5884309\ttotal: 56.5s\tremaining: 30.9s\n",
      "1939:\tlearn: 91751.7981946\ttotal: 56.5s\tremaining: 30.9s\n",
      "1940:\tlearn: 91707.5802816\ttotal: 56.5s\tremaining: 30.8s\n",
      "1941:\tlearn: 91697.7386378\ttotal: 56.6s\tremaining: 30.8s\n",
      "1942:\tlearn: 91692.0334591\ttotal: 56.6s\tremaining: 30.8s\n",
      "1943:\tlearn: 91676.8201442\ttotal: 56.6s\tremaining: 30.8s\n",
      "1944:\tlearn: 91664.9657486\ttotal: 56.6s\tremaining: 30.7s\n",
      "1945:\tlearn: 91647.6126302\ttotal: 56.7s\tremaining: 30.7s\n",
      "1946:\tlearn: 91625.1689305\ttotal: 56.7s\tremaining: 30.7s\n",
      "1947:\tlearn: 91598.4952725\ttotal: 56.7s\tremaining: 30.6s\n",
      "1948:\tlearn: 91565.7879721\ttotal: 56.7s\tremaining: 30.6s\n",
      "1949:\tlearn: 91539.5545145\ttotal: 56.8s\tremaining: 30.6s\n",
      "1950:\tlearn: 91499.1598079\ttotal: 56.8s\tremaining: 30.5s\n",
      "1951:\tlearn: 91486.7588075\ttotal: 56.8s\tremaining: 30.5s\n",
      "1952:\tlearn: 91472.7051868\ttotal: 56.9s\tremaining: 30.5s\n",
      "1953:\tlearn: 91448.8584013\ttotal: 56.9s\tremaining: 30.5s\n",
      "1954:\tlearn: 91422.8354226\ttotal: 56.9s\tremaining: 30.4s\n",
      "1955:\tlearn: 91396.2193291\ttotal: 56.9s\tremaining: 30.4s\n",
      "1956:\tlearn: 91379.4245146\ttotal: 57s\tremaining: 30.4s\n",
      "1957:\tlearn: 91359.2283655\ttotal: 57s\tremaining: 30.3s\n",
      "1958:\tlearn: 91332.0762503\ttotal: 57s\tremaining: 30.3s\n",
      "1959:\tlearn: 91302.6416296\ttotal: 57.1s\tremaining: 30.3s\n",
      "1960:\tlearn: 91277.8206038\ttotal: 57.1s\tremaining: 30.2s\n",
      "1961:\tlearn: 91259.7254646\ttotal: 57.1s\tremaining: 30.2s\n",
      "1962:\tlearn: 91244.1534590\ttotal: 57.1s\tremaining: 30.2s\n",
      "1963:\tlearn: 91221.0973220\ttotal: 57.2s\tremaining: 30.2s\n",
      "1964:\tlearn: 91199.9258122\ttotal: 57.2s\tremaining: 30.1s\n",
      "1965:\tlearn: 91162.0715180\ttotal: 57.2s\tremaining: 30.1s\n",
      "1966:\tlearn: 91137.9327667\ttotal: 57.3s\tremaining: 30.1s\n",
      "1967:\tlearn: 91110.8814613\ttotal: 57.3s\tremaining: 30s\n",
      "1968:\tlearn: 91080.2728769\ttotal: 57.3s\tremaining: 30s\n",
      "1969:\tlearn: 91063.1053138\ttotal: 57.4s\tremaining: 30s\n",
      "1970:\tlearn: 91039.5643459\ttotal: 57.4s\tremaining: 30s\n",
      "1971:\tlearn: 91014.8844158\ttotal: 57.4s\tremaining: 29.9s\n",
      "1972:\tlearn: 90998.3580236\ttotal: 57.4s\tremaining: 29.9s\n",
      "1973:\tlearn: 90985.8099586\ttotal: 57.5s\tremaining: 29.9s\n",
      "1974:\tlearn: 90968.2026550\ttotal: 57.5s\tremaining: 29.8s\n",
      "1975:\tlearn: 90950.5685838\ttotal: 57.5s\tremaining: 29.8s\n",
      "1976:\tlearn: 90934.1584362\ttotal: 57.6s\tremaining: 29.8s\n",
      "1977:\tlearn: 90915.5556102\ttotal: 57.6s\tremaining: 29.8s\n",
      "1978:\tlearn: 90871.5341779\ttotal: 57.6s\tremaining: 29.7s\n",
      "1979:\tlearn: 90847.4159984\ttotal: 57.6s\tremaining: 29.7s\n",
      "1980:\tlearn: 90837.8218141\ttotal: 57.7s\tremaining: 29.7s\n",
      "1981:\tlearn: 90822.1293217\ttotal: 57.7s\tremaining: 29.6s\n",
      "1982:\tlearn: 90790.5162396\ttotal: 57.7s\tremaining: 29.6s\n",
      "1983:\tlearn: 90752.9679752\ttotal: 57.7s\tremaining: 29.6s\n",
      "1984:\tlearn: 90741.0537715\ttotal: 57.8s\tremaining: 29.5s\n",
      "1985:\tlearn: 90722.3732520\ttotal: 57.8s\tremaining: 29.5s\n",
      "1986:\tlearn: 90708.0222917\ttotal: 57.8s\tremaining: 29.5s\n",
      "1987:\tlearn: 90672.5931120\ttotal: 57.9s\tremaining: 29.4s\n",
      "1988:\tlearn: 90657.7836755\ttotal: 57.9s\tremaining: 29.4s\n",
      "1989:\tlearn: 90652.2508416\ttotal: 57.9s\tremaining: 29.4s\n",
      "1990:\tlearn: 90629.9376622\ttotal: 57.9s\tremaining: 29.4s\n",
      "1991:\tlearn: 90614.5589192\ttotal: 58s\tremaining: 29.3s\n",
      "1992:\tlearn: 90583.2143888\ttotal: 58s\tremaining: 29.3s\n",
      "1993:\tlearn: 90572.8071222\ttotal: 58s\tremaining: 29.3s\n",
      "1994:\tlearn: 90539.9458964\ttotal: 58.1s\tremaining: 29.2s\n",
      "1995:\tlearn: 90517.3603707\ttotal: 58.1s\tremaining: 29.2s\n",
      "1996:\tlearn: 90494.7198421\ttotal: 58.1s\tremaining: 29.2s\n",
      "1997:\tlearn: 90458.2764036\ttotal: 58.1s\tremaining: 29.2s\n",
      "1998:\tlearn: 90427.8583432\ttotal: 58.2s\tremaining: 29.1s\n",
      "1999:\tlearn: 90406.3971060\ttotal: 58.2s\tremaining: 29.1s\n",
      "2000:\tlearn: 90382.7342262\ttotal: 58.2s\tremaining: 29.1s\n",
      "2001:\tlearn: 90345.2480327\ttotal: 58.3s\tremaining: 29s\n",
      "2002:\tlearn: 90304.3856068\ttotal: 58.3s\tremaining: 29s\n",
      "2003:\tlearn: 90288.0331557\ttotal: 58.3s\tremaining: 29s\n",
      "2004:\tlearn: 90253.7895627\ttotal: 58.4s\tremaining: 29s\n",
      "2005:\tlearn: 90232.2960331\ttotal: 58.4s\tremaining: 28.9s\n",
      "2006:\tlearn: 90206.2392256\ttotal: 58.4s\tremaining: 28.9s\n",
      "2007:\tlearn: 90192.0580418\ttotal: 58.4s\tremaining: 28.9s\n",
      "2008:\tlearn: 90166.0776432\ttotal: 58.5s\tremaining: 28.8s\n",
      "2009:\tlearn: 90129.6489119\ttotal: 58.5s\tremaining: 28.8s\n",
      "2010:\tlearn: 90102.5778064\ttotal: 58.5s\tremaining: 28.8s\n",
      "2011:\tlearn: 90070.7421124\ttotal: 58.6s\tremaining: 28.8s\n",
      "2012:\tlearn: 90049.5775752\ttotal: 58.6s\tremaining: 28.7s\n",
      "2013:\tlearn: 90022.3329297\ttotal: 58.6s\tremaining: 28.7s\n",
      "2014:\tlearn: 89999.2133301\ttotal: 58.6s\tremaining: 28.7s\n",
      "2015:\tlearn: 89954.3928513\ttotal: 58.7s\tremaining: 28.6s\n",
      "2016:\tlearn: 89937.6464790\ttotal: 58.7s\tremaining: 28.6s\n",
      "2017:\tlearn: 89913.2644872\ttotal: 58.7s\tremaining: 28.6s\n",
      "2018:\tlearn: 89863.3060658\ttotal: 58.7s\tremaining: 28.5s\n",
      "2019:\tlearn: 89830.4919797\ttotal: 58.8s\tremaining: 28.5s\n",
      "2020:\tlearn: 89813.0228409\ttotal: 58.8s\tremaining: 28.5s\n",
      "2021:\tlearn: 89782.5608065\ttotal: 58.8s\tremaining: 28.5s\n",
      "2022:\tlearn: 89772.9234062\ttotal: 58.9s\tremaining: 28.4s\n",
      "2023:\tlearn: 89745.5641766\ttotal: 58.9s\tremaining: 28.4s\n",
      "2024:\tlearn: 89684.3210223\ttotal: 58.9s\tremaining: 28.4s\n",
      "2025:\tlearn: 89662.0711670\ttotal: 59s\tremaining: 28.3s\n",
      "2026:\tlearn: 89614.6998259\ttotal: 59s\tremaining: 28.3s\n",
      "2027:\tlearn: 89579.3282352\ttotal: 59s\tremaining: 28.3s\n",
      "2028:\tlearn: 89548.4144115\ttotal: 59s\tremaining: 28.3s\n",
      "2029:\tlearn: 89527.6636526\ttotal: 59.1s\tremaining: 28.2s\n",
      "2030:\tlearn: 89518.3689506\ttotal: 59.1s\tremaining: 28.2s\n",
      "2031:\tlearn: 89484.1795532\ttotal: 59.1s\tremaining: 28.2s\n",
      "2032:\tlearn: 89467.6914755\ttotal: 59.2s\tremaining: 28.1s\n",
      "2033:\tlearn: 89456.0129744\ttotal: 59.2s\tremaining: 28.1s\n",
      "2034:\tlearn: 89437.8604453\ttotal: 59.2s\tremaining: 28.1s\n",
      "2035:\tlearn: 89412.6900625\ttotal: 59.2s\tremaining: 28s\n",
      "2036:\tlearn: 89390.4175400\ttotal: 59.3s\tremaining: 28s\n",
      "2037:\tlearn: 89370.8583120\ttotal: 59.3s\tremaining: 28s\n",
      "2038:\tlearn: 89342.8297277\ttotal: 59.3s\tremaining: 28s\n",
      "2039:\tlearn: 89329.6332459\ttotal: 59.4s\tremaining: 27.9s\n",
      "2040:\tlearn: 89298.6287061\ttotal: 59.4s\tremaining: 27.9s\n",
      "2041:\tlearn: 89271.4234234\ttotal: 59.4s\tremaining: 27.9s\n",
      "2042:\tlearn: 89253.9665591\ttotal: 59.5s\tremaining: 27.8s\n",
      "2043:\tlearn: 89238.0120846\ttotal: 59.5s\tremaining: 27.8s\n",
      "2044:\tlearn: 89215.4404756\ttotal: 59.5s\tremaining: 27.8s\n",
      "2045:\tlearn: 89199.1037181\ttotal: 59.5s\tremaining: 27.8s\n",
      "2046:\tlearn: 89187.4907830\ttotal: 59.6s\tremaining: 27.7s\n",
      "2047:\tlearn: 89156.1622621\ttotal: 59.6s\tremaining: 27.7s\n",
      "2048:\tlearn: 89129.9861944\ttotal: 59.6s\tremaining: 27.7s\n",
      "2049:\tlearn: 89118.7346163\ttotal: 59.6s\tremaining: 27.6s\n",
      "2050:\tlearn: 89091.4342238\ttotal: 59.7s\tremaining: 27.6s\n",
      "2051:\tlearn: 89048.3846332\ttotal: 59.7s\tremaining: 27.6s\n",
      "2052:\tlearn: 89027.2763833\ttotal: 59.7s\tremaining: 27.6s\n",
      "2053:\tlearn: 89010.2485834\ttotal: 59.8s\tremaining: 27.5s\n",
      "2054:\tlearn: 88991.6552915\ttotal: 59.8s\tremaining: 27.5s\n",
      "2055:\tlearn: 88973.2097843\ttotal: 59.8s\tremaining: 27.5s\n",
      "2056:\tlearn: 88942.1820810\ttotal: 59.8s\tremaining: 27.4s\n",
      "2057:\tlearn: 88925.9992232\ttotal: 59.9s\tremaining: 27.4s\n",
      "2058:\tlearn: 88915.3900950\ttotal: 59.9s\tremaining: 27.4s\n"
     ]
    },
    {
     "name": "stdout",
     "output_type": "stream",
     "text": [
      "2059:\tlearn: 88895.8633468\ttotal: 59.9s\tremaining: 27.3s\n",
      "2060:\tlearn: 88879.5992919\ttotal: 60s\tremaining: 27.3s\n",
      "2061:\tlearn: 88849.2339108\ttotal: 60s\tremaining: 27.3s\n",
      "2062:\tlearn: 88804.5411370\ttotal: 1m\tremaining: 27.3s\n",
      "2063:\tlearn: 88782.1196483\ttotal: 1m\tremaining: 27.2s\n",
      "2064:\tlearn: 88770.9564790\ttotal: 1m\tremaining: 27.2s\n",
      "2065:\tlearn: 88758.2015881\ttotal: 1m\tremaining: 27.2s\n",
      "2066:\tlearn: 88745.2954506\ttotal: 1m\tremaining: 27.1s\n",
      "2067:\tlearn: 88732.0053019\ttotal: 1m\tremaining: 27.1s\n",
      "2068:\tlearn: 88712.6408676\ttotal: 1m\tremaining: 27.1s\n",
      "2069:\tlearn: 88696.9088265\ttotal: 1m\tremaining: 27.1s\n",
      "2070:\tlearn: 88680.3145634\ttotal: 1m\tremaining: 27s\n",
      "2071:\tlearn: 88667.9118065\ttotal: 1m\tremaining: 27s\n",
      "2072:\tlearn: 88651.0480890\ttotal: 1m\tremaining: 27s\n",
      "2073:\tlearn: 88579.8347873\ttotal: 1m\tremaining: 26.9s\n",
      "2074:\tlearn: 88559.7193148\ttotal: 1m\tremaining: 26.9s\n",
      "2075:\tlearn: 88529.7389787\ttotal: 1m\tremaining: 26.9s\n",
      "2076:\tlearn: 88518.6968943\ttotal: 1m\tremaining: 26.9s\n",
      "2077:\tlearn: 88506.8689858\ttotal: 1m\tremaining: 26.8s\n",
      "2078:\tlearn: 88488.0743811\ttotal: 1m\tremaining: 26.8s\n",
      "2079:\tlearn: 88468.0264997\ttotal: 1m\tremaining: 26.8s\n",
      "2080:\tlearn: 88454.8264308\ttotal: 1m\tremaining: 26.7s\n",
      "2081:\tlearn: 88419.1611940\ttotal: 1m\tremaining: 26.7s\n",
      "2082:\tlearn: 88387.8600593\ttotal: 1m\tremaining: 26.7s\n",
      "2083:\tlearn: 88354.3163324\ttotal: 1m\tremaining: 26.6s\n",
      "2084:\tlearn: 88324.1708389\ttotal: 1m\tremaining: 26.6s\n",
      "2085:\tlearn: 88294.3450883\ttotal: 1m\tremaining: 26.6s\n",
      "2086:\tlearn: 88279.3441443\ttotal: 1m\tremaining: 26.6s\n",
      "2087:\tlearn: 88265.2610547\ttotal: 1m\tremaining: 26.5s\n",
      "2088:\tlearn: 88242.1315222\ttotal: 1m\tremaining: 26.5s\n",
      "2089:\tlearn: 88225.0756164\ttotal: 1m\tremaining: 26.5s\n",
      "2090:\tlearn: 88203.4548135\ttotal: 1m\tremaining: 26.4s\n",
      "2091:\tlearn: 88175.1315398\ttotal: 1m\tremaining: 26.4s\n",
      "2092:\tlearn: 88156.8199850\ttotal: 1m\tremaining: 26.4s\n",
      "2093:\tlearn: 88125.5399070\ttotal: 1m\tremaining: 26.4s\n",
      "2094:\tlearn: 88098.9692068\ttotal: 1m\tremaining: 26.3s\n",
      "2095:\tlearn: 88085.5145726\ttotal: 1m\tremaining: 26.3s\n",
      "2096:\tlearn: 88076.2322206\ttotal: 1m\tremaining: 26.3s\n",
      "2097:\tlearn: 88052.1925312\ttotal: 1m 1s\tremaining: 26.2s\n",
      "2098:\tlearn: 88038.0806342\ttotal: 1m 1s\tremaining: 26.2s\n",
      "2099:\tlearn: 88018.2406250\ttotal: 1m 1s\tremaining: 26.2s\n",
      "2100:\tlearn: 87998.4886333\ttotal: 1m 1s\tremaining: 26.1s\n",
      "2101:\tlearn: 87975.3459065\ttotal: 1m 1s\tremaining: 26.1s\n",
      "2102:\tlearn: 87955.1401955\ttotal: 1m 1s\tremaining: 26.1s\n",
      "2103:\tlearn: 87935.5322497\ttotal: 1m 1s\tremaining: 26.1s\n",
      "2104:\tlearn: 87880.9346499\ttotal: 1m 1s\tremaining: 26s\n",
      "2105:\tlearn: 87835.3635001\ttotal: 1m 1s\tremaining: 26s\n",
      "2106:\tlearn: 87817.8636851\ttotal: 1m 1s\tremaining: 26s\n",
      "2107:\tlearn: 87812.4583660\ttotal: 1m 1s\tremaining: 25.9s\n",
      "2108:\tlearn: 87795.3483176\ttotal: 1m 1s\tremaining: 25.9s\n",
      "2109:\tlearn: 87775.8963177\ttotal: 1m 1s\tremaining: 25.9s\n",
      "2110:\tlearn: 87763.9923162\ttotal: 1m 1s\tremaining: 25.9s\n",
      "2111:\tlearn: 87744.6161361\ttotal: 1m 1s\tremaining: 25.8s\n",
      "2112:\tlearn: 87729.7349718\ttotal: 1m 1s\tremaining: 25.8s\n",
      "2113:\tlearn: 87712.5963872\ttotal: 1m 1s\tremaining: 25.8s\n",
      "2114:\tlearn: 87686.9459227\ttotal: 1m 1s\tremaining: 25.7s\n",
      "2115:\tlearn: 87662.7059048\ttotal: 1m 1s\tremaining: 25.7s\n",
      "2116:\tlearn: 87646.6118315\ttotal: 1m 1s\tremaining: 25.7s\n",
      "2117:\tlearn: 87633.7679311\ttotal: 1m 1s\tremaining: 25.7s\n",
      "2118:\tlearn: 87618.4576324\ttotal: 1m 1s\tremaining: 25.6s\n",
      "2119:\tlearn: 87603.1020096\ttotal: 1m 1s\tremaining: 25.6s\n",
      "2120:\tlearn: 87589.8795841\ttotal: 1m 1s\tremaining: 25.6s\n",
      "2121:\tlearn: 87550.8733016\ttotal: 1m 1s\tremaining: 25.5s\n",
      "2122:\tlearn: 87533.0619157\ttotal: 1m 1s\tremaining: 25.5s\n",
      "2123:\tlearn: 87515.4852783\ttotal: 1m 1s\tremaining: 25.5s\n",
      "2124:\tlearn: 87491.7630063\ttotal: 1m 1s\tremaining: 25.5s\n",
      "2125:\tlearn: 87467.6285908\ttotal: 1m 1s\tremaining: 25.4s\n",
      "2126:\tlearn: 87449.7872112\ttotal: 1m 1s\tremaining: 25.4s\n",
      "2127:\tlearn: 87426.7488292\ttotal: 1m 1s\tremaining: 25.4s\n",
      "2128:\tlearn: 87403.2216520\ttotal: 1m 1s\tremaining: 25.3s\n",
      "2129:\tlearn: 87373.5056536\ttotal: 1m 1s\tremaining: 25.3s\n",
      "2130:\tlearn: 87347.5798728\ttotal: 1m 2s\tremaining: 25.3s\n",
      "2131:\tlearn: 87328.9549018\ttotal: 1m 2s\tremaining: 25.3s\n",
      "2132:\tlearn: 87312.4129426\ttotal: 1m 2s\tremaining: 25.2s\n",
      "2133:\tlearn: 87296.7347588\ttotal: 1m 2s\tremaining: 25.2s\n",
      "2134:\tlearn: 87278.6729390\ttotal: 1m 2s\tremaining: 25.2s\n",
      "2135:\tlearn: 87261.9346148\ttotal: 1m 2s\tremaining: 25.1s\n",
      "2136:\tlearn: 87242.1191791\ttotal: 1m 2s\tremaining: 25.1s\n",
      "2137:\tlearn: 87221.9884966\ttotal: 1m 2s\tremaining: 25.1s\n",
      "2138:\tlearn: 87202.7803547\ttotal: 1m 2s\tremaining: 25.1s\n",
      "2139:\tlearn: 87182.8157630\ttotal: 1m 2s\tremaining: 25s\n",
      "2140:\tlearn: 87145.0372098\ttotal: 1m 2s\tremaining: 25s\n",
      "2141:\tlearn: 87120.4535535\ttotal: 1m 2s\tremaining: 25s\n",
      "2142:\tlearn: 87102.3515662\ttotal: 1m 2s\tremaining: 24.9s\n",
      "2143:\tlearn: 87082.0087140\ttotal: 1m 2s\tremaining: 24.9s\n",
      "2144:\tlearn: 87057.6465396\ttotal: 1m 2s\tremaining: 24.9s\n",
      "2145:\tlearn: 87043.6091165\ttotal: 1m 2s\tremaining: 24.9s\n",
      "2146:\tlearn: 87029.2988035\ttotal: 1m 2s\tremaining: 24.8s\n",
      "2147:\tlearn: 87003.1320725\ttotal: 1m 2s\tremaining: 24.8s\n",
      "2148:\tlearn: 86976.4021818\ttotal: 1m 2s\tremaining: 24.8s\n",
      "2149:\tlearn: 86954.1413522\ttotal: 1m 2s\tremaining: 24.7s\n",
      "2150:\tlearn: 86930.3251282\ttotal: 1m 2s\tremaining: 24.7s\n",
      "2151:\tlearn: 86910.9766392\ttotal: 1m 2s\tremaining: 24.7s\n",
      "2152:\tlearn: 86890.9642052\ttotal: 1m 2s\tremaining: 24.6s\n",
      "2153:\tlearn: 86875.8890940\ttotal: 1m 2s\tremaining: 24.6s\n",
      "2154:\tlearn: 86860.4489218\ttotal: 1m 2s\tremaining: 24.6s\n",
      "2155:\tlearn: 86848.4817372\ttotal: 1m 2s\tremaining: 24.6s\n",
      "2156:\tlearn: 86805.9240912\ttotal: 1m 2s\tremaining: 24.5s\n",
      "2157:\tlearn: 86778.3016748\ttotal: 1m 2s\tremaining: 24.5s\n",
      "2158:\tlearn: 86766.5055561\ttotal: 1m 2s\tremaining: 24.5s\n",
      "2159:\tlearn: 86752.0893792\ttotal: 1m 2s\tremaining: 24.4s\n",
      "2160:\tlearn: 86744.4297056\ttotal: 1m 2s\tremaining: 24.4s\n",
      "2161:\tlearn: 86730.1541100\ttotal: 1m 2s\tremaining: 24.4s\n",
      "2162:\tlearn: 86713.4031597\ttotal: 1m 2s\tremaining: 24.4s\n",
      "2163:\tlearn: 86699.8562353\ttotal: 1m 2s\tremaining: 24.3s\n",
      "2164:\tlearn: 86678.3714546\ttotal: 1m 2s\tremaining: 24.3s\n",
      "2165:\tlearn: 86642.3061511\ttotal: 1m 3s\tremaining: 24.3s\n",
      "2166:\tlearn: 86621.4510894\ttotal: 1m 3s\tremaining: 24.2s\n",
      "2167:\tlearn: 86609.0776392\ttotal: 1m 3s\tremaining: 24.2s\n",
      "2168:\tlearn: 86596.2455339\ttotal: 1m 3s\tremaining: 24.2s\n",
      "2169:\tlearn: 86567.8767536\ttotal: 1m 3s\tremaining: 24.2s\n",
      "2170:\tlearn: 86553.0221936\ttotal: 1m 3s\tremaining: 24.1s\n",
      "2171:\tlearn: 86532.6983445\ttotal: 1m 3s\tremaining: 24.1s\n",
      "2172:\tlearn: 86517.5816630\ttotal: 1m 3s\tremaining: 24.1s\n",
      "2173:\tlearn: 86505.6683921\ttotal: 1m 3s\tremaining: 24s\n",
      "2174:\tlearn: 86489.3018383\ttotal: 1m 3s\tremaining: 24s\n",
      "2175:\tlearn: 86430.7995819\ttotal: 1m 3s\tremaining: 24s\n",
      "2176:\tlearn: 86417.5517448\ttotal: 1m 3s\tremaining: 24s\n",
      "2177:\tlearn: 86383.0987714\ttotal: 1m 3s\tremaining: 23.9s\n",
      "2178:\tlearn: 86372.6017483\ttotal: 1m 3s\tremaining: 23.9s\n",
      "2179:\tlearn: 86342.5229201\ttotal: 1m 3s\tremaining: 23.9s\n",
      "2180:\tlearn: 86324.4599589\ttotal: 1m 3s\tremaining: 23.9s\n",
      "2181:\tlearn: 86307.4494506\ttotal: 1m 3s\tremaining: 23.8s\n",
      "2182:\tlearn: 86265.0656113\ttotal: 1m 3s\tremaining: 23.8s\n",
      "2183:\tlearn: 86252.2680345\ttotal: 1m 3s\tremaining: 23.8s\n",
      "2184:\tlearn: 86232.0166138\ttotal: 1m 3s\tremaining: 23.7s\n",
      "2185:\tlearn: 86216.3607214\ttotal: 1m 3s\tremaining: 23.7s\n",
      "2186:\tlearn: 86185.9922762\ttotal: 1m 3s\tremaining: 23.7s\n",
      "2187:\tlearn: 86166.8633129\ttotal: 1m 3s\tremaining: 23.6s\n",
      "2188:\tlearn: 86155.0769875\ttotal: 1m 3s\tremaining: 23.6s\n",
      "2189:\tlearn: 86135.3034386\ttotal: 1m 3s\tremaining: 23.6s\n",
      "2190:\tlearn: 86120.7532646\ttotal: 1m 3s\tremaining: 23.6s\n",
      "2191:\tlearn: 86102.6770537\ttotal: 1m 3s\tremaining: 23.5s\n",
      "2192:\tlearn: 86090.2273411\ttotal: 1m 3s\tremaining: 23.5s\n",
      "2193:\tlearn: 86055.9647223\ttotal: 1m 3s\tremaining: 23.5s\n",
      "2194:\tlearn: 86026.3843535\ttotal: 1m 3s\tremaining: 23.4s\n",
      "2195:\tlearn: 86004.1232660\ttotal: 1m 3s\tremaining: 23.4s\n",
      "2196:\tlearn: 85981.7648066\ttotal: 1m 4s\tremaining: 23.4s\n",
      "2197:\tlearn: 85959.1871024\ttotal: 1m 4s\tremaining: 23.4s\n",
      "2198:\tlearn: 85935.4832622\ttotal: 1m 4s\tremaining: 23.3s\n",
      "2199:\tlearn: 85917.1305806\ttotal: 1m 4s\tremaining: 23.3s\n",
      "2200:\tlearn: 85900.1450863\ttotal: 1m 4s\tremaining: 23.3s\n",
      "2201:\tlearn: 85889.6939923\ttotal: 1m 4s\tremaining: 23.3s\n",
      "2202:\tlearn: 85856.3623949\ttotal: 1m 4s\tremaining: 23.2s\n",
      "2203:\tlearn: 85834.3304027\ttotal: 1m 4s\tremaining: 23.2s\n",
      "2204:\tlearn: 85815.3782711\ttotal: 1m 4s\tremaining: 23.2s\n",
      "2205:\tlearn: 85778.4410856\ttotal: 1m 4s\tremaining: 23.1s\n",
      "2206:\tlearn: 85732.9851469\ttotal: 1m 4s\tremaining: 23.1s\n",
      "2207:\tlearn: 85725.4228852\ttotal: 1m 4s\tremaining: 23.1s\n",
      "2208:\tlearn: 85670.2596987\ttotal: 1m 4s\tremaining: 23.1s\n"
     ]
    },
    {
     "name": "stdout",
     "output_type": "stream",
     "text": [
      "2209:\tlearn: 85660.6430745\ttotal: 1m 4s\tremaining: 23s\n",
      "2210:\tlearn: 85645.0562906\ttotal: 1m 4s\tremaining: 23s\n",
      "2211:\tlearn: 85614.8787789\ttotal: 1m 4s\tremaining: 23s\n",
      "2212:\tlearn: 85600.9539290\ttotal: 1m 4s\tremaining: 22.9s\n",
      "2213:\tlearn: 85578.0320323\ttotal: 1m 4s\tremaining: 22.9s\n",
      "2214:\tlearn: 85554.7946313\ttotal: 1m 4s\tremaining: 22.9s\n",
      "2215:\tlearn: 85533.7726536\ttotal: 1m 4s\tremaining: 22.8s\n",
      "2216:\tlearn: 85523.3552646\ttotal: 1m 4s\tremaining: 22.8s\n",
      "2217:\tlearn: 85507.9446870\ttotal: 1m 4s\tremaining: 22.8s\n",
      "2218:\tlearn: 85485.2605625\ttotal: 1m 4s\tremaining: 22.8s\n",
      "2219:\tlearn: 85469.1799428\ttotal: 1m 4s\tremaining: 22.7s\n",
      "2220:\tlearn: 85446.3901164\ttotal: 1m 4s\tremaining: 22.7s\n",
      "2221:\tlearn: 85426.7120797\ttotal: 1m 4s\tremaining: 22.7s\n",
      "2222:\tlearn: 85407.4085528\ttotal: 1m 4s\tremaining: 22.6s\n",
      "2223:\tlearn: 85402.0291579\ttotal: 1m 4s\tremaining: 22.6s\n",
      "2224:\tlearn: 85389.7153792\ttotal: 1m 4s\tremaining: 22.6s\n",
      "2225:\tlearn: 85370.7618511\ttotal: 1m 4s\tremaining: 22.6s\n",
      "2226:\tlearn: 85352.0890937\ttotal: 1m 4s\tremaining: 22.5s\n",
      "2227:\tlearn: 85333.3777680\ttotal: 1m 4s\tremaining: 22.5s\n",
      "2228:\tlearn: 85316.7797718\ttotal: 1m 4s\tremaining: 22.5s\n",
      "2229:\tlearn: 85298.5288499\ttotal: 1m 4s\tremaining: 22.4s\n",
      "2230:\tlearn: 85281.4597753\ttotal: 1m 4s\tremaining: 22.4s\n",
      "2231:\tlearn: 85264.5148774\ttotal: 1m 5s\tremaining: 22.4s\n",
      "2232:\tlearn: 85250.7203092\ttotal: 1m 5s\tremaining: 22.3s\n",
      "2233:\tlearn: 85230.5066996\ttotal: 1m 5s\tremaining: 22.3s\n",
      "2234:\tlearn: 85209.1576904\ttotal: 1m 5s\tremaining: 22.3s\n",
      "2235:\tlearn: 85192.1072806\ttotal: 1m 5s\tremaining: 22.3s\n",
      "2236:\tlearn: 85179.3158412\ttotal: 1m 5s\tremaining: 22.2s\n",
      "2237:\tlearn: 85164.0536431\ttotal: 1m 5s\tremaining: 22.2s\n",
      "2238:\tlearn: 85131.1064354\ttotal: 1m 5s\tremaining: 22.2s\n",
      "2239:\tlearn: 85114.6632754\ttotal: 1m 5s\tremaining: 22.1s\n",
      "2240:\tlearn: 85088.2213001\ttotal: 1m 5s\tremaining: 22.1s\n",
      "2241:\tlearn: 85078.5417290\ttotal: 1m 5s\tremaining: 22.1s\n",
      "2242:\tlearn: 85064.6619778\ttotal: 1m 5s\tremaining: 22.1s\n",
      "2243:\tlearn: 85034.7945058\ttotal: 1m 5s\tremaining: 22s\n",
      "2244:\tlearn: 84990.0154713\ttotal: 1m 5s\tremaining: 22s\n",
      "2245:\tlearn: 84975.4432214\ttotal: 1m 5s\tremaining: 22s\n",
      "2246:\tlearn: 84964.2808778\ttotal: 1m 5s\tremaining: 21.9s\n",
      "2247:\tlearn: 84919.1033463\ttotal: 1m 5s\tremaining: 21.9s\n",
      "2248:\tlearn: 84897.4410527\ttotal: 1m 5s\tremaining: 21.9s\n",
      "2249:\tlearn: 84871.3854435\ttotal: 1m 5s\tremaining: 21.9s\n",
      "2250:\tlearn: 84849.6883163\ttotal: 1m 5s\tremaining: 21.8s\n",
      "2251:\tlearn: 84830.6863097\ttotal: 1m 5s\tremaining: 21.8s\n",
      "2252:\tlearn: 84824.1189983\ttotal: 1m 5s\tremaining: 21.8s\n",
      "2253:\tlearn: 84814.1160653\ttotal: 1m 5s\tremaining: 21.7s\n",
      "2254:\tlearn: 84788.2253346\ttotal: 1m 5s\tremaining: 21.7s\n",
      "2255:\tlearn: 84762.2451565\ttotal: 1m 5s\tremaining: 21.7s\n",
      "2256:\tlearn: 84746.2633881\ttotal: 1m 5s\tremaining: 21.6s\n",
      "2257:\tlearn: 84729.3586739\ttotal: 1m 5s\tremaining: 21.6s\n",
      "2258:\tlearn: 84713.6401827\ttotal: 1m 5s\tremaining: 21.6s\n",
      "2259:\tlearn: 84704.3233907\ttotal: 1m 5s\tremaining: 21.6s\n",
      "2260:\tlearn: 84686.3958216\ttotal: 1m 5s\tremaining: 21.5s\n",
      "2261:\tlearn: 84673.7507194\ttotal: 1m 5s\tremaining: 21.5s\n",
      "2262:\tlearn: 84656.9393493\ttotal: 1m 5s\tremaining: 21.5s\n",
      "2263:\tlearn: 84647.9192746\ttotal: 1m 5s\tremaining: 21.4s\n",
      "2264:\tlearn: 84637.7264921\ttotal: 1m 5s\tremaining: 21.4s\n",
      "2265:\tlearn: 84622.7460026\ttotal: 1m 6s\tremaining: 21.4s\n",
      "2266:\tlearn: 84614.4836128\ttotal: 1m 6s\tremaining: 21.4s\n",
      "2267:\tlearn: 84599.5204031\ttotal: 1m 6s\tremaining: 21.3s\n",
      "2268:\tlearn: 84580.8732318\ttotal: 1m 6s\tremaining: 21.3s\n",
      "2269:\tlearn: 84565.4381621\ttotal: 1m 6s\tremaining: 21.3s\n",
      "2270:\tlearn: 84551.6472232\ttotal: 1m 6s\tremaining: 21.2s\n",
      "2271:\tlearn: 84527.5876713\ttotal: 1m 6s\tremaining: 21.2s\n",
      "2272:\tlearn: 84486.0044935\ttotal: 1m 6s\tremaining: 21.2s\n",
      "2273:\tlearn: 84464.9083470\ttotal: 1m 6s\tremaining: 21.2s\n",
      "2274:\tlearn: 84454.2966129\ttotal: 1m 6s\tremaining: 21.1s\n",
      "2275:\tlearn: 84418.3183449\ttotal: 1m 6s\tremaining: 21.1s\n",
      "2276:\tlearn: 84388.2443523\ttotal: 1m 6s\tremaining: 21.1s\n",
      "2277:\tlearn: 84365.7887319\ttotal: 1m 6s\tremaining: 21s\n",
      "2278:\tlearn: 84329.5373051\ttotal: 1m 6s\tremaining: 21s\n",
      "2279:\tlearn: 84314.0190353\ttotal: 1m 6s\tremaining: 21s\n",
      "2280:\tlearn: 84285.3539849\ttotal: 1m 6s\tremaining: 20.9s\n",
      "2281:\tlearn: 84259.4456316\ttotal: 1m 6s\tremaining: 20.9s\n",
      "2282:\tlearn: 84242.1256253\ttotal: 1m 6s\tremaining: 20.9s\n",
      "2283:\tlearn: 84214.3181660\ttotal: 1m 6s\tremaining: 20.9s\n",
      "2284:\tlearn: 84191.0383024\ttotal: 1m 6s\tremaining: 20.8s\n",
      "2285:\tlearn: 84182.0153366\ttotal: 1m 6s\tremaining: 20.8s\n",
      "2286:\tlearn: 84164.3277753\ttotal: 1m 6s\tremaining: 20.8s\n",
      "2287:\tlearn: 84138.3315026\ttotal: 1m 6s\tremaining: 20.7s\n",
      "2288:\tlearn: 84132.5823693\ttotal: 1m 6s\tremaining: 20.7s\n",
      "2289:\tlearn: 84109.5184671\ttotal: 1m 6s\tremaining: 20.7s\n",
      "2290:\tlearn: 84091.5246411\ttotal: 1m 6s\tremaining: 20.6s\n",
      "2291:\tlearn: 84082.3253499\ttotal: 1m 6s\tremaining: 20.6s\n",
      "2292:\tlearn: 84062.4870867\ttotal: 1m 6s\tremaining: 20.6s\n",
      "2293:\tlearn: 84051.6342425\ttotal: 1m 6s\tremaining: 20.6s\n",
      "2294:\tlearn: 84017.4905631\ttotal: 1m 6s\tremaining: 20.5s\n",
      "2295:\tlearn: 84005.2520645\ttotal: 1m 6s\tremaining: 20.5s\n",
      "2296:\tlearn: 83993.7461708\ttotal: 1m 6s\tremaining: 20.5s\n",
      "2297:\tlearn: 83973.5861179\ttotal: 1m 6s\tremaining: 20.4s\n",
      "2298:\tlearn: 83940.2792437\ttotal: 1m 6s\tremaining: 20.4s\n",
      "2299:\tlearn: 83920.3855702\ttotal: 1m 6s\tremaining: 20.4s\n",
      "2300:\tlearn: 83900.1728888\ttotal: 1m 7s\tremaining: 20.4s\n",
      "2301:\tlearn: 83881.9655243\ttotal: 1m 7s\tremaining: 20.3s\n",
      "2302:\tlearn: 83862.5723048\ttotal: 1m 7s\tremaining: 20.3s\n",
      "2303:\tlearn: 83848.1032999\ttotal: 1m 7s\tremaining: 20.3s\n",
      "2304:\tlearn: 83847.4183574\ttotal: 1m 7s\tremaining: 20.2s\n",
      "2305:\tlearn: 83834.4019986\ttotal: 1m 7s\tremaining: 20.2s\n",
      "2306:\tlearn: 83818.3825885\ttotal: 1m 7s\tremaining: 20.2s\n",
      "2307:\tlearn: 83803.6523739\ttotal: 1m 7s\tremaining: 20.2s\n",
      "2308:\tlearn: 83778.8987680\ttotal: 1m 7s\tremaining: 20.1s\n",
      "2309:\tlearn: 83754.0443801\ttotal: 1m 7s\tremaining: 20.1s\n",
      "2310:\tlearn: 83737.5149297\ttotal: 1m 7s\tremaining: 20.1s\n",
      "2311:\tlearn: 83726.6207711\ttotal: 1m 7s\tremaining: 20s\n",
      "2312:\tlearn: 83707.2432887\ttotal: 1m 7s\tremaining: 20s\n",
      "2313:\tlearn: 83695.1481882\ttotal: 1m 7s\tremaining: 20s\n",
      "2314:\tlearn: 83664.9800241\ttotal: 1m 7s\tremaining: 20s\n",
      "2315:\tlearn: 83646.9099002\ttotal: 1m 7s\tremaining: 19.9s\n",
      "2316:\tlearn: 83625.0663657\ttotal: 1m 7s\tremaining: 19.9s\n",
      "2317:\tlearn: 83606.1837598\ttotal: 1m 7s\tremaining: 19.9s\n",
      "2318:\tlearn: 83576.6518018\ttotal: 1m 7s\tremaining: 19.8s\n",
      "2319:\tlearn: 83564.6527400\ttotal: 1m 7s\tremaining: 19.8s\n",
      "2320:\tlearn: 83556.2629812\ttotal: 1m 7s\tremaining: 19.8s\n",
      "2321:\tlearn: 83539.2625455\ttotal: 1m 7s\tremaining: 19.7s\n",
      "2322:\tlearn: 83532.0922108\ttotal: 1m 7s\tremaining: 19.7s\n",
      "2323:\tlearn: 83520.4384428\ttotal: 1m 7s\tremaining: 19.7s\n",
      "2324:\tlearn: 83490.8472494\ttotal: 1m 7s\tremaining: 19.7s\n",
      "2325:\tlearn: 83477.9621729\ttotal: 1m 7s\tremaining: 19.6s\n",
      "2326:\tlearn: 83456.1014059\ttotal: 1m 7s\tremaining: 19.6s\n",
      "2327:\tlearn: 83441.9540533\ttotal: 1m 7s\tremaining: 19.6s\n",
      "2328:\tlearn: 83425.6624228\ttotal: 1m 7s\tremaining: 19.5s\n",
      "2329:\tlearn: 83412.5211336\ttotal: 1m 7s\tremaining: 19.5s\n",
      "2330:\tlearn: 83385.2920355\ttotal: 1m 7s\tremaining: 19.5s\n",
      "2331:\tlearn: 83372.1995075\ttotal: 1m 7s\tremaining: 19.4s\n",
      "2332:\tlearn: 83355.0934761\ttotal: 1m 7s\tremaining: 19.4s\n",
      "2333:\tlearn: 83336.4151862\ttotal: 1m 7s\tremaining: 19.4s\n",
      "2334:\tlearn: 83320.2211516\ttotal: 1m 7s\tremaining: 19.4s\n",
      "2335:\tlearn: 83304.9456315\ttotal: 1m 8s\tremaining: 19.3s\n",
      "2336:\tlearn: 83285.0851460\ttotal: 1m 8s\tremaining: 19.3s\n",
      "2337:\tlearn: 83269.1136888\ttotal: 1m 8s\tremaining: 19.3s\n",
      "2338:\tlearn: 83254.3455607\ttotal: 1m 8s\tremaining: 19.2s\n",
      "2339:\tlearn: 83237.1098723\ttotal: 1m 8s\tremaining: 19.2s\n",
      "2340:\tlearn: 83225.0215748\ttotal: 1m 8s\tremaining: 19.2s\n",
      "2341:\tlearn: 83215.1700741\ttotal: 1m 8s\tremaining: 19.2s\n",
      "2342:\tlearn: 83207.5493874\ttotal: 1m 8s\tremaining: 19.1s\n",
      "2343:\tlearn: 83191.2074148\ttotal: 1m 8s\tremaining: 19.1s\n",
      "2344:\tlearn: 83178.8999280\ttotal: 1m 8s\tremaining: 19.1s\n",
      "2345:\tlearn: 83154.4741327\ttotal: 1m 8s\tremaining: 19s\n",
      "2346:\tlearn: 83127.4909718\ttotal: 1m 8s\tremaining: 19s\n",
      "2347:\tlearn: 83108.3919575\ttotal: 1m 8s\tremaining: 19s\n",
      "2348:\tlearn: 83088.8815703\ttotal: 1m 8s\tremaining: 19s\n",
      "2349:\tlearn: 83060.5492468\ttotal: 1m 8s\tremaining: 18.9s\n",
      "2350:\tlearn: 83039.0277214\ttotal: 1m 8s\tremaining: 18.9s\n",
      "2351:\tlearn: 83010.3804319\ttotal: 1m 8s\tremaining: 18.9s\n",
      "2352:\tlearn: 82989.2833415\ttotal: 1m 8s\tremaining: 18.8s\n",
      "2353:\tlearn: 82978.4018761\ttotal: 1m 8s\tremaining: 18.8s\n",
      "2354:\tlearn: 82960.3984937\ttotal: 1m 8s\tremaining: 18.8s\n",
      "2355:\tlearn: 82937.7898426\ttotal: 1m 8s\tremaining: 18.8s\n"
     ]
    },
    {
     "name": "stdout",
     "output_type": "stream",
     "text": [
      "2356:\tlearn: 82925.3144907\ttotal: 1m 8s\tremaining: 18.7s\n",
      "2357:\tlearn: 82909.3511855\ttotal: 1m 8s\tremaining: 18.7s\n",
      "2358:\tlearn: 82895.8298321\ttotal: 1m 8s\tremaining: 18.7s\n",
      "2359:\tlearn: 82878.2242268\ttotal: 1m 8s\tremaining: 18.6s\n",
      "2360:\tlearn: 82853.5598041\ttotal: 1m 8s\tremaining: 18.6s\n",
      "2361:\tlearn: 82838.1724175\ttotal: 1m 8s\tremaining: 18.6s\n",
      "2362:\tlearn: 82822.8158872\ttotal: 1m 8s\tremaining: 18.5s\n",
      "2363:\tlearn: 82808.4980228\ttotal: 1m 8s\tremaining: 18.5s\n",
      "2364:\tlearn: 82784.0904815\ttotal: 1m 8s\tremaining: 18.5s\n",
      "2365:\tlearn: 82767.6858318\ttotal: 1m 8s\tremaining: 18.5s\n",
      "2366:\tlearn: 82750.3292276\ttotal: 1m 8s\tremaining: 18.4s\n",
      "2367:\tlearn: 82729.1149818\ttotal: 1m 8s\tremaining: 18.4s\n",
      "2368:\tlearn: 82717.5041494\ttotal: 1m 8s\tremaining: 18.4s\n",
      "2369:\tlearn: 82700.8105056\ttotal: 1m 8s\tremaining: 18.3s\n",
      "2370:\tlearn: 82689.5206451\ttotal: 1m 9s\tremaining: 18.3s\n",
      "2371:\tlearn: 82681.4758614\ttotal: 1m 9s\tremaining: 18.3s\n",
      "2372:\tlearn: 82663.7858010\ttotal: 1m 9s\tremaining: 18.3s\n",
      "2373:\tlearn: 82652.7559595\ttotal: 1m 9s\tremaining: 18.2s\n",
      "2374:\tlearn: 82634.8293717\ttotal: 1m 9s\tremaining: 18.2s\n",
      "2375:\tlearn: 82624.6583731\ttotal: 1m 9s\tremaining: 18.2s\n",
      "2376:\tlearn: 82606.2416085\ttotal: 1m 9s\tremaining: 18.1s\n",
      "2377:\tlearn: 82584.0588754\ttotal: 1m 9s\tremaining: 18.1s\n",
      "2378:\tlearn: 82575.1725740\ttotal: 1m 9s\tremaining: 18.1s\n",
      "2379:\tlearn: 82551.9901813\ttotal: 1m 9s\tremaining: 18.1s\n",
      "2380:\tlearn: 82543.5676506\ttotal: 1m 9s\tremaining: 18s\n",
      "2381:\tlearn: 82532.4910731\ttotal: 1m 9s\tremaining: 18s\n",
      "2382:\tlearn: 82508.3815374\ttotal: 1m 9s\tremaining: 18s\n",
      "2383:\tlearn: 82489.9493193\ttotal: 1m 9s\tremaining: 17.9s\n",
      "2384:\tlearn: 82469.4398067\ttotal: 1m 9s\tremaining: 17.9s\n",
      "2385:\tlearn: 82445.8025312\ttotal: 1m 9s\tremaining: 17.9s\n",
      "2386:\tlearn: 82432.5465912\ttotal: 1m 9s\tremaining: 17.8s\n",
      "2387:\tlearn: 82411.7650137\ttotal: 1m 9s\tremaining: 17.8s\n",
      "2388:\tlearn: 82389.6572569\ttotal: 1m 9s\tremaining: 17.8s\n",
      "2389:\tlearn: 82373.0727946\ttotal: 1m 9s\tremaining: 17.8s\n",
      "2390:\tlearn: 82361.5306904\ttotal: 1m 9s\tremaining: 17.7s\n",
      "2391:\tlearn: 82331.0449875\ttotal: 1m 9s\tremaining: 17.7s\n",
      "2392:\tlearn: 82310.9712878\ttotal: 1m 9s\tremaining: 17.7s\n",
      "2393:\tlearn: 82296.6351680\ttotal: 1m 9s\tremaining: 17.6s\n",
      "2394:\tlearn: 82276.6008493\ttotal: 1m 9s\tremaining: 17.6s\n",
      "2395:\tlearn: 82258.7238737\ttotal: 1m 9s\tremaining: 17.6s\n",
      "2396:\tlearn: 82252.0493187\ttotal: 1m 9s\tremaining: 17.5s\n",
      "2397:\tlearn: 82237.7845937\ttotal: 1m 9s\tremaining: 17.5s\n",
      "2398:\tlearn: 82214.5303687\ttotal: 1m 9s\tremaining: 17.5s\n",
      "2399:\tlearn: 82194.1845175\ttotal: 1m 9s\tremaining: 17.5s\n",
      "2400:\tlearn: 82183.8035422\ttotal: 1m 9s\tremaining: 17.4s\n",
      "2401:\tlearn: 82167.9986589\ttotal: 1m 9s\tremaining: 17.4s\n",
      "2402:\tlearn: 82151.1668471\ttotal: 1m 9s\tremaining: 17.4s\n",
      "2403:\tlearn: 82126.5520347\ttotal: 1m 9s\tremaining: 17.3s\n",
      "2404:\tlearn: 82109.9105668\ttotal: 1m 9s\tremaining: 17.3s\n",
      "2405:\tlearn: 82093.7570595\ttotal: 1m 10s\tremaining: 17.3s\n",
      "2406:\tlearn: 82078.6608217\ttotal: 1m 10s\tremaining: 17.3s\n",
      "2407:\tlearn: 82052.9779193\ttotal: 1m 10s\tremaining: 17.2s\n",
      "2408:\tlearn: 82034.2521218\ttotal: 1m 10s\tremaining: 17.2s\n",
      "2409:\tlearn: 82006.7946876\ttotal: 1m 10s\tremaining: 17.2s\n",
      "2410:\tlearn: 81985.6164913\ttotal: 1m 10s\tremaining: 17.1s\n",
      "2411:\tlearn: 81970.3029524\ttotal: 1m 10s\tremaining: 17.1s\n",
      "2412:\tlearn: 81950.4480896\ttotal: 1m 10s\tremaining: 17.1s\n",
      "2413:\tlearn: 81924.8310798\ttotal: 1m 10s\tremaining: 17.1s\n",
      "2414:\tlearn: 81911.4152678\ttotal: 1m 10s\tremaining: 17s\n",
      "2415:\tlearn: 81890.8515729\ttotal: 1m 10s\tremaining: 17s\n",
      "2416:\tlearn: 81867.5197139\ttotal: 1m 10s\tremaining: 17s\n",
      "2417:\tlearn: 81852.2177720\ttotal: 1m 10s\tremaining: 16.9s\n",
      "2418:\tlearn: 81830.3082539\ttotal: 1m 10s\tremaining: 16.9s\n",
      "2419:\tlearn: 81805.6854999\ttotal: 1m 10s\tremaining: 16.9s\n",
      "2420:\tlearn: 81769.0971852\ttotal: 1m 10s\tremaining: 16.9s\n",
      "2421:\tlearn: 81741.8940221\ttotal: 1m 10s\tremaining: 16.8s\n",
      "2422:\tlearn: 81731.7959788\ttotal: 1m 10s\tremaining: 16.8s\n",
      "2423:\tlearn: 81720.0952300\ttotal: 1m 10s\tremaining: 16.8s\n",
      "2424:\tlearn: 81697.0478308\ttotal: 1m 10s\tremaining: 16.7s\n",
      "2425:\tlearn: 81684.0455119\ttotal: 1m 10s\tremaining: 16.7s\n",
      "2426:\tlearn: 81653.6013256\ttotal: 1m 10s\tremaining: 16.7s\n",
      "2427:\tlearn: 81639.0654167\ttotal: 1m 10s\tremaining: 16.6s\n",
      "2428:\tlearn: 81618.4458013\ttotal: 1m 10s\tremaining: 16.6s\n",
      "2429:\tlearn: 81608.3479937\ttotal: 1m 10s\tremaining: 16.6s\n",
      "2430:\tlearn: 81583.8693918\ttotal: 1m 10s\tremaining: 16.6s\n",
      "2431:\tlearn: 81569.4915030\ttotal: 1m 10s\tremaining: 16.5s\n",
      "2432:\tlearn: 81564.4058106\ttotal: 1m 10s\tremaining: 16.5s\n",
      "2433:\tlearn: 81554.1460960\ttotal: 1m 10s\tremaining: 16.5s\n",
      "2434:\tlearn: 81548.5215107\ttotal: 1m 10s\tremaining: 16.4s\n",
      "2435:\tlearn: 81534.6202732\ttotal: 1m 10s\tremaining: 16.4s\n",
      "2436:\tlearn: 81522.3937211\ttotal: 1m 10s\tremaining: 16.4s\n",
      "2437:\tlearn: 81505.9146898\ttotal: 1m 10s\tremaining: 16.3s\n",
      "2438:\tlearn: 81483.7849923\ttotal: 1m 10s\tremaining: 16.3s\n",
      "2439:\tlearn: 81464.4177440\ttotal: 1m 10s\tremaining: 16.3s\n",
      "2440:\tlearn: 81453.0443912\ttotal: 1m 11s\tremaining: 16.3s\n",
      "2441:\tlearn: 81451.4730319\ttotal: 1m 11s\tremaining: 16.2s\n",
      "2442:\tlearn: 81434.0021836\ttotal: 1m 11s\tremaining: 16.2s\n",
      "2443:\tlearn: 81417.5012384\ttotal: 1m 11s\tremaining: 16.2s\n",
      "2444:\tlearn: 81396.6470091\ttotal: 1m 11s\tremaining: 16.1s\n",
      "2445:\tlearn: 81379.0297432\ttotal: 1m 11s\tremaining: 16.1s\n",
      "2446:\tlearn: 81356.0963796\ttotal: 1m 11s\tremaining: 16.1s\n",
      "2447:\tlearn: 81345.8871084\ttotal: 1m 11s\tremaining: 16.1s\n",
      "2448:\tlearn: 81326.1475898\ttotal: 1m 11s\tremaining: 16s\n",
      "2449:\tlearn: 81315.3603451\ttotal: 1m 11s\tremaining: 16s\n",
      "2450:\tlearn: 81308.6059275\ttotal: 1m 11s\tremaining: 16s\n",
      "2451:\tlearn: 81293.1901098\ttotal: 1m 11s\tremaining: 15.9s\n",
      "2452:\tlearn: 81280.3574420\ttotal: 1m 11s\tremaining: 15.9s\n",
      "2453:\tlearn: 81257.5937751\ttotal: 1m 11s\tremaining: 15.9s\n",
      "2454:\tlearn: 81245.1464096\ttotal: 1m 11s\tremaining: 15.9s\n",
      "2455:\tlearn: 81230.8003964\ttotal: 1m 11s\tremaining: 15.8s\n",
      "2456:\tlearn: 81215.6316836\ttotal: 1m 11s\tremaining: 15.8s\n",
      "2457:\tlearn: 81196.8118173\ttotal: 1m 11s\tremaining: 15.8s\n",
      "2458:\tlearn: 81169.7918906\ttotal: 1m 11s\tremaining: 15.7s\n",
      "2459:\tlearn: 81147.6007123\ttotal: 1m 11s\tremaining: 15.7s\n",
      "2460:\tlearn: 81136.0235290\ttotal: 1m 11s\tremaining: 15.7s\n",
      "2461:\tlearn: 81116.0303984\ttotal: 1m 11s\tremaining: 15.7s\n",
      "2462:\tlearn: 81103.3959263\ttotal: 1m 11s\tremaining: 15.6s\n",
      "2463:\tlearn: 81076.6597128\ttotal: 1m 11s\tremaining: 15.6s\n",
      "2464:\tlearn: 81064.8346551\ttotal: 1m 11s\tremaining: 15.6s\n",
      "2465:\tlearn: 81039.9849472\ttotal: 1m 11s\tremaining: 15.5s\n",
      "2466:\tlearn: 81032.1710172\ttotal: 1m 11s\tremaining: 15.5s\n",
      "2467:\tlearn: 81010.5242514\ttotal: 1m 11s\tremaining: 15.5s\n",
      "2468:\tlearn: 81003.5829779\ttotal: 1m 11s\tremaining: 15.4s\n",
      "2469:\tlearn: 80985.5340832\ttotal: 1m 11s\tremaining: 15.4s\n",
      "2470:\tlearn: 80969.8369716\ttotal: 1m 11s\tremaining: 15.4s\n",
      "2471:\tlearn: 80942.6292890\ttotal: 1m 11s\tremaining: 15.4s\n",
      "2472:\tlearn: 80922.3953636\ttotal: 1m 11s\tremaining: 15.3s\n",
      "2473:\tlearn: 80906.0038051\ttotal: 1m 11s\tremaining: 15.3s\n",
      "2474:\tlearn: 80885.6277818\ttotal: 1m 12s\tremaining: 15.3s\n",
      "2475:\tlearn: 80876.9322922\ttotal: 1m 12s\tremaining: 15.2s\n",
      "2476:\tlearn: 80861.2963233\ttotal: 1m 12s\tremaining: 15.2s\n",
      "2477:\tlearn: 80843.9082274\ttotal: 1m 12s\tremaining: 15.2s\n",
      "2478:\tlearn: 80821.9059236\ttotal: 1m 12s\tremaining: 15.2s\n",
      "2479:\tlearn: 80805.9817647\ttotal: 1m 12s\tremaining: 15.1s\n",
      "2480:\tlearn: 80795.4259610\ttotal: 1m 12s\tremaining: 15.1s\n",
      "2481:\tlearn: 80775.7361852\ttotal: 1m 12s\tremaining: 15.1s\n",
      "2482:\tlearn: 80751.3590993\ttotal: 1m 12s\tremaining: 15s\n",
      "2483:\tlearn: 80744.3537014\ttotal: 1m 12s\tremaining: 15s\n",
      "2484:\tlearn: 80734.2040647\ttotal: 1m 12s\tremaining: 15s\n",
      "2485:\tlearn: 80727.0160412\ttotal: 1m 12s\tremaining: 15s\n",
      "2486:\tlearn: 80716.7035695\ttotal: 1m 12s\tremaining: 14.9s\n",
      "2487:\tlearn: 80682.9708195\ttotal: 1m 12s\tremaining: 14.9s\n",
      "2488:\tlearn: 80675.3585906\ttotal: 1m 12s\tremaining: 14.9s\n",
      "2489:\tlearn: 80662.4028542\ttotal: 1m 12s\tremaining: 14.8s\n",
      "2490:\tlearn: 80646.3690519\ttotal: 1m 12s\tremaining: 14.8s\n",
      "2491:\tlearn: 80625.8974642\ttotal: 1m 12s\tremaining: 14.8s\n",
      "2492:\tlearn: 80614.2645909\ttotal: 1m 12s\tremaining: 14.8s\n",
      "2493:\tlearn: 80594.5092768\ttotal: 1m 12s\tremaining: 14.7s\n",
      "2494:\tlearn: 80579.7681033\ttotal: 1m 12s\tremaining: 14.7s\n",
      "2495:\tlearn: 80560.5185761\ttotal: 1m 12s\tremaining: 14.7s\n",
      "2496:\tlearn: 80548.5641905\ttotal: 1m 12s\tremaining: 14.6s\n",
      "2497:\tlearn: 80539.5875634\ttotal: 1m 12s\tremaining: 14.6s\n",
      "2498:\tlearn: 80512.4338461\ttotal: 1m 12s\tremaining: 14.6s\n",
      "2499:\tlearn: 80486.9888531\ttotal: 1m 12s\tremaining: 14.5s\n",
      "2500:\tlearn: 80473.0649291\ttotal: 1m 12s\tremaining: 14.5s\n",
      "2501:\tlearn: 80453.0877863\ttotal: 1m 12s\tremaining: 14.5s\n",
      "2502:\tlearn: 80443.7733059\ttotal: 1m 12s\tremaining: 14.5s\n",
      "2503:\tlearn: 80413.9442076\ttotal: 1m 12s\tremaining: 14.4s\n"
     ]
    },
    {
     "name": "stdout",
     "output_type": "stream",
     "text": [
      "2504:\tlearn: 80399.5580731\ttotal: 1m 12s\tremaining: 14.4s\n",
      "2505:\tlearn: 80386.4401152\ttotal: 1m 12s\tremaining: 14.4s\n",
      "2506:\tlearn: 80367.2379049\ttotal: 1m 12s\tremaining: 14.3s\n",
      "2507:\tlearn: 80361.8407669\ttotal: 1m 12s\tremaining: 14.3s\n",
      "2508:\tlearn: 80349.0974875\ttotal: 1m 12s\tremaining: 14.3s\n",
      "2509:\tlearn: 80337.9681385\ttotal: 1m 13s\tremaining: 14.3s\n",
      "2510:\tlearn: 80315.2769937\ttotal: 1m 13s\tremaining: 14.2s\n",
      "2511:\tlearn: 80294.2305400\ttotal: 1m 13s\tremaining: 14.2s\n",
      "2512:\tlearn: 80279.9876232\ttotal: 1m 13s\tremaining: 14.2s\n",
      "2513:\tlearn: 80267.4687299\ttotal: 1m 13s\tremaining: 14.1s\n",
      "2514:\tlearn: 80261.2578745\ttotal: 1m 13s\tremaining: 14.1s\n",
      "2515:\tlearn: 80246.0550174\ttotal: 1m 13s\tremaining: 14.1s\n",
      "2516:\tlearn: 80226.7485674\ttotal: 1m 13s\tremaining: 14.1s\n",
      "2517:\tlearn: 80192.2579047\ttotal: 1m 13s\tremaining: 14s\n",
      "2518:\tlearn: 80185.3282253\ttotal: 1m 13s\tremaining: 14s\n",
      "2519:\tlearn: 80163.8900399\ttotal: 1m 13s\tremaining: 14s\n",
      "2520:\tlearn: 80154.6201489\ttotal: 1m 13s\tremaining: 13.9s\n",
      "2521:\tlearn: 80144.2272475\ttotal: 1m 13s\tremaining: 13.9s\n",
      "2522:\tlearn: 80126.4244134\ttotal: 1m 13s\tremaining: 13.9s\n",
      "2523:\tlearn: 80117.8415039\ttotal: 1m 13s\tremaining: 13.8s\n",
      "2524:\tlearn: 80095.3099463\ttotal: 1m 13s\tremaining: 13.8s\n",
      "2525:\tlearn: 80076.6515455\ttotal: 1m 13s\tremaining: 13.8s\n",
      "2526:\tlearn: 80067.6918406\ttotal: 1m 13s\tremaining: 13.8s\n",
      "2527:\tlearn: 80041.0451554\ttotal: 1m 13s\tremaining: 13.7s\n",
      "2528:\tlearn: 80033.6697592\ttotal: 1m 13s\tremaining: 13.7s\n",
      "2529:\tlearn: 80013.7423385\ttotal: 1m 13s\tremaining: 13.7s\n",
      "2530:\tlearn: 80003.5290264\ttotal: 1m 13s\tremaining: 13.6s\n",
      "2531:\tlearn: 79990.1792191\ttotal: 1m 13s\tremaining: 13.6s\n",
      "2532:\tlearn: 79981.0454702\ttotal: 1m 13s\tremaining: 13.6s\n",
      "2533:\tlearn: 79940.5084633\ttotal: 1m 13s\tremaining: 13.6s\n",
      "2534:\tlearn: 79926.2540513\ttotal: 1m 13s\tremaining: 13.5s\n",
      "2535:\tlearn: 79917.3064756\ttotal: 1m 13s\tremaining: 13.5s\n",
      "2536:\tlearn: 79902.1227220\ttotal: 1m 13s\tremaining: 13.5s\n",
      "2537:\tlearn: 79879.1883005\ttotal: 1m 13s\tremaining: 13.4s\n",
      "2538:\tlearn: 79871.8894729\ttotal: 1m 13s\tremaining: 13.4s\n",
      "2539:\tlearn: 79857.1033602\ttotal: 1m 13s\tremaining: 13.4s\n",
      "2540:\tlearn: 79846.7373774\ttotal: 1m 13s\tremaining: 13.3s\n",
      "2541:\tlearn: 79838.0200170\ttotal: 1m 13s\tremaining: 13.3s\n",
      "2542:\tlearn: 79821.3100098\ttotal: 1m 13s\tremaining: 13.3s\n",
      "2543:\tlearn: 79802.2906393\ttotal: 1m 13s\tremaining: 13.3s\n",
      "2544:\tlearn: 79787.7282542\ttotal: 1m 14s\tremaining: 13.2s\n",
      "2545:\tlearn: 79764.7001637\ttotal: 1m 14s\tremaining: 13.2s\n",
      "2546:\tlearn: 79742.0535937\ttotal: 1m 14s\tremaining: 13.2s\n",
      "2547:\tlearn: 79723.7656073\ttotal: 1m 14s\tremaining: 13.1s\n",
      "2548:\tlearn: 79690.2099282\ttotal: 1m 14s\tremaining: 13.1s\n",
      "2549:\tlearn: 79672.8901124\ttotal: 1m 14s\tremaining: 13.1s\n",
      "2550:\tlearn: 79653.3674148\ttotal: 1m 14s\tremaining: 13.1s\n",
      "2551:\tlearn: 79637.0013220\ttotal: 1m 14s\tremaining: 13s\n",
      "2552:\tlearn: 79616.9963474\ttotal: 1m 14s\tremaining: 13s\n",
      "2553:\tlearn: 79599.8216232\ttotal: 1m 14s\tremaining: 13s\n",
      "2554:\tlearn: 79592.5261228\ttotal: 1m 14s\tremaining: 12.9s\n",
      "2555:\tlearn: 79584.8412019\ttotal: 1m 14s\tremaining: 12.9s\n",
      "2556:\tlearn: 79568.0717304\ttotal: 1m 14s\tremaining: 12.9s\n",
      "2557:\tlearn: 79552.8507633\ttotal: 1m 14s\tremaining: 12.9s\n",
      "2558:\tlearn: 79535.1005051\ttotal: 1m 14s\tremaining: 12.8s\n",
      "2559:\tlearn: 79523.1139698\ttotal: 1m 14s\tremaining: 12.8s\n",
      "2560:\tlearn: 79509.8368173\ttotal: 1m 14s\tremaining: 12.8s\n",
      "2561:\tlearn: 79488.9860067\ttotal: 1m 14s\tremaining: 12.7s\n",
      "2562:\tlearn: 79478.5221511\ttotal: 1m 14s\tremaining: 12.7s\n",
      "2563:\tlearn: 79466.7839898\ttotal: 1m 14s\tremaining: 12.7s\n",
      "2564:\tlearn: 79454.1192857\ttotal: 1m 14s\tremaining: 12.6s\n",
      "2565:\tlearn: 79439.6676157\ttotal: 1m 14s\tremaining: 12.6s\n",
      "2566:\tlearn: 79431.3050362\ttotal: 1m 14s\tremaining: 12.6s\n",
      "2567:\tlearn: 79406.5042459\ttotal: 1m 14s\tremaining: 12.6s\n",
      "2568:\tlearn: 79386.5317883\ttotal: 1m 14s\tremaining: 12.5s\n",
      "2569:\tlearn: 79378.7215751\ttotal: 1m 14s\tremaining: 12.5s\n",
      "2570:\tlearn: 79367.6622297\ttotal: 1m 14s\tremaining: 12.5s\n",
      "2571:\tlearn: 79357.4911705\ttotal: 1m 14s\tremaining: 12.4s\n",
      "2572:\tlearn: 79348.1316455\ttotal: 1m 14s\tremaining: 12.4s\n",
      "2573:\tlearn: 79334.8320916\ttotal: 1m 14s\tremaining: 12.4s\n",
      "2574:\tlearn: 79326.3012296\ttotal: 1m 14s\tremaining: 12.4s\n",
      "2575:\tlearn: 79311.3798837\ttotal: 1m 14s\tremaining: 12.3s\n",
      "2576:\tlearn: 79306.1203140\ttotal: 1m 14s\tremaining: 12.3s\n",
      "2577:\tlearn: 79283.5016544\ttotal: 1m 14s\tremaining: 12.3s\n",
      "2578:\tlearn: 79259.2219035\ttotal: 1m 14s\tremaining: 12.2s\n",
      "2579:\tlearn: 79246.9816803\ttotal: 1m 15s\tremaining: 12.2s\n",
      "2580:\tlearn: 79239.4919850\ttotal: 1m 15s\tremaining: 12.2s\n",
      "2581:\tlearn: 79224.0105297\ttotal: 1m 15s\tremaining: 12.2s\n",
      "2582:\tlearn: 79207.5719267\ttotal: 1m 15s\tremaining: 12.1s\n",
      "2583:\tlearn: 79197.3399402\ttotal: 1m 15s\tremaining: 12.1s\n",
      "2584:\tlearn: 79187.9180102\ttotal: 1m 15s\tremaining: 12.1s\n",
      "2585:\tlearn: 79174.7513264\ttotal: 1m 15s\tremaining: 12s\n",
      "2586:\tlearn: 79161.9805186\ttotal: 1m 15s\tremaining: 12s\n",
      "2587:\tlearn: 79151.5353595\ttotal: 1m 15s\tremaining: 12s\n",
      "2588:\tlearn: 79141.8000050\ttotal: 1m 15s\tremaining: 12s\n",
      "2589:\tlearn: 79123.5883813\ttotal: 1m 15s\tremaining: 11.9s\n",
      "2590:\tlearn: 79094.3898458\ttotal: 1m 15s\tremaining: 11.9s\n",
      "2591:\tlearn: 79053.1031351\ttotal: 1m 15s\tremaining: 11.9s\n",
      "2592:\tlearn: 79031.9863301\ttotal: 1m 15s\tremaining: 11.8s\n",
      "2593:\tlearn: 79024.4904193\ttotal: 1m 15s\tremaining: 11.8s\n",
      "2594:\tlearn: 79010.7317282\ttotal: 1m 15s\tremaining: 11.8s\n",
      "2595:\tlearn: 78968.3210355\ttotal: 1m 15s\tremaining: 11.7s\n",
      "2596:\tlearn: 78956.4283871\ttotal: 1m 15s\tremaining: 11.7s\n",
      "2597:\tlearn: 78941.0865340\ttotal: 1m 15s\tremaining: 11.7s\n",
      "2598:\tlearn: 78920.9183784\ttotal: 1m 15s\tremaining: 11.7s\n",
      "2599:\tlearn: 78899.5908614\ttotal: 1m 15s\tremaining: 11.6s\n",
      "2600:\tlearn: 78882.8923946\ttotal: 1m 15s\tremaining: 11.6s\n",
      "2601:\tlearn: 78862.3342259\ttotal: 1m 15s\tremaining: 11.6s\n",
      "2602:\tlearn: 78840.0628740\ttotal: 1m 15s\tremaining: 11.5s\n",
      "2603:\tlearn: 78827.2953780\ttotal: 1m 15s\tremaining: 11.5s\n",
      "2604:\tlearn: 78810.6786340\ttotal: 1m 15s\tremaining: 11.5s\n",
      "2605:\tlearn: 78801.6661962\ttotal: 1m 15s\tremaining: 11.5s\n",
      "2606:\tlearn: 78780.6769243\ttotal: 1m 15s\tremaining: 11.4s\n",
      "2607:\tlearn: 78771.4966388\ttotal: 1m 15s\tremaining: 11.4s\n",
      "2608:\tlearn: 78732.7026215\ttotal: 1m 15s\tremaining: 11.4s\n",
      "2609:\tlearn: 78715.5260090\ttotal: 1m 15s\tremaining: 11.3s\n",
      "2610:\tlearn: 78708.4293492\ttotal: 1m 15s\tremaining: 11.3s\n",
      "2611:\tlearn: 78693.1012184\ttotal: 1m 15s\tremaining: 11.3s\n",
      "2612:\tlearn: 78689.0838055\ttotal: 1m 15s\tremaining: 11.3s\n",
      "2613:\tlearn: 78686.4854798\ttotal: 1m 15s\tremaining: 11.2s\n",
      "2614:\tlearn: 78673.3123590\ttotal: 1m 16s\tremaining: 11.2s\n",
      "2615:\tlearn: 78656.5219937\ttotal: 1m 16s\tremaining: 11.2s\n",
      "2616:\tlearn: 78639.8971782\ttotal: 1m 16s\tremaining: 11.1s\n",
      "2617:\tlearn: 78625.8629687\ttotal: 1m 16s\tremaining: 11.1s\n",
      "2618:\tlearn: 78614.5821829\ttotal: 1m 16s\tremaining: 11.1s\n",
      "2619:\tlearn: 78570.4014871\ttotal: 1m 16s\tremaining: 11s\n",
      "2620:\tlearn: 78561.4001413\ttotal: 1m 16s\tremaining: 11s\n",
      "2621:\tlearn: 78544.7738533\ttotal: 1m 16s\tremaining: 11s\n",
      "2622:\tlearn: 78529.3025957\ttotal: 1m 16s\tremaining: 11s\n",
      "2623:\tlearn: 78519.1424130\ttotal: 1m 16s\tremaining: 10.9s\n",
      "2624:\tlearn: 78506.6712771\ttotal: 1m 16s\tremaining: 10.9s\n",
      "2625:\tlearn: 78482.5567042\ttotal: 1m 16s\tremaining: 10.9s\n",
      "2626:\tlearn: 78463.0852941\ttotal: 1m 16s\tremaining: 10.8s\n",
      "2627:\tlearn: 78446.5541553\ttotal: 1m 16s\tremaining: 10.8s\n",
      "2628:\tlearn: 78431.1295437\ttotal: 1m 16s\tremaining: 10.8s\n",
      "2629:\tlearn: 78420.8514790\ttotal: 1m 16s\tremaining: 10.8s\n",
      "2630:\tlearn: 78410.9147819\ttotal: 1m 16s\tremaining: 10.7s\n",
      "2631:\tlearn: 78372.1699598\ttotal: 1m 16s\tremaining: 10.7s\n",
      "2632:\tlearn: 78359.8709598\ttotal: 1m 16s\tremaining: 10.7s\n",
      "2633:\tlearn: 78352.1849069\ttotal: 1m 16s\tremaining: 10.6s\n",
      "2634:\tlearn: 78338.7527536\ttotal: 1m 16s\tremaining: 10.6s\n",
      "2635:\tlearn: 78326.5091851\ttotal: 1m 16s\tremaining: 10.6s\n",
      "2636:\tlearn: 78314.7562858\ttotal: 1m 16s\tremaining: 10.6s\n",
      "2637:\tlearn: 78305.6732163\ttotal: 1m 16s\tremaining: 10.5s\n",
      "2638:\tlearn: 78279.9916586\ttotal: 1m 16s\tremaining: 10.5s\n",
      "2639:\tlearn: 78266.5281018\ttotal: 1m 16s\tremaining: 10.5s\n",
      "2640:\tlearn: 78251.8767171\ttotal: 1m 16s\tremaining: 10.4s\n",
      "2641:\tlearn: 78235.8318141\ttotal: 1m 16s\tremaining: 10.4s\n",
      "2642:\tlearn: 78220.3669367\ttotal: 1m 16s\tremaining: 10.4s\n",
      "2643:\tlearn: 78205.5261184\ttotal: 1m 16s\tremaining: 10.3s\n",
      "2644:\tlearn: 78198.6089024\ttotal: 1m 16s\tremaining: 10.3s\n",
      "2645:\tlearn: 78173.4108478\ttotal: 1m 16s\tremaining: 10.3s\n",
      "2646:\tlearn: 78157.1361210\ttotal: 1m 16s\tremaining: 10.3s\n",
      "2647:\tlearn: 78138.3118988\ttotal: 1m 16s\tremaining: 10.2s\n",
      "2648:\tlearn: 78107.1036367\ttotal: 1m 16s\tremaining: 10.2s\n",
      "2649:\tlearn: 78086.9947583\ttotal: 1m 17s\tremaining: 10.2s\n",
      "2650:\tlearn: 78077.7906701\ttotal: 1m 17s\tremaining: 10.1s\n",
      "2651:\tlearn: 78064.6374688\ttotal: 1m 17s\tremaining: 10.1s\n"
     ]
    },
    {
     "name": "stdout",
     "output_type": "stream",
     "text": [
      "2652:\tlearn: 78056.8525909\ttotal: 1m 17s\tremaining: 10.1s\n",
      "2653:\tlearn: 78046.9686116\ttotal: 1m 17s\tremaining: 10.1s\n",
      "2654:\tlearn: 78028.4078636\ttotal: 1m 17s\tremaining: 10s\n",
      "2655:\tlearn: 78018.4434501\ttotal: 1m 17s\tremaining: 10s\n",
      "2656:\tlearn: 78008.9862409\ttotal: 1m 17s\tremaining: 9.97s\n",
      "2657:\tlearn: 77991.1403779\ttotal: 1m 17s\tremaining: 9.94s\n",
      "2658:\tlearn: 77984.1490355\ttotal: 1m 17s\tremaining: 9.91s\n",
      "2659:\tlearn: 77971.3288598\ttotal: 1m 17s\tremaining: 9.88s\n",
      "2660:\tlearn: 77954.8446700\ttotal: 1m 17s\tremaining: 9.85s\n",
      "2661:\tlearn: 77938.0049788\ttotal: 1m 17s\tremaining: 9.82s\n",
      "2662:\tlearn: 77924.9677907\ttotal: 1m 17s\tremaining: 9.79s\n",
      "2663:\tlearn: 77920.4145856\ttotal: 1m 17s\tremaining: 9.77s\n",
      "2664:\tlearn: 77907.5898160\ttotal: 1m 17s\tremaining: 9.74s\n",
      "2665:\tlearn: 77883.0989692\ttotal: 1m 17s\tremaining: 9.71s\n",
      "2666:\tlearn: 77875.1255354\ttotal: 1m 17s\tremaining: 9.68s\n",
      "2667:\tlearn: 77856.7869167\ttotal: 1m 17s\tremaining: 9.65s\n",
      "2668:\tlearn: 77848.7080556\ttotal: 1m 17s\tremaining: 9.62s\n",
      "2669:\tlearn: 77835.0517990\ttotal: 1m 17s\tremaining: 9.59s\n",
      "2670:\tlearn: 77803.2148221\ttotal: 1m 17s\tremaining: 9.56s\n",
      "2671:\tlearn: 77792.8144904\ttotal: 1m 17s\tremaining: 9.53s\n",
      "2672:\tlearn: 77760.5086502\ttotal: 1m 17s\tremaining: 9.5s\n",
      "2673:\tlearn: 77743.0334000\ttotal: 1m 17s\tremaining: 9.47s\n",
      "2674:\tlearn: 77726.4696693\ttotal: 1m 17s\tremaining: 9.45s\n",
      "2675:\tlearn: 77708.4958335\ttotal: 1m 17s\tremaining: 9.42s\n",
      "2676:\tlearn: 77691.9125747\ttotal: 1m 17s\tremaining: 9.39s\n",
      "2677:\tlearn: 77669.6224123\ttotal: 1m 17s\tremaining: 9.36s\n",
      "2678:\tlearn: 77652.0572523\ttotal: 1m 17s\tremaining: 9.33s\n",
      "2679:\tlearn: 77643.7853297\ttotal: 1m 17s\tremaining: 9.3s\n",
      "2680:\tlearn: 77615.6604808\ttotal: 1m 17s\tremaining: 9.27s\n",
      "2681:\tlearn: 77605.9070956\ttotal: 1m 17s\tremaining: 9.24s\n",
      "2682:\tlearn: 77590.7790994\ttotal: 1m 17s\tremaining: 9.21s\n",
      "2683:\tlearn: 77577.0233379\ttotal: 1m 18s\tremaining: 9.19s\n",
      "2684:\tlearn: 77560.3322754\ttotal: 1m 18s\tremaining: 9.16s\n",
      "2685:\tlearn: 77550.0325176\ttotal: 1m 18s\tremaining: 9.13s\n",
      "2686:\tlearn: 77530.9753673\ttotal: 1m 18s\tremaining: 9.1s\n",
      "2687:\tlearn: 77522.0971560\ttotal: 1m 18s\tremaining: 9.07s\n",
      "2688:\tlearn: 77509.9552500\ttotal: 1m 18s\tremaining: 9.04s\n",
      "2689:\tlearn: 77495.0879330\ttotal: 1m 18s\tremaining: 9.01s\n",
      "2690:\tlearn: 77479.1694165\ttotal: 1m 18s\tremaining: 8.98s\n",
      "2691:\tlearn: 77465.5821444\ttotal: 1m 18s\tremaining: 8.95s\n",
      "2692:\tlearn: 77458.0718373\ttotal: 1m 18s\tremaining: 8.92s\n",
      "2693:\tlearn: 77453.0377353\ttotal: 1m 18s\tremaining: 8.89s\n",
      "2694:\tlearn: 77439.0205053\ttotal: 1m 18s\tremaining: 8.87s\n",
      "2695:\tlearn: 77429.5721224\ttotal: 1m 18s\tremaining: 8.84s\n",
      "2696:\tlearn: 77410.7018548\ttotal: 1m 18s\tremaining: 8.81s\n",
      "2697:\tlearn: 77393.7706027\ttotal: 1m 18s\tremaining: 8.78s\n",
      "2698:\tlearn: 77386.6571143\ttotal: 1m 18s\tremaining: 8.75s\n",
      "2699:\tlearn: 77364.9642191\ttotal: 1m 18s\tremaining: 8.72s\n",
      "2700:\tlearn: 77353.3068859\ttotal: 1m 18s\tremaining: 8.69s\n",
      "2701:\tlearn: 77336.7203620\ttotal: 1m 18s\tremaining: 8.66s\n",
      "2702:\tlearn: 77326.6130779\ttotal: 1m 18s\tremaining: 8.63s\n",
      "2703:\tlearn: 77320.3700548\ttotal: 1m 18s\tremaining: 8.6s\n",
      "2704:\tlearn: 77302.7819425\ttotal: 1m 18s\tremaining: 8.57s\n",
      "2705:\tlearn: 77297.0977921\ttotal: 1m 18s\tremaining: 8.54s\n",
      "2706:\tlearn: 77284.7074255\ttotal: 1m 18s\tremaining: 8.52s\n",
      "2707:\tlearn: 77262.8237068\ttotal: 1m 18s\tremaining: 8.49s\n",
      "2708:\tlearn: 77249.3188670\ttotal: 1m 18s\tremaining: 8.46s\n",
      "2709:\tlearn: 77232.9848840\ttotal: 1m 18s\tremaining: 8.43s\n",
      "2710:\tlearn: 77223.7526785\ttotal: 1m 18s\tremaining: 8.4s\n",
      "2711:\tlearn: 77214.9800057\ttotal: 1m 18s\tremaining: 8.37s\n",
      "2712:\tlearn: 77207.5542986\ttotal: 1m 18s\tremaining: 8.34s\n",
      "2713:\tlearn: 77193.5732858\ttotal: 1m 18s\tremaining: 8.31s\n",
      "2714:\tlearn: 77179.5282334\ttotal: 1m 18s\tremaining: 8.29s\n",
      "2715:\tlearn: 77158.9064349\ttotal: 1m 18s\tremaining: 8.26s\n",
      "2716:\tlearn: 77154.5198371\ttotal: 1m 18s\tremaining: 8.23s\n",
      "2717:\tlearn: 77141.4752122\ttotal: 1m 19s\tremaining: 8.2s\n",
      "2718:\tlearn: 77121.8922986\ttotal: 1m 19s\tremaining: 8.17s\n",
      "2719:\tlearn: 77112.6070566\ttotal: 1m 19s\tremaining: 8.14s\n",
      "2720:\tlearn: 77106.7178720\ttotal: 1m 19s\tremaining: 8.11s\n",
      "2721:\tlearn: 77089.0842028\ttotal: 1m 19s\tremaining: 8.08s\n",
      "2722:\tlearn: 77077.6257716\ttotal: 1m 19s\tremaining: 8.05s\n",
      "2723:\tlearn: 77069.5399520\ttotal: 1m 19s\tremaining: 8.03s\n",
      "2724:\tlearn: 77058.8793708\ttotal: 1m 19s\tremaining: 8s\n",
      "2725:\tlearn: 77039.3963491\ttotal: 1m 19s\tremaining: 7.97s\n",
      "2726:\tlearn: 77027.4688232\ttotal: 1m 19s\tremaining: 7.94s\n",
      "2727:\tlearn: 77006.2724493\ttotal: 1m 19s\tremaining: 7.91s\n",
      "2728:\tlearn: 76984.0063868\ttotal: 1m 19s\tremaining: 7.88s\n",
      "2729:\tlearn: 76972.9859110\ttotal: 1m 19s\tremaining: 7.85s\n",
      "2730:\tlearn: 76954.2250116\ttotal: 1m 19s\tremaining: 7.82s\n",
      "2731:\tlearn: 76949.7195605\ttotal: 1m 19s\tremaining: 7.79s\n",
      "2732:\tlearn: 76935.9073546\ttotal: 1m 19s\tremaining: 7.76s\n",
      "2733:\tlearn: 76906.4333482\ttotal: 1m 19s\tremaining: 7.73s\n",
      "2734:\tlearn: 76885.7112226\ttotal: 1m 19s\tremaining: 7.71s\n",
      "2735:\tlearn: 76871.7216008\ttotal: 1m 19s\tremaining: 7.68s\n",
      "2736:\tlearn: 76854.4454529\ttotal: 1m 19s\tremaining: 7.65s\n",
      "2737:\tlearn: 76840.6110480\ttotal: 1m 19s\tremaining: 7.62s\n",
      "2738:\tlearn: 76830.6128139\ttotal: 1m 19s\tremaining: 7.59s\n",
      "2739:\tlearn: 76818.0690182\ttotal: 1m 19s\tremaining: 7.56s\n",
      "2740:\tlearn: 76805.6132961\ttotal: 1m 19s\tremaining: 7.53s\n",
      "2741:\tlearn: 76798.7114968\ttotal: 1m 19s\tremaining: 7.5s\n",
      "2742:\tlearn: 76770.3434652\ttotal: 1m 19s\tremaining: 7.47s\n",
      "2743:\tlearn: 76758.9890091\ttotal: 1m 19s\tremaining: 7.45s\n",
      "2744:\tlearn: 76748.3645802\ttotal: 1m 19s\tremaining: 7.42s\n",
      "2745:\tlearn: 76728.8431779\ttotal: 1m 19s\tremaining: 7.39s\n",
      "2746:\tlearn: 76724.6950618\ttotal: 1m 19s\tremaining: 7.36s\n",
      "2747:\tlearn: 76713.4167168\ttotal: 1m 19s\tremaining: 7.33s\n",
      "2748:\tlearn: 76693.4129378\ttotal: 1m 19s\tremaining: 7.3s\n",
      "2749:\tlearn: 76683.0543078\ttotal: 1m 20s\tremaining: 7.27s\n",
      "2750:\tlearn: 76664.8523124\ttotal: 1m 20s\tremaining: 7.24s\n",
      "2751:\tlearn: 76654.0891959\ttotal: 1m 20s\tremaining: 7.21s\n",
      "2752:\tlearn: 76630.5480084\ttotal: 1m 20s\tremaining: 7.18s\n",
      "2753:\tlearn: 76618.1546682\ttotal: 1m 20s\tremaining: 7.16s\n",
      "2754:\tlearn: 76605.3992412\ttotal: 1m 20s\tremaining: 7.13s\n",
      "2755:\tlearn: 76592.4491040\ttotal: 1m 20s\tremaining: 7.1s\n",
      "2756:\tlearn: 76580.9930368\ttotal: 1m 20s\tremaining: 7.07s\n",
      "2757:\tlearn: 76573.8265576\ttotal: 1m 20s\tremaining: 7.04s\n",
      "2758:\tlearn: 76561.8403145\ttotal: 1m 20s\tremaining: 7.01s\n",
      "2759:\tlearn: 76554.6782070\ttotal: 1m 20s\tremaining: 6.98s\n",
      "2760:\tlearn: 76541.5712831\ttotal: 1m 20s\tremaining: 6.95s\n",
      "2761:\tlearn: 76531.5827626\ttotal: 1m 20s\tremaining: 6.92s\n",
      "2762:\tlearn: 76523.4953824\ttotal: 1m 20s\tremaining: 6.89s\n",
      "2763:\tlearn: 76501.9155327\ttotal: 1m 20s\tremaining: 6.87s\n",
      "2764:\tlearn: 76490.5714036\ttotal: 1m 20s\tremaining: 6.84s\n",
      "2765:\tlearn: 76470.4809245\ttotal: 1m 20s\tremaining: 6.81s\n",
      "2766:\tlearn: 76450.6793431\ttotal: 1m 20s\tremaining: 6.78s\n",
      "2767:\tlearn: 76436.5502900\ttotal: 1m 20s\tremaining: 6.75s\n",
      "2768:\tlearn: 76425.9684807\ttotal: 1m 20s\tremaining: 6.72s\n",
      "2769:\tlearn: 76418.6690420\ttotal: 1m 20s\tremaining: 6.69s\n",
      "2770:\tlearn: 76405.3896019\ttotal: 1m 20s\tremaining: 6.66s\n",
      "2771:\tlearn: 76386.2410468\ttotal: 1m 20s\tremaining: 6.63s\n",
      "2772:\tlearn: 76375.6421195\ttotal: 1m 20s\tremaining: 6.6s\n",
      "2773:\tlearn: 76362.2024453\ttotal: 1m 20s\tremaining: 6.57s\n",
      "2774:\tlearn: 76342.0052373\ttotal: 1m 20s\tremaining: 6.54s\n",
      "2775:\tlearn: 76312.0297277\ttotal: 1m 20s\tremaining: 6.51s\n",
      "2776:\tlearn: 76291.6172799\ttotal: 1m 20s\tremaining: 6.49s\n",
      "2777:\tlearn: 76280.9724529\ttotal: 1m 20s\tremaining: 6.46s\n",
      "2778:\tlearn: 76256.0059371\ttotal: 1m 20s\tremaining: 6.43s\n",
      "2779:\tlearn: 76234.0099807\ttotal: 1m 20s\tremaining: 6.4s\n",
      "2780:\tlearn: 76228.1288101\ttotal: 1m 20s\tremaining: 6.37s\n",
      "2781:\tlearn: 76215.5764068\ttotal: 1m 20s\tremaining: 6.34s\n",
      "2782:\tlearn: 76206.9186840\ttotal: 1m 20s\tremaining: 6.31s\n",
      "2783:\tlearn: 76192.9785672\ttotal: 1m 20s\tremaining: 6.28s\n",
      "2784:\tlearn: 76171.2632057\ttotal: 1m 21s\tremaining: 6.25s\n",
      "2785:\tlearn: 76165.5080865\ttotal: 1m 21s\tremaining: 6.22s\n",
      "2786:\tlearn: 76149.2473456\ttotal: 1m 21s\tremaining: 6.2s\n",
      "2787:\tlearn: 76141.7911600\ttotal: 1m 21s\tremaining: 6.17s\n",
      "2788:\tlearn: 76128.1012741\ttotal: 1m 21s\tremaining: 6.14s\n",
      "2789:\tlearn: 76114.5129409\ttotal: 1m 21s\tremaining: 6.11s\n",
      "2790:\tlearn: 76109.2521779\ttotal: 1m 21s\tremaining: 6.08s\n",
      "2791:\tlearn: 76101.4468293\ttotal: 1m 21s\tremaining: 6.05s\n",
      "2792:\tlearn: 76088.4989600\ttotal: 1m 21s\tremaining: 6.02s\n",
      "2793:\tlearn: 76064.6059383\ttotal: 1m 21s\tremaining: 5.99s\n",
      "2794:\tlearn: 76038.8705780\ttotal: 1m 21s\tremaining: 5.96s\n",
      "2795:\tlearn: 76026.1966843\ttotal: 1m 21s\tremaining: 5.93s\n",
      "2796:\tlearn: 76014.3881337\ttotal: 1m 21s\tremaining: 5.9s\n",
      "2797:\tlearn: 75997.4840393\ttotal: 1m 21s\tremaining: 5.88s\n",
      "2798:\tlearn: 75978.9086365\ttotal: 1m 21s\tremaining: 5.85s\n",
      "2799:\tlearn: 75949.5935552\ttotal: 1m 21s\tremaining: 5.82s\n",
      "2800:\tlearn: 75932.9783073\ttotal: 1m 21s\tremaining: 5.79s\n"
     ]
    },
    {
     "name": "stdout",
     "output_type": "stream",
     "text": [
      "2801:\tlearn: 75914.1508470\ttotal: 1m 21s\tremaining: 5.76s\n",
      "2802:\tlearn: 75895.5820213\ttotal: 1m 21s\tremaining: 5.73s\n",
      "2803:\tlearn: 75883.8312262\ttotal: 1m 21s\tremaining: 5.7s\n",
      "2804:\tlearn: 75864.7717275\ttotal: 1m 21s\tremaining: 5.67s\n",
      "2805:\tlearn: 75853.4959706\ttotal: 1m 21s\tremaining: 5.64s\n",
      "2806:\tlearn: 75847.0796159\ttotal: 1m 21s\tremaining: 5.61s\n",
      "2807:\tlearn: 75834.1506159\ttotal: 1m 21s\tremaining: 5.58s\n",
      "2808:\tlearn: 75815.7814636\ttotal: 1m 21s\tremaining: 5.55s\n",
      "2809:\tlearn: 75797.9043645\ttotal: 1m 21s\tremaining: 5.53s\n",
      "2810:\tlearn: 75783.9755651\ttotal: 1m 21s\tremaining: 5.5s\n",
      "2811:\tlearn: 75770.5315589\ttotal: 1m 21s\tremaining: 5.47s\n",
      "2812:\tlearn: 75761.6837559\ttotal: 1m 21s\tremaining: 5.44s\n",
      "2813:\tlearn: 75745.6919940\ttotal: 1m 21s\tremaining: 5.41s\n",
      "2814:\tlearn: 75723.8856768\ttotal: 1m 21s\tremaining: 5.38s\n",
      "2815:\tlearn: 75709.8202012\ttotal: 1m 21s\tremaining: 5.35s\n",
      "2816:\tlearn: 75697.2693563\ttotal: 1m 21s\tremaining: 5.32s\n",
      "2817:\tlearn: 75687.3159199\ttotal: 1m 21s\tremaining: 5.29s\n",
      "2818:\tlearn: 75670.9836370\ttotal: 1m 21s\tremaining: 5.26s\n",
      "2819:\tlearn: 75666.9123007\ttotal: 1m 22s\tremaining: 5.24s\n",
      "2820:\tlearn: 75642.3722915\ttotal: 1m 22s\tremaining: 5.21s\n",
      "2821:\tlearn: 75633.3314272\ttotal: 1m 22s\tremaining: 5.18s\n",
      "2822:\tlearn: 75622.0572798\ttotal: 1m 22s\tremaining: 5.15s\n",
      "2823:\tlearn: 75614.3911527\ttotal: 1m 22s\tremaining: 5.12s\n",
      "2824:\tlearn: 75597.5821008\ttotal: 1m 22s\tremaining: 5.09s\n",
      "2825:\tlearn: 75586.5548691\ttotal: 1m 22s\tremaining: 5.06s\n",
      "2826:\tlearn: 75578.2212863\ttotal: 1m 22s\tremaining: 5.03s\n",
      "2827:\tlearn: 75562.2459825\ttotal: 1m 22s\tremaining: 5s\n",
      "2828:\tlearn: 75544.6178329\ttotal: 1m 22s\tremaining: 4.97s\n",
      "2829:\tlearn: 75524.9633959\ttotal: 1m 22s\tremaining: 4.94s\n",
      "2830:\tlearn: 75516.8508269\ttotal: 1m 22s\tremaining: 4.92s\n",
      "2831:\tlearn: 75499.9081502\ttotal: 1m 22s\tremaining: 4.89s\n",
      "2832:\tlearn: 75495.1036070\ttotal: 1m 22s\tremaining: 4.86s\n",
      "2833:\tlearn: 75488.6735986\ttotal: 1m 22s\tremaining: 4.83s\n",
      "2834:\tlearn: 75457.2381266\ttotal: 1m 22s\tremaining: 4.8s\n",
      "2835:\tlearn: 75447.2152358\ttotal: 1m 22s\tremaining: 4.77s\n",
      "2836:\tlearn: 75430.7344911\ttotal: 1m 22s\tremaining: 4.74s\n",
      "2837:\tlearn: 75418.5029714\ttotal: 1m 22s\tremaining: 4.71s\n",
      "2838:\tlearn: 75404.0407538\ttotal: 1m 22s\tremaining: 4.68s\n",
      "2839:\tlearn: 75392.9251823\ttotal: 1m 22s\tremaining: 4.65s\n",
      "2840:\tlearn: 75382.6549848\ttotal: 1m 22s\tremaining: 4.62s\n",
      "2841:\tlearn: 75372.0036625\ttotal: 1m 22s\tremaining: 4.59s\n",
      "2842:\tlearn: 75360.9735480\ttotal: 1m 22s\tremaining: 4.57s\n",
      "2843:\tlearn: 75343.9194373\ttotal: 1m 22s\tremaining: 4.54s\n",
      "2844:\tlearn: 75331.0961882\ttotal: 1m 22s\tremaining: 4.51s\n",
      "2845:\tlearn: 75317.3509418\ttotal: 1m 22s\tremaining: 4.48s\n",
      "2846:\tlearn: 75310.2495902\ttotal: 1m 22s\tremaining: 4.45s\n",
      "2847:\tlearn: 75297.3328600\ttotal: 1m 22s\tremaining: 4.42s\n",
      "2848:\tlearn: 75282.1446039\ttotal: 1m 22s\tremaining: 4.39s\n",
      "2849:\tlearn: 75268.1399059\ttotal: 1m 22s\tremaining: 4.36s\n",
      "2850:\tlearn: 75260.3699462\ttotal: 1m 22s\tremaining: 4.33s\n",
      "2851:\tlearn: 75242.0703358\ttotal: 1m 22s\tremaining: 4.3s\n",
      "2852:\tlearn: 75225.4234707\ttotal: 1m 22s\tremaining: 4.27s\n",
      "2853:\tlearn: 75214.5348832\ttotal: 1m 23s\tremaining: 4.25s\n",
      "2854:\tlearn: 75196.9001305\ttotal: 1m 23s\tremaining: 4.22s\n",
      "2855:\tlearn: 75167.9501502\ttotal: 1m 23s\tremaining: 4.19s\n",
      "2856:\tlearn: 75153.9282531\ttotal: 1m 23s\tremaining: 4.16s\n",
      "2857:\tlearn: 75144.8059182\ttotal: 1m 23s\tremaining: 4.13s\n",
      "2858:\tlearn: 75127.9161933\ttotal: 1m 23s\tremaining: 4.1s\n",
      "2859:\tlearn: 75117.9099289\ttotal: 1m 23s\tremaining: 4.07s\n",
      "2860:\tlearn: 75104.5237454\ttotal: 1m 23s\tremaining: 4.04s\n",
      "2861:\tlearn: 75092.5941448\ttotal: 1m 23s\tremaining: 4.01s\n",
      "2862:\tlearn: 75083.6816223\ttotal: 1m 23s\tremaining: 3.98s\n",
      "2863:\tlearn: 75052.9639424\ttotal: 1m 23s\tremaining: 3.96s\n",
      "2864:\tlearn: 75048.1008482\ttotal: 1m 23s\tremaining: 3.92s\n",
      "2865:\tlearn: 75035.7829688\ttotal: 1m 23s\tremaining: 3.9s\n",
      "2866:\tlearn: 75024.9429452\ttotal: 1m 23s\tremaining: 3.87s\n",
      "2867:\tlearn: 75019.8087889\ttotal: 1m 23s\tremaining: 3.84s\n",
      "2868:\tlearn: 75003.6707782\ttotal: 1m 23s\tremaining: 3.81s\n",
      "2869:\tlearn: 74975.2496024\ttotal: 1m 23s\tremaining: 3.78s\n",
      "2870:\tlearn: 74966.1771027\ttotal: 1m 23s\tremaining: 3.75s\n",
      "2871:\tlearn: 74958.3131947\ttotal: 1m 23s\tremaining: 3.72s\n",
      "2872:\tlearn: 74946.4968573\ttotal: 1m 23s\tremaining: 3.69s\n",
      "2873:\tlearn: 74939.7427463\ttotal: 1m 23s\tremaining: 3.66s\n",
      "2874:\tlearn: 74930.7177710\ttotal: 1m 23s\tremaining: 3.63s\n",
      "2875:\tlearn: 74917.0076813\ttotal: 1m 23s\tremaining: 3.6s\n",
      "2876:\tlearn: 74902.3598553\ttotal: 1m 23s\tremaining: 3.58s\n",
      "2877:\tlearn: 74885.3191508\ttotal: 1m 23s\tremaining: 3.55s\n",
      "2878:\tlearn: 74857.2511474\ttotal: 1m 23s\tremaining: 3.52s\n",
      "2879:\tlearn: 74839.8534430\ttotal: 1m 23s\tremaining: 3.49s\n",
      "2880:\tlearn: 74825.7443047\ttotal: 1m 23s\tremaining: 3.46s\n",
      "2881:\tlearn: 74817.3227698\ttotal: 1m 23s\tremaining: 3.43s\n",
      "2882:\tlearn: 74802.3309810\ttotal: 1m 23s\tremaining: 3.4s\n",
      "2883:\tlearn: 74776.6716614\ttotal: 1m 23s\tremaining: 3.37s\n",
      "2884:\tlearn: 74762.9490363\ttotal: 1m 23s\tremaining: 3.34s\n",
      "2885:\tlearn: 74751.8634953\ttotal: 1m 23s\tremaining: 3.31s\n",
      "2886:\tlearn: 74748.6075916\ttotal: 1m 23s\tremaining: 3.29s\n",
      "2887:\tlearn: 74733.8569406\ttotal: 1m 23s\tremaining: 3.26s\n",
      "2888:\tlearn: 74721.3121039\ttotal: 1m 24s\tremaining: 3.23s\n",
      "2889:\tlearn: 74714.4919993\ttotal: 1m 24s\tremaining: 3.2s\n",
      "2890:\tlearn: 74706.2336256\ttotal: 1m 24s\tremaining: 3.17s\n",
      "2891:\tlearn: 74688.7930277\ttotal: 1m 24s\tremaining: 3.14s\n",
      "2892:\tlearn: 74681.5988219\ttotal: 1m 24s\tremaining: 3.11s\n",
      "2893:\tlearn: 74666.1917083\ttotal: 1m 24s\tremaining: 3.08s\n",
      "2894:\tlearn: 74646.9765775\ttotal: 1m 24s\tremaining: 3.05s\n",
      "2895:\tlearn: 74635.0931256\ttotal: 1m 24s\tremaining: 3.02s\n",
      "2896:\tlearn: 74625.6917937\ttotal: 1m 24s\tremaining: 3s\n",
      "2897:\tlearn: 74615.5159505\ttotal: 1m 24s\tremaining: 2.96s\n",
      "2898:\tlearn: 74599.5640302\ttotal: 1m 24s\tremaining: 2.94s\n",
      "2899:\tlearn: 74589.2935281\ttotal: 1m 24s\tremaining: 2.91s\n",
      "2900:\tlearn: 74573.3559313\ttotal: 1m 24s\tremaining: 2.88s\n",
      "2901:\tlearn: 74558.4612828\ttotal: 1m 24s\tremaining: 2.85s\n",
      "2902:\tlearn: 74550.7439705\ttotal: 1m 24s\tremaining: 2.82s\n",
      "2903:\tlearn: 74530.6309120\ttotal: 1m 24s\tremaining: 2.79s\n",
      "2904:\tlearn: 74517.1338856\ttotal: 1m 24s\tremaining: 2.76s\n",
      "2905:\tlearn: 74509.0012269\ttotal: 1m 24s\tremaining: 2.73s\n",
      "2906:\tlearn: 74489.2432573\ttotal: 1m 24s\tremaining: 2.7s\n",
      "2907:\tlearn: 74474.1765715\ttotal: 1m 24s\tremaining: 2.67s\n",
      "2908:\tlearn: 74459.4626240\ttotal: 1m 24s\tremaining: 2.65s\n",
      "2909:\tlearn: 74448.9615297\ttotal: 1m 24s\tremaining: 2.62s\n",
      "2910:\tlearn: 74440.3474299\ttotal: 1m 24s\tremaining: 2.59s\n",
      "2911:\tlearn: 74432.2441827\ttotal: 1m 24s\tremaining: 2.56s\n",
      "2912:\tlearn: 74424.4571104\ttotal: 1m 24s\tremaining: 2.53s\n",
      "2913:\tlearn: 74410.0779459\ttotal: 1m 24s\tremaining: 2.5s\n",
      "2914:\tlearn: 74394.5037986\ttotal: 1m 24s\tremaining: 2.47s\n",
      "2915:\tlearn: 74377.8321402\ttotal: 1m 24s\tremaining: 2.44s\n",
      "2916:\tlearn: 74358.3373632\ttotal: 1m 24s\tremaining: 2.41s\n",
      "2917:\tlearn: 74348.2957378\ttotal: 1m 24s\tremaining: 2.38s\n",
      "2918:\tlearn: 74340.7351053\ttotal: 1m 24s\tremaining: 2.35s\n",
      "2919:\tlearn: 74324.6865768\ttotal: 1m 24s\tremaining: 2.33s\n",
      "2920:\tlearn: 74319.2421816\ttotal: 1m 24s\tremaining: 2.3s\n",
      "2921:\tlearn: 74305.3222090\ttotal: 1m 24s\tremaining: 2.27s\n",
      "2922:\tlearn: 74296.4461300\ttotal: 1m 24s\tremaining: 2.24s\n",
      "2923:\tlearn: 74260.2256949\ttotal: 1m 25s\tremaining: 2.21s\n",
      "2924:\tlearn: 74254.6192553\ttotal: 1m 25s\tremaining: 2.18s\n",
      "2925:\tlearn: 74235.8792010\ttotal: 1m 25s\tremaining: 2.15s\n",
      "2926:\tlearn: 74225.6106410\ttotal: 1m 25s\tremaining: 2.12s\n",
      "2927:\tlearn: 74212.4753329\ttotal: 1m 25s\tremaining: 2.09s\n",
      "2928:\tlearn: 74203.4954619\ttotal: 1m 25s\tremaining: 2.06s\n",
      "2929:\tlearn: 74190.2974079\ttotal: 1m 25s\tremaining: 2.04s\n",
      "2930:\tlearn: 74183.7577318\ttotal: 1m 25s\tremaining: 2s\n",
      "2931:\tlearn: 74169.5952610\ttotal: 1m 25s\tremaining: 1.98s\n",
      "2932:\tlearn: 74148.5007090\ttotal: 1m 25s\tremaining: 1.95s\n",
      "2933:\tlearn: 74134.2999376\ttotal: 1m 25s\tremaining: 1.92s\n",
      "2934:\tlearn: 74122.2452503\ttotal: 1m 25s\tremaining: 1.89s\n",
      "2935:\tlearn: 74110.4418295\ttotal: 1m 25s\tremaining: 1.86s\n",
      "2936:\tlearn: 74101.1376527\ttotal: 1m 25s\tremaining: 1.83s\n",
      "2937:\tlearn: 74088.2707156\ttotal: 1m 25s\tremaining: 1.8s\n",
      "2938:\tlearn: 74074.2738644\ttotal: 1m 25s\tremaining: 1.77s\n",
      "2939:\tlearn: 74067.1477363\ttotal: 1m 25s\tremaining: 1.74s\n",
      "2940:\tlearn: 74052.6601351\ttotal: 1m 25s\tremaining: 1.72s\n",
      "2941:\tlearn: 74046.0583221\ttotal: 1m 25s\tremaining: 1.69s\n",
      "2942:\tlearn: 74034.2674360\ttotal: 1m 25s\tremaining: 1.66s\n",
      "2943:\tlearn: 74024.5228587\ttotal: 1m 25s\tremaining: 1.63s\n"
     ]
    },
    {
     "name": "stdout",
     "output_type": "stream",
     "text": [
      "2944:\tlearn: 74008.0267532\ttotal: 1m 25s\tremaining: 1.6s\n",
      "2945:\tlearn: 73992.8362193\ttotal: 1m 25s\tremaining: 1.57s\n",
      "2946:\tlearn: 73973.6460625\ttotal: 1m 25s\tremaining: 1.54s\n",
      "2947:\tlearn: 73968.1663968\ttotal: 1m 25s\tremaining: 1.51s\n",
      "2948:\tlearn: 73949.7375380\ttotal: 1m 25s\tremaining: 1.48s\n",
      "2949:\tlearn: 73941.8786070\ttotal: 1m 25s\tremaining: 1.45s\n",
      "2950:\tlearn: 73931.6825296\ttotal: 1m 25s\tremaining: 1.42s\n",
      "2951:\tlearn: 73921.3258054\ttotal: 1m 25s\tremaining: 1.4s\n",
      "2952:\tlearn: 73916.6112523\ttotal: 1m 25s\tremaining: 1.37s\n",
      "2953:\tlearn: 73898.6898121\ttotal: 1m 25s\tremaining: 1.34s\n",
      "2954:\tlearn: 73890.2445334\ttotal: 1m 25s\tremaining: 1.31s\n",
      "2955:\tlearn: 73874.6435781\ttotal: 1m 25s\tremaining: 1.28s\n",
      "2956:\tlearn: 73861.9330298\ttotal: 1m 25s\tremaining: 1.25s\n",
      "2957:\tlearn: 73851.8797009\ttotal: 1m 26s\tremaining: 1.22s\n",
      "2958:\tlearn: 73838.0954204\ttotal: 1m 26s\tremaining: 1.19s\n",
      "2959:\tlearn: 73823.2944314\ttotal: 1m 26s\tremaining: 1.16s\n",
      "2960:\tlearn: 73806.4782301\ttotal: 1m 26s\tremaining: 1.13s\n",
      "2961:\tlearn: 73795.7846530\ttotal: 1m 26s\tremaining: 1.1s\n",
      "2962:\tlearn: 73789.0587344\ttotal: 1m 26s\tremaining: 1.07s\n",
      "2963:\tlearn: 73782.3976482\ttotal: 1m 26s\tremaining: 1.05s\n",
      "2964:\tlearn: 73769.5865556\ttotal: 1m 26s\tremaining: 1.02s\n",
      "2965:\tlearn: 73760.6016367\ttotal: 1m 26s\tremaining: 989ms\n",
      "2966:\tlearn: 73750.6682083\ttotal: 1m 26s\tremaining: 960ms\n",
      "2967:\tlearn: 73733.1495173\ttotal: 1m 26s\tremaining: 930ms\n",
      "2968:\tlearn: 73721.8047333\ttotal: 1m 26s\tremaining: 901ms\n",
      "2969:\tlearn: 73711.0909452\ttotal: 1m 26s\tremaining: 872ms\n",
      "2970:\tlearn: 73683.0172525\ttotal: 1m 26s\tremaining: 843ms\n",
      "2971:\tlearn: 73665.9574681\ttotal: 1m 26s\tremaining: 814ms\n",
      "2972:\tlearn: 73657.2463678\ttotal: 1m 26s\tremaining: 785ms\n",
      "2973:\tlearn: 73638.4158357\ttotal: 1m 26s\tremaining: 756ms\n",
      "2974:\tlearn: 73629.9184164\ttotal: 1m 26s\tremaining: 727ms\n",
      "2975:\tlearn: 73616.2004692\ttotal: 1m 26s\tremaining: 698ms\n",
      "2976:\tlearn: 73606.4856745\ttotal: 1m 26s\tremaining: 669ms\n",
      "2977:\tlearn: 73592.8337676\ttotal: 1m 26s\tremaining: 640ms\n",
      "2978:\tlearn: 73580.2913597\ttotal: 1m 26s\tremaining: 610ms\n",
      "2979:\tlearn: 73572.2953472\ttotal: 1m 26s\tremaining: 581ms\n",
      "2980:\tlearn: 73554.4862446\ttotal: 1m 26s\tremaining: 552ms\n",
      "2981:\tlearn: 73536.9196224\ttotal: 1m 26s\tremaining: 523ms\n",
      "2982:\tlearn: 73524.1696808\ttotal: 1m 26s\tremaining: 494ms\n",
      "2983:\tlearn: 73517.5474749\ttotal: 1m 26s\tremaining: 465ms\n",
      "2984:\tlearn: 73508.0599503\ttotal: 1m 26s\tremaining: 436ms\n",
      "2985:\tlearn: 73488.2417231\ttotal: 1m 26s\tremaining: 407ms\n",
      "2986:\tlearn: 73467.4708010\ttotal: 1m 26s\tremaining: 378ms\n",
      "2987:\tlearn: 73455.5796780\ttotal: 1m 26s\tremaining: 349ms\n",
      "2988:\tlearn: 73446.1677215\ttotal: 1m 26s\tremaining: 320ms\n",
      "2989:\tlearn: 73438.0223505\ttotal: 1m 26s\tremaining: 291ms\n",
      "2990:\tlearn: 73428.8000134\ttotal: 1m 26s\tremaining: 262ms\n",
      "2991:\tlearn: 73418.3360664\ttotal: 1m 26s\tremaining: 233ms\n",
      "2992:\tlearn: 73408.2812934\ttotal: 1m 27s\tremaining: 203ms\n",
      "2993:\tlearn: 73400.5119749\ttotal: 1m 27s\tremaining: 174ms\n",
      "2994:\tlearn: 73381.5277317\ttotal: 1m 27s\tremaining: 145ms\n",
      "2995:\tlearn: 73369.1178593\ttotal: 1m 27s\tremaining: 116ms\n",
      "2996:\tlearn: 73351.1587077\ttotal: 1m 27s\tremaining: 87.2ms\n",
      "2997:\tlearn: 73340.3440212\ttotal: 1m 27s\tremaining: 58.2ms\n",
      "2998:\tlearn: 73311.6328032\ttotal: 1m 27s\tremaining: 29.1ms\n",
      "2999:\tlearn: 73306.3873057\ttotal: 1m 27s\tremaining: 0us\n"
     ]
    }
   ],
   "source": [
    "cbr = CatBoostRegressor(iterations=3000, learning_rate=0.1, depth=10)\n",
    "\n",
    "cbr.fit(X_train, y_train)\n",
    "\n",
    "y_pred_cbr = cbr.predict(X_test)"
   ]
  },
  {
   "cell_type": "code",
   "execution_count": 213,
   "id": "ff52ce58",
   "metadata": {},
   "outputs": [
    {
     "name": "stdout",
     "output_type": "stream",
     "text": [
      "MSE: 59129976678.12\n",
      "MAE: 100904.62\n"
     ]
    }
   ],
   "source": [
    "mse = mean_squared_error(y_test, y_pred_cbr)\n",
    "mae = mean_absolute_error(y_test, y_pred_cbr)\n",
    "print(f'MSE: {mse:.2f}')\n",
    "print(f'MAE: {mae:.2f}')"
   ]
  },
  {
   "cell_type": "code",
   "execution_count": 215,
   "id": "b1c3a9b7",
   "metadata": {},
   "outputs": [],
   "source": [
    "from lightgbm import LGBMRegressor\n",
    "\n",
    "lgbm = LGBMRegressor(objective='regression',\n",
    "                     learning_rate=0.1, \n",
    "                     max_depth=10,\n",
    "                     n_estimators=3000)\n",
    "\n",
    "lgbm.fit(X_train, y_train)\n",
    "\n",
    "y_pred_lgbm = lgbm.predict(X_test)"
   ]
  },
  {
   "cell_type": "code",
   "execution_count": 216,
   "id": "9b23a665",
   "metadata": {},
   "outputs": [
    {
     "name": "stdout",
     "output_type": "stream",
     "text": [
      "MSE: 63146840766.10\n",
      "MAE: 104982.68\n"
     ]
    }
   ],
   "source": [
    "mse = mean_squared_error(y_test, y_pred_lgbm)\n",
    "mae = mean_absolute_error(y_test, y_pred_lgbm)\n",
    "print(f'MSE: {mse:.2f}')\n",
    "print(f'MAE: {mae:.2f}')"
   ]
  },
  {
   "cell_type": "markdown",
   "id": "f22ae7a6",
   "metadata": {},
   "source": [
    "Считаем среднее трех моделей"
   ]
  },
  {
   "cell_type": "code",
   "execution_count": 227,
   "id": "24567a50",
   "metadata": {},
   "outputs": [],
   "source": [
    "y_pred_mean = (y_pred_xgbr + y_pred_cbr + y_pred_lgbm) / 3"
   ]
  },
  {
   "cell_type": "code",
   "execution_count": 235,
   "id": "f074b3bd",
   "metadata": {},
   "outputs": [
    {
     "name": "stdout",
     "output_type": "stream",
     "text": [
      "MSE: 57271834126.14\n",
      "MAE: 96606.51\n"
     ]
    }
   ],
   "source": [
    "mse = mean_squared_error(y_test, y_pred_mean)\n",
    "mae = mean_absolute_error(y_test, y_pred_mean)\n",
    "print(f'MSE: {mse:.2f}')\n",
    "print(f'MAE: {mae:.2f}')"
   ]
  }
 ],
 "metadata": {
  "kernelspec": {
   "display_name": "Python 3 (ipykernel)",
   "language": "python",
   "name": "python3"
  },
  "language_info": {
   "codemirror_mode": {
    "name": "ipython",
    "version": 3
   },
   "file_extension": ".py",
   "mimetype": "text/x-python",
   "name": "python",
   "nbconvert_exporter": "python",
   "pygments_lexer": "ipython3",
   "version": "3.9.12"
  }
 },
 "nbformat": 4,
 "nbformat_minor": 5
}
